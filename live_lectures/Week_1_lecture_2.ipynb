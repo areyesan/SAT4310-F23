{
  "nbformat": 4,
  "nbformat_minor": 0,
  "metadata": {
    "colab": {
      "provenance": []
    },
    "kernelspec": {
      "name": "python3",
      "display_name": "Python 3"
    },
    "language_info": {
      "name": "python"
    }
  },
  "cells": [
    {
      "cell_type": "markdown",
      "source": [
        "Hello **_SAT 4310_**  \n",
        "\n",
        "_World_"
      ],
      "metadata": {
        "id": "5f49ZTjKITYE"
      }
    },
    {
      "cell_type": "markdown",
      "source": [],
      "metadata": {
        "id": "dQFA_OjWhnS1"
      }
    },
    {
      "cell_type": "markdown",
      "source": [
        "This is _Course_ for **Python** <font color='blue'> Programming </font>"
      ],
      "metadata": {
        "id": "ihzXds7ohEG-"
      }
    },
    {
      "cell_type": "markdown",
      "source": [
        "$$c= \\sqrt{a^2 + B^2} $$\n",
        "$$c= \\sum_{n=1}^{\\infty} 2^{-n} $$"
      ],
      "metadata": {
        "id": "-S3LuafShd_G"
      }
    },
    {
      "cell_type": "markdown",
      "source": [
        "# Header1\n",
        "## Header2\n",
        "### Header3\n",
        "#### Header4\n",
        "##### Header5\n",
        "###### Header6"
      ],
      "metadata": {
        "id": "piSD0AgNhsQO"
      }
    },
    {
      "cell_type": "markdown",
      "source": [
        "* item 1\n",
        "- item 2\n",
        "+ item 3\n",
        "  * subitem 1"
      ],
      "metadata": {
        "id": "_jMq0aGsh-0m"
      }
    },
    {
      "cell_type": "markdown",
      "source": [
        "``` python\n",
        "\n",
        "  p = 6 + 3\n",
        "  print(p)\n",
        "\n",
        "```"
      ],
      "metadata": {
        "id": "xtAYHg_Vh_hf"
      }
    },
    {
      "cell_type": "markdown",
      "source": [
        "``` cpp\n",
        "#include <iostream>\n",
        "using namespace std;\n",
        "int main()\n",
        "{   int num = 5;\n",
        "    cout << num << endl;\n",
        "    num = num + 2;    cout << num << endl;\n",
        "    num = num / 3 * 6;    cout << num << endl;\n",
        "    cout << 7 + 15 % 4 << endl;\n",
        "    num = 24 / 3 / 4;    cout << num << endl;\n",
        "    num = 24 / (num / 4);    cout << num << endl;\n",
        "}\n",
        "```"
      ],
      "metadata": {
        "id": "GXIu-HfORoCN"
      }
    },
    {
      "cell_type": "markdown",
      "source": [
        "# **Python**\n",
        "\n",
        "---\n",
        "\n",
        "<center>\n",
        " <b> Python Basics </b>\n",
        "</center>"
      ],
      "metadata": {
        "id": "LnQ6ibNfj2W2"
      }
    },
    {
      "cell_type": "markdown",
      "source": [
        "### Strings"
      ],
      "metadata": {
        "id": "Zsx52JwXnijY"
      }
    },
    {
      "cell_type": "code",
      "source": [
        "Expression=\"Strings in Python\""
      ],
      "metadata": {
        "id": "nQU_s1KFou-k"
      },
      "execution_count": 1,
      "outputs": []
    },
    {
      "cell_type": "code",
      "source": [
        "print(\"Strings in Python\")"
      ],
      "metadata": {
        "colab": {
          "base_uri": "https://localhost:8080/"
        },
        "id": "u6Ga2XL9Jvd6",
        "outputId": "56eaa295-41c4-420f-9071-8a17e3fc12e8"
      },
      "execution_count": 2,
      "outputs": [
        {
          "output_type": "stream",
          "name": "stdout",
          "text": [
            "Strings in Python\n"
          ]
        }
      ]
    },
    {
      "cell_type": "code",
      "source": [
        "print(Expression)"
      ],
      "metadata": {
        "colab": {
          "base_uri": "https://localhost:8080/"
        },
        "id": "V-zOwYJso3f7",
        "outputId": "62a910b1-8302-4088-eaab-2d32942f03e5"
      },
      "execution_count": 3,
      "outputs": [
        {
          "output_type": "stream",
          "name": "stdout",
          "text": [
            "Strings in Python\n"
          ]
        }
      ]
    },
    {
      "cell_type": "code",
      "source": [
        "b={2,3,4,}\n",
        "print(b)"
      ],
      "metadata": {
        "colab": {
          "base_uri": "https://localhost:8080/"
        },
        "id": "-Oy-n3joJ6HC",
        "outputId": "6a0f1ff4-565e-4181-e015-65ad68bad6fa"
      },
      "execution_count": 4,
      "outputs": [
        {
          "output_type": "stream",
          "name": "stdout",
          "text": [
            "{2, 3, 4}\n"
          ]
        }
      ]
    },
    {
      "cell_type": "code",
      "source": [
        "print(\"Message\")"
      ],
      "metadata": {
        "colab": {
          "base_uri": "https://localhost:8080/"
        },
        "id": "abz1ohCKno4A",
        "outputId": "c6011681-5ddf-46c5-c561-3c4588ce6996"
      },
      "execution_count": null,
      "outputs": [
        {
          "output_type": "stream",
          "name": "stdout",
          "text": [
            "Message\n"
          ]
        }
      ]
    },
    {
      "cell_type": "code",
      "execution_count": 5,
      "metadata": {
        "id": "Ews6txWQCfkz"
      },
      "outputs": [],
      "source": [
        "a =  \"Hello World\""
      ]
    },
    {
      "cell_type": "code",
      "source": [
        "a[-5:]"
      ],
      "metadata": {
        "colab": {
          "base_uri": "https://localhost:8080/",
          "height": 35
        },
        "id": "1b_ZG5SpGFu3",
        "outputId": "3de95905-1943-449f-d6c5-86f80fb700db"
      },
      "execution_count": 9,
      "outputs": [
        {
          "output_type": "execute_result",
          "data": {
            "text/plain": [
              "'World'"
            ],
            "application/vnd.google.colaboratory.intrinsic+json": {
              "type": "string"
            }
          },
          "metadata": {},
          "execution_count": 9
        }
      ]
    },
    {
      "cell_type": "markdown",
      "source": [],
      "metadata": {
        "id": "-agGEqgwIPic"
      }
    },
    {
      "cell_type": "code",
      "source": [
        "print(\"Hello\"+\" world\")\n",
        "print(\"Hello\"*4)\n",
        "print(\"Hello\"[0])\n",
        "print(\"Hello\"[-1])\n",
        "print(\"Hello\"[1:4])"
      ],
      "metadata": {
        "id": "Hpg0zsaiGF0G",
        "colab": {
          "base_uri": "https://localhost:8080/"
        },
        "outputId": "97cd49c8-dab1-473e-d932-347df6ebf444"
      },
      "execution_count": 11,
      "outputs": [
        {
          "output_type": "stream",
          "name": "stdout",
          "text": [
            "Hello world\n",
            "HelloHelloHelloHello\n",
            "H\n",
            "o\n",
            "ell\n"
          ]
        }
      ]
    },
    {
      "cell_type": "code",
      "source": [
        "##Strip method\n",
        "example=\"   This is an example for strip\"\n",
        "print(example)\n",
        "print(example.strip())"
      ],
      "metadata": {
        "id": "r-0T2xukGF1-",
        "colab": {
          "base_uri": "https://localhost:8080/"
        },
        "outputId": "5d21ae24-bb17-4cf8-a261-653588aef985"
      },
      "execution_count": 12,
      "outputs": [
        {
          "output_type": "stream",
          "name": "stdout",
          "text": [
            "   This is an example for strip\n",
            "This is an example for strip\n"
          ]
        }
      ]
    },
    {
      "cell_type": "code",
      "source": [
        "### len built in function\n",
        "len(example)\n"
      ],
      "metadata": {
        "colab": {
          "base_uri": "https://localhost:8080/"
        },
        "id": "TtgGlvCdqcTL",
        "outputId": "fcb05771-3bb3-442a-d252-8037aca02c65"
      },
      "execution_count": 13,
      "outputs": [
        {
          "output_type": "execute_result",
          "data": {
            "text/plain": [
              "31"
            ]
          },
          "metadata": {},
          "execution_count": 13
        }
      ]
    },
    {
      "cell_type": "code",
      "source": [
        "c={2,3,5,7,3}\n",
        "len(c)"
      ],
      "metadata": {
        "colab": {
          "base_uri": "https://localhost:8080/"
        },
        "id": "xDY_27X-Lli1",
        "outputId": "cd6fdcac-6fd0-46e1-a8ee-220d45a58c09"
      },
      "execution_count": 14,
      "outputs": [
        {
          "output_type": "execute_result",
          "data": {
            "text/plain": [
              "4"
            ]
          },
          "metadata": {},
          "execution_count": 14
        }
      ]
    },
    {
      "cell_type": "code",
      "source": [
        "### UPPER and lower methods\n",
        "upper_case_example=\"  this IS AN EXAMPLE\"\n",
        "print(upper_case_example.upper())\n",
        "print(upper_case_example.upper().strip())\n",
        "print(upper_case_example.upper().strip().lower())"
      ],
      "metadata": {
        "colab": {
          "base_uri": "https://localhost:8080/"
        },
        "id": "0slH1NFbqcsG",
        "outputId": "5dce79e2-6459-4d24-8036-b8fa2e8b26cb"
      },
      "execution_count": 15,
      "outputs": [
        {
          "output_type": "stream",
          "name": "stdout",
          "text": [
            "  THIS IS AN EXAMPLE\n",
            "THIS IS AN EXAMPLE\n",
            "this is an example\n"
          ]
        }
      ]
    },
    {
      "cell_type": "code",
      "source": [
        "### replace method\n",
        "print(upper_case_example.replace(\" \",\"?\"))"
      ],
      "metadata": {
        "colab": {
          "base_uri": "https://localhost:8080/"
        },
        "id": "eAOFGnxFqdOy",
        "outputId": "00e03436-1290-471d-d9b3-b9452b14d8e2"
      },
      "execution_count": 16,
      "outputs": [
        {
          "output_type": "stream",
          "name": "stdout",
          "text": [
            "??this?IS?AN?EXAMPLE\n"
          ]
        }
      ]
    },
    {
      "cell_type": "code",
      "source": [
        "example=3.1415926\n",
        "print(example)"
      ],
      "metadata": {
        "colab": {
          "base_uri": "https://localhost:8080/"
        },
        "id": "pdE6HPxsqdiL",
        "outputId": "db906572-024f-4cc7-8743-7d0363fe45a6"
      },
      "execution_count": 17,
      "outputs": [
        {
          "output_type": "stream",
          "name": "stdout",
          "text": [
            "3.1415926\n"
          ]
        }
      ]
    },
    {
      "cell_type": "code",
      "source": [
        "type(example)"
      ],
      "metadata": {
        "colab": {
          "base_uri": "https://localhost:8080/"
        },
        "id": "AQ0cf7D2qdxa",
        "outputId": "90aaa40a-8721-49da-a08b-7d2f57af20f8"
      },
      "execution_count": null,
      "outputs": [
        {
          "output_type": "execute_result",
          "data": {
            "text/plain": [
              "float"
            ]
          },
          "metadata": {},
          "execution_count": 28
        }
      ]
    },
    {
      "cell_type": "code",
      "source": [
        "#print(example[0:2])\n",
        "print(str(example)[0:2])"
      ],
      "metadata": {
        "colab": {
          "base_uri": "https://localhost:8080/"
        },
        "id": "WmmELZ1Tqd_M",
        "outputId": "7116c8e0-412e-4347-c4ff-c94a1cab840b"
      },
      "execution_count": 19,
      "outputs": [
        {
          "output_type": "stream",
          "name": "stdout",
          "text": [
            "3.\n"
          ]
        }
      ]
    },
    {
      "cell_type": "code",
      "source": [
        "a =  \"HelloWorld\""
      ],
      "metadata": {
        "id": "WgP6iZo3qeMh"
      },
      "execution_count": 20,
      "outputs": []
    },
    {
      "cell_type": "code",
      "source": [
        "# index string to get the first three characters\n",
        "a[:3]\n",
        "\n"
      ],
      "metadata": {
        "id": "jzMHPanrqfVB",
        "colab": {
          "base_uri": "https://localhost:8080/",
          "height": 35
        },
        "outputId": "43a26e00-2e14-4056-eff7-e70e9f0531b2"
      },
      "execution_count": 21,
      "outputs": [
        {
          "output_type": "execute_result",
          "data": {
            "text/plain": [
              "'Hel'"
            ],
            "application/vnd.google.colaboratory.intrinsic+json": {
              "type": "string"
            }
          },
          "metadata": {},
          "execution_count": 21
        }
      ]
    },
    {
      "cell_type": "code",
      "source": [
        "# get every other letter\n",
        "a[3:]\n"
      ],
      "metadata": {
        "id": "Q0hw5kunuPOQ",
        "colab": {
          "base_uri": "https://localhost:8080/",
          "height": 35
        },
        "outputId": "c38ab8c0-b409-4daf-aa99-963d209b9caf"
      },
      "execution_count": 22,
      "outputs": [
        {
          "output_type": "execute_result",
          "data": {
            "text/plain": [
              "'loWorld'"
            ],
            "application/vnd.google.colaboratory.intrinsic+json": {
              "type": "string"
            }
          },
          "metadata": {},
          "execution_count": 22
        }
      ]
    },
    {
      "cell_type": "code",
      "source": [
        "# reverse the string\n"
      ],
      "metadata": {
        "id": "cXlWc4_0uPfC"
      },
      "execution_count": null,
      "outputs": []
    },
    {
      "cell_type": "code",
      "source": [
        "# every other letter in the first 6 characters"
      ],
      "metadata": {
        "id": "yWTYb28EuPv2"
      },
      "execution_count": null,
      "outputs": []
    },
    {
      "cell_type": "markdown",
      "source": [
        "### String Format"
      ],
      "metadata": {
        "id": "QQ6sOl8-uupn"
      }
    },
    {
      "cell_type": "code",
      "source": [
        "CoureNum = 4310\n",
        "year=2023\n",
        "txt = \"I like SAT{} Fall{}\""
      ],
      "metadata": {
        "id": "c1N-FX6IuP_s"
      },
      "execution_count": 23,
      "outputs": []
    },
    {
      "cell_type": "code",
      "source": [
        "print(txt.format(year, CoureNum, CoureNum))"
      ],
      "metadata": {
        "colab": {
          "base_uri": "https://localhost:8080/"
        },
        "id": "zz858SOruQP4",
        "outputId": "57430eae-d6b4-43ad-f0be-648bbcbbace9"
      },
      "execution_count": 26,
      "outputs": [
        {
          "output_type": "stream",
          "name": "stdout",
          "text": [
            "I like SAT2023 Fall4310\n"
          ]
        }
      ]
    },
    {
      "cell_type": "code",
      "source": [
        "Semester = 'Fall'\n",
        "Year  = 2023\n",
        "Course = 'Python Programming'\n",
        "myStr = \"I want to take {2} in {0} {1}.\"\n",
        "print(myStr.format(Semester, Year, Course))"
      ],
      "metadata": {
        "colab": {
          "base_uri": "https://localhost:8080/"
        },
        "id": "crHZAFdvuMSw",
        "outputId": "e0a38efe-d196-4b13-a6ba-b31fa6b6ea86"
      },
      "execution_count": 28,
      "outputs": [
        {
          "output_type": "stream",
          "name": "stdout",
          "text": [
            "I want to take Python Programming in Fall 2023.\n"
          ]
        }
      ]
    },
    {
      "cell_type": "code",
      "source": [
        "print(f\"I want to take {Course} in {Semester} {Year}\")"
      ],
      "metadata": {
        "colab": {
          "base_uri": "https://localhost:8080/"
        },
        "id": "idHQgU1OuMju",
        "outputId": "dbf06a41-a1ff-4301-e14a-79c40d77312f"
      },
      "execution_count": 29,
      "outputs": [
        {
          "output_type": "stream",
          "name": "stdout",
          "text": [
            "I want to take Python Programming in Fall 2023\n"
          ]
        }
      ]
    },
    {
      "cell_type": "markdown",
      "source": [
        "## Specify decimal places in print()"
      ],
      "metadata": {
        "id": "r9qAncT0wM0l"
      }
    },
    {
      "cell_type": "code",
      "source": [
        "print(\"Floating point {1:.2f}\".format(256.859642, 42.3453))"
      ],
      "metadata": {
        "colab": {
          "base_uri": "https://localhost:8080/"
        },
        "id": "d6H6l32duMzu",
        "outputId": "a6df00ba-ca8a-4ec7-9dc4-d65810163f7b"
      },
      "execution_count": null,
      "outputs": [
        {
          "output_type": "stream",
          "name": "stdout",
          "text": [
            "Floating point 42.35\n"
          ]
        }
      ]
    },
    {
      "cell_type": "code",
      "source": [
        "x=256.859642\n",
        "print(f\"Floating point {x:5.4f}\")"
      ],
      "metadata": {
        "colab": {
          "base_uri": "https://localhost:8080/"
        },
        "id": "luaQ4-lduNFi",
        "outputId": "aa1f6b12-c011-430b-84c6-d892f5ddcf17"
      },
      "execution_count": null,
      "outputs": [
        {
          "output_type": "stream",
          "name": "stdout",
          "text": [
            "Floating point 256.8596\n"
          ]
        }
      ]
    },
    {
      "cell_type": "code",
      "source": [
        "import math"
      ],
      "metadata": {
        "id": "FSKuM9LWx0H5"
      },
      "execution_count": null,
      "outputs": []
    },
    {
      "cell_type": "code",
      "source": [
        "print(\"Floating point pi = {0:.3f}, with {1:d} digit precision\".format(math.pi, 3) )\n"
      ],
      "metadata": {
        "colab": {
          "base_uri": "https://localhost:8080/"
        },
        "id": "9aaXQu7luNVo",
        "outputId": "c6826416-79a4-4671-9608-ce769fc6bc12"
      },
      "execution_count": null,
      "outputs": [
        {
          "output_type": "stream",
          "name": "stdout",
          "text": [
            "Floating point pi = 3.142, with 3 digit precision\n"
          ]
        }
      ]
    },
    {
      "cell_type": "code",
      "source": [
        "print(\"In binary 6 is {0:b}\".format(6))"
      ],
      "metadata": {
        "colab": {
          "base_uri": "https://localhost:8080/"
        },
        "id": "DpeFtzr8uNky",
        "outputId": "b06e2adc-47aa-4447-fc61-d5047d4a9928"
      },
      "execution_count": null,
      "outputs": [
        {
          "output_type": "stream",
          "name": "stdout",
          "text": [
            "In binary 6 is 110\n"
          ]
        }
      ]
    },
    {
      "cell_type": "code",
      "source": [
        "print (\"Floating point {0:10.8f}\".format(math.pi))"
      ],
      "metadata": {
        "colab": {
          "base_uri": "https://localhost:8080/"
        },
        "id": "lTd3m1Z_uN0U",
        "outputId": "3e019331-d05b-4d8e-8c6d-d6ef112aaf93"
      },
      "execution_count": null,
      "outputs": [
        {
          "output_type": "stream",
          "name": "stdout",
          "text": [
            "Floating point 3.14159265\n"
          ]
        }
      ]
    },
    {
      "cell_type": "markdown",
      "source": [
        "#### Exercise: print the following message using multiple expressions (string + number).\n",
        "\n",
        "             Welcome to SAT-4310 ASP.\n"
      ],
      "metadata": {
        "id": "dU8CNaPiy0dv"
      }
    },
    {
      "cell_type": "code",
      "source": [
        "###print(item1, item2, ..., itemN)"
      ],
      "metadata": {
        "id": "me62GRu5uODa"
      },
      "execution_count": null,
      "outputs": []
    },
    {
      "cell_type": "code",
      "source": [
        "print('SAT4310', 'Fall 2023')"
      ],
      "metadata": {
        "colab": {
          "base_uri": "https://localhost:8080/"
        },
        "id": "LSEXhK1AuOS3",
        "outputId": "261a1528-a8e0-417d-f1d1-17b9c3151f56"
      },
      "execution_count": null,
      "outputs": [
        {
          "output_type": "stream",
          "name": "stdout",
          "text": [
            "SAT4310 Fall 2023\n"
          ]
        }
      ]
    },
    {
      "cell_type": "code",
      "source": [
        "#code for disabling the softspace feature\n",
        "print('S', 'A', 'T', sep='')"
      ],
      "metadata": {
        "id": "cTy8bfTkzJ1d"
      },
      "execution_count": null,
      "outputs": []
    },
    {
      "cell_type": "code",
      "source": [
        "#for formatting a date\n",
        "print('08', '30', '2023', sep='-')"
      ],
      "metadata": {
        "id": "3wDwKggJzOe0"
      },
      "execution_count": null,
      "outputs": []
    },
    {
      "cell_type": "code",
      "source": [
        "#another example\n",
        "print('SAT4310', 'Fall 2023', sep='@')"
      ],
      "metadata": {
        "id": "6GdFkTb8zOuH"
      },
      "execution_count": null,
      "outputs": []
    },
    {
      "cell_type": "markdown",
      "source": [
        "## Python Booleans"
      ],
      "metadata": {
        "id": "baPvWwq-zsT_"
      }
    },
    {
      "cell_type": "code",
      "source": [
        "print(100 > 39)\n",
        "print(12 == 13)\n",
        "print(15 < 6)"
      ],
      "metadata": {
        "id": "IV14wVCmzO7s"
      },
      "execution_count": null,
      "outputs": []
    },
    {
      "cell_type": "code",
      "source": [
        "bool(\"abc\")\n",
        "bool(258)\n",
        "bool([\"apple\", \"cherry\", \"banana\"])"
      ],
      "metadata": {
        "id": "_fSw6swAzPHK"
      },
      "execution_count": null,
      "outputs": []
    },
    {
      "cell_type": "code",
      "source": [
        "bool(False)\n",
        "bool(None)\n",
        "bool(0)\n",
        "bool(\"\")\n",
        "bool(())\n",
        "bool([])\n",
        "bool({})\n"
      ],
      "metadata": {
        "id": "g3-eIG5jzPRy"
      },
      "execution_count": null,
      "outputs": []
    },
    {
      "cell_type": "markdown",
      "source": [
        "## Python Numbers"
      ],
      "metadata": {
        "id": "KTaBFzuR0HGF"
      }
    },
    {
      "cell_type": "markdown",
      "source": [
        "* int\n",
        "* float\n",
        "* Complex"
      ],
      "metadata": {
        "id": "M2HnbvJ60KOn"
      }
    },
    {
      "cell_type": "code",
      "source": [
        "x = 10             # int\n",
        "y = 3.256        # float\n",
        "z = 5 + 2j        # complex"
      ],
      "metadata": {
        "id": "AD2bbcc1zPde"
      },
      "execution_count": null,
      "outputs": []
    },
    {
      "cell_type": "code",
      "source": [
        "type(z)"
      ],
      "metadata": {
        "colab": {
          "base_uri": "https://localhost:8080/"
        },
        "id": "jXklIetVzPo6",
        "outputId": "9a97a2ba-12b0-4b41-985a-77a0cf47205e"
      },
      "execution_count": null,
      "outputs": [
        {
          "output_type": "execute_result",
          "data": {
            "text/plain": [
              "complex"
            ]
          },
          "metadata": {},
          "execution_count": 59
        }
      ]
    },
    {
      "cell_type": "markdown",
      "source": [
        "## **Numbers**-float"
      ],
      "metadata": {
        "id": "oDo4va2G0Ww1"
      }
    },
    {
      "cell_type": "code",
      "source": [
        "x = 2.5\n",
        "y = -50.0\n",
        "z = 100.00001\n",
        "a = 5.2e3\n",
        "b = 800\n",
        "c = -32.6e2"
      ],
      "metadata": {
        "id": "mPZHiV65zP0B"
      },
      "execution_count": null,
      "outputs": []
    },
    {
      "cell_type": "code",
      "source": [],
      "metadata": {
        "id": "95HuW3gyzQAC"
      },
      "execution_count": null,
      "outputs": []
    },
    {
      "cell_type": "markdown",
      "source": [
        "## **Numbers** - complex"
      ],
      "metadata": {
        "id": "Ocuh0KHo0voN"
      }
    },
    {
      "cell_type": "code",
      "source": [
        "x = 3+5j\n",
        "y = 5.2j\n",
        "z = -3j"
      ],
      "metadata": {
        "id": "twHDLbWuzQK7"
      },
      "execution_count": null,
      "outputs": []
    },
    {
      "cell_type": "code",
      "source": [
        "x = int(1.8)\n",
        "x = float(1)\n",
        "x = str(2)\n",
        "x = complex(x)\n",
        "z = complex(x, y)"
      ],
      "metadata": {
        "id": "DR72GcDfzQV3"
      },
      "execution_count": null,
      "outputs": []
    },
    {
      "cell_type": "markdown",
      "source": [
        "## Operators Exercise\n"
      ],
      "metadata": {
        "id": "EAIvoNFX1ZSP"
      }
    },
    {
      "cell_type": "code",
      "source": [
        "print('x + y =', x+y)\n",
        "\n"
      ],
      "metadata": {
        "id": "lmOrPdG-zQfm"
      },
      "execution_count": null,
      "outputs": []
    },
    {
      "cell_type": "code",
      "source": [
        "print('x - y =', x-y)\n",
        "\n"
      ],
      "metadata": {
        "id": "TKaUBKsEzQpD"
      },
      "execution_count": null,
      "outputs": []
    },
    {
      "cell_type": "code",
      "source": [
        "print('x * y =', x*y)\n",
        "\n"
      ],
      "metadata": {
        "id": "lTnTsmCW1gJD"
      },
      "execution_count": null,
      "outputs": []
    },
    {
      "cell_type": "code",
      "source": [
        "print('x / y =',  x/y)\n",
        "\n"
      ],
      "metadata": {
        "id": "4ZhP_jnj1gE9"
      },
      "execution_count": null,
      "outputs": []
    },
    {
      "cell_type": "code",
      "source": [
        "print('x // y =', x//y)\n",
        "\n"
      ],
      "metadata": {
        "id": "X9kBvkqZ1f_p"
      },
      "execution_count": null,
      "outputs": []
    },
    {
      "cell_type": "code",
      "source": [
        "print('x %  y =', x%y)\n",
        "\n"
      ],
      "metadata": {
        "id": "3JgALGS31f9m"
      },
      "execution_count": null,
      "outputs": []
    },
    {
      "cell_type": "code",
      "source": [
        "print('x ** y =', x**y)\n"
      ],
      "metadata": {
        "id": "jPJTAOm_1f4_"
      },
      "execution_count": null,
      "outputs": []
    },
    {
      "cell_type": "markdown",
      "source": [
        "Exercises\n",
        "\n",
        "1. Insert the missing part of the code below to output \"Hello World\".\n",
        " ___(\"Hello World\")\n",
        "\n",
        "2. Display the sum of 5 + 10, using two variables: x and y\n",
        "* _=_\n",
        "* y=10\n",
        "* z = x + y\n",
        "* print(_)\n",
        "\n",
        "3. What are the outputs after 10//3 and 10%3?\n"
      ],
      "metadata": {
        "id": "KV2QH29u2Ctp"
      }
    },
    {
      "cell_type": "code",
      "source": [],
      "metadata": {
        "id": "7tHhQvY_1pmm"
      },
      "execution_count": null,
      "outputs": []
    },
    {
      "cell_type": "code",
      "source": [],
      "metadata": {
        "id": "GfyH0eYG1pjP"
      },
      "execution_count": null,
      "outputs": []
    },
    {
      "cell_type": "code",
      "source": [],
      "metadata": {
        "id": "HZUcQ4oP1pg_"
      },
      "execution_count": null,
      "outputs": []
    },
    {
      "cell_type": "code",
      "source": [],
      "metadata": {
        "id": "kIDVcQNs1pc9"
      },
      "execution_count": null,
      "outputs": []
    },
    {
      "cell_type": "code",
      "source": [],
      "metadata": {
        "id": "ggQLTxq01pad"
      },
      "execution_count": null,
      "outputs": []
    },
    {
      "cell_type": "code",
      "source": [],
      "metadata": {
        "id": "eokaHq-01pVl"
      },
      "execution_count": null,
      "outputs": []
    },
    {
      "cell_type": "code",
      "source": [],
      "metadata": {
        "id": "UBwcb-qj1pTj"
      },
      "execution_count": null,
      "outputs": []
    },
    {
      "cell_type": "code",
      "source": [],
      "metadata": {
        "id": "0CpRYeAe1f3E"
      },
      "execution_count": null,
      "outputs": []
    },
    {
      "cell_type": "markdown",
      "source": [],
      "metadata": {
        "id": "BB-c_CgxzKwk"
      }
    }
  ]
}