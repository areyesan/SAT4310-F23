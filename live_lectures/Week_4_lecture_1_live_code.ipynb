{
  "nbformat": 4,
  "nbformat_minor": 0,
  "metadata": {
    "colab": {
      "provenance": []
    },
    "kernelspec": {
      "name": "python3",
      "display_name": "Python 3"
    },
    "language_info": {
      "name": "python"
    }
  },
  "cells": [
    {
      "cell_type": "code",
      "source": [
        "class A:\n",
        "  pass"
      ],
      "metadata": {
        "id": "MNGK71QD2hgU"
      },
      "execution_count": null,
      "outputs": []
    },
    {
      "cell_type": "code",
      "source": [
        "object1=A()"
      ],
      "metadata": {
        "id": "lkcsJM1T2iQL"
      },
      "execution_count": null,
      "outputs": []
    },
    {
      "cell_type": "code",
      "source": [
        "object1"
      ],
      "metadata": {
        "colab": {
          "base_uri": "https://localhost:8080/"
        },
        "id": "KbU9Brf42iqq",
        "outputId": "d7bcd7cd-5290-428e-d573-bfa626c2ec43"
      },
      "execution_count": null,
      "outputs": [
        {
          "output_type": "execute_result",
          "data": {
            "text/plain": [
              "<__main__.A at 0x7dc37f189420>"
            ]
          },
          "metadata": {},
          "execution_count": 3
        }
      ]
    },
    {
      "cell_type": "code",
      "source": [
        "object1.name=\"name\""
      ],
      "metadata": {
        "id": "oM57pNap2iyq"
      },
      "execution_count": null,
      "outputs": []
    },
    {
      "cell_type": "code",
      "source": [
        "print(object1.name)"
      ],
      "metadata": {
        "colab": {
          "base_uri": "https://localhost:8080/"
        },
        "id": "qYuCmdvL2i86",
        "outputId": "910d587a-7d78-4148-b0aa-ca2765b735c3"
      },
      "execution_count": null,
      "outputs": [
        {
          "output_type": "stream",
          "name": "stdout",
          "text": [
            "name\n"
          ]
        }
      ]
    },
    {
      "cell_type": "code",
      "source": [
        "class A:\n",
        "  def __init__(self, name):\n",
        "    self.name=name\n",
        "\n",
        "  def disp(self):\n",
        "    print(self.name)"
      ],
      "metadata": {
        "id": "svcU000q2jGq"
      },
      "execution_count": null,
      "outputs": []
    },
    {
      "cell_type": "code",
      "source": [
        "object1=A(\"SAM\")\n"
      ],
      "metadata": {
        "id": "aa7zS4d92jNq"
      },
      "execution_count": null,
      "outputs": []
    },
    {
      "cell_type": "code",
      "source": [
        "object1.name"
      ],
      "metadata": {
        "colab": {
          "base_uri": "https://localhost:8080/",
          "height": 35
        },
        "id": "eX6yBXek2hbz",
        "outputId": "18971528-b514-4100-cdb2-7c047b2299b8"
      },
      "execution_count": null,
      "outputs": [
        {
          "output_type": "execute_result",
          "data": {
            "text/plain": [
              "'SAM'"
            ],
            "application/vnd.google.colaboratory.intrinsic+json": {
              "type": "string"
            }
          },
          "metadata": {},
          "execution_count": 10
        }
      ]
    },
    {
      "cell_type": "code",
      "source": [
        "object1.disp()"
      ],
      "metadata": {
        "colab": {
          "base_uri": "https://localhost:8080/"
        },
        "id": "lybZHN4k2hQj",
        "outputId": "624b3961-ba49-4b51-dd79-aa57fc984ca2"
      },
      "execution_count": null,
      "outputs": [
        {
          "output_type": "stream",
          "name": "stdout",
          "text": [
            "SAM\n"
          ]
        }
      ]
    },
    {
      "cell_type": "code",
      "source": [],
      "metadata": {
        "id": "pfOQ6rxG2hDc"
      },
      "execution_count": null,
      "outputs": []
    },
    {
      "cell_type": "markdown",
      "source": [
        "# **More examples**"
      ],
      "metadata": {
        "id": "tbjuHJuVIvu4"
      }
    },
    {
      "cell_type": "code",
      "execution_count": null,
      "metadata": {
        "id": "yfSnYqWkHV3g"
      },
      "outputs": [],
      "source": [
        "class A():\n",
        "  pass"
      ]
    },
    {
      "cell_type": "code",
      "source": [
        "object1=A()\n",
        "object1"
      ],
      "metadata": {
        "colab": {
          "base_uri": "https://localhost:8080/"
        },
        "id": "2OmHvLbIIyQj",
        "outputId": "85dff0dc-b7fb-4b85-e6bf-ee5674e369b3"
      },
      "execution_count": null,
      "outputs": [
        {
          "output_type": "execute_result",
          "data": {
            "text/plain": [
              "<__main__.A at 0x7ba683fcac20>"
            ]
          },
          "metadata": {},
          "execution_count": 3
        }
      ]
    },
    {
      "cell_type": "code",
      "source": [
        "class A():\n",
        "  argument_a=\"a\"\n",
        "  argument_b=\"b\""
      ],
      "metadata": {
        "id": "pqgF9LVUI2dR"
      },
      "execution_count": null,
      "outputs": []
    },
    {
      "cell_type": "code",
      "source": [
        "object1=A()\n",
        "object1.argument_a"
      ],
      "metadata": {
        "colab": {
          "base_uri": "https://localhost:8080/",
          "height": 35
        },
        "id": "VqOOn2dCJUWJ",
        "outputId": "ab9e3153-a4a2-4bbc-88e5-bcbf4bb378df"
      },
      "execution_count": null,
      "outputs": [
        {
          "output_type": "execute_result",
          "data": {
            "text/plain": [
              "'a'"
            ],
            "application/vnd.google.colaboratory.intrinsic+json": {
              "type": "string"
            }
          },
          "metadata": {},
          "execution_count": 6
        }
      ]
    },
    {
      "cell_type": "code",
      "source": [
        "object2=A()\n",
        "object2.argument_a"
      ],
      "metadata": {
        "colab": {
          "base_uri": "https://localhost:8080/",
          "height": 35
        },
        "id": "oDnB9_F9Jwe4",
        "outputId": "0d5b95d1-da24-4f87-ed30-e8cd7df34fb9"
      },
      "execution_count": null,
      "outputs": [
        {
          "output_type": "execute_result",
          "data": {
            "text/plain": [
              "'a'"
            ],
            "application/vnd.google.colaboratory.intrinsic+json": {
              "type": "string"
            }
          },
          "metadata": {},
          "execution_count": 7
        }
      ]
    },
    {
      "cell_type": "code",
      "source": [
        "class A():\n",
        "  argument_a=\"a\"\n",
        "  def __init__(self, argument_b, argument_c):\n",
        "    self.argument_b=argument_b\n",
        "    self.argument_c=argument_c\n",
        "\n",
        "  def __str__(self):\n",
        "    return f\"This is an A object:\\n arg{self.argument_a}\\n arg{self.argument_b}\\n arg{self.argument_c}\""
      ],
      "metadata": {
        "id": "45nFFFA1JXEo"
      },
      "execution_count": null,
      "outputs": []
    },
    {
      "cell_type": "code",
      "source": [
        "object1=A(\"b\", \"c\")\n",
        "print(object1)"
      ],
      "metadata": {
        "colab": {
          "base_uri": "https://localhost:8080/"
        },
        "id": "1rTU-rexJZbA",
        "outputId": "15debf88-beb5-4e0c-9d8a-d2e48967aec2"
      },
      "execution_count": null,
      "outputs": [
        {
          "output_type": "stream",
          "name": "stdout",
          "text": [
            "This is an A object:\n",
            " arga\n",
            " argb\n",
            " argc\n"
          ]
        }
      ]
    },
    {
      "cell_type": "code",
      "source": [
        "object2=A(\"x\", \"y\")\n",
        "print(object2)"
      ],
      "metadata": {
        "colab": {
          "base_uri": "https://localhost:8080/"
        },
        "id": "oR4kbvIjJZoR",
        "outputId": "b623f37b-4486-4465-d5ce-f0cea80f0b51"
      },
      "execution_count": null,
      "outputs": [
        {
          "output_type": "stream",
          "name": "stdout",
          "text": [
            "This is an A object:\n",
            " arga\n",
            " argx\n",
            " argy\n"
          ]
        }
      ]
    },
    {
      "cell_type": "code",
      "source": [
        "class A():\n",
        "  argument_a=\"a\"\n",
        "  def __init__(self, argument_b=\"\", argument_c=\"\"):\n",
        "    self.argument_b=argument_b\n",
        "    self.argument_c=argument_c\n",
        "\n",
        "  def __str__(self):\n",
        "    return f\"This is an A object:\\n arg{self.argument_a}\\n arg{self.argument_b}\\n arg{self.argument_c}\""
      ],
      "metadata": {
        "id": "kF_1gYlUJZwA"
      },
      "execution_count": null,
      "outputs": []
    },
    {
      "cell_type": "code",
      "source": [
        "object1=A()\n",
        "print(object1)"
      ],
      "metadata": {
        "colab": {
          "base_uri": "https://localhost:8080/"
        },
        "id": "XkPd5QIIJZ2Q",
        "outputId": "36173d90-99a6-4056-f846-6ba9a1baf1c8"
      },
      "execution_count": null,
      "outputs": [
        {
          "output_type": "stream",
          "name": "stdout",
          "text": [
            "This is an A object:\n",
            " arga\n",
            " arg\n",
            " arg\n"
          ]
        }
      ]
    },
    {
      "cell_type": "code",
      "source": [],
      "metadata": {
        "id": "3v6H1-mhJZ94"
      },
      "execution_count": null,
      "outputs": []
    },
    {
      "cell_type": "code",
      "source": [],
      "metadata": {
        "id": "RrnkL2xnJaFQ"
      },
      "execution_count": null,
      "outputs": []
    },
    {
      "cell_type": "code",
      "source": [],
      "metadata": {
        "id": "-wxFUN7xJaMJ"
      },
      "execution_count": null,
      "outputs": []
    },
    {
      "cell_type": "code",
      "source": [],
      "metadata": {
        "id": "ggo-BojgJaRo"
      },
      "execution_count": null,
      "outputs": []
    },
    {
      "cell_type": "code",
      "source": [],
      "metadata": {
        "id": "MngtWt-DJaWw"
      },
      "execution_count": null,
      "outputs": []
    },
    {
      "cell_type": "code",
      "source": [],
      "metadata": {
        "id": "GmG3ie_jJaco"
      },
      "execution_count": null,
      "outputs": []
    },
    {
      "cell_type": "code",
      "source": [],
      "metadata": {
        "id": "TbS7ntwdJagy"
      },
      "execution_count": null,
      "outputs": []
    }
  ]
}