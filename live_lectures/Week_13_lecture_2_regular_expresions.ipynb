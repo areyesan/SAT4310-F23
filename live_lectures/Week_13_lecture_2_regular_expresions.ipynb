{
  "nbformat": 4,
  "nbformat_minor": 0,
  "metadata": {
    "colab": {
      "provenance": []
    },
    "kernelspec": {
      "name": "python3",
      "display_name": "Python 3"
    },
    "language_info": {
      "name": "python"
    }
  },
  "cells": [
    {
      "cell_type": "code",
      "execution_count": null,
      "metadata": {
        "colab": {
          "base_uri": "https://localhost:8080/"
        },
        "id": "j1O6whX7daCe",
        "outputId": "351043f5-b2ca-46e9-eb10-7c920923d4d1"
      },
      "outputs": [
        {
          "output_type": "stream",
          "name": "stdout",
          "text": [
            "Abel Reyes - Welcome to Abel Reyes' Homepage!\n"
          ]
        }
      ],
      "source": [
        "from urllib.request import urlopen\n",
        "url=\"https://areyesan.github.io/\"\n",
        "page=urlopen(url)\n",
        "\n",
        "html=page.read().decode(\"utf-8\")\n",
        "start_index=html.find(\"<title>\")+len(\"<title>\")\n",
        "end_index=html.find(\"</title>\")\n",
        "title=html[start_index:end_index]\n",
        "print(title)"
      ]
    },
    {
      "cell_type": "code",
      "source": [
        "import re\n",
        "\n",
        "print(re.findall(\"ab*c\", \"abcd\"))\n",
        "\n",
        "print(re.findall(\"ab*c\", \"acc\"))\n",
        "\n",
        "print(re.findall(\"ab*c\", \"abcac\"))\n",
        "\n",
        "print(re.findall(\"ab*c\", \"abdc\"))\n"
      ],
      "metadata": {
        "colab": {
          "base_uri": "https://localhost:8080/"
        },
        "id": "sMNlICs6eX2t",
        "outputId": "fd2f5e37-58a9-4a3e-832b-a34a34830909"
      },
      "execution_count": null,
      "outputs": [
        {
          "output_type": "stream",
          "name": "stdout",
          "text": [
            "['abc']\n",
            "['ac']\n",
            "['abc', 'ac']\n",
            "[]\n"
          ]
        }
      ]
    },
    {
      "cell_type": "code",
      "source": [
        "print(re.findall(\"a.c\", \"abc\"))\n",
        "print(re.findall(\"a.c\", \"abbc\"))\n"
      ],
      "metadata": {
        "colab": {
          "base_uri": "https://localhost:8080/"
        },
        "id": "QLDIY9hOeg56",
        "outputId": "ed3ff76f-00f5-4899-e930-372a3e91b3b0"
      },
      "execution_count": null,
      "outputs": [
        {
          "output_type": "stream",
          "name": "stdout",
          "text": [
            "['abc']\n",
            "[]\n"
          ]
        }
      ]
    },
    {
      "cell_type": "code",
      "source": [
        "print(re.findall(\"a.*c\", \"abc\"))\n",
        "print(re.findall(\"a.*c\", \"abbc\"))\n",
        "\n",
        "print(re.findall(\"a.*c\", \"ac\"))\n",
        "print(re.findall(\"a.*c\", \"acc\"))"
      ],
      "metadata": {
        "colab": {
          "base_uri": "https://localhost:8080/"
        },
        "id": "XFYSIzs8ewoE",
        "outputId": "4c14c21c-1751-42b4-9744-d780053ad0f0"
      },
      "execution_count": null,
      "outputs": [
        {
          "output_type": "stream",
          "name": "stdout",
          "text": [
            "['abc']\n",
            "['abbc']\n",
            "['ac']\n",
            "['acc']\n"
          ]
        }
      ]
    },
    {
      "cell_type": "code",
      "source": [
        "import re\n",
        "from urllib.request import urlopen\n",
        "\n",
        "#url = \"https://www.mainlab.mtu.edu/\"\n",
        "url=\"https://areyesan.github.io/\"\n",
        "\n",
        "page = urlopen(url)\n",
        "html = page.read().decode(\"utf-8\")\n",
        "\n",
        "pattern = \"<title.*?>.*?</title.*?>\"\n",
        "match_results = re.search(pattern, html, re.IGNORECASE)\n",
        "title = match_results.group()\n",
        "#title = re.sub(\"<.*?>\", \"\", title) # Remove HTML tags\n",
        "\n",
        "print(title)\n"
      ],
      "metadata": {
        "colab": {
          "base_uri": "https://localhost:8080/"
        },
        "id": "JVSv3gyJeg3a",
        "outputId": "0438bf0e-778b-493f-f2cd-4714198a5a14"
      },
      "execution_count": 1,
      "outputs": [
        {
          "output_type": "stream",
          "name": "stdout",
          "text": [
            "Abel Reyes - Welcome to Abel Reyes' Homepage!\n"
          ]
        }
      ]
    },
    {
      "cell_type": "code",
      "source": [],
      "metadata": {
        "id": "Wq6Nh1toeg1C"
      },
      "execution_count": null,
      "outputs": []
    },
    {
      "cell_type": "code",
      "source": [],
      "metadata": {
        "id": "71XWxf26egyS"
      },
      "execution_count": null,
      "outputs": []
    }
  ]
}