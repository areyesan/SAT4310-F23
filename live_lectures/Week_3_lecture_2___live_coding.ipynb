{
  "nbformat": 4,
  "nbformat_minor": 0,
  "metadata": {
    "colab": {
      "provenance": []
    },
    "kernelspec": {
      "name": "python3",
      "display_name": "Python 3"
    },
    "language_info": {
      "name": "python"
    }
  },
  "cells": [
    {
      "cell_type": "markdown",
      "source": [
        "# **Classes and Objects in Python**"
      ],
      "metadata": {
        "id": "TU-0smbpCS2W"
      }
    },
    {
      "cell_type": "code",
      "source": [
        "class Husky:\n",
        "  name=\"\"\n",
        "  color=\"\"\n",
        "  age=0\n",
        "  animal=\"dog\"\n",
        "  def __init__(self, n, c, a):\n",
        "    self.name=n\n",
        "    self.color=c\n",
        "    self.age=a\n",
        "\n",
        "  def __str__(self):\n",
        "    return f\"My name is {self.name}\""
      ],
      "metadata": {
        "id": "D4fiMJYMMPCe"
      },
      "execution_count": null,
      "outputs": []
    },
    {
      "cell_type": "code",
      "source": [
        "h1=Husky(\"Blizard\", \"White\", 4)\n",
        "\n",
        "h1.color"
      ],
      "metadata": {
        "colab": {
          "base_uri": "https://localhost:8080/",
          "height": 36
        },
        "id": "99E77FdKMO_m",
        "outputId": "15a09d71-ef04-4e86-9d0b-b2a64f8e1d74"
      },
      "execution_count": null,
      "outputs": [
        {
          "output_type": "execute_result",
          "data": {
            "text/plain": [
              "'White'"
            ],
            "application/vnd.google.colaboratory.intrinsic+json": {
              "type": "string"
            }
          },
          "metadata": {},
          "execution_count": 15
        }
      ]
    },
    {
      "cell_type": "code",
      "source": [
        "print(h1)"
      ],
      "metadata": {
        "colab": {
          "base_uri": "https://localhost:8080/"
        },
        "id": "RGP5kLhhO4rm",
        "outputId": "35c78267-7d82-4168-f9a8-509b5b10e6dc"
      },
      "execution_count": null,
      "outputs": [
        {
          "output_type": "stream",
          "name": "stdout",
          "text": [
            "My name is Blizard\n"
          ]
        }
      ]
    },
    {
      "cell_type": "code",
      "source": [
        "print(h1.age)"
      ],
      "metadata": {
        "colab": {
          "base_uri": "https://localhost:8080/"
        },
        "id": "ceXAHpkhMO9G",
        "outputId": "208af2c5-70a6-473b-d3b8-55059749eaf0"
      },
      "execution_count": null,
      "outputs": [
        {
          "output_type": "stream",
          "name": "stdout",
          "text": [
            "5\n"
          ]
        }
      ]
    },
    {
      "cell_type": "code",
      "source": [
        "h2=Husky(\"Sam\", \"black\", 5)\n"
      ],
      "metadata": {
        "id": "XoNQKLU8SbiL"
      },
      "execution_count": null,
      "outputs": []
    },
    {
      "cell_type": "code",
      "source": [
        "h2.color"
      ],
      "metadata": {
        "id": "wXGg0JYISbfM",
        "colab": {
          "base_uri": "https://localhost:8080/",
          "height": 36
        },
        "outputId": "44711621-8b8d-44de-be38-c96aa3a6ad29"
      },
      "execution_count": null,
      "outputs": [
        {
          "output_type": "execute_result",
          "data": {
            "text/plain": [
              "'black'"
            ],
            "application/vnd.google.colaboratory.intrinsic+json": {
              "type": "string"
            }
          },
          "metadata": {},
          "execution_count": 10
        }
      ]
    },
    {
      "cell_type": "code",
      "source": [
        "h2.animal"
      ],
      "metadata": {
        "id": "_QPFdgr3SbcT",
        "colab": {
          "base_uri": "https://localhost:8080/",
          "height": 36
        },
        "outputId": "b60c7ab8-4c2e-45bd-98ce-2cdcb309c01d"
      },
      "execution_count": null,
      "outputs": [
        {
          "output_type": "execute_result",
          "data": {
            "text/plain": [
              "'dog'"
            ],
            "application/vnd.google.colaboratory.intrinsic+json": {
              "type": "string"
            }
          },
          "metadata": {},
          "execution_count": 12
        }
      ]
    },
    {
      "cell_type": "code",
      "source": [],
      "metadata": {
        "id": "g0a3eVkySbYs"
      },
      "execution_count": null,
      "outputs": []
    },
    {
      "cell_type": "code",
      "source": [
        "#import inspect\n",
        "#inspect.getargspec(class)"
      ],
      "metadata": {
        "id": "VyjaGdyzSbVa"
      },
      "execution_count": null,
      "outputs": []
    },
    {
      "cell_type": "code",
      "source": [
        "class Husky:\n",
        "  name=\"\"\n",
        "  #age=0\n",
        "  height=0.0\n",
        "  animal=\"Dog\"\n",
        "\n",
        "  def __init__(self, name, age, height):\n",
        "    self.name=name\n",
        "    self.__age=age\n",
        "    self.height=height\n",
        "\n",
        "  def __str__(self):\n",
        "    return f\"I am a {self.animal}.\\nMy name is {self.name}, I am {self.__age} old\"\n",
        "\n",
        "  def getAge(self):\n",
        "    return self.__age\n"
      ],
      "metadata": {
        "id": "HjI_JwpuMhop"
      },
      "execution_count": null,
      "outputs": []
    },
    {
      "cell_type": "code",
      "source": [
        "import inspect\n",
        "inspect.getargspec(Husky)\n"
      ],
      "metadata": {
        "colab": {
          "base_uri": "https://localhost:8080/"
        },
        "id": "WRyvbDNUMhl6",
        "outputId": "1e2aacd1-fe02-4e6b-8860-de780eb8e1bc"
      },
      "execution_count": null,
      "outputs": [
        {
          "output_type": "stream",
          "name": "stderr",
          "text": [
            "<ipython-input-87-2c6cee218232>:2: DeprecationWarning: inspect.getargspec() is deprecated since Python 3.0, use inspect.signature() or inspect.getfullargspec()\n",
            "  inspect.getargspec(Husky)\n"
          ]
        },
        {
          "output_type": "execute_result",
          "data": {
            "text/plain": [
              "ArgSpec(args=['self', 'name', 'age', 'height'], varargs=None, keywords=None, defaults=None)"
            ]
          },
          "metadata": {},
          "execution_count": 87
        }
      ]
    },
    {
      "cell_type": "code",
      "source": [
        "h1=Husky(\"Dino\", 2, 1.5)\n",
        "h1.name"
      ],
      "metadata": {
        "colab": {
          "base_uri": "https://localhost:8080/",
          "height": 35
        },
        "id": "JP4MlcLYMhi7",
        "outputId": "8e2c8fbd-ff68-40c5-eb6e-51dcc21a7fa5"
      },
      "execution_count": null,
      "outputs": [
        {
          "output_type": "execute_result",
          "data": {
            "text/plain": [
              "'Dino'"
            ],
            "application/vnd.google.colaboratory.intrinsic+json": {
              "type": "string"
            }
          },
          "metadata": {},
          "execution_count": 88
        }
      ]
    },
    {
      "cell_type": "code",
      "source": [
        "print(h1)"
      ],
      "metadata": {
        "colab": {
          "base_uri": "https://localhost:8080/"
        },
        "id": "OtUsuMrTMhgS",
        "outputId": "34b5da43-af41-454e-a636-c7f5f9202816"
      },
      "execution_count": null,
      "outputs": [
        {
          "output_type": "stream",
          "name": "stdout",
          "text": [
            "I am a Dog.\n",
            "My name is Dino, I am 2 old\n"
          ]
        }
      ]
    },
    {
      "cell_type": "code",
      "source": [
        "h1.getAge()"
      ],
      "metadata": {
        "colab": {
          "base_uri": "https://localhost:8080/"
        },
        "id": "AkPoWUO_MheB",
        "outputId": "ba907beb-9f34-499b-e3b3-8a834c3f76d1"
      },
      "execution_count": null,
      "outputs": [
        {
          "output_type": "execute_result",
          "data": {
            "text/plain": [
              "2"
            ]
          },
          "metadata": {},
          "execution_count": 90
        }
      ]
    },
    {
      "cell_type": "code",
      "source": [],
      "metadata": {
        "id": "jnKsXsKQMhb5"
      },
      "execution_count": null,
      "outputs": []
    },
    {
      "cell_type": "code",
      "source": [],
      "metadata": {
        "id": "QbMtV4ebMhZK"
      },
      "execution_count": null,
      "outputs": []
    },
    {
      "cell_type": "code",
      "source": [],
      "metadata": {
        "id": "nw-AFVSbMhV5"
      },
      "execution_count": null,
      "outputs": []
    },
    {
      "cell_type": "code",
      "execution_count": null,
      "metadata": {
        "id": "2aT7bmSICR2c"
      },
      "outputs": [],
      "source": [
        "class Robot:\n",
        "  #name=\"bob\"\n",
        "  #color=\"brown\"\n",
        "\n",
        "  def __init__(self):\n",
        "    pass\n",
        "\n",
        "\n",
        "  def introduce_self(self):\n",
        "    return print(f\"Hello my name is {self.name}\")"
      ]
    },
    {
      "cell_type": "code",
      "source": [
        "r1=Robot()\n",
        "r1.introduce_self()"
      ],
      "metadata": {
        "colab": {
          "base_uri": "https://localhost:8080/"
        },
        "id": "99wBFZ40CYmj",
        "outputId": "8b2b714a-e295-4a5c-85eb-a149f6232774"
      },
      "execution_count": null,
      "outputs": [
        {
          "output_type": "stream",
          "name": "stdout",
          "text": [
            "Hello my name is bob\n"
          ]
        }
      ]
    },
    {
      "cell_type": "code",
      "source": [
        "r2=Robot()\n",
        "r2.name=\"Sam\"\n",
        "r2.introduce_self()"
      ],
      "metadata": {
        "colab": {
          "base_uri": "https://localhost:8080/"
        },
        "id": "6OiRrOzxCYzi",
        "outputId": "cf8cc028-f78e-44d5-8030-563fc890fa91"
      },
      "execution_count": null,
      "outputs": [
        {
          "output_type": "stream",
          "name": "stdout",
          "text": [
            "Hello my name is Sam\n"
          ]
        }
      ]
    },
    {
      "cell_type": "code",
      "source": [],
      "metadata": {
        "id": "wZrDwOWkCY76"
      },
      "execution_count": null,
      "outputs": []
    },
    {
      "cell_type": "code",
      "source": [],
      "metadata": {
        "id": "I4obpW-HCZCy"
      },
      "execution_count": null,
      "outputs": []
    },
    {
      "cell_type": "code",
      "source": [],
      "metadata": {
        "id": "pNWEGKZFCZKa"
      },
      "execution_count": null,
      "outputs": []
    },
    {
      "cell_type": "code",
      "source": [],
      "metadata": {
        "id": "-URDtT1RCZVa"
      },
      "execution_count": null,
      "outputs": []
    },
    {
      "cell_type": "code",
      "source": [],
      "metadata": {
        "id": "nwhxux-wCZfq"
      },
      "execution_count": null,
      "outputs": []
    }
  ]
}