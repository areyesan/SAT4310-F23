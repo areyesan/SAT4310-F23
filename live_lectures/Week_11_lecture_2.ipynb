{
  "nbformat": 4,
  "nbformat_minor": 0,
  "metadata": {
    "colab": {
      "provenance": []
    },
    "kernelspec": {
      "name": "python3",
      "display_name": "Python 3"
    },
    "language_info": {
      "name": "python"
    }
  },
  "cells": [
    {
      "cell_type": "markdown",
      "source": [
        "# **Database Access**\n",
        "\n",
        "+ Data are observations or measurements (unprocessed or processed) represented as text, numbers, or multimedia.\n",
        "+ A dataset is a structured collection of data generally associated with a unique body of work.\n",
        "+ A database is an organized collection of data stored as multiple datasets."
      ],
      "metadata": {
        "id": "LlKuuPCCTZxi"
      }
    },
    {
      "cell_type": "markdown",
      "source": [
        "# **SQLite**\n",
        "+ SQLite is a C library that provides a lightweight disk-based database that can provide a relational database management system with zero-configuration.\n",
        "+ SQLite is an embedded SQL database engine. Unlike most other SQL databases, SQLite does not have a separate server process.\n",
        "+ The SQLite project was started on 2000-05-09.\n",
        "+ SQLite database files are commonly used as containers to transfer rich content between systems.\n",
        "+ SQLite is built into all mobile phones and most computers.\n",
        "+ It can be used in many programming languages including Python\n",
        "+ We will use SQLite version 3 or SQLite3\n"
      ],
      "metadata": {
        "id": "Y-QeMVZFK7q4"
      }
    },
    {
      "cell_type": "markdown",
      "source": [
        "**In summary**:\n",
        "SQLite is a library used for quick and simple databases.\n",
        "\n",
        "+ quick: we dont need to setup an special data server for this :) - It is a serverless database\n",
        "+ simple: because it uses regular SQL commands (English instructions alike)\n",
        "\n"
      ],
      "metadata": {
        "id": "DneIzdOELdkg"
      }
    },
    {
      "cell_type": "markdown",
      "source": [
        "## **Create Connection and Database**\n",
        "+ First import the sqlite3 module and then create a connection object which will connect us to the database.\n",
        "+ Call sqlite3.connect() to create a connection to the database example.db in the current working directory.\n",
        "\n",
        "+ That will create a new file with the name ‘mydatabase.db’.\n",
        "+ The returned Connection object con represents the connection to the on-disk database.\n"
      ],
      "metadata": {
        "id": "oGgr1giVdbTY"
      }
    },
    {
      "cell_type": "code",
      "execution_count": null,
      "metadata": {
        "id": "s_CldWw8WpYr"
      },
      "outputs": [],
      "source": [
        "import sqlite3\n",
        "\n",
        "con = sqlite3.connect('mydatabase.db')\n"
      ]
    },
    {
      "cell_type": "code",
      "source": [
        "con"
      ],
      "metadata": {
        "colab": {
          "base_uri": "https://localhost:8080/"
        },
        "id": "miJ3THZFftPx",
        "outputId": "94f2ccdd-f828-4efb-d46e-7f075dca8cdf"
      },
      "execution_count": null,
      "outputs": [
        {
          "output_type": "execute_result",
          "data": {
            "text/plain": [
              "<sqlite3.Connection at 0x7a092c3c8440>"
            ]
          },
          "metadata": {},
          "execution_count": 2
        }
      ]
    },
    {
      "cell_type": "markdown",
      "source": [
        "## **SQLite3 Cursor**\n",
        "+ In order to execute SQL statements and fetch results from SQL queries, we will need to use a database cursor.\n",
        "+ The SQLite3 cursor is a method of the connection object.\n",
        "+ Call con.cursor() to create the Cursor as follow:\n",
        "+ Now we can use the cursor object to call the execute() method to execute any SQL queries."
      ],
      "metadata": {
        "id": "3mRq6B2NdvCv"
      }
    },
    {
      "cell_type": "code",
      "source": [
        "cursorObj = con.cursor()"
      ],
      "metadata": {
        "id": "JBxtOb5UW7F1"
      },
      "execution_count": null,
      "outputs": []
    },
    {
      "cell_type": "code",
      "source": [
        "cursorObj"
      ],
      "metadata": {
        "colab": {
          "base_uri": "https://localhost:8080/"
        },
        "id": "5LzbAzbNf5Dg",
        "outputId": "1f6f3f1b-c246-46e2-8030-6a0c926a5bb4"
      },
      "execution_count": null,
      "outputs": [
        {
          "output_type": "execute_result",
          "data": {
            "text/plain": [
              "<sqlite3.Cursor at 0x7a092c3b8fc0>"
            ]
          },
          "metadata": {},
          "execution_count": 4
        }
      ]
    },
    {
      "cell_type": "markdown",
      "source": [
        "## **Create a Table**\n",
        "+ To create a table in SQLite3, we can use the CREATE TABLE query in the execute() method. Consider the following steps:\n",
        "1) Create a connection object.\n",
        "2) From the connection object, create a cursor object.\n",
        "3) Using the cursor object, call the execute method with create table query as the parameter.\n",
        "+ Let’s create employees with the following attributes. Execute the CREATE TABLE statement by calling cursorObj.execute(...)\n",
        " + (id, name, salary, position)\n",
        "\n",
        "+ The PRIMARY KEY constraint uniquely identifies each record in a table.\n",
        "+ Specifying the data types is optional.\n"
      ],
      "metadata": {
        "id": "V5Y5V93sd5Mo"
      }
    },
    {
      "cell_type": "code",
      "source": [
        "cursorObj.execute(\"CREATE TABLE employees(id integer PRIMARY KEY, name text, salary real, position text)\")\n"
      ],
      "metadata": {
        "colab": {
          "base_uri": "https://localhost:8080/"
        },
        "id": "p61luFPaW7Ik",
        "outputId": "712e838b-15a9-489c-e10f-6ccd04c2b692"
      },
      "execution_count": null,
      "outputs": [
        {
          "output_type": "execute_result",
          "data": {
            "text/plain": [
              "<sqlite3.Cursor at 0x7a092c3b8fc0>"
            ]
          },
          "metadata": {},
          "execution_count": 5
        }
      ]
    },
    {
      "cell_type": "markdown",
      "source": [
        "## **Verify Table**\n",
        "+ We can verify that the newly created table by querying the sqlite_master table built-in to SQLite, which should now contain an entry for the employees table definition.\n",
        "+ Execute that query by calling cursorObj.execute(...), assign the result to res, and call res.fetchone() to fetch the resulting row:\n",
        "\n",
        "\n"
      ],
      "metadata": {
        "id": "cMVwq3KbeS1n"
      }
    },
    {
      "cell_type": "code",
      "source": [
        "res = cursorObj.execute(\"SELECT name FROM sqlite_master\")\n",
        "res.fetchone()[0]"
      ],
      "metadata": {
        "colab": {
          "base_uri": "https://localhost:8080/",
          "height": 35
        },
        "id": "HjeHc2vRW7Ld",
        "outputId": "179ec788-6eff-436e-de89-57e8505767bd"
      },
      "execution_count": null,
      "outputs": [
        {
          "output_type": "execute_result",
          "data": {
            "text/plain": [
              "'employees'"
            ],
            "application/vnd.google.colaboratory.intrinsic+json": {
              "type": "string"
            }
          },
          "metadata": {},
          "execution_count": 6
        }
      ]
    },
    {
      "cell_type": "markdown",
      "source": [
        "+ If we query sqlite_master for a non-existent table, res.fetchone() will return None:"
      ],
      "metadata": {
        "id": "PiG0WrnyeeJP"
      }
    },
    {
      "cell_type": "code",
      "source": [
        "res = cursorObj.execute(\"SELECT name FROM sqlite_master WHERE name='Cat' \")\n",
        "res.fetchone() is None"
      ],
      "metadata": {
        "colab": {
          "base_uri": "https://localhost:8080/"
        },
        "id": "lqJU-ljteddP",
        "outputId": "ea84eb6a-dde0-42b2-e0a5-69a7c36431ec"
      },
      "execution_count": null,
      "outputs": [
        {
          "output_type": "execute_result",
          "data": {
            "text/plain": [
              "True"
            ]
          },
          "metadata": {},
          "execution_count": 7
        }
      ]
    },
    {
      "cell_type": "code",
      "source": [
        "## Alternative option to verify a table\n",
        "cursorObj.execute(\"SELECT name FROM sqlite_master WHERE type='table';\")\n",
        "print(cursorObj.fetchall())"
      ],
      "metadata": {
        "id": "DZTCN3fNYPpT",
        "colab": {
          "base_uri": "https://localhost:8080/"
        },
        "outputId": "5bba5b07-f5d7-4813-b42d-23f3663bcc7b"
      },
      "execution_count": null,
      "outputs": [
        {
          "output_type": "stream",
          "name": "stdout",
          "text": [
            "[('employees',)]\n"
          ]
        }
      ]
    },
    {
      "cell_type": "code",
      "source": [
        "names = [description[0] for description in cursorObj.description]\n",
        "names"
      ],
      "metadata": {
        "id": "avySKevZZF93",
        "colab": {
          "base_uri": "https://localhost:8080/"
        },
        "outputId": "31c1dde1-3170-4064-b800-91c291c31856"
      },
      "execution_count": null,
      "outputs": [
        {
          "output_type": "execute_result",
          "data": {
            "text/plain": [
              "['name']"
            ]
          },
          "metadata": {},
          "execution_count": 9
        }
      ]
    },
    {
      "cell_type": "code",
      "source": [
        "cursorObj.description"
      ],
      "metadata": {
        "id": "sBvsjaa0Y4wp",
        "colab": {
          "base_uri": "https://localhost:8080/"
        },
        "outputId": "e55d5fbd-cf23-4806-b345-62e03f653981"
      },
      "execution_count": null,
      "outputs": [
        {
          "output_type": "execute_result",
          "data": {
            "text/plain": [
              "(('name', None, None, None, None, None, None),)"
            ]
          },
          "metadata": {},
          "execution_count": 10
        }
      ]
    },
    {
      "cell_type": "code",
      "source": [
        "def sqlite_table_schema(conn, name):\n",
        "    cursor = conn.execute(\"SELECT sql FROM sqlite_master WHERE name=?;\", [name])\n",
        "    sql = cursor.fetchone()[0]\n",
        "    cursor.close()\n",
        "    return sql"
      ],
      "metadata": {
        "id": "104C4iAPfpVf"
      },
      "execution_count": null,
      "outputs": []
    },
    {
      "cell_type": "code",
      "source": [
        "print(sqlite_table_schema(con, 'employees'))"
      ],
      "metadata": {
        "colab": {
          "base_uri": "https://localhost:8080/"
        },
        "id": "dBZPkX8Wfp2X",
        "outputId": "6b726577-442b-4195-b0aa-3d9dc811dc59"
      },
      "execution_count": null,
      "outputs": [
        {
          "output_type": "stream",
          "name": "stdout",
          "text": [
            "CREATE TABLE employees(id integer PRIMARY KEY, name text, salary real, position text)\n"
          ]
        }
      ]
    },
    {
      "cell_type": "markdown",
      "source": [
        "## **Insert in Table**\n",
        "+ To insert data in a table, we use the INSERT INTO statement. Consider the following line of code:\n"
      ],
      "metadata": {
        "id": "lVpafBJcevko"
      }
    },
    {
      "cell_type": "code",
      "source": [
        "cursorObj.execute(\"INSERT INTO employees VALUES(1, 'Mike', 1000, 'Manager') \")\n",
        "con.commit()"
      ],
      "metadata": {
        "id": "45inMceFZQ2T"
      },
      "execution_count": null,
      "outputs": []
    },
    {
      "cell_type": "markdown",
      "source": [
        "+ The INSERT statement implicitly opens a transaction, which needs to be committed before changes are saved in the database (see Transaction control for details). Call con.commit() on the connection object to commit the transaction.\n",
        "+ We can verify that the data was inserted correctly by executing a SELECT query. Use the cursorObj.execute(...) to assign the result to res, and call res.fetchall() to return all resulting rows:\n"
      ],
      "metadata": {
        "id": "m0LQdegre2Gf"
      }
    },
    {
      "cell_type": "code",
      "source": [
        "res = cursorObj.execute(\"SELECT name FROM employees\")\n",
        "res.fetchall()"
      ],
      "metadata": {
        "colab": {
          "base_uri": "https://localhost:8080/"
        },
        "id": "nkdAlU_xZePu",
        "outputId": "a236e2b1-50c0-44ae-b912-12553406716a"
      },
      "execution_count": null,
      "outputs": [
        {
          "output_type": "execute_result",
          "data": {
            "text/plain": [
              "[('Mike',)]"
            ]
          },
          "metadata": {},
          "execution_count": 14
        }
      ]
    },
    {
      "cell_type": "code",
      "source": [
        "res = cursorObj.execute(\"SELECT * FROM employees\")\n",
        "res.fetchone()"
      ],
      "metadata": {
        "colab": {
          "base_uri": "https://localhost:8080/"
        },
        "id": "m0eKRTkbZvKX",
        "outputId": "5cd56f46-9be9-4cce-ff1f-c0b0afb00557"
      },
      "execution_count": null,
      "outputs": [
        {
          "output_type": "execute_result",
          "data": {
            "text/plain": [
              "(1, 'Mike', 1000.0, 'Manager')"
            ]
          },
          "metadata": {},
          "execution_count": 15
        }
      ]
    },
    {
      "cell_type": "markdown",
      "source": [
        "## **Insert more rows in Table**\n",
        "\n",
        " + We can insert three more rows by calling cur.executemany(...):\n",
        "+ We can use the question mark (?) as a placeholder for each value.\n"
      ],
      "metadata": {
        "id": "d_e-tfgYgUkP"
      }
    },
    {
      "cell_type": "code",
      "source": [
        "data = [\n",
        "    (2, 'Jack', 850, 'IT'),\n",
        "    (3, 'Andrew', 800, 'Tech'),\n",
        "    (4, 'Mason', 1500, 'CTO'),\n",
        "    (5, 'Abel', 1000, 'CTO'),\n",
        "]\n"
      ],
      "metadata": {
        "id": "Z-ArietUaLF6"
      },
      "execution_count": null,
      "outputs": []
    },
    {
      "cell_type": "code",
      "source": [],
      "metadata": {
        "id": "3BUwetF2jcSx"
      },
      "execution_count": null,
      "outputs": []
    },
    {
      "cell_type": "code",
      "source": [
        "cursorObj.executemany(\"INSERT INTO employees VALUES(?, ?, ?,?)\", data)\n",
        "con.commit()  # Remember to commit the transaction after executing INSERT.\n"
      ],
      "metadata": {
        "id": "KxkKtV-qaLDD"
      },
      "execution_count": null,
      "outputs": []
    },
    {
      "cell_type": "markdown",
      "source": [
        "+ Verify that the new rows by executing a SELECT query:\n"
      ],
      "metadata": {
        "id": "QD6eUyn3gn-n"
      }
    },
    {
      "cell_type": "code",
      "source": [
        "#for row in cursorObj.execute(\"SELECT name, salary, position FROM employees ORDER BY salary\"):\n",
        "for row in cursorObj.execute(\"SELECT name, salary FROM employees ORDER BY salary\"):\n",
        "    print(row)\n"
      ],
      "metadata": {
        "colab": {
          "base_uri": "https://localhost:8080/"
        },
        "id": "32HGOrueaqZq",
        "outputId": "1c5e1467-4bb7-45af-829f-799fcd6266c5"
      },
      "execution_count": null,
      "outputs": [
        {
          "output_type": "stream",
          "name": "stdout",
          "text": [
            "('Andrew', 800.0)\n",
            "('Jack', 850.0)\n",
            "('Mike', 1000.0)\n",
            "('Abel', 1000.0)\n",
            "('Mason', 1500.0)\n"
          ]
        }
      ]
    },
    {
      "cell_type": "markdown",
      "source": [
        "## **Update Table**\n",
        "+ To update the table, simply create a connection, then create a cursor object using the connection and finally use the UPDATE statement in the execute() method.\n",
        "+ Suppose we want to update the employee’s salary whose id equals 3, we will use the UPDATE statement for the employee whose id equals 3.\n",
        "+ The WHERE clause will be used as a condition to select this employee."
      ],
      "metadata": {
        "id": "D56UYMbxa10E"
      }
    },
    {
      "cell_type": "code",
      "source": [
        "cursorObj.execute('UPDATE employees SET salary = 900 where id = 3')\n",
        "con.commit()\n"
      ],
      "metadata": {
        "id": "X6BLhcAQaqWx"
      },
      "execution_count": null,
      "outputs": []
    },
    {
      "cell_type": "markdown",
      "source": [
        "+ We now can verify the updated table by the statement:\n"
      ],
      "metadata": {
        "id": "kijQTwJDhCNo"
      }
    },
    {
      "cell_type": "code",
      "source": [
        "for row in cursorObj.execute(\"SELECT name, salary, position FROM employees order by salary\"):\n",
        "    print(row)\n"
      ],
      "metadata": {
        "colab": {
          "base_uri": "https://localhost:8080/"
        },
        "id": "60AKOTbYa6gE",
        "outputId": "a327c4b3-146d-4a52-c6a5-37bb46a0f8cd"
      },
      "execution_count": null,
      "outputs": [
        {
          "output_type": "stream",
          "name": "stdout",
          "text": [
            "('Jack', 850.0, 'IT')\n",
            "('Andrew', 900.0, 'Tech')\n",
            "('Mike', 1000.0, 'Manager')\n",
            "('Abel', 1000.0, 'CTO')\n",
            "('Mason', 1500.0, 'CTO')\n"
          ]
        }
      ]
    },
    {
      "cell_type": "markdown",
      "source": [
        "## **Fetch data**\n",
        "\n",
        "+ To fetch specific rows, we can combine SELECT, WHERE, fetchall statements  \n",
        "+ Suppose we want to print the id and names of those who have a salary greater than 1000:\n"
      ],
      "metadata": {
        "id": "T5rV5azBhVkv"
      }
    },
    {
      "cell_type": "code",
      "source": [
        "cursorObj.execute('SELECT id, name FROM employees WHERE salary >= 1000.0')"
      ],
      "metadata": {
        "colab": {
          "base_uri": "https://localhost:8080/"
        },
        "id": "F8RibVrra_oX",
        "outputId": "7b36544b-6b5f-4303-da74-28847602458b"
      },
      "execution_count": null,
      "outputs": [
        {
          "output_type": "execute_result",
          "data": {
            "text/plain": [
              "<sqlite3.Cursor at 0x7a092c3b8fc0>"
            ]
          },
          "metadata": {},
          "execution_count": 21
        }
      ]
    },
    {
      "cell_type": "code",
      "source": [
        "rows=cursorObj.fetchall()\n",
        "for row in rows:\n",
        "  print(row)"
      ],
      "metadata": {
        "colab": {
          "base_uri": "https://localhost:8080/"
        },
        "id": "uRPOpCwibUpF",
        "outputId": "9d839d2b-6dc6-472d-d14e-b914639ae1f3"
      },
      "execution_count": null,
      "outputs": [
        {
          "output_type": "stream",
          "name": "stdout",
          "text": [
            "(1, 'Mike')\n",
            "(4, 'Mason')\n",
            "(5, 'Abel')\n"
          ]
        }
      ]
    },
    {
      "cell_type": "markdown",
      "source": [
        "# **Select Statement**"
      ],
      "metadata": {
        "id": "1noR9J9rbsvI"
      }
    },
    {
      "cell_type": "code",
      "source": [
        "for row in cursorObj.execute(\"SELECT position FROM employees\"):\n",
        "    print(row)\n"
      ],
      "metadata": {
        "colab": {
          "base_uri": "https://localhost:8080/"
        },
        "id": "RoVbZex6bcBx",
        "outputId": "e937f5ff-05bd-4917-fa04-235a84c6a3f0"
      },
      "execution_count": null,
      "outputs": [
        {
          "output_type": "stream",
          "name": "stdout",
          "text": [
            "('Manager',)\n",
            "('IT',)\n",
            "('Tech',)\n",
            "('CTO',)\n",
            "('CTO',)\n"
          ]
        }
      ]
    },
    {
      "cell_type": "code",
      "source": [
        "res = cursorObj.execute(\"SELECT name FROM employees\")\n",
        "res.fetchall()\n"
      ],
      "metadata": {
        "colab": {
          "base_uri": "https://localhost:8080/"
        },
        "id": "9og6G-AQb12j",
        "outputId": "447adda9-3a1d-421a-be5e-225b4f63603d"
      },
      "execution_count": null,
      "outputs": [
        {
          "output_type": "execute_result",
          "data": {
            "text/plain": [
              "[('Mike',), ('Jack',), ('Andrew',), ('Mason',), ('Abel',)]"
            ]
          },
          "metadata": {},
          "execution_count": 24
        }
      ]
    },
    {
      "cell_type": "code",
      "source": [
        "for row in cursorObj.execute(\"SELECT * FROM employees\"):\n",
        "    print(row)\n",
        "\n"
      ],
      "metadata": {
        "colab": {
          "base_uri": "https://localhost:8080/"
        },
        "id": "jZGlWNM5b7EW",
        "outputId": "61302a4a-3549-4116-fb6f-52157ad978f1"
      },
      "execution_count": null,
      "outputs": [
        {
          "output_type": "stream",
          "name": "stdout",
          "text": [
            "(1, 'Mike', 1000.0, 'Manager')\n",
            "(2, 'Jack', 850.0, 'IT')\n",
            "(3, 'Andrew', 900.0, 'Tech')\n",
            "(4, 'Mason', 1500.0, 'CTO')\n",
            "(5, 'Abel', 1000.0, 'CTO')\n"
          ]
        }
      ]
    },
    {
      "cell_type": "markdown",
      "source": [
        "# **LIMIT operator**"
      ],
      "metadata": {
        "id": "Fox_mrmocEg9"
      }
    },
    {
      "cell_type": "code",
      "source": [
        "# SELECT the first 2 rows of employees\n",
        "cursorObj.execute('SELECT * FROM employees LIMIT 2;')\n",
        "cursorObj.fetchall()\n"
      ],
      "metadata": {
        "colab": {
          "base_uri": "https://localhost:8080/"
        },
        "id": "7q4JDgvqcK86",
        "outputId": "d31df236-0d0e-486d-ff9f-48e5066018be"
      },
      "execution_count": null,
      "outputs": [
        {
          "output_type": "execute_result",
          "data": {
            "text/plain": [
              "[(1, 'Mike', 1000.0, 'Manager'), (2, 'Jack', 850.0, 'IT')]"
            ]
          },
          "metadata": {},
          "execution_count": 26
        }
      ]
    },
    {
      "cell_type": "code",
      "source": [
        "cursorObj.execute('SELECT id, name, salary FROM employees WHERE salary > 900.0')\n",
        "rows = cursorObj.fetchall()\n",
        "for row in rows:\n",
        "    print(row)\n"
      ],
      "metadata": {
        "id": "VvNIYgkzcRVp",
        "colab": {
          "base_uri": "https://localhost:8080/"
        },
        "outputId": "f9a2747b-7202-4ea0-b55f-a017aff95285"
      },
      "execution_count": null,
      "outputs": [
        {
          "output_type": "stream",
          "name": "stdout",
          "text": [
            "(1, 'Mike', 1000.0)\n",
            "(4, 'Mason', 1500.0)\n",
            "(5, 'Abel', 1000.0)\n"
          ]
        }
      ]
    },
    {
      "cell_type": "code",
      "source": [
        "cursorObj.execute('SELECT id, name, salary FROM employees WHERE salary > 500.0  LIMIT 2 OFFSET 1')\n",
        "rows = cursorObj.fetchall()\n",
        "for row in rows:\n",
        "    print(row)\n"
      ],
      "metadata": {
        "id": "eeMe1d_pcT6x",
        "colab": {
          "base_uri": "https://localhost:8080/"
        },
        "outputId": "c879ab6f-d848-4f82-ef28-1934b3b87df4"
      },
      "execution_count": null,
      "outputs": [
        {
          "output_type": "stream",
          "name": "stdout",
          "text": [
            "(2, 'Jack', 850.0)\n",
            "(3, 'Andrew', 900.0)\n"
          ]
        }
      ]
    },
    {
      "cell_type": "markdown",
      "source": [
        "# **OFFSET operator**"
      ],
      "metadata": {
        "id": "SEOQhRLDcZJY"
      }
    },
    {
      "cell_type": "code",
      "source": [
        "# SELECT the first 2 rows of employees starting from third row\n",
        "cursorObj.execute('SELECT * FROM employees LIMIT 2 OFFSET 2')\n",
        "cursorObj.fetchall()\n"
      ],
      "metadata": {
        "colab": {
          "base_uri": "https://localhost:8080/"
        },
        "id": "ll3naB1FcfKc",
        "outputId": "dbdc5506-9e67-4de0-83a9-a0da02f0a770"
      },
      "execution_count": null,
      "outputs": [
        {
          "output_type": "execute_result",
          "data": {
            "text/plain": [
              "[(3, 'Andrew', 900.0, 'Tech'), (4, 'Mason', 1500.0, 'CTO')]"
            ]
          },
          "metadata": {},
          "execution_count": 29
        }
      ]
    },
    {
      "cell_type": "markdown",
      "source": [
        "# **LIKE operator**"
      ],
      "metadata": {
        "id": "6NpJKQkOcm3f"
      }
    },
    {
      "cell_type": "code",
      "source": [
        "cursorObj.execute('SELECT * from employees WHERE name LIKE \"%Ja%\" ')\n",
        "cursorObj.fetchall()"
      ],
      "metadata": {
        "colab": {
          "base_uri": "https://localhost:8080/"
        },
        "id": "dUPYppPBcluY",
        "outputId": "9f717d62-2521-4a8b-8d9d-ce76b92186cf"
      },
      "execution_count": null,
      "outputs": [
        {
          "output_type": "execute_result",
          "data": {
            "text/plain": [
              "[(2, 'Jack', 850.0, 'IT')]"
            ]
          },
          "metadata": {},
          "execution_count": 30
        }
      ]
    },
    {
      "cell_type": "code",
      "source": [
        "cursorObj.execute('SELECT * from employees WHERE name LIKE \"%Ab%\" ')\n",
        "cursorObj.fetchall()"
      ],
      "metadata": {
        "id": "X1jjcYEYc1OF",
        "colab": {
          "base_uri": "https://localhost:8080/"
        },
        "outputId": "29088be1-b5db-4ad2-fab9-cc1623447106"
      },
      "execution_count": null,
      "outputs": [
        {
          "output_type": "execute_result",
          "data": {
            "text/plain": [
              "[(5, 'Abel', 1000.0, 'CTO')]"
            ]
          },
          "metadata": {},
          "execution_count": 31
        }
      ]
    },
    {
      "cell_type": "code",
      "source": [
        "cursorObj.execute('SELECT * from employees WHERE salary LIKE \"1%\" ')\n",
        "cursorObj.fetchall()\n"
      ],
      "metadata": {
        "colab": {
          "base_uri": "https://localhost:8080/"
        },
        "id": "GZUbJLn9cw6I",
        "outputId": "182f7445-eb9f-411d-962c-3991b69fd65c"
      },
      "execution_count": null,
      "outputs": [
        {
          "output_type": "execute_result",
          "data": {
            "text/plain": [
              "[(1, 'Mike', 1000.0, 'Manager'),\n",
              " (4, 'Mason', 1500.0, 'CTO'),\n",
              " (5, 'Abel', 1000.0, 'CTO')]"
            ]
          },
          "metadata": {},
          "execution_count": 32
        }
      ]
    },
    {
      "cell_type": "markdown",
      "source": [
        "## **11/08/23**"
      ],
      "metadata": {
        "id": "ME_G5KLnoZGQ"
      }
    },
    {
      "cell_type": "markdown",
      "source": [
        "# **Example**"
      ],
      "metadata": {
        "id": "RswJA_V2MQMH"
      }
    },
    {
      "cell_type": "code",
      "source": [
        "cities=[\n",
        "        (\"Liberty City\", \"New York\"),\n",
        "        (\"Vice City\", \"Miami\"),\n",
        "        (\"Los Santos\", \"Los Angeles\")\n",
        "]\n",
        "\n",
        "release_list = [\n",
        "    (1997, \"Grand Theft Auto\", \"state of New Guernsey\"),\n",
        "    (1999, \"Grand Theft Auto 2\", \"Anywhere, USA\"),\n",
        "    (2001, \"Grand Theft Auto III\", \"Liberty City\"),\n",
        "    (2002, \"Grand Theft Auto: Vice City\", \"Vice City\"),\n",
        "    (2004, \"Grand Theft Auto: San Andreas\", \"state of San Andreas\"),\n",
        "    (2008, \"Grand Theft Auto IV\", \"Liberty City\"),\n",
        "    (2013, \"Grand Theft Auto V\", \"Los Santos\")\n",
        "]"
      ],
      "metadata": {
        "id": "lLVw0vdmMP3A"
      },
      "execution_count": null,
      "outputs": []
    },
    {
      "cell_type": "code",
      "source": [
        "##import libraries\n",
        "import sqlite3\n",
        "\n",
        "## stablish connection\n",
        "#connection=sqlite3.Connection('gta.db')\n",
        "\n",
        "## set a coursor to the connection\n",
        "#cursor=connection.cursor()\n",
        "#cursor\n",
        "##Create a table\n",
        "#cursor.execute(\"create table gta (release_year integer, release_title text, city text)\")\n",
        "\n",
        "##Verify table\n",
        "\n",
        "\n",
        "\n",
        "sqlite_table_schema(connection, \"gta\")\n",
        "## Populating the table (Insert)\n",
        "\n",
        "#cursor.executemany(\"insert into gta values (?,?,?)\", release_list)\n",
        "## Print database row\n",
        "cursor.execute(\"select * from gta\").fetchall()\n",
        "#for record in cursor.execute(\"select * from gta\"):\n",
        "#  print(record)\n",
        "\n",
        "#### Select where\n",
        "print(\"**********\")\n",
        "cursor.execute(\"select release_year from gta where city like 'Lib%'\").fetchall()\n",
        "\n",
        "\n",
        "### create another table\n",
        "#cursor.execute(\"create table cities (gta_city text, real_city text)\")\n",
        "#cursor.executemany(\"insert into cities values (?,?)\", cities)\n",
        "\n",
        "\n",
        "\n",
        "### verify new table\n",
        "print(\"**********\")\n",
        "\n",
        "res=cursor.execute(\"select name from sqlite_master\")\n",
        "print(res.fetchall())\n",
        "\n",
        "\n",
        "\n",
        "cursor.execute(\"select * from gta where city='Liberty City'\")\n",
        "gta_search=cursor.fetchall()\n",
        "print(gta_search)\n",
        "#### Select where in new table\n",
        "#print(\"**********\")\n",
        "cursor.execute(\"select * from cities where gta_city='Liberty City'\")\n",
        "city_search=cursor.fetchall()\n",
        "print(city_search)\n",
        "\n",
        "##adjust name in gta\n",
        "#print(\"**********\")\n",
        "\n",
        "print(\"**********\")\n",
        "for record in gta_search:\n",
        "  adjusted=[city_search[0][1] if city_search[0][0]==value else value for value in record]\n",
        "  print(adjusted)\n",
        "\n",
        "\n",
        "#connection.close()"
      ],
      "metadata": {
        "id": "LygWcHB-hxDP",
        "colab": {
          "base_uri": "https://localhost:8080/"
        },
        "outputId": "08cec721-6782-4812-b900-10ff1f859f44"
      },
      "execution_count": null,
      "outputs": [
        {
          "output_type": "stream",
          "name": "stdout",
          "text": [
            "**********\n",
            "**********\n",
            "[('gta',), ('cities',)]\n",
            "[(2001, 'Grand Theft Auto III', 'Liberty City'), (2008, 'Grand Theft Auto IV', 'Liberty City'), (2001, 'Grand Theft Auto III', 'Liberty City'), (2008, 'Grand Theft Auto IV', 'Liberty City')]\n",
            "[('Liberty City', 'New York')]\n",
            "**********\n",
            "[2001, 'Grand Theft Auto III', 'New York']\n",
            "[2008, 'Grand Theft Auto IV', 'New York']\n",
            "[2001, 'Grand Theft Auto III', 'New York']\n",
            "[2008, 'Grand Theft Auto IV', 'New York']\n"
          ]
        }
      ]
    },
    {
      "cell_type": "code",
      "source": [
        "city_search"
      ],
      "metadata": {
        "colab": {
          "base_uri": "https://localhost:8080/"
        },
        "id": "ABr6rm3X13nR",
        "outputId": "323f88c6-ea7e-4a94-f824-34058d8e6a02"
      },
      "execution_count": null,
      "outputs": [
        {
          "output_type": "execute_result",
          "data": {
            "text/plain": [
              "[('Liberty City', 'New York')]"
            ]
          },
          "metadata": {},
          "execution_count": 49
        }
      ]
    },
    {
      "cell_type": "code",
      "source": [
        "gta_search"
      ],
      "metadata": {
        "colab": {
          "base_uri": "https://localhost:8080/"
        },
        "id": "BjiAPstq1v1S",
        "outputId": "38945ae7-2ef5-4143-fe53-dd8ace82d5d7"
      },
      "execution_count": null,
      "outputs": [
        {
          "output_type": "execute_result",
          "data": {
            "text/plain": [
              "[(2001, 'Grand Theft Auto III', 'Liberty City'),\n",
              " (2008, 'Grand Theft Auto IV', 'Liberty City'),\n",
              " (2001, 'Grand Theft Auto III', 'Liberty City'),\n",
              " (2008, 'Grand Theft Auto IV', 'Liberty City')]"
            ]
          },
          "metadata": {},
          "execution_count": 48
        }
      ]
    },
    {
      "cell_type": "code",
      "source": [
        "# @title\n",
        "##import libraries\n",
        "import sqlite3\n",
        "\n",
        "## stablish connection\n",
        "connection=sqlite3.Connection('gta.db')\n",
        "\n",
        "## set a coursor to the connection\n",
        "cursor=connection.cursor()\n",
        "#cursor\n",
        "##Create a table\n",
        "cursor.execute(\"create table gta (release_year integer, release_name text, city text)\")\n",
        "\n",
        "##Verify table\n",
        "sqlite_table_schema(connection, \"gta\")\n",
        "\n",
        "\n",
        "## Populating the table (Insert)\n",
        "cursor.executemany(\"insert into gta values (?,?,?)\", release_list)\n",
        "\n",
        "## Print database row\n",
        "#cursor.execute(\"select * from gta\").fetchall()\n",
        "\n",
        "for record in cursor.execute(\"select * from gta\"):\n",
        "  print(record)\n",
        "\n",
        "#### Select where\n",
        "print(\"**********\")\n",
        "#cursor.execute(\"select release_name from gta where city='Liberty City'\").fetchall()\n",
        "cursor.execute(\"select * from gta where city='Liberty City'\")\n",
        "gta_search=cursor.fetchall()\n",
        "print(gta_search)\n",
        "### create another table\n",
        "cursor.execute(\"create table cities (gta_city text, real_city text)\")\n",
        "cursor.executemany(\"insert into cities values (?,?)\", cities)\n",
        "\n",
        "res=cursor.execute(\"select name from sqlite_master\")\n",
        "\n",
        "\n",
        "### verify new table\n",
        "print(\"**********\")\n",
        "print(res.fetchall())\n",
        "\n",
        "#### Select where in new table\n",
        "print(\"**********\")\n",
        "cursor.execute(\"select * from cities where gta_city='Liberty City'\")\n",
        "city_search=cursor.fetchall()\n",
        "print(city_search)\n",
        "\n",
        "##adjust name in gta\n",
        "print(\"**********\")\n",
        "for record in gta_search:\n",
        "  adjusted=[city_search[0][1] if city_search[0][0]==value else value for value in record]\n",
        "  print(adjusted)\n",
        "\n",
        "#connection.close()"
      ],
      "metadata": {
        "colab": {
          "base_uri": "https://localhost:8080/"
        },
        "id": "bktVN6wV16gh",
        "outputId": "ea7ec0fe-c410-49a6-8640-80c0626de450"
      },
      "execution_count": null,
      "outputs": [
        {
          "output_type": "stream",
          "name": "stdout",
          "text": [
            "(1997, 'Grand Theft Auto', 'state of New Guernsey')\n",
            "(1999, 'Grand Theft Auto 2', 'Anywhere, USA')\n",
            "(2001, 'Grand Theft Auto III', 'Liberty City')\n",
            "(2002, 'Grand Theft Auto: Vice City', 'Vice City')\n",
            "(2004, 'Grand Theft Auto: San Andreas', 'state of San Andreas')\n",
            "(2008, 'Grand Theft Auto IV', 'Liberty City')\n",
            "(2013, 'Grand Theft Auto V', 'Los Santos')\n",
            "**********\n",
            "[(2001, 'Grand Theft Auto III', 'Liberty City'), (2008, 'Grand Theft Auto IV', 'Liberty City')]\n",
            "**********\n",
            "[('gta',), ('cities',)]\n",
            "**********\n",
            "[('Liberty City', 'New York')]\n",
            "**********\n",
            "[2001, 'Grand Theft Auto III', 'New York']\n",
            "[2008, 'Grand Theft Auto IV', 'New York']\n"
          ]
        }
      ]
    },
    {
      "cell_type": "code",
      "source": [
        "gta_search"
      ],
      "metadata": {
        "colab": {
          "base_uri": "https://localhost:8080/"
        },
        "id": "yIhYKE1IFrUf",
        "outputId": "4dcff8eb-b590-4499-a1d7-1be9a10b5d3b"
      },
      "execution_count": null,
      "outputs": [
        {
          "output_type": "execute_result",
          "data": {
            "text/plain": [
              "[(2001, 'Grand Theft Auto III', 'Liberty City'),\n",
              " (2008, 'Grand Theft Auto IV', 'Liberty City')]"
            ]
          },
          "metadata": {},
          "execution_count": 85
        }
      ]
    },
    {
      "cell_type": "code",
      "source": [
        "def verRecord(connection, table):\n",
        "  cur=connection.cursor()\n",
        "  for record in cur.execute(f\"select * from {table}\"):\n",
        "    print(record)\n",
        "  #connection.close()"
      ],
      "metadata": {
        "id": "SnzAjRlNKhBQ"
      },
      "execution_count": null,
      "outputs": []
    },
    {
      "cell_type": "code",
      "source": [
        "verRecord(connection, \"gta\")"
      ],
      "metadata": {
        "colab": {
          "base_uri": "https://localhost:8080/"
        },
        "id": "38Qn3ww7KhEH",
        "outputId": "4d51671e-475f-44b5-abdd-a0732f4e94a9"
      },
      "execution_count": null,
      "outputs": [
        {
          "output_type": "stream",
          "name": "stdout",
          "text": [
            "(1997, 'Grand Theft Auto', 'state of New Guernsey')\n",
            "(1999, 'Grand Theft Auto 2', 'Anywhere, USA')\n",
            "(2001, 'Grand Theft Auto III', 'Liberty City')\n",
            "(2002, 'Grand Theft Auto: Vice City', 'Vice City')\n",
            "(2004, 'Grand Theft Auto: San Andreas', 'state of San Andreas')\n",
            "(2008, 'Grand Theft Auto IV', 'Liberty City')\n",
            "(2013, 'Grand Theft Auto V', 'Los Santos')\n"
          ]
        }
      ]
    },
    {
      "cell_type": "code",
      "source": [],
      "metadata": {
        "id": "k_c--jV8KhGZ"
      },
      "execution_count": null,
      "outputs": []
    },
    {
      "cell_type": "markdown",
      "source": [],
      "metadata": {
        "id": "7XgfTYqFTXs6"
      }
    },
    {
      "cell_type": "code",
      "source": [],
      "metadata": {
        "id": "zdYzSzH_hwz4"
      },
      "execution_count": null,
      "outputs": []
    },
    {
      "cell_type": "markdown",
      "source": [
        "# Pop-up question\n",
        "In the following table, what would be the command if you want to display all the records from employees table where ADDRESS starts with ‘T’ and order the query by salary.\n",
        "\n",
        "\n",
        "![image.png](data:image/png;base64,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)"
      ],
      "metadata": {
        "id": "z970Z_Vrb3jx"
      }
    },
    {
      "cell_type": "code",
      "source": [
        "employees_new=[\n",
        "    (1, \"Paul\", 32, \"Califorania\", 30000.0),\n",
        "    (2, \"Allen\", 25, \"Texas\", 15000.0),\n",
        "    (3, \"Teddy\", 23, \"Norway\", 120000.0),\n",
        "    (4, \"Mark\", 25, \"Rich-Mond\", 5000.0),\n",
        "    (5, \"David\", 27, \"Texas\", 8000.0),\n",
        "]"
      ],
      "metadata": {
        "id": "rwNuzcX7hwvv"
      },
      "execution_count": null,
      "outputs": []
    },
    {
      "cell_type": "code",
      "source": [
        "\n",
        "# create new table\n",
        "cursorObj.execute(\"CREATE TABLE employees_new(id integer PRIMARY KEY, name text, age integer, address text, salary real)\")\n",
        "cursorObj.executemany(\"INSERT INTO employees_new VALUES(?, ?, ?, ?, ?)\", employees_new)\n",
        "con.commit()  # Remember to commit the transaction after executing INSERT.\n",
        "\n"
      ],
      "metadata": {
        "id": "DRc0HHEjhwrv"
      },
      "execution_count": null,
      "outputs": []
    },
    {
      "cell_type": "code",
      "source": [
        "search_emp=cursorObj.execute(\"Select * from employees_new\")\n",
        "search_emp.fetchall()\n"
      ],
      "metadata": {
        "id": "bU2JyVnihwqA",
        "colab": {
          "base_uri": "https://localhost:8080/"
        },
        "outputId": "a8930191-4276-462c-aab2-13695f2dfeb0"
      },
      "execution_count": null,
      "outputs": [
        {
          "output_type": "execute_result",
          "data": {
            "text/plain": [
              "[(1, 'Paul', 32, 'Califorania', 30000.0),\n",
              " (2, 'Allen', 25, 'Texas', 15000.0),\n",
              " (3, 'Teddy', 23, 'Norway', 120000.0),\n",
              " (4, 'Mark', 25, 'Rich-Mond', 5000.0),\n",
              " (5, 'David', 27, 'Texas', 8000.0)]"
            ]
          },
          "metadata": {},
          "execution_count": 53
        }
      ]
    },
    {
      "cell_type": "code",
      "source": [
        "for emp in cursorObj.execute(\"Select * from employees_new\"):\n",
        "  print(emp)\n"
      ],
      "metadata": {
        "id": "kbxtjw2ghwny",
        "colab": {
          "base_uri": "https://localhost:8080/"
        },
        "outputId": "2e99ecc4-f0a5-4aae-cc5b-8de000b6a969"
      },
      "execution_count": null,
      "outputs": [
        {
          "output_type": "stream",
          "name": "stdout",
          "text": [
            "(1, 'Paul', 32, 'Califorania', 30000.0)\n",
            "(2, 'Allen', 25, 'Texas', 15000.0)\n",
            "(3, 'Teddy', 23, 'Norway', 120000.0)\n",
            "(4, 'Mark', 25, 'Rich-Mond', 5000.0)\n",
            "(5, 'David', 27, 'Texas', 8000.0)\n"
          ]
        }
      ]
    },
    {
      "cell_type": "code",
      "source": [
        "search=cursorObj.execute(\"Select * from employees_new where address like 'T%' order by salary \")\n",
        "print(search.fetchall())"
      ],
      "metadata": {
        "id": "y6cOjfyshwlQ",
        "colab": {
          "base_uri": "https://localhost:8080/"
        },
        "outputId": "9e26a9c5-f834-40f5-e07e-29e808d539aa"
      },
      "execution_count": null,
      "outputs": [
        {
          "output_type": "stream",
          "name": "stdout",
          "text": [
            "[(5, 'David', 27, 'Texas', 8000.0), (2, 'Allen', 25, 'Texas', 15000.0)]\n"
          ]
        }
      ]
    },
    {
      "cell_type": "code",
      "source": [],
      "metadata": {
        "id": "IJBVKyIcMpiP"
      },
      "execution_count": null,
      "outputs": []
    },
    {
      "cell_type": "markdown",
      "source": [
        "# **Longer Queries**\n",
        "+ For longer queries, it helps to format them like this, with each SQL command on a separate line:\n"
      ],
      "metadata": {
        "id": "Ncq45HQjfiA_"
      }
    },
    {
      "cell_type": "code",
      "source": [
        "cursorObj.execute(\"select name, salary, position from employees where salary >= 1000 limit 2 offset 1\")\n",
        "#cursorObj.execute(query)\n",
        "cursorObj.fetchall()\n"
      ],
      "metadata": {
        "id": "JDv1D1WKhwiv",
        "colab": {
          "base_uri": "https://localhost:8080/"
        },
        "outputId": "fea4d1ec-45c4-4804-d384-cd1b52a5a3a0"
      },
      "execution_count": null,
      "outputs": [
        {
          "output_type": "execute_result",
          "data": {
            "text/plain": [
              "[('Mason', 1500.0, 'CTO'), ('Abel', 1000.0, 'CTO')]"
            ]
          },
          "metadata": {},
          "execution_count": 56
        }
      ]
    },
    {
      "cell_type": "code",
      "source": [
        "query='''\n",
        "select name, salary, position\n",
        "from employees\n",
        "where salary >= 1000\n",
        "limit 2 offset 1\n",
        "'''\n",
        "cursorObj.execute(query)\n",
        "cursorObj.fetchall()"
      ],
      "metadata": {
        "colab": {
          "base_uri": "https://localhost:8080/"
        },
        "id": "unACiB4W3Iza",
        "outputId": "468413a9-3264-49bd-c818-b98cfde8a7be"
      },
      "execution_count": null,
      "outputs": [
        {
          "output_type": "execute_result",
          "data": {
            "text/plain": [
              "[('Mason', 1500.0, 'CTO'), ('Abel', 1000.0, 'CTO')]"
            ]
          },
          "metadata": {},
          "execution_count": 57
        }
      ]
    },
    {
      "cell_type": "markdown",
      "source": [
        "#  **GROUP BY clause**\n",
        "+ The GROUP BY clause is an optional clause of the SELECT statement. The GROUP BY clause selects a group of rows into summary rows by values of one or more columns.\n",
        "+ The GROUP BY clause returns one row for each group. For each group, you can apply an aggregate function such as MIN, MAX, SUM, COUNT, or AVG to provide more information about each group.\n"
      ],
      "metadata": {
        "id": "5aM96so8gikA"
      }
    },
    {
      "cell_type": "code",
      "source": [
        "cursorObj.execute('SELECT Count(name), address from employees_new GROUP BY address')\n",
        "rows = cursorObj.fetchall()\n",
        "for row in rows:\n",
        "    print(row)\n"
      ],
      "metadata": {
        "id": "qGPaqEhGV3Th",
        "colab": {
          "base_uri": "https://localhost:8080/"
        },
        "outputId": "3fa85bcd-50a9-4b77-8c4f-2b5ff4e88e28"
      },
      "execution_count": null,
      "outputs": [
        {
          "output_type": "stream",
          "name": "stdout",
          "text": [
            "(1, 'Califorania')\n",
            "(1, 'Norway')\n",
            "(1, 'Rich-Mond')\n",
            "(2, 'Texas')\n"
          ]
        }
      ]
    },
    {
      "cell_type": "code",
      "source": [
        "cursorObj.execute('SELECT SUM(salary), address from employees_new GROUP BY address')\n",
        "rows = cursorObj.fetchall()\n",
        "for row in rows:\n",
        "    print(row)\n"
      ],
      "metadata": {
        "id": "xY1zUhxYV3Wh",
        "colab": {
          "base_uri": "https://localhost:8080/"
        },
        "outputId": "6df0f3c6-e2c8-479d-8919-e4d5ebc5cee8"
      },
      "execution_count": null,
      "outputs": [
        {
          "output_type": "stream",
          "name": "stdout",
          "text": [
            "(30000.0, 'Califorania')\n",
            "(120000.0, 'Norway')\n",
            "(5000.0, 'Rich-Mond')\n",
            "(23000.0, 'Texas')\n"
          ]
        }
      ]
    },
    {
      "cell_type": "markdown",
      "source": [
        "# **DISTINCT operator**\n",
        "+ SQLite DISTINCT keyword is used in conjunction with SELECT statement to eliminate all the duplicate records and fetch only the unique records.\n",
        "+ Consider emp table with the following records.\n"
      ],
      "metadata": {
        "id": "QCY5aALciK51"
      }
    },
    {
      "cell_type": "code",
      "source": [
        "cursorObj.execute('Insert into employees_new values (6, \"David\", 32, \"Michigan\", 9000.0)')\n",
        "con.commit()\n",
        "\n",
        "for row in cursorObj.execute(\"select * from employees_new\"):\n",
        "  print(row)"
      ],
      "metadata": {
        "id": "Ylpll9bQV3ZI",
        "colab": {
          "base_uri": "https://localhost:8080/"
        },
        "outputId": "62357988-857f-4769-a780-4908c383b963"
      },
      "execution_count": null,
      "outputs": [
        {
          "output_type": "stream",
          "name": "stdout",
          "text": [
            "(1, 'Paul', 32, 'Califorania', 30000.0)\n",
            "(2, 'Allen', 25, 'Texas', 15000.0)\n",
            "(3, 'Teddy', 23, 'Norway', 120000.0)\n",
            "(4, 'Mark', 25, 'Rich-Mond', 5000.0)\n",
            "(5, 'David', 27, 'Texas', 8000.0)\n",
            "(6, 'David', 32, 'Michigan', 9000.0)\n"
          ]
        }
      ]
    },
    {
      "cell_type": "code",
      "source": [
        "cursorObj.execute(\"SELECT DISTINCT name FROM employees_new\")\n",
        "cursorObj.fetchall()\n"
      ],
      "metadata": {
        "id": "3fGSrou2V3bh",
        "colab": {
          "base_uri": "https://localhost:8080/"
        },
        "outputId": "a18b7b6e-50f2-41a6-aa01-2ad014cb94c1"
      },
      "execution_count": null,
      "outputs": [
        {
          "output_type": "execute_result",
          "data": {
            "text/plain": [
              "[('Paul',), ('Allen',), ('Teddy',), ('Mark',), ('David',)]"
            ]
          },
          "metadata": {},
          "execution_count": 64
        }
      ]
    },
    {
      "cell_type": "code",
      "source": [
        "cursorObj.execute(\"SELECT DISTINCT address FROM employees_new\")\n",
        "cursorObj.fetchall()\n"
      ],
      "metadata": {
        "colab": {
          "base_uri": "https://localhost:8080/"
        },
        "id": "NL0RRWuhixp4",
        "outputId": "a98568e6-d21f-4437-dc93-095699bca543"
      },
      "execution_count": null,
      "outputs": [
        {
          "output_type": "execute_result",
          "data": {
            "text/plain": [
              "[('Califorania',), ('Texas',), ('Norway',), ('Rich-Mond',), ('Michigan',)]"
            ]
          },
          "metadata": {},
          "execution_count": 65
        }
      ]
    },
    {
      "cell_type": "markdown",
      "source": [
        "# **The AND / OR Operator**\n",
        "+ SQLite AND & OR operators are used to compile multiple conditions to narrow down the selected data in an SQLite statement.\n",
        "+ Consider COMPANY table with the following records.\n"
      ],
      "metadata": {
        "id": "y9Mv03Cxi9XL"
      }
    },
    {
      "cell_type": "markdown",
      "source": [
        "+ Query  salary >= 10000 AND age <= 25\n"
      ],
      "metadata": {
        "id": "PnEiY5qljDR3"
      }
    },
    {
      "cell_type": "code",
      "source": [
        "cursorObj.execute('SELECT * FROM employees_new WHERE salary >= 10000 AND age <= 25').fetchall()\n"
      ],
      "metadata": {
        "colab": {
          "base_uri": "https://localhost:8080/"
        },
        "id": "jIQG6Xcoixmv",
        "outputId": "85d48b0b-b89c-4b7d-86c8-b049b0efecf2"
      },
      "execution_count": null,
      "outputs": [
        {
          "output_type": "execute_result",
          "data": {
            "text/plain": [
              "[(2, 'Allen', 25, 'Texas', 15000.0), (3, 'Teddy', 23, 'Norway', 120000.0)]"
            ]
          },
          "metadata": {},
          "execution_count": 66
        }
      ]
    },
    {
      "cell_type": "markdown",
      "source": [
        "Query  salary >= 12000 OR age > 25\n"
      ],
      "metadata": {
        "id": "vu71np19jH53"
      }
    },
    {
      "cell_type": "code",
      "source": [
        "cursorObj.execute('SELECT * FROM employees_new WHERE salary >= 12000 OR age > 25')#.fetchall()\n"
      ],
      "metadata": {
        "colab": {
          "base_uri": "https://localhost:8080/"
        },
        "id": "4xZsMiHyixef",
        "outputId": "b8deb1cb-0f20-4168-96dc-22354ac29035"
      },
      "execution_count": null,
      "outputs": [
        {
          "output_type": "execute_result",
          "data": {
            "text/plain": [
              "<sqlite3.Cursor at 0x7a092c3b8fc0>"
            ]
          },
          "metadata": {},
          "execution_count": 69
        }
      ]
    },
    {
      "cell_type": "markdown",
      "source": [
        "# **SQLite3 rowcount**\n",
        "+ The SQLite3 rowcount is used to return the number of rows that are selected by the latest executed SQL query.\n",
        "+ To retrieve the total row count, we need to fetch all the data, and then get the length of the result:\n"
      ],
      "metadata": {
        "id": "ZqGI-GpdjhRI"
      }
    },
    {
      "cell_type": "code",
      "source": [
        "rows = cursorObj.fetchall()\n",
        "print(len (rows))\n"
      ],
      "metadata": {
        "colab": {
          "base_uri": "https://localhost:8080/"
        },
        "id": "jirSNaS6ixbo",
        "outputId": "907a7d12-f10d-4696-cbab-24039fd632c4"
      },
      "execution_count": null,
      "outputs": [
        {
          "output_type": "stream",
          "name": "stdout",
          "text": [
            "5\n"
          ]
        }
      ]
    },
    {
      "cell_type": "markdown",
      "source": [
        "# **Check if a table exists or not**\n",
        "+ When creating a table, we should make sure that the table is not already existed.\n",
        "+ To check if the table doesn’t already exist, we use “if not exists” with the CREATE TABLE statement as follows:\n"
      ],
      "metadata": {
        "id": "gL-2UUX3j1KH"
      }
    },
    {
      "cell_type": "code",
      "source": [
        "cursorObj.execute('create table if not exists students(id integer, name text)')"
      ],
      "metadata": {
        "colab": {
          "base_uri": "https://localhost:8080/"
        },
        "id": "oPKRGnhqixZC",
        "outputId": "3d1b37cf-e327-4f43-8556-74cfc08b2754"
      },
      "execution_count": null,
      "outputs": [
        {
          "output_type": "execute_result",
          "data": {
            "text/plain": [
              "<sqlite3.Cursor at 0x7a092c3b8fc0>"
            ]
          },
          "metadata": {},
          "execution_count": 71
        }
      ]
    },
    {
      "cell_type": "markdown",
      "source": [
        "+ Verify the new table:\n"
      ],
      "metadata": {
        "id": "CxUfbkppkA3v"
      }
    },
    {
      "cell_type": "code",
      "source": [
        "cursorObj.execute(\"SELECT name FROM sqlite_master\")\n",
        "print(cursorObj.fetchall())"
      ],
      "metadata": {
        "colab": {
          "base_uri": "https://localhost:8080/"
        },
        "id": "VB1p4nleixWs",
        "outputId": "988df631-bddc-4b80-f96e-529fe0b22b07"
      },
      "execution_count": null,
      "outputs": [
        {
          "output_type": "stream",
          "name": "stdout",
          "text": [
            "[('employees',), ('employees_new',), ('students',)]\n"
          ]
        }
      ]
    },
    {
      "cell_type": "markdown",
      "source": [
        "# **Drop table**\n",
        "+ To check if the table exists when deleting, we use “if exists” with the DROP TABLE statement as follows:\n"
      ],
      "metadata": {
        "id": "93rzVdhlkKDf"
      }
    },
    {
      "cell_type": "code",
      "source": [
        "cursorObj.execute('DROP TABLE if exists students')\n"
      ],
      "metadata": {
        "colab": {
          "base_uri": "https://localhost:8080/"
        },
        "id": "PXHZz7f4ixUg",
        "outputId": "d7242d75-2a05-44ed-f763-32630681cdd6"
      },
      "execution_count": null,
      "outputs": [
        {
          "output_type": "execute_result",
          "data": {
            "text/plain": [
              "<sqlite3.Cursor at 0x7a092c3b8fc0>"
            ]
          },
          "metadata": {},
          "execution_count": 73
        }
      ]
    },
    {
      "cell_type": "markdown",
      "source": [
        "+ Verify if dropped:\n"
      ],
      "metadata": {
        "id": "5X43B9tPkQ6o"
      }
    },
    {
      "cell_type": "code",
      "source": [
        "cursorObj.execute(\"SELECT name FROM sqlite_master\")\n",
        "print(cursorObj.fetchall())\n"
      ],
      "metadata": {
        "colab": {
          "base_uri": "https://localhost:8080/"
        },
        "id": "acj2ZCNhixSR",
        "outputId": "1b65c2fa-8c82-4432-eced-3196346e6c64"
      },
      "execution_count": null,
      "outputs": [
        {
          "output_type": "stream",
          "name": "stdout",
          "text": [
            "[('employees',), ('employees_new',)]\n"
          ]
        }
      ]
    },
    {
      "cell_type": "markdown",
      "source": [
        "# **DELETE Query**\n",
        "+ SQLite DELETE Query is used to delete the existing records from a table.\n",
        "+ We can use WHERE clause with DELETE query to delete the selected rows, otherwise, all the records would be deleted.\n",
        "+ Consider *employees_new* table with the following records.\n",
        "\n",
        "+ If we want to DELETE an employee row whose ID is 3.\n"
      ],
      "metadata": {
        "id": "s4-sGgyvkbWR"
      }
    },
    {
      "cell_type": "code",
      "source": [
        "def verifyRecords(con, table):\n",
        "  cur=con.cursor()\n",
        "  for emp in cur.execute(f\"select id from {table}\"):\n",
        "    print(emp)\n",
        "\n",
        "verifyRecords(con, \"employees_new\")"
      ],
      "metadata": {
        "colab": {
          "base_uri": "https://localhost:8080/"
        },
        "id": "r-UZjOWNkwTv",
        "outputId": "2598a440-efb5-4381-a475-ece85c6b8963"
      },
      "execution_count": null,
      "outputs": [
        {
          "output_type": "stream",
          "name": "stdout",
          "text": [
            "(1,)\n",
            "(2,)\n",
            "(3,)\n",
            "(4,)\n",
            "(5,)\n",
            "(6,)\n"
          ]
        }
      ]
    },
    {
      "cell_type": "code",
      "source": [
        "for emp in cursorObj.execute(\"select id from employees_new\"):\n",
        "  print(emp)"
      ],
      "metadata": {
        "colab": {
          "base_uri": "https://localhost:8080/"
        },
        "id": "4_r9TFFJnVrg",
        "outputId": "bbdcd9a6-7b38-46c3-e49e-1c359551d273"
      },
      "execution_count": null,
      "outputs": [
        {
          "output_type": "stream",
          "name": "stdout",
          "text": [
            "(1,)\n",
            "(2,)\n",
            "(3,)\n",
            "(4,)\n",
            "(5,)\n",
            "(6,)\n"
          ]
        }
      ]
    },
    {
      "cell_type": "code",
      "source": [
        "cursorObj.execute('DELETE FROM employees_new WHERE ID = 3')\n"
      ],
      "metadata": {
        "colab": {
          "base_uri": "https://localhost:8080/"
        },
        "id": "84zIfWYAixQH",
        "outputId": "ce691008-507b-499f-d831-0991b27ac692"
      },
      "execution_count": null,
      "outputs": [
        {
          "output_type": "execute_result",
          "data": {
            "text/plain": [
              "<sqlite3.Cursor at 0x7a092c3b8fc0>"
            ]
          },
          "metadata": {},
          "execution_count": 76
        }
      ]
    },
    {
      "cell_type": "code",
      "source": [
        "for emp in cursorObj.execute(\"select id from employees_new\"):\n",
        "  print(emp)"
      ],
      "metadata": {
        "colab": {
          "base_uri": "https://localhost:8080/"
        },
        "id": "g5RqE6vYixNv",
        "outputId": "b045e5ac-ce6c-44d7-b3b3-aed3caf95490"
      },
      "execution_count": null,
      "outputs": [
        {
          "output_type": "stream",
          "name": "stdout",
          "text": [
            "(1,)\n",
            "(2,)\n",
            "(4,)\n",
            "(5,)\n",
            "(6,)\n"
          ]
        }
      ]
    },
    {
      "cell_type": "markdown",
      "source": [
        "# **Close Connection**\n",
        "+ Once done with database, it is a good practice to close the connection.\n",
        "+ We can close the connection by using the close() method.\n"
      ],
      "metadata": {
        "id": "iFyhtQNQne1R"
      }
    },
    {
      "cell_type": "code",
      "source": [
        "con = sqlite3.connect('mydatabase.db')\n",
        "con.close()\n"
      ],
      "metadata": {
        "id": "p596RT2AixLA"
      },
      "execution_count": null,
      "outputs": []
    },
    {
      "cell_type": "markdown",
      "source": [
        "**SQL databases give you several things that CSV files don't.**\n",
        "\n",
        "+ Working with data larger than you could fit in your process memory.\n",
        "\n",
        "+ Querying and Modifying Data faster than going over the entire dataset one by one (when using indexed columns)\n",
        "\n",
        "+ Creating relationships between different Tables, and querying and modifying things using that relationship.\n",
        "\n",
        "+ Working with a single data source safely from 2 or more processes.\n"
      ],
      "metadata": {
        "id": "k8Ojrj5cPVMn"
      }
    },
    {
      "cell_type": "code",
      "source": [],
      "metadata": {
        "id": "M1FiP4F3kqlQ"
      },
      "execution_count": null,
      "outputs": []
    },
    {
      "cell_type": "code",
      "source": [],
      "metadata": {
        "id": "WlOq04Vakqi5"
      },
      "execution_count": null,
      "outputs": []
    },
    {
      "cell_type": "code",
      "source": [],
      "metadata": {
        "id": "gTZ5LP-8kqgf"
      },
      "execution_count": null,
      "outputs": []
    },
    {
      "cell_type": "code",
      "source": [],
      "metadata": {
        "id": "q4qfoRCmkqeC"
      },
      "execution_count": null,
      "outputs": []
    },
    {
      "cell_type": "code",
      "source": [],
      "metadata": {
        "id": "YTaIKhG9kqbQ"
      },
      "execution_count": null,
      "outputs": []
    },
    {
      "cell_type": "code",
      "source": [
        "import sqlite3\n",
        "\n",
        "connection=sqlite3.connect(\"gta.db\")\n",
        "cursor=connection.cursor()\n",
        "cursor.execute(\"create table gta (release_year integer, release_name text, city text)\")\n",
        "\n",
        "\n",
        "cursor.executemany(\"insert into gta values (?,?,?)\", release_list)\n",
        "\n",
        "## print database rows\n",
        "for row in cursor.execute(\"select * from gta\"):\n",
        "  print(row)\n",
        "\n",
        "\n",
        "#### Select where\n",
        "print(\"**********\")\n",
        "cursor.execute(\"select * from gta where city ='Liberty City'\")\n",
        "gta_search=cursor.fetchall()\n",
        "print(gta_search)\n",
        "\n",
        "### create another table\n",
        "print(\"********\")\n",
        "cursor.execute(\"create table cities (gta_city text, real_city text)\")\n",
        "cursor.executemany(\"insert into cities values (?,?)\", cities)\n",
        "res = cursor.execute(\"SELECT name FROM sqlite_master\")\n",
        "\n",
        "print(res.fetchall())\n",
        "\n",
        "\n",
        "print(\"*******\")\n",
        "cursor.execute(\"select * from cities where gta_city='Liberty City'\")\n",
        "cities_search=cursor.fetchall()\n",
        "print(cities_search)\n",
        "\n",
        "print(\"*******\")\n",
        "for record in gta_search:\n",
        "  adjusted=[cities_search[0][1] if value==cities_search[0][0] else value for value in record]\n",
        "  print(adjusted)\n",
        "connection.close()"
      ],
      "metadata": {
        "colab": {
          "base_uri": "https://localhost:8080/"
        },
        "id": "8l9guto-MhAf",
        "outputId": "936b6e35-e950-4cae-da55-d4609621cee3"
      },
      "execution_count": null,
      "outputs": [
        {
          "output_type": "stream",
          "name": "stdout",
          "text": [
            "(1997, 'Grand Theft Auto', 'state of New Guernsey')\n",
            "(1999, 'Grand Theft Auto 2', 'Anywhere, USA')\n",
            "(2001, 'Grand Theft Auto III', 'Liberty City')\n",
            "(2002, 'Grand Theft Auto: Vice City', 'Vice City')\n",
            "(2004, 'Grand Theft Auto: San Andreas', 'state of San Andreas')\n",
            "(2008, 'Grand Theft Auto IV', 'Liberty City')\n",
            "(2013, 'Grand Theft Auto V', 'Los Santos')\n",
            "**********\n",
            "[(2001, 'Grand Theft Auto III', 'Liberty City'), (2008, 'Grand Theft Auto IV', 'Liberty City')]\n",
            "********\n",
            "[('gta',), ('cities',)]\n",
            "*******\n",
            "[('Liberty City', 'New York')]\n",
            "*******\n",
            "[2001, 'Grand Theft Auto III', 'New York']\n",
            "[2008, 'Grand Theft Auto IV', 'New York']\n"
          ]
        }
      ]
    }
  ]
}