{
  "nbformat": 4,
  "nbformat_minor": 0,
  "metadata": {
    "colab": {
      "provenance": []
    },
    "kernelspec": {
      "name": "python3",
      "display_name": "Python 3"
    },
    "language_info": {
      "name": "python"
    }
  },
  "cells": [
    {
      "cell_type": "markdown",
      "source": [
        "# **Database Access**\n",
        "\n",
        "+ Data are observations or measurements (unprocessed or processed) represented as text, numbers, or multimedia.\n",
        "+ A dataset is a structured collection of data generally associated with a unique body of work.\n",
        "+ A database is an organized collection of data stored as multiple datasets."
      ],
      "metadata": {
        "id": "LlKuuPCCTZxi"
      }
    },
    {
      "cell_type": "markdown",
      "source": [
        "# **SQLite**\n",
        "+ SQLite is a C library that provides a lightweight disk-based database that can provide a relational database management system with zero-configuration.\n",
        "+ SQLite is an embedded SQL database engine. Unlike most other SQL databases, SQLite does not have a separate server process.\n",
        "+ The SQLite project was started on 2000-05-09.\n",
        "+ SQLite database files are commonly used as containers to transfer rich content between systems.\n",
        "+ SQLite is built into all mobile phones and most computers.\n",
        "+ It can be used in many programming languages including Python\n",
        "+ We will use SQLite version 3 or SQLite3\n"
      ],
      "metadata": {
        "id": "Y-QeMVZFK7q4"
      }
    },
    {
      "cell_type": "markdown",
      "source": [
        "**In summary**:\n",
        "SQLite is a library used for quick and simple databases.\n",
        "\n",
        "+ quick: we dont need to setup an special data server for this :) - It is a serverless database\n",
        "+ simple: because it uses regular SQL commands (English instructions alike)\n",
        "\n"
      ],
      "metadata": {
        "id": "DneIzdOELdkg"
      }
    },
    {
      "cell_type": "markdown",
      "source": [
        "## **Create Connection and Database**\n",
        "+ First import the sqlite3 module and then create a connection object which will connect us to the database.\n",
        "+ Call sqlite3.connect() to create a connection to the database example.db in the current working directory.\n",
        "\n",
        "+ That will create a new file with the name ‘mydatabase.db’.\n",
        "+ The returned Connection object con represents the connection to the on-disk database.\n"
      ],
      "metadata": {
        "id": "oGgr1giVdbTY"
      }
    },
    {
      "cell_type": "code",
      "execution_count": 71,
      "metadata": {
        "id": "s_CldWw8WpYr"
      },
      "outputs": [],
      "source": [
        "import sqlite3\n",
        "\n",
        "con = sqlite3.connect('mydatabase.db')\n"
      ]
    },
    {
      "cell_type": "code",
      "source": [
        "con"
      ],
      "metadata": {
        "colab": {
          "base_uri": "https://localhost:8080/"
        },
        "id": "miJ3THZFftPx",
        "outputId": "8ca2f4bb-88d8-4aa1-8d49-51295d7ca2f2"
      },
      "execution_count": 72,
      "outputs": [
        {
          "output_type": "execute_result",
          "data": {
            "text/plain": [
              "<sqlite3.Connection at 0x7a98033f1c40>"
            ]
          },
          "metadata": {},
          "execution_count": 72
        }
      ]
    },
    {
      "cell_type": "markdown",
      "source": [
        "## **SQLite3 Cursor**\n",
        "+ In order to execute SQL statements and fetch results from SQL queries, we will need to use a database cursor.\n",
        "+ The SQLite3 cursor is a method of the connection object.\n",
        "+ Call con.cursor() to create the Cursor as follow:\n",
        "+ Now we can use the cursor object to call the execute() method to execute any SQL queries."
      ],
      "metadata": {
        "id": "3mRq6B2NdvCv"
      }
    },
    {
      "cell_type": "code",
      "source": [
        "cursorObj = con.cursor()"
      ],
      "metadata": {
        "id": "JBxtOb5UW7F1"
      },
      "execution_count": 73,
      "outputs": []
    },
    {
      "cell_type": "code",
      "source": [
        "cursorObj"
      ],
      "metadata": {
        "colab": {
          "base_uri": "https://localhost:8080/"
        },
        "id": "5LzbAzbNf5Dg",
        "outputId": "bbe453c7-dd29-4870-fd7b-a4c416bef161"
      },
      "execution_count": 74,
      "outputs": [
        {
          "output_type": "execute_result",
          "data": {
            "text/plain": [
              "<sqlite3.Cursor at 0x7a9803376740>"
            ]
          },
          "metadata": {},
          "execution_count": 74
        }
      ]
    },
    {
      "cell_type": "markdown",
      "source": [
        "## **Create a Table**\n",
        "+ To create a table in SQLite3, we can use the CREATE TABLE query in the execute() method. Consider the following steps:\n",
        "1) Create a connection object.\n",
        "2) From the connection object, create a cursor object.\n",
        "3) Using the cursor object, call the execute method with create table query as the parameter.\n",
        "+ Let’s create employees with the following attributes. Execute the CREATE TABLE statement by calling cursorObj.execute(...)\n",
        " + (id, name, salary, position)\n",
        "\n",
        "+ The PRIMARY KEY constraint uniquely identifies each record in a table.\n",
        "+ Specifying the data types is optional.\n"
      ],
      "metadata": {
        "id": "V5Y5V93sd5Mo"
      }
    },
    {
      "cell_type": "code",
      "source": [
        "cursorObj.execute(\"CREATE TABLE employees(id integer PRIMARY KEY, name text, salary real, position text)\")\n"
      ],
      "metadata": {
        "colab": {
          "base_uri": "https://localhost:8080/"
        },
        "id": "p61luFPaW7Ik",
        "outputId": "88f19f77-ff13-4621-e779-b4a6095421e2"
      },
      "execution_count": 75,
      "outputs": [
        {
          "output_type": "execute_result",
          "data": {
            "text/plain": [
              "<sqlite3.Cursor at 0x7a9803376740>"
            ]
          },
          "metadata": {},
          "execution_count": 75
        }
      ]
    },
    {
      "cell_type": "markdown",
      "source": [
        "## **Verify Table**\n",
        "+ We can verify that the newly created table by querying the sqlite_master table built-in to SQLite, which should now contain an entry for the employees table definition.\n",
        "+ Execute that query by calling cursorObj.execute(...), assign the result to res, and call res.fetchone() to fetch the resulting row:\n",
        "\n",
        "\n"
      ],
      "metadata": {
        "id": "cMVwq3KbeS1n"
      }
    },
    {
      "cell_type": "code",
      "source": [
        "res = cursorObj.execute(\"SELECT name FROM sqlite_master\")\n",
        "res.fetchone()[0]"
      ],
      "metadata": {
        "colab": {
          "base_uri": "https://localhost:8080/",
          "height": 35
        },
        "id": "HjeHc2vRW7Ld",
        "outputId": "84d1bfaa-80e1-4c55-9257-48476dab8fd4"
      },
      "execution_count": 76,
      "outputs": [
        {
          "output_type": "execute_result",
          "data": {
            "text/plain": [
              "'employees'"
            ],
            "application/vnd.google.colaboratory.intrinsic+json": {
              "type": "string"
            }
          },
          "metadata": {},
          "execution_count": 76
        }
      ]
    },
    {
      "cell_type": "markdown",
      "source": [
        "+ If we query sqlite_master for a non-existent table, res.fetchone() will return None:"
      ],
      "metadata": {
        "id": "PiG0WrnyeeJP"
      }
    },
    {
      "cell_type": "code",
      "source": [
        "res = cursorObj.execute(\"SELECT name FROM sqlite_master WHERE name='Cat' \")\n",
        "res.fetchone() is None"
      ],
      "metadata": {
        "colab": {
          "base_uri": "https://localhost:8080/"
        },
        "id": "lqJU-ljteddP",
        "outputId": "9f2ea6c2-0750-406f-b362-1f2d643f4cd8"
      },
      "execution_count": 77,
      "outputs": [
        {
          "output_type": "execute_result",
          "data": {
            "text/plain": [
              "True"
            ]
          },
          "metadata": {},
          "execution_count": 77
        }
      ]
    },
    {
      "cell_type": "code",
      "source": [
        "## Alternative option to verify a table\n",
        "cursorObj.execute(\"SELECT name FROM sqlite_master WHERE type='table';\")\n",
        "print(cursorObj.fetchall())"
      ],
      "metadata": {
        "id": "DZTCN3fNYPpT"
      },
      "execution_count": null,
      "outputs": []
    },
    {
      "cell_type": "code",
      "source": [
        "names = [description[0] for description in cursorObj.description]\n",
        "names"
      ],
      "metadata": {
        "id": "avySKevZZF93"
      },
      "execution_count": null,
      "outputs": []
    },
    {
      "cell_type": "code",
      "source": [
        "cursorObj.description"
      ],
      "metadata": {
        "id": "sBvsjaa0Y4wp"
      },
      "execution_count": null,
      "outputs": []
    },
    {
      "cell_type": "code",
      "source": [
        "def sqlite_table_schema(conn, name):\n",
        "    cursor = conn.execute(\"SELECT sql FROM sqlite_master WHERE name=?;\", [name])\n",
        "    sql = cursor.fetchone()[0]\n",
        "    cursor.close()\n",
        "    return sql"
      ],
      "metadata": {
        "id": "104C4iAPfpVf"
      },
      "execution_count": 78,
      "outputs": []
    },
    {
      "cell_type": "code",
      "source": [
        "print(sqlite_table_schema(con, 'employees'))"
      ],
      "metadata": {
        "colab": {
          "base_uri": "https://localhost:8080/"
        },
        "id": "dBZPkX8Wfp2X",
        "outputId": "7433e078-f5ab-46c8-d879-bdd6d3450a1b"
      },
      "execution_count": 79,
      "outputs": [
        {
          "output_type": "stream",
          "name": "stdout",
          "text": [
            "CREATE TABLE employees(id integer PRIMARY KEY, name text, salary real, position text)\n"
          ]
        }
      ]
    },
    {
      "cell_type": "markdown",
      "source": [
        "## **Insert in Table**\n",
        "+ To insert data in a table, we use the INSERT INTO statement. Consider the following line of code:\n"
      ],
      "metadata": {
        "id": "lVpafBJcevko"
      }
    },
    {
      "cell_type": "code",
      "source": [
        "cursorObj.execute(\"INSERT INTO employees VALUES(1, 'Mike', 1000, 'Manager') \")\n",
        "con.commit()"
      ],
      "metadata": {
        "id": "45inMceFZQ2T"
      },
      "execution_count": 80,
      "outputs": []
    },
    {
      "cell_type": "markdown",
      "source": [
        "+ The INSERT statement implicitly opens a transaction, which needs to be committed before changes are saved in the database (see Transaction control for details). Call con.commit() on the connection object to commit the transaction.\n",
        "+ We can verify that the data was inserted correctly by executing a SELECT query. Use the cursorObj.execute(...) to assign the result to res, and call res.fetchall() to return all resulting rows:\n"
      ],
      "metadata": {
        "id": "m0LQdegre2Gf"
      }
    },
    {
      "cell_type": "code",
      "source": [
        "res = cursorObj.execute(\"SELECT name FROM employees\")\n",
        "res.fetchall()"
      ],
      "metadata": {
        "colab": {
          "base_uri": "https://localhost:8080/"
        },
        "id": "nkdAlU_xZePu",
        "outputId": "a471e9b7-58c3-4a56-b8b4-3465ec10a2c3"
      },
      "execution_count": 84,
      "outputs": [
        {
          "output_type": "execute_result",
          "data": {
            "text/plain": [
              "[('Mike',)]"
            ]
          },
          "metadata": {},
          "execution_count": 84
        }
      ]
    },
    {
      "cell_type": "code",
      "source": [
        "res = cursorObj.execute(\"SELECT * FROM employees\")\n",
        "res.fetchone()"
      ],
      "metadata": {
        "colab": {
          "base_uri": "https://localhost:8080/"
        },
        "id": "m0eKRTkbZvKX",
        "outputId": "67efa3d1-7b4c-43dd-f43f-bd4b4e36e92b"
      },
      "execution_count": 86,
      "outputs": [
        {
          "output_type": "execute_result",
          "data": {
            "text/plain": [
              "(1, 'Mike', 1000.0, 'Manager')"
            ]
          },
          "metadata": {},
          "execution_count": 86
        }
      ]
    },
    {
      "cell_type": "markdown",
      "source": [
        "## **Insert more rows in Table**\n",
        "\n",
        " + We can insert three more rows by calling cur.executemany(...):\n",
        "+ We can use the question mark (?) as a placeholder for each value.\n"
      ],
      "metadata": {
        "id": "d_e-tfgYgUkP"
      }
    },
    {
      "cell_type": "code",
      "source": [
        "data = [\n",
        "    (2, 'Jack', 850, 'IT'),\n",
        "    (3, 'Andrew', 800, 'Tech'),\n",
        "    (4, 'Mason', 1500, 'CTO'),\n",
        "    (5, 'Abel', 1000, 'CTO'),\n",
        "]\n"
      ],
      "metadata": {
        "id": "Z-ArietUaLF6"
      },
      "execution_count": 87,
      "outputs": []
    },
    {
      "cell_type": "code",
      "source": [],
      "metadata": {
        "id": "3BUwetF2jcSx"
      },
      "execution_count": null,
      "outputs": []
    },
    {
      "cell_type": "code",
      "source": [
        "cursorObj.executemany(\"INSERT INTO employees VALUES(?, ?, ?,?)\", data)\n",
        "con.commit()  # Remember to commit the transaction after executing INSERT.\n"
      ],
      "metadata": {
        "id": "KxkKtV-qaLDD"
      },
      "execution_count": 88,
      "outputs": []
    },
    {
      "cell_type": "markdown",
      "source": [
        "+ Verify that the new rows by executing a SELECT query:\n"
      ],
      "metadata": {
        "id": "QD6eUyn3gn-n"
      }
    },
    {
      "cell_type": "code",
      "source": [
        "#for row in cursorObj.execute(\"SELECT name, salary, position FROM employees ORDER BY salary\"):\n",
        "for row in cursorObj.execute(\"SELECT name, salary FROM employees ORDER BY salary\"):\n",
        "    print(row)\n"
      ],
      "metadata": {
        "colab": {
          "base_uri": "https://localhost:8080/"
        },
        "id": "32HGOrueaqZq",
        "outputId": "66a1528f-6452-4186-c611-189d3e6c1731"
      },
      "execution_count": 91,
      "outputs": [
        {
          "output_type": "stream",
          "name": "stdout",
          "text": [
            "('Andrew', 800.0)\n",
            "('Jack', 850.0)\n",
            "('Mike', 1000.0)\n",
            "('Abel', 1000.0)\n",
            "('Mason', 1500.0)\n"
          ]
        }
      ]
    },
    {
      "cell_type": "markdown",
      "source": [
        "## **Update Table**\n",
        "+ To update the table, simply create a connection, then create a cursor object using the connection and finally use the UPDATE statement in the execute() method.\n",
        "+ Suppose we want to update the employee’s salary whose id equals 3, we will use the UPDATE statement for the employee whose id equals 3.\n",
        "+ The WHERE clause will be used as a condition to select this employee."
      ],
      "metadata": {
        "id": "D56UYMbxa10E"
      }
    },
    {
      "cell_type": "code",
      "source": [
        "cursorObj.execute('UPDATE employees SET salary = 900 where id = 3')\n",
        "con.commit()\n"
      ],
      "metadata": {
        "id": "X6BLhcAQaqWx"
      },
      "execution_count": 92,
      "outputs": []
    },
    {
      "cell_type": "markdown",
      "source": [
        "+ We now can verify the updated table by the statement:\n"
      ],
      "metadata": {
        "id": "kijQTwJDhCNo"
      }
    },
    {
      "cell_type": "code",
      "source": [
        "for row in cursorObj.execute(\"SELECT name, salary, position FROM employees order by salary\"):\n",
        "    print(row)\n"
      ],
      "metadata": {
        "colab": {
          "base_uri": "https://localhost:8080/"
        },
        "id": "60AKOTbYa6gE",
        "outputId": "a19717b8-a058-491e-a536-6e319146b951"
      },
      "execution_count": 93,
      "outputs": [
        {
          "output_type": "stream",
          "name": "stdout",
          "text": [
            "('Jack', 850.0, 'IT')\n",
            "('Andrew', 900.0, 'Tech')\n",
            "('Mike', 1000.0, 'Manager')\n",
            "('Abel', 1000.0, 'CTO')\n",
            "('Mason', 1500.0, 'CTO')\n"
          ]
        }
      ]
    },
    {
      "cell_type": "markdown",
      "source": [
        "## **Fetch data**\n",
        "\n",
        "+ To fetch specific rows, we can combine SELECT, WHERE, fetchall statements  \n",
        "+ Suppose we want to print the id and names of those who have a salary greater than 1000:\n"
      ],
      "metadata": {
        "id": "T5rV5azBhVkv"
      }
    },
    {
      "cell_type": "code",
      "source": [
        "cursorObj.execute('SELECT id, name FROM employees WHERE salary >= 1000.0')"
      ],
      "metadata": {
        "colab": {
          "base_uri": "https://localhost:8080/"
        },
        "id": "F8RibVrra_oX",
        "outputId": "43f9fe21-d199-4e89-86b3-87e300290572"
      },
      "execution_count": 94,
      "outputs": [
        {
          "output_type": "execute_result",
          "data": {
            "text/plain": [
              "<sqlite3.Cursor at 0x7a9803376740>"
            ]
          },
          "metadata": {},
          "execution_count": 94
        }
      ]
    },
    {
      "cell_type": "code",
      "source": [
        "rows=cursorObj.fetchall()\n",
        "for row in rows:\n",
        "  print(row)"
      ],
      "metadata": {
        "colab": {
          "base_uri": "https://localhost:8080/"
        },
        "id": "uRPOpCwibUpF",
        "outputId": "cb2b55d6-9ca5-4b36-d408-b6a134540456"
      },
      "execution_count": 95,
      "outputs": [
        {
          "output_type": "stream",
          "name": "stdout",
          "text": [
            "(1, 'Mike')\n",
            "(4, 'Mason')\n",
            "(5, 'Abel')\n"
          ]
        }
      ]
    },
    {
      "cell_type": "markdown",
      "source": [
        "# **Select Statement**"
      ],
      "metadata": {
        "id": "1noR9J9rbsvI"
      }
    },
    {
      "cell_type": "code",
      "source": [
        "for row in cursorObj.execute(\"SELECT position FROM employees\"):\n",
        "    print(row)\n"
      ],
      "metadata": {
        "colab": {
          "base_uri": "https://localhost:8080/"
        },
        "id": "RoVbZex6bcBx",
        "outputId": "a587da12-4cf3-4f3b-eb22-8e0b4f2971ec"
      },
      "execution_count": 96,
      "outputs": [
        {
          "output_type": "stream",
          "name": "stdout",
          "text": [
            "('Manager',)\n",
            "('IT',)\n",
            "('Tech',)\n",
            "('CTO',)\n",
            "('CTO',)\n"
          ]
        }
      ]
    },
    {
      "cell_type": "code",
      "source": [
        "res = cursorObj.execute(\"SELECT name FROM employees\")\n",
        "res.fetchall()\n"
      ],
      "metadata": {
        "colab": {
          "base_uri": "https://localhost:8080/"
        },
        "id": "9og6G-AQb12j",
        "outputId": "495c684b-1d61-42d7-deaa-1f5a1aca600e"
      },
      "execution_count": 98,
      "outputs": [
        {
          "output_type": "execute_result",
          "data": {
            "text/plain": [
              "[('Mike',), ('Jack',), ('Andrew',), ('Mason',), ('Abel',)]"
            ]
          },
          "metadata": {},
          "execution_count": 98
        }
      ]
    },
    {
      "cell_type": "code",
      "source": [
        "for row in cursorObj.execute(\"SELECT * FROM employees\"):\n",
        "    print(row)\n",
        "\n"
      ],
      "metadata": {
        "colab": {
          "base_uri": "https://localhost:8080/"
        },
        "id": "jZGlWNM5b7EW",
        "outputId": "b44253a1-16e2-4582-8767-206c73ea91f0"
      },
      "execution_count": 99,
      "outputs": [
        {
          "output_type": "stream",
          "name": "stdout",
          "text": [
            "(1, 'Mike', 1000.0, 'Manager')\n",
            "(2, 'Jack', 850.0, 'IT')\n",
            "(3, 'Andrew', 900.0, 'Tech')\n",
            "(4, 'Mason', 1500.0, 'CTO')\n",
            "(5, 'Abel', 1000.0, 'CTO')\n"
          ]
        }
      ]
    },
    {
      "cell_type": "markdown",
      "source": [
        "# **LIMIT operator**"
      ],
      "metadata": {
        "id": "Fox_mrmocEg9"
      }
    },
    {
      "cell_type": "code",
      "source": [
        "# SELECT the first 2 rows of employees\n",
        "cursorObj.execute('SELECT * FROM employees LIMIT 2;')\n",
        "cursorObj.fetchall()\n"
      ],
      "metadata": {
        "colab": {
          "base_uri": "https://localhost:8080/"
        },
        "id": "7q4JDgvqcK86",
        "outputId": "3053bbdf-73dc-4b65-850d-80385fde7032"
      },
      "execution_count": 100,
      "outputs": [
        {
          "output_type": "execute_result",
          "data": {
            "text/plain": [
              "[(1, 'Mike', 1000.0, 'Manager'), (2, 'Jack', 850.0, 'IT')]"
            ]
          },
          "metadata": {},
          "execution_count": 100
        }
      ]
    },
    {
      "cell_type": "code",
      "source": [
        "cursorObj.execute('SELECT id, name, salary FROM employees WHERE salary > 900.0')\n",
        "rows = cursorObj.fetchall()\n",
        "for row in rows:\n",
        "    print(row)\n"
      ],
      "metadata": {
        "id": "VvNIYgkzcRVp",
        "colab": {
          "base_uri": "https://localhost:8080/"
        },
        "outputId": "f4ab77a3-1bdf-44fc-c9fe-27e4c547f080"
      },
      "execution_count": 103,
      "outputs": [
        {
          "output_type": "stream",
          "name": "stdout",
          "text": [
            "(1, 'Mike', 1000.0)\n",
            "(4, 'Mason', 1500.0)\n",
            "(5, 'Abel', 1000.0)\n"
          ]
        }
      ]
    },
    {
      "cell_type": "code",
      "source": [
        "cursorObj.execute('SELECT id, name, salary FROM employees WHERE salary > 500.0  LIMIT 2 OFFSET 1')\n",
        "rows = cursorObj.fetchall()\n",
        "for row in rows:\n",
        "    print(row)\n"
      ],
      "metadata": {
        "id": "eeMe1d_pcT6x",
        "colab": {
          "base_uri": "https://localhost:8080/"
        },
        "outputId": "818ffebc-f885-41ad-9d70-29e339ce4006"
      },
      "execution_count": 105,
      "outputs": [
        {
          "output_type": "stream",
          "name": "stdout",
          "text": [
            "(2, 'Jack', 850.0)\n",
            "(3, 'Andrew', 900.0)\n"
          ]
        }
      ]
    },
    {
      "cell_type": "markdown",
      "source": [
        "# **OFFSET operator**"
      ],
      "metadata": {
        "id": "SEOQhRLDcZJY"
      }
    },
    {
      "cell_type": "code",
      "source": [
        "# SELECT the first 2 rows of employees starting from third row\n",
        "cursorObj.execute('SELECT * FROM employees LIMIT 2 OFFSET 2')\n",
        "cursorObj.fetchall()\n"
      ],
      "metadata": {
        "colab": {
          "base_uri": "https://localhost:8080/"
        },
        "id": "ll3naB1FcfKc",
        "outputId": "82cf63fe-0fe7-4009-9e78-5b80245b28eb"
      },
      "execution_count": 101,
      "outputs": [
        {
          "output_type": "execute_result",
          "data": {
            "text/plain": [
              "[(3, 'Andrew', 900.0, 'Tech'), (4, 'Mason', 1500.0, 'CTO')]"
            ]
          },
          "metadata": {},
          "execution_count": 101
        }
      ]
    },
    {
      "cell_type": "markdown",
      "source": [
        "# **LIKE operator**"
      ],
      "metadata": {
        "id": "6NpJKQkOcm3f"
      }
    },
    {
      "cell_type": "code",
      "source": [
        "cursorObj.execute('SELECT * from employees WHERE name LIKE \"%Ja%\" ')\n",
        "cursorObj.fetchall()"
      ],
      "metadata": {
        "colab": {
          "base_uri": "https://localhost:8080/"
        },
        "id": "dUPYppPBcluY",
        "outputId": "cbfdce21-8ff7-44a0-b777-93cfd576a68a"
      },
      "execution_count": 106,
      "outputs": [
        {
          "output_type": "execute_result",
          "data": {
            "text/plain": [
              "[(2, 'Jack', 850.0, 'IT')]"
            ]
          },
          "metadata": {},
          "execution_count": 106
        }
      ]
    },
    {
      "cell_type": "code",
      "source": [
        "cursorObj.execute('SELECT * from employees WHERE name LIKE \"%Ab%\" ')\n",
        "cursorObj.fetchall()"
      ],
      "metadata": {
        "id": "X1jjcYEYc1OF",
        "colab": {
          "base_uri": "https://localhost:8080/"
        },
        "outputId": "c77691b8-1ebd-4bea-8e9f-783878d7dfaa"
      },
      "execution_count": 107,
      "outputs": [
        {
          "output_type": "execute_result",
          "data": {
            "text/plain": [
              "[(5, 'Abel', 1000.0, 'CTO')]"
            ]
          },
          "metadata": {},
          "execution_count": 107
        }
      ]
    },
    {
      "cell_type": "code",
      "source": [
        "cursorObj.execute('SELECT * from employees WHERE salary LIKE \"1%\" ')\n",
        "cursorObj.fetchall()\n"
      ],
      "metadata": {
        "colab": {
          "base_uri": "https://localhost:8080/"
        },
        "id": "GZUbJLn9cw6I",
        "outputId": "f799f0be-7cab-4cd7-ed0b-4c5178b0d278"
      },
      "execution_count": 108,
      "outputs": [
        {
          "output_type": "execute_result",
          "data": {
            "text/plain": [
              "[(1, 'Mike', 1000.0, 'Manager'),\n",
              " (4, 'Mason', 1500.0, 'CTO'),\n",
              " (5, 'Abel', 1000.0, 'CTO')]"
            ]
          },
          "metadata": {},
          "execution_count": 108
        }
      ]
    }
  ]
}