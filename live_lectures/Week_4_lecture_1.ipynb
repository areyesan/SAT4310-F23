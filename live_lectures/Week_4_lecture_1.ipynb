{
  "nbformat": 4,
  "nbformat_minor": 0,
  "metadata": {
    "colab": {
      "provenance": []
    },
    "kernelspec": {
      "name": "python3",
      "display_name": "Python 3"
    },
    "language_info": {
      "name": "python"
    }
  },
  "cells": [
    {
      "cell_type": "markdown",
      "source": [
        "## **Classes and Objects**"
      ],
      "metadata": {
        "id": "6ST5LAqCBWT-"
      }
    },
    {
      "cell_type": "code",
      "execution_count": null,
      "metadata": {
        "id": "IAXaREwDBUHH"
      },
      "outputs": [],
      "source": [
        "class A():\n",
        "  pass"
      ]
    },
    {
      "cell_type": "code",
      "source": [
        "object1=A()\n",
        "object1"
      ],
      "metadata": {
        "colab": {
          "base_uri": "https://localhost:8080/"
        },
        "id": "rjzfpGNkBm0a",
        "outputId": "dc156c76-d833-4712-c2c5-58a39758a2bf"
      },
      "execution_count": null,
      "outputs": [
        {
          "output_type": "execute_result",
          "data": {
            "text/plain": [
              "<__main__.A at 0x7a0d9028c9a0>"
            ]
          },
          "metadata": {},
          "execution_count": 41
        }
      ]
    },
    {
      "cell_type": "code",
      "source": [
        "class A():\n",
        "  arg_1=\"Arg 1\"\n",
        "  arg_2=\"Arg 2\"\n",
        "  arg_3=3"
      ],
      "metadata": {
        "id": "EiF9CcZQBm9v"
      },
      "execution_count": null,
      "outputs": []
    },
    {
      "cell_type": "code",
      "source": [
        "object1=A()\n",
        "object1"
      ],
      "metadata": {
        "colab": {
          "base_uri": "https://localhost:8080/"
        },
        "id": "Ae-gnSzxBnFh",
        "outputId": "bb86bf37-9325-4ffd-910c-88cf8c05302a"
      },
      "execution_count": null,
      "outputs": [
        {
          "output_type": "execute_result",
          "data": {
            "text/plain": [
              "<__main__.A at 0x7a0d9028d3c0>"
            ]
          },
          "metadata": {},
          "execution_count": 43
        }
      ]
    },
    {
      "cell_type": "code",
      "source": [
        "object1.arg_3"
      ],
      "metadata": {
        "colab": {
          "base_uri": "https://localhost:8080/"
        },
        "id": "apjR2et5BnL3",
        "outputId": "752075c4-71f7-4115-a65d-1c82f28c7542"
      },
      "execution_count": null,
      "outputs": [
        {
          "output_type": "execute_result",
          "data": {
            "text/plain": [
              "3"
            ]
          },
          "metadata": {},
          "execution_count": 44
        }
      ]
    },
    {
      "cell_type": "code",
      "source": [
        "object1.arg_4=\"Arg 4\"\n",
        "object1.arg_4"
      ],
      "metadata": {
        "colab": {
          "base_uri": "https://localhost:8080/",
          "height": 35
        },
        "id": "vo8X0DyhBnSb",
        "outputId": "c8c0dc75-abf9-4343-df6a-3276566b843c"
      },
      "execution_count": null,
      "outputs": [
        {
          "output_type": "execute_result",
          "data": {
            "text/plain": [
              "'Arg 4'"
            ],
            "application/vnd.google.colaboratory.intrinsic+json": {
              "type": "string"
            }
          },
          "metadata": {},
          "execution_count": 45
        }
      ]
    },
    {
      "cell_type": "code",
      "source": [
        "class A():\n",
        "  arg_1=\"Arg 1\"\n",
        "  def __init__(self, arg_2, arg_3, arg_4):\n",
        "    self.arg_2=arg_2\n",
        "    self.arg_3=arg_3\n",
        "    self.arg_4=arg_4\n",
        "\n",
        "\n",
        "  def display_A(self):\n",
        "    print(f\"This is Object A, arg 1: {self.arg_1}\\n\")\n",
        "    print(f\"This is Object A, arg 2: {self.arg_2}\\n\")\n",
        "    print(f\"This is Object A, arg 3: {self.arg_3}\\n\")\n",
        "    print(f\"This is Object A, arg 4: {self.arg_4}\\n\")"
      ],
      "metadata": {
        "id": "6aOX-5m1CME1"
      },
      "execution_count": null,
      "outputs": []
    },
    {
      "cell_type": "code",
      "source": [
        "object_1=A(\"arg 2\", \"arg 3\", 4)\n",
        "object_1.display_A()"
      ],
      "metadata": {
        "colab": {
          "base_uri": "https://localhost:8080/"
        },
        "id": "9UxMih1WCRzR",
        "outputId": "67c9d03a-4122-4469-b817-20138fe7f560"
      },
      "execution_count": null,
      "outputs": [
        {
          "output_type": "stream",
          "name": "stdout",
          "text": [
            "This is Object A, arg 1: Arg 1\n",
            "\n",
            "This is Object A, arg 2: arg 2\n",
            "\n",
            "This is Object A, arg 3: arg 3\n",
            "\n",
            "This is Object A, arg 4: 4\n",
            "\n"
          ]
        }
      ]
    },
    {
      "cell_type": "code",
      "source": [
        "object_2=A(\"arg a\", \"arg b\", 65.0)\n",
        "object_2.display_A()"
      ],
      "metadata": {
        "colab": {
          "base_uri": "https://localhost:8080/"
        },
        "id": "csQqEpTbCRw5",
        "outputId": "0a03c62f-a6a3-4b52-f587-f07daddc035c"
      },
      "execution_count": null,
      "outputs": [
        {
          "output_type": "stream",
          "name": "stdout",
          "text": [
            "This is Object A, arg 1: Arg 1\n",
            "\n",
            "This is Object A, arg 2: arg a\n",
            "\n",
            "This is Object A, arg 3: arg b\n",
            "\n",
            "This is Object A, arg 4: 65.0\n",
            "\n"
          ]
        }
      ]
    },
    {
      "cell_type": "code",
      "source": [
        "print(help(A))"
      ],
      "metadata": {
        "colab": {
          "base_uri": "https://localhost:8080/"
        },
        "id": "ipCEkHm2vKBB",
        "outputId": "6e2f5046-2e6f-44ea-dc17-fcd9cc7054e8"
      },
      "execution_count": null,
      "outputs": [
        {
          "output_type": "stream",
          "name": "stdout",
          "text": [
            "Help on class A in module __main__:\n",
            "\n",
            "class A(builtins.object)\n",
            " |  A(arg_2, arg_3, arg_4)\n",
            " |  \n",
            " |  Methods defined here:\n",
            " |  \n",
            " |  __init__(self, arg_2, arg_3, arg_4)\n",
            " |      Initialize self.  See help(type(self)) for accurate signature.\n",
            " |  \n",
            " |  display_A(self)\n",
            " |  \n",
            " |  ----------------------------------------------------------------------\n",
            " |  Data descriptors defined here:\n",
            " |  \n",
            " |  __dict__\n",
            " |      dictionary for instance variables (if defined)\n",
            " |  \n",
            " |  __weakref__\n",
            " |      list of weak references to the object (if defined)\n",
            " |  \n",
            " |  ----------------------------------------------------------------------\n",
            " |  Data and other attributes defined here:\n",
            " |  \n",
            " |  arg_1 = 'Arg 1'\n",
            "\n",
            "None\n"
          ]
        }
      ]
    },
    {
      "cell_type": "code",
      "source": [
        "import inspect\n",
        "inspect.getargspec(A)"
      ],
      "metadata": {
        "colab": {
          "base_uri": "https://localhost:8080/"
        },
        "id": "XgfC7-luCRuR",
        "outputId": "26ac9856-a1eb-4009-f2ab-015a6967697c"
      },
      "execution_count": null,
      "outputs": [
        {
          "output_type": "stream",
          "name": "stderr",
          "text": [
            "<ipython-input-50-1d1d87a52fd0>:2: DeprecationWarning: inspect.getargspec() is deprecated since Python 3.0, use inspect.signature() or inspect.getfullargspec()\n",
            "  inspect.getargspec(A)\n"
          ]
        },
        {
          "output_type": "execute_result",
          "data": {
            "text/plain": [
              "ArgSpec(args=['self', 'arg_2', 'arg_3', 'arg_4'], varargs=None, keywords=None, defaults=None)"
            ]
          },
          "metadata": {},
          "execution_count": 50
        }
      ]
    },
    {
      "cell_type": "markdown",
      "source": [
        "## **Inheritance in Python**\n",
        "+ Inheritance is a powerful feature in object-oriented programming. which is the capability of one class to take the properties and methods from a parent class.  \n",
        "+ It refers to defining a new class with little or no modification to an existing class.\n",
        "+ The new class is called the derived (or child) class and the one from which it inherits is called the base (or parent) class.\n",
        "+ Child classes can override or extend the attributes and methods of parent classes.\n",
        "+ Benefits of inheritance are:\n",
        "  + Reusability of a code. We don’t have to write the same code again and again.\n",
        "  + Transitive. If class B inherits from another class A, then all the subclasses of B would automatically inherit from class A.\n"
      ],
      "metadata": {
        "id": "Mz86lx6qEBxm"
      }
    },
    {
      "cell_type": "markdown",
      "source": [
        "+ Any class can be a parent class, so the syntax is the same as creating any other class.\n",
        "+ To inherit from another class, you only need to include the name of the parent class in parentheses when defining the new class.  \n",
        "\n",
        "## **Python Inheritance Syntax**\n",
        "```python\n",
        "class BaseClass:\n",
        "    {Body}\n",
        "class DerivedClass(BaseClass):\n",
        "    {Body}\n",
        "```"
      ],
      "metadata": {
        "id": "XKVNN5SWEcEw"
      }
    },
    {
      "cell_type": "markdown",
      "source": [
        "## Inheritance in Python - Example\n",
        "\n",
        "**Creating a Parent Class**\n",
        "\n",
        "```python\n",
        "class Employee:\n",
        "   \n",
        "  # Constructor\n",
        "  def __init__(self, name, id):\n",
        "    self.name = name\n",
        "    self.id = id\n",
        "\n",
        "  # display name and ID of an employee\n",
        "  def Display(self):\n",
        "    print(self.name, self.id)\n",
        "\n",
        "# code\n",
        "emp = Employee(\"Mike\", 10) # An Object of Employee\n",
        "emp.Display()\n",
        "```"
      ],
      "metadata": {
        "id": "4S4oD-T0Eq58"
      }
    },
    {
      "cell_type": "code",
      "source": [
        "class Employee:\n",
        "\n",
        "  # Constructor\n",
        "  def __init__(self, name, id):\n",
        "    self.name = name\n",
        "    self.id = id\n",
        "\n",
        "  # display name and ID of an employee\n",
        "  def Display(self):\n",
        "    print(self.name, self.id)\n",
        "\n",
        "# code\n",
        "emp = Employee(\"Mike\", 10) # An Object of Employee\n",
        "emp.Display()"
      ],
      "metadata": {
        "id": "k1X48OHPFtt5",
        "colab": {
          "base_uri": "https://localhost:8080/"
        },
        "outputId": "8886678a-de79-4c0b-a3e1-8dfa16292654"
      },
      "execution_count": null,
      "outputs": [
        {
          "output_type": "stream",
          "name": "stdout",
          "text": [
            "Mike 10\n"
          ]
        }
      ]
    },
    {
      "cell_type": "markdown",
      "source": [
        "**Creating a Child Class**\n",
        "```python\n",
        "class Emp(Employee):\n",
        "   \n",
        "  def disp(self):\n",
        "    print(\"Emp class called\")\n",
        "     \n",
        "Emp_details = Emp(\"Jack\", 12)\n",
        "\n",
        "# calling parent class function\n",
        "Emp_details.Display()\n",
        "\n",
        "# Calling child class function\n",
        "Emp_details.disp()\n",
        "\n",
        "```\n"
      ],
      "metadata": {
        "id": "2mTstk0tFsSd"
      }
    },
    {
      "cell_type": "code",
      "source": [
        "class Emp(Employee):\n",
        "\n",
        "  def disp(self):\n",
        "    print(\"Emp class called\")\n",
        "\n",
        "Emp_details = Emp(\"Jack\", 12)\n",
        "\n",
        "# calling parent class function\n",
        "Emp_details.Display()\n",
        "\n",
        "# Calling child class function\n",
        "Emp_details.disp()\n"
      ],
      "metadata": {
        "id": "WLKHKac1CRrx",
        "colab": {
          "base_uri": "https://localhost:8080/"
        },
        "outputId": "b428bde6-baaf-4b36-e5d8-ef33257a62dc"
      },
      "execution_count": null,
      "outputs": [
        {
          "output_type": "stream",
          "name": "stdout",
          "text": [
            "Jack 12\n",
            "Emp class called\n"
          ]
        }
      ]
    },
    {
      "cell_type": "markdown",
      "source": [
        "# **Another example!**"
      ],
      "metadata": {
        "id": "wPPMolpEl92H"
      }
    },
    {
      "cell_type": "code",
      "source": [
        "# parent class\n",
        "class Person():\n",
        "  def __init__(self, name, age):\n",
        "    self.name = name\n",
        "    self.age = age\n",
        "\n",
        "  def display(self):\n",
        "    print(self.name, self.age)\n",
        "\n",
        "# child class\n",
        "class Student(Person):\n",
        "  def __init__(self, name, age, dob):\n",
        "    self.sName = name\n",
        "    self.sAge = age\n",
        "    self.dob = dob\n",
        "    # inheriting the properties of parent class\n",
        "    super().__init__(\"Rahul\", age)\n",
        "\n",
        "  def displayInfo(self):\n",
        "    print(self.sName, self.sAge, self.dob)\n",
        "\n",
        "obj = Student(\"Mayank\", 23, \"16-03-2000\")\n",
        "obj.display()\n",
        "obj.displayInfo()"
      ],
      "metadata": {
        "id": "-y8-MmCINiOt",
        "colab": {
          "base_uri": "https://localhost:8080/"
        },
        "outputId": "4f271957-648b-4a31-abca-69c1adb25a08"
      },
      "execution_count": null,
      "outputs": [
        {
          "output_type": "stream",
          "name": "stdout",
          "text": [
            "Rahul 23\n",
            "Mayank 23 16-03-2000\n"
          ]
        }
      ]
    },
    {
      "cell_type": "code",
      "source": [],
      "metadata": {
        "id": "Ote4s2xuNiMX"
      },
      "execution_count": null,
      "outputs": []
    },
    {
      "cell_type": "code",
      "source": [],
      "metadata": {
        "id": "I9lger0plrAv"
      },
      "execution_count": null,
      "outputs": []
    },
    {
      "cell_type": "markdown",
      "source": [
        "**Add the `__init__()` Function**\n",
        "\n",
        "So far we have created a child class that inherits the properties and methods from its parent.\n",
        "the `__init__()` function can be added to the child class to override the inheritance of the parent's `__init__()` function.\n",
        "In other words, when you add the `__init__()` function, the child class will no longer inherit the parent's `__init__()` function.\n",
        "\n",
        "```python\n",
        "class Emp(Employee):\n",
        "       def __init__(self, name, id, year):\n",
        "\n",
        "```\n",
        "\n",
        "To keep the inheritance of the parent's `__init__()` function, add a call to the parent's `__init__()` function:\n",
        "\n",
        "```python\n",
        "class Emp(Employee):\n",
        "       def __init__(self, name, id, year):\n",
        "     Employee.__init__(self, name, id)\n",
        "\n",
        "```"
      ],
      "metadata": {
        "id": "K_PQh1rxGLxj"
      }
    },
    {
      "cell_type": "code",
      "source": [
        "class Employee:\n",
        "\n",
        "  # Constructor\n",
        "  def __init__(self, name, id):\n",
        "    self.name = name\n",
        "    self.id = id\n",
        "\n",
        "  # display name and ID of an employee\n",
        "  def Display(self):\n",
        "    print(self.name, self.id)\n",
        "\n",
        "# code\n",
        "emp = Employee(\"Mike\", 10) # An Object of Employee\n",
        "emp.Display()"
      ],
      "metadata": {
        "colab": {
          "base_uri": "https://localhost:8080/"
        },
        "id": "pRQdpM31nZQY",
        "outputId": "fa77ac41-0566-4a31-de73-e1b0af6ec5f7"
      },
      "execution_count": null,
      "outputs": [
        {
          "output_type": "stream",
          "name": "stdout",
          "text": [
            "Mike 10\n"
          ]
        }
      ]
    },
    {
      "cell_type": "code",
      "source": [
        "class Emp(Employee):\n",
        "  def __init__(self, name, id, year=2013):\n",
        "    pass#self.year=year\n",
        "    self.name=name\n",
        "    self.id=id\n",
        "    self.year=year\n",
        "\n",
        "\n",
        "Emp_details = Emp(\"Jack\", 12)\n",
        "Emp_details.Display()"
      ],
      "metadata": {
        "colab": {
          "base_uri": "https://localhost:8080/"
        },
        "id": "hDa7btLsmHNg",
        "outputId": "55fbe41a-3fdb-4462-87c7-4810ad0b51fb"
      },
      "execution_count": null,
      "outputs": [
        {
          "output_type": "stream",
          "name": "stdout",
          "text": [
            "Jack 12\n"
          ]
        }
      ]
    },
    {
      "cell_type": "code",
      "source": [
        "class Emp(Employee):\n",
        "  def __init__(self, name, id, year=2013):\n",
        "    Employee.__init__(self, name, id)\n",
        "    self.year=year\n",
        "\n",
        "Emp_details = Emp(\"Jack\", 12)\n",
        "Emp_details.Display()\n"
      ],
      "metadata": {
        "id": "ZfzDQpwKCRmp",
        "colab": {
          "base_uri": "https://localhost:8080/"
        },
        "outputId": "417b1010-e8a4-4b04-ea0b-7fb0de33cd40"
      },
      "execution_count": null,
      "outputs": [
        {
          "output_type": "stream",
          "name": "stdout",
          "text": [
            "Jack 12\n"
          ]
        }
      ]
    },
    {
      "cell_type": "markdown",
      "source": [
        "Python also has a <font color='blue'>super()</font> function that will keep inheriting all the methods and properties from its parent:\n",
        "```python\n",
        "class Emp(Employee):\n",
        "       def __init__(self, name, id, year):\n",
        "     super().__init__(name, id)\n",
        "\n",
        "```\n",
        "By using the **super()** function, no need to use the name of the parent name\n",
        "\n"
      ],
      "metadata": {
        "id": "g9hNdhxjGtIo"
      }
    },
    {
      "cell_type": "code",
      "source": [
        "class Emp(Employee):\n",
        "  def __init__(self, name, id, year):\n",
        "    super().__init__(name, id)\n",
        "    self.year=year\n",
        "\n",
        "Emp_details = Emp(\"Jack\", 12, 2013)\n",
        "Emp_details.Display()\n"
      ],
      "metadata": {
        "colab": {
          "base_uri": "https://localhost:8080/"
        },
        "id": "bnNFitqYn2ao",
        "outputId": "bff7d9a4-0271-4b85-b00f-993d7e600031"
      },
      "execution_count": null,
      "outputs": [
        {
          "output_type": "stream",
          "name": "stdout",
          "text": [
            "Jack 12\n"
          ]
        }
      ]
    },
    {
      "cell_type": "markdown",
      "source": [
        "Add properties: Add a property called yearofemployment to the Emp class:\n",
        "\n",
        "```python\n",
        "class Emp(Employee):\n",
        "       def __init__(self, name, id, year):\n",
        "     super().__init__(name, id)\n",
        "     self. yearofemployment  = year\n",
        "   def disp(self)\n",
        "       print(\"Emp class called\")\n",
        "```\n",
        "```python\n",
        "x = Emp(\"Mike\", 10, 2023)\n",
        "print(x.yearofemployment)\n",
        "x.Display() # calling parent class function\n",
        "x.disp() # Calling child class function\n",
        "```\n"
      ],
      "metadata": {
        "id": "hg84F8ruHHng"
      }
    },
    {
      "cell_type": "code",
      "source": [
        "class Emp(Employee):\n",
        "  def __init__(self, name, id, year):\n",
        "    super().__init__(name, id)\n",
        "    self. yearofemployment  = year\n",
        "\n",
        "  def disp(self):\n",
        "    print(\"Emp class called\")\n"
      ],
      "metadata": {
        "id": "S6-pg1GPCRkJ"
      },
      "execution_count": null,
      "outputs": []
    },
    {
      "cell_type": "code",
      "source": [
        "x = Emp(\"Mike\", 10, 2023)\n",
        "print(x.yearofemployment)\n",
        "x.Display() # calling parent class function\n",
        "x.disp() # Calling child class function"
      ],
      "metadata": {
        "colab": {
          "base_uri": "https://localhost:8080/"
        },
        "id": "SpCIh4oCpUk4",
        "outputId": "3f80688b-4bdb-4607-bfbf-2e4822fe220a"
      },
      "execution_count": null,
      "outputs": [
        {
          "output_type": "stream",
          "name": "stdout",
          "text": [
            "2023\n",
            "Mike 10\n",
            "Emp class called\n"
          ]
        }
      ]
    },
    {
      "cell_type": "markdown",
      "source": [
        "## **Types of Inheritance in Python**\n",
        "**Single Inheritance:** a derived class to inherit properties from a single parent class.\n",
        "\n"
      ],
      "metadata": {
        "id": "ivMAzW5OHTka"
      }
    },
    {
      "cell_type": "code",
      "source": [
        "class A:\n",
        "  arg_1=1\n",
        "  arg_2=2\n",
        "\n",
        "  def disp(self):\n",
        "    print(self.arg_1, self.arg_2)\n",
        "\n",
        "class B():\n",
        "  arg_1=1\n",
        "  arg_2=2\n",
        "\n",
        "  def disp(self):\n",
        "    print(self.arg_1, self.arg_2)"
      ],
      "metadata": {
        "id": "qSIkAtCaN8rA"
      },
      "execution_count": null,
      "outputs": []
    },
    {
      "cell_type": "code",
      "source": [
        "object1=A()\n",
        "object2=B()\n",
        "object1.disp()\n",
        "object2.disp()"
      ],
      "metadata": {
        "colab": {
          "base_uri": "https://localhost:8080/"
        },
        "id": "J4CyQ4QVpw4Y",
        "outputId": "dc106639-4f2c-418e-f7b0-eb0cca09c819"
      },
      "execution_count": null,
      "outputs": [
        {
          "output_type": "stream",
          "name": "stdout",
          "text": [
            "1 2\n",
            "1 2\n"
          ]
        }
      ]
    },
    {
      "cell_type": "markdown",
      "source": [
        "**Multiple Inheritance:**  a class can be derived from more than one base class.\n",
        "\n",
        "\n"
      ],
      "metadata": {
        "id": "rIwhFR-CIeCp"
      }
    },
    {
      "cell_type": "code",
      "source": [
        "class Base1(object):\n",
        "    def __init__(self):\n",
        "        self.str1 = \"Geek1\"\n",
        "        print(\"Base1\")\n",
        "\n",
        "\n",
        "class Base2(object):\n",
        "    def __init__(self):\n",
        "        self.str2 = \"Geek2\"\n",
        "        print(\"Base2\")\n",
        "\n",
        "\n",
        "class Derived(Base1, Base2):\n",
        "    def __init__(self):\n",
        "\n",
        "        # Calling constructors of Base1\n",
        "        # and Base2 classes\n",
        "        Base1.__init__(self)\n",
        "        Base2.__init__(self)\n",
        "        print(\"Derived\")\n",
        "\n",
        "    def printStrs(self):\n",
        "        print(self.str1, self.str2)\n",
        "\n",
        "\n",
        "ob = Derived()\n",
        "ob.printStrs()"
      ],
      "metadata": {
        "id": "aQlfXp8fN1sq",
        "colab": {
          "base_uri": "https://localhost:8080/"
        },
        "outputId": "32387254-5d08-4db6-b71c-dcb7552adf54"
      },
      "execution_count": null,
      "outputs": [
        {
          "output_type": "stream",
          "name": "stdout",
          "text": [
            "Base1\n",
            "Base2\n",
            "Derived\n",
            "Geek1 Geek2\n"
          ]
        }
      ]
    },
    {
      "cell_type": "code",
      "source": [
        "class A():\n",
        "    def __init__(self):\n",
        "        self.mothername = 'Annie'\n",
        "        # age is a private instance variable\n",
        "        self.motherage = 42\n",
        "\n",
        "class B():\n",
        "    def __init__(self):\n",
        "        self.fathername = 'Mike'\n",
        "        # age is a private instance variable\n",
        "        self.fatherage = 45\n",
        "\n",
        "class C(A, B):\n",
        "    def __init__(self):\n",
        "        self.childage = 18\n",
        "        A.__init__(self)\n",
        "        B.__init__(self)\n",
        "\n",
        "MyObj = C()\n",
        "# print\n",
        "print(MyObj.motherage)\n",
        "print(MyObj.fatherage)\n",
        "print(MyObj.childage)\n"
      ],
      "metadata": {
        "id": "ZJc9Gw2WJuB6"
      },
      "execution_count": null,
      "outputs": []
    },
    {
      "cell_type": "markdown",
      "source": [
        "In multiple inheritances, all the features of the base classes are inherited into the derived class.\n"
      ],
      "metadata": {
        "id": "jqJNhhFSJxdL"
      }
    },
    {
      "cell_type": "code",
      "source": [
        "#Base class 1\n",
        "class Mother:\n",
        "  mothername=\"\"\n",
        "  def mother(self):\n",
        "    print(self.mothername)\n",
        "\n",
        "#Base class 2\n",
        "class Father:\n",
        "  fathername=\"\"\n",
        "  def father(self):\n",
        "    print(self.fathername)\n",
        "\n",
        "#Derived class\n",
        "class Son(Mother, Father):\n",
        "  def parents(self):\n",
        "    print(f\"Father: {self.fathername}\")\n",
        "    print(f\"Mother: {self.mothername}\")\n",
        "\n",
        "##\n",
        "s1=Son()\n",
        "s1.parents()\n",
        "\n"
      ],
      "metadata": {
        "id": "Tyo4WsXiJxIU"
      },
      "execution_count": null,
      "outputs": []
    },
    {
      "cell_type": "markdown",
      "source": [
        "**Multilevel Inheritance:** properties of the base class and the derived class are further inherited into the new derived class.\n",
        "\n",
        "More than one derived class are created from a single base.\n",
        "\n",
        "\n"
      ],
      "metadata": {
        "id": "DTPCigTAIhzL"
      }
    },
    {
      "cell_type": "code",
      "source": [
        "class Base():\n",
        "  def __init__(self, name):\n",
        "    self.name=name\n",
        "  def getName(self):\n",
        "    return self.name\n",
        "\n",
        "class Child (Base):\n",
        "  def __init__(self, name, age):\n",
        "    Base.__init__(self, name)\n",
        "    self.age=age\n",
        "\n",
        "  def getAge(self):\n",
        "    return self.age\n",
        "\n",
        "class GrandChild(Child):\n",
        "  def __init__(self, name, age, address):\n",
        "    Child.__init__(self, name, age)\n",
        "    self.address=address\n",
        "\n",
        "  def getAddress(self):\n",
        "    return self.address\n",
        "\n",
        "g=GrandChild(\"Sam\", 2, \"Woodland Dr\")\n",
        "print(g.getName(), g.getAge(), g.getAddress())"
      ],
      "metadata": {
        "colab": {
          "base_uri": "https://localhost:8080/"
        },
        "id": "Z-Pn9iGAKqPU",
        "outputId": "3d277489-9f26-46e4-ee61-8d74b7c93db2"
      },
      "execution_count": null,
      "outputs": [
        {
          "output_type": "stream",
          "name": "stdout",
          "text": [
            "Sam 2 Woodland Dr\n"
          ]
        }
      ]
    },
    {
      "cell_type": "markdown",
      "source": [
        "**Hierarchical Inheritance:** more than one derived class are created from a single base.\n",
        "\n"
      ],
      "metadata": {
        "id": "cboIK2vbIjiH"
      }
    },
    {
      "cell_type": "code",
      "source": [
        "# Base class\n",
        "class A:\n",
        "    def func1(self):\n",
        "        print(\"This function is in parent class.\")\n",
        "# Derived class1\n",
        "class B(A):\n",
        "    def func2(self):\n",
        "        print(\"This function is in child 1.\")\n",
        "# Derived class2\n",
        "class C(A):\n",
        "    def func3(self):\n",
        "        print(\"This function is in child 2.\")\n",
        "# Derived class3\n",
        "class D(A):\n",
        "    def func4(self):\n",
        "        print(\"This function is in child 3.\")\n",
        "\n",
        "# CREATE OBJECTS\n",
        "object1 = B() # CHILD 1 CLASS\n",
        "object2 = C() # CHILD 2 CLASS\n",
        "object3 = D() # CHILD 3 CLASS\n",
        "\n",
        "object1.func1()\n",
        "object1.func2()\n",
        "object2.func1()\n",
        "object2.func3()\n",
        "object3.func1()\n",
        "object3.func4()\n"
      ],
      "metadata": {
        "id": "BDS1gdWyMvJq",
        "colab": {
          "base_uri": "https://localhost:8080/"
        },
        "outputId": "caf0caef-0309-46af-ba5a-098efbda770f"
      },
      "execution_count": null,
      "outputs": [
        {
          "output_type": "stream",
          "name": "stdout",
          "text": [
            "This function is in parent class.\n",
            "This function is in child 1.\n",
            "This function is in parent class.\n",
            "This function is in child 2.\n",
            "This function is in parent class.\n",
            "This function is in child 3.\n"
          ]
        }
      ]
    },
    {
      "cell_type": "markdown",
      "source": [
        "**Hybrid Inheritance:** Inheritance consisting of multiple types of inheritance\n",
        "[source](https://www.geeksforgeeks.org/types-of-inheritance-python/)"
      ],
      "metadata": {
        "id": "RHEzRq2CIk3N"
      }
    },
    {
      "cell_type": "code",
      "source": [
        "class School:\n",
        "    def func1(self):\n",
        "        print(\"This function is in school.\")\n",
        "\n",
        "\n",
        "class Student1(School):\n",
        "    def func2(self):\n",
        "        print(\"This function is in student 1. \")\n",
        "\n",
        "\n",
        "class Student2(School):\n",
        "    def func3(self):\n",
        "        print(\"This function is in student 2.\")\n",
        "\n",
        "\n",
        "class Student3(Student1, School):\n",
        "    def func4(self):\n",
        "        print(\"This function is in student 3.\")\n",
        "\n",
        "\n",
        "# Driver's code\n",
        "object = Student3()\n",
        "object.func1()\n",
        "object.func2()\n"
      ],
      "metadata": {
        "colab": {
          "base_uri": "https://localhost:8080/"
        },
        "id": "8CXYeAUjM60t",
        "outputId": "f5735c20-7e78-47fd-e374-99942eca45d3"
      },
      "execution_count": null,
      "outputs": [
        {
          "output_type": "stream",
          "name": "stdout",
          "text": [
            "This function is in school.\n",
            "This function is in student 1. \n"
          ]
        }
      ]
    },
    {
      "cell_type": "markdown",
      "source": [
        "# Example **(Plickers cards please)**"
      ],
      "metadata": {
        "id": "7seqEeeifj-A"
      }
    },
    {
      "cell_type": "markdown",
      "source": [
        "```python\n",
        "class Animal:\n",
        "    name = \"\"   \n",
        "    def eat(self):\n",
        "        print(\"I can eat\")\n",
        "\n",
        "# inherit from Animal\n",
        "class Dog(Animal):\n",
        "    # override eat() method\n",
        "    def eat(self):\n",
        "        # call the eat() method of the superclass using super()\n",
        "        super().eat()\n",
        "        print(\"I like to eat bones\")\n",
        "\n",
        "```\n",
        "```python\n",
        "# create an object of the subclass\n",
        "labrador = Dog()\n",
        "\n",
        "labrador.eat()\n",
        "```"
      ],
      "metadata": {
        "id": "7hXs2yhagWnZ"
      }
    },
    {
      "cell_type": "markdown",
      "source": [
        "What would be the output?\n",
        "\n",
        "a)\n",
        "\n",
        " `I can eat`\n",
        "\n",
        "b)\n",
        "\n",
        "`I can eat`\n",
        "\n",
        "`I like to eat bones`\n",
        "\n",
        "c)\n",
        "\n",
        "`I like to eat bones`\n",
        "\n",
        "d)\n",
        "\n",
        "`AttributeError: 'Dog' object has no attribute 'eats'`\n"
      ],
      "metadata": {
        "id": "vzQWs-wRg2GS"
      }
    },
    {
      "cell_type": "code",
      "source": [
        "class Animal:\n",
        "    name = \"\"\n",
        "    def eat(self):\n",
        "        print(\"I can eat\")\n",
        "\n",
        "# inherit from Animal\n",
        "class Dog(Animal):\n",
        "    # override eat() method\n",
        "    def eat(self):\n",
        "        # call the eat() method of the superclass using super()\n",
        "        super().eat()\n",
        "        print(\"I like to eat bones\")"
      ],
      "metadata": {
        "id": "YcW-M5WhNQGE"
      },
      "execution_count": null,
      "outputs": []
    },
    {
      "cell_type": "code",
      "source": [
        "labrador = Dog()\n"
      ],
      "metadata": {
        "id": "tUQ-jLd9gvhQ"
      },
      "execution_count": null,
      "outputs": []
    },
    {
      "cell_type": "code",
      "source": [
        "labrador.eat()"
      ],
      "metadata": {
        "colab": {
          "base_uri": "https://localhost:8080/"
        },
        "id": "TmdIFtkFgw9p",
        "outputId": "de733d3e-5e25-4cf5-c0bb-9bdaf8622b96"
      },
      "execution_count": null,
      "outputs": [
        {
          "output_type": "stream",
          "name": "stdout",
          "text": [
            "I can eat\n",
            "I like to eat bones\n"
          ]
        }
      ]
    },
    {
      "cell_type": "code",
      "source": [],
      "metadata": {
        "id": "3TDAe0djhP0B"
      },
      "execution_count": null,
      "outputs": []
    }
  ]
}