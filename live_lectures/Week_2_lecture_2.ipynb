{
  "nbformat": 4,
  "nbformat_minor": 0,
  "metadata": {
    "colab": {
      "provenance": []
    },
    "kernelspec": {
      "name": "python3",
      "display_name": "Python 3"
    },
    "language_info": {
      "name": "python"
    }
  },
  "cells": [
    {
      "cell_type": "markdown",
      "source": [
        "Hello **_SAT 4310_**  \n",
        "\n",
        "_World_"
      ],
      "metadata": {
        "id": "5f49ZTjKITYE"
      }
    },
    {
      "cell_type": "markdown",
      "source": [],
      "metadata": {
        "id": "dQFA_OjWhnS1"
      }
    },
    {
      "cell_type": "markdown",
      "source": [
        "This is _Course_ for **Python** <font color='blue'> Programming </font>"
      ],
      "metadata": {
        "id": "ihzXds7ohEG-"
      }
    },
    {
      "cell_type": "markdown",
      "source": [
        "$$c= \\sqrt{a^2 + B^2} $$\n",
        "$$c= \\sum_{n=1}^{\\infty} 2^{-n} $$"
      ],
      "metadata": {
        "id": "-S3LuafShd_G"
      }
    },
    {
      "cell_type": "markdown",
      "source": [
        "# Header1\n",
        "## Header2\n",
        "### Header3\n",
        "#### Header4\n",
        "##### Header5\n",
        "###### Header6"
      ],
      "metadata": {
        "id": "piSD0AgNhsQO"
      }
    },
    {
      "cell_type": "markdown",
      "source": [
        "* item 1\n",
        "- item 2\n",
        "+ item 3\n",
        "  * subitem 1"
      ],
      "metadata": {
        "id": "_jMq0aGsh-0m"
      }
    },
    {
      "cell_type": "markdown",
      "source": [
        "``` python\n",
        "\n",
        "  p = 6 + 3\n",
        "  print(p)\n",
        "\n",
        "```"
      ],
      "metadata": {
        "id": "xtAYHg_Vh_hf"
      }
    },
    {
      "cell_type": "markdown",
      "source": [
        "``` cpp\n",
        "#include <iostream>\n",
        "using namespace std;\n",
        "int main()\n",
        "{   int num = 5;\n",
        "    cout << num << endl;\n",
        "    num = num + 2;    cout << num << endl;\n",
        "    num = num / 3 * 6;    cout << num << endl;\n",
        "    cout << 7 + 15 % 4 << endl;\n",
        "    num = 24 / 3 / 4;    cout << num << endl;\n",
        "    num = 24 / (num / 4);    cout << num << endl;\n",
        "}\n",
        "```"
      ],
      "metadata": {
        "id": "GXIu-HfORoCN"
      }
    },
    {
      "cell_type": "markdown",
      "source": [
        "# **Python**\n",
        "\n",
        "---\n",
        "\n",
        "<center>\n",
        " <b> Python Basics </b>\n",
        "</center>"
      ],
      "metadata": {
        "id": "LnQ6ibNfj2W2"
      }
    },
    {
      "cell_type": "markdown",
      "source": [
        "### Strings"
      ],
      "metadata": {
        "id": "Zsx52JwXnijY"
      }
    },
    {
      "cell_type": "code",
      "source": [
        "Expression=\"Strings in Python\""
      ],
      "metadata": {
        "id": "nQU_s1KFou-k"
      },
      "execution_count": null,
      "outputs": []
    },
    {
      "cell_type": "code",
      "source": [
        "print(\"Strings in Python\")"
      ],
      "metadata": {
        "colab": {
          "base_uri": "https://localhost:8080/"
        },
        "id": "u6Ga2XL9Jvd6",
        "outputId": "56eaa295-41c4-420f-9071-8a17e3fc12e8"
      },
      "execution_count": null,
      "outputs": [
        {
          "output_type": "stream",
          "name": "stdout",
          "text": [
            "Strings in Python\n"
          ]
        }
      ]
    },
    {
      "cell_type": "code",
      "source": [
        "print(Expression)"
      ],
      "metadata": {
        "colab": {
          "base_uri": "https://localhost:8080/"
        },
        "id": "V-zOwYJso3f7",
        "outputId": "62a910b1-8302-4088-eaab-2d32942f03e5"
      },
      "execution_count": null,
      "outputs": [
        {
          "output_type": "stream",
          "name": "stdout",
          "text": [
            "Strings in Python\n"
          ]
        }
      ]
    },
    {
      "cell_type": "code",
      "source": [
        "b={2,3,4,}\n",
        "print(b)"
      ],
      "metadata": {
        "colab": {
          "base_uri": "https://localhost:8080/"
        },
        "id": "-Oy-n3joJ6HC",
        "outputId": "6a0f1ff4-565e-4181-e015-65ad68bad6fa"
      },
      "execution_count": null,
      "outputs": [
        {
          "output_type": "stream",
          "name": "stdout",
          "text": [
            "{2, 3, 4}\n"
          ]
        }
      ]
    },
    {
      "cell_type": "code",
      "source": [
        "print(\"Message\")"
      ],
      "metadata": {
        "colab": {
          "base_uri": "https://localhost:8080/"
        },
        "id": "abz1ohCKno4A",
        "outputId": "c6011681-5ddf-46c5-c561-3c4588ce6996"
      },
      "execution_count": null,
      "outputs": [
        {
          "output_type": "stream",
          "name": "stdout",
          "text": [
            "Message\n"
          ]
        }
      ]
    },
    {
      "cell_type": "code",
      "execution_count": null,
      "metadata": {
        "id": "Ews6txWQCfkz"
      },
      "outputs": [],
      "source": [
        "a =  \"Hello World\""
      ]
    },
    {
      "cell_type": "code",
      "source": [
        "a[-5:]"
      ],
      "metadata": {
        "colab": {
          "base_uri": "https://localhost:8080/",
          "height": 35
        },
        "id": "1b_ZG5SpGFu3",
        "outputId": "3de95905-1943-449f-d6c5-86f80fb700db"
      },
      "execution_count": null,
      "outputs": [
        {
          "output_type": "execute_result",
          "data": {
            "text/plain": [
              "'World'"
            ],
            "application/vnd.google.colaboratory.intrinsic+json": {
              "type": "string"
            }
          },
          "metadata": {},
          "execution_count": 9
        }
      ]
    },
    {
      "cell_type": "markdown",
      "source": [],
      "metadata": {
        "id": "-agGEqgwIPic"
      }
    },
    {
      "cell_type": "code",
      "source": [
        "print(\"Hello\"+\" world\")\n",
        "print(\"Hello\"*4)\n",
        "print(\"Hello\"[0])\n",
        "print(\"Hello\"[-1])\n",
        "print(\"Hello\"[1:4])"
      ],
      "metadata": {
        "id": "Hpg0zsaiGF0G",
        "colab": {
          "base_uri": "https://localhost:8080/"
        },
        "outputId": "97cd49c8-dab1-473e-d932-347df6ebf444"
      },
      "execution_count": null,
      "outputs": [
        {
          "output_type": "stream",
          "name": "stdout",
          "text": [
            "Hello world\n",
            "HelloHelloHelloHello\n",
            "H\n",
            "o\n",
            "ell\n"
          ]
        }
      ]
    },
    {
      "cell_type": "code",
      "source": [
        "##Strip method\n",
        "example=\"   This is an example for strip\"\n",
        "print(example)\n",
        "print(example.strip())"
      ],
      "metadata": {
        "id": "r-0T2xukGF1-",
        "colab": {
          "base_uri": "https://localhost:8080/"
        },
        "outputId": "5d21ae24-bb17-4cf8-a261-653588aef985"
      },
      "execution_count": null,
      "outputs": [
        {
          "output_type": "stream",
          "name": "stdout",
          "text": [
            "   This is an example for strip\n",
            "This is an example for strip\n"
          ]
        }
      ]
    },
    {
      "cell_type": "code",
      "source": [
        "### len built in function\n",
        "len(example)\n"
      ],
      "metadata": {
        "colab": {
          "base_uri": "https://localhost:8080/"
        },
        "id": "TtgGlvCdqcTL",
        "outputId": "fcb05771-3bb3-442a-d252-8037aca02c65"
      },
      "execution_count": null,
      "outputs": [
        {
          "output_type": "execute_result",
          "data": {
            "text/plain": [
              "31"
            ]
          },
          "metadata": {},
          "execution_count": 13
        }
      ]
    },
    {
      "cell_type": "code",
      "source": [
        "c={2,3,5,7,3}\n",
        "len(c)"
      ],
      "metadata": {
        "colab": {
          "base_uri": "https://localhost:8080/"
        },
        "id": "xDY_27X-Lli1",
        "outputId": "cd6fdcac-6fd0-46e1-a8ee-220d45a58c09"
      },
      "execution_count": null,
      "outputs": [
        {
          "output_type": "execute_result",
          "data": {
            "text/plain": [
              "4"
            ]
          },
          "metadata": {},
          "execution_count": 14
        }
      ]
    },
    {
      "cell_type": "code",
      "source": [
        "### UPPER and lower methods\n",
        "upper_case_example=\"  this IS AN EXAMPLE\"\n",
        "print(upper_case_example.upper())\n",
        "print(upper_case_example.upper().strip())\n",
        "print(upper_case_example.upper().strip().lower())"
      ],
      "metadata": {
        "colab": {
          "base_uri": "https://localhost:8080/"
        },
        "id": "0slH1NFbqcsG",
        "outputId": "5dce79e2-6459-4d24-8036-b8fa2e8b26cb"
      },
      "execution_count": null,
      "outputs": [
        {
          "output_type": "stream",
          "name": "stdout",
          "text": [
            "  THIS IS AN EXAMPLE\n",
            "THIS IS AN EXAMPLE\n",
            "this is an example\n"
          ]
        }
      ]
    },
    {
      "cell_type": "code",
      "source": [
        "### replace method\n",
        "print(upper_case_example.replace(\" \",\"?\"))"
      ],
      "metadata": {
        "colab": {
          "base_uri": "https://localhost:8080/"
        },
        "id": "eAOFGnxFqdOy",
        "outputId": "00e03436-1290-471d-d9b3-b9452b14d8e2"
      },
      "execution_count": null,
      "outputs": [
        {
          "output_type": "stream",
          "name": "stdout",
          "text": [
            "??this?IS?AN?EXAMPLE\n"
          ]
        }
      ]
    },
    {
      "cell_type": "code",
      "source": [
        "example=3.1415926\n",
        "print(example)"
      ],
      "metadata": {
        "colab": {
          "base_uri": "https://localhost:8080/"
        },
        "id": "pdE6HPxsqdiL",
        "outputId": "db906572-024f-4cc7-8743-7d0363fe45a6"
      },
      "execution_count": null,
      "outputs": [
        {
          "output_type": "stream",
          "name": "stdout",
          "text": [
            "3.1415926\n"
          ]
        }
      ]
    },
    {
      "cell_type": "code",
      "source": [
        "type(example)"
      ],
      "metadata": {
        "colab": {
          "base_uri": "https://localhost:8080/"
        },
        "id": "AQ0cf7D2qdxa",
        "outputId": "90aaa40a-8721-49da-a08b-7d2f57af20f8"
      },
      "execution_count": null,
      "outputs": [
        {
          "output_type": "execute_result",
          "data": {
            "text/plain": [
              "float"
            ]
          },
          "metadata": {},
          "execution_count": 28
        }
      ]
    },
    {
      "cell_type": "code",
      "source": [
        "#print(example[0:2])\n",
        "print(str(example)[0:2])"
      ],
      "metadata": {
        "colab": {
          "base_uri": "https://localhost:8080/"
        },
        "id": "WmmELZ1Tqd_M",
        "outputId": "7116c8e0-412e-4347-c4ff-c94a1cab840b"
      },
      "execution_count": null,
      "outputs": [
        {
          "output_type": "stream",
          "name": "stdout",
          "text": [
            "3.\n"
          ]
        }
      ]
    },
    {
      "cell_type": "code",
      "source": [
        "a =  \"HelloWorld\""
      ],
      "metadata": {
        "id": "WgP6iZo3qeMh"
      },
      "execution_count": 1,
      "outputs": []
    },
    {
      "cell_type": "code",
      "source": [
        "# index string to get the first three characters\n",
        "a[:3]\n"
      ],
      "metadata": {
        "id": "jzMHPanrqfVB",
        "colab": {
          "base_uri": "https://localhost:8080/",
          "height": 35
        },
        "outputId": "c4c0d02a-1515-4fbf-e469-a4886db691ec"
      },
      "execution_count": 2,
      "outputs": [
        {
          "output_type": "execute_result",
          "data": {
            "text/plain": [
              "'Hel'"
            ],
            "application/vnd.google.colaboratory.intrinsic+json": {
              "type": "string"
            }
          },
          "metadata": {},
          "execution_count": 2
        }
      ]
    },
    {
      "cell_type": "code",
      "source": [
        "# get every other letter\n",
        "a[3:]\n"
      ],
      "metadata": {
        "id": "Q0hw5kunuPOQ",
        "colab": {
          "base_uri": "https://localhost:8080/",
          "height": 35
        },
        "outputId": "03a992d3-694d-4c38-d52c-87a508522fc3"
      },
      "execution_count": 3,
      "outputs": [
        {
          "output_type": "execute_result",
          "data": {
            "text/plain": [
              "'loWorld'"
            ],
            "application/vnd.google.colaboratory.intrinsic+json": {
              "type": "string"
            }
          },
          "metadata": {},
          "execution_count": 3
        }
      ]
    },
    {
      "cell_type": "code",
      "source": [
        "a[::2]"
      ],
      "metadata": {
        "id": "X8NY2xTLYuNq",
        "colab": {
          "base_uri": "https://localhost:8080/",
          "height": 35
        },
        "outputId": "c51df2c9-37da-4ee6-ef1c-41127591d810"
      },
      "execution_count": 4,
      "outputs": [
        {
          "output_type": "execute_result",
          "data": {
            "text/plain": [
              "'Hlool'"
            ],
            "application/vnd.google.colaboratory.intrinsic+json": {
              "type": "string"
            }
          },
          "metadata": {},
          "execution_count": 4
        }
      ]
    },
    {
      "cell_type": "code",
      "source": [
        "# reverse the string\n",
        "a[::-1]"
      ],
      "metadata": {
        "id": "cXlWc4_0uPfC",
        "colab": {
          "base_uri": "https://localhost:8080/",
          "height": 35
        },
        "outputId": "752cbc52-5412-4136-8e64-16f3446017f2"
      },
      "execution_count": 5,
      "outputs": [
        {
          "output_type": "execute_result",
          "data": {
            "text/plain": [
              "'dlroWolleH'"
            ],
            "application/vnd.google.colaboratory.intrinsic+json": {
              "type": "string"
            }
          },
          "metadata": {},
          "execution_count": 5
        }
      ]
    },
    {
      "cell_type": "code",
      "source": [
        "# every other letter in the first 6 characters\n",
        "a[0:6:2]"
      ],
      "metadata": {
        "id": "yWTYb28EuPv2",
        "colab": {
          "base_uri": "https://localhost:8080/",
          "height": 35
        },
        "outputId": "f0318a48-4cbb-4a78-bd6f-9990468f95c3"
      },
      "execution_count": 6,
      "outputs": [
        {
          "output_type": "execute_result",
          "data": {
            "text/plain": [
              "'Hlo'"
            ],
            "application/vnd.google.colaboratory.intrinsic+json": {
              "type": "string"
            }
          },
          "metadata": {},
          "execution_count": 6
        }
      ]
    },
    {
      "cell_type": "markdown",
      "source": [
        "### String Format"
      ],
      "metadata": {
        "id": "QQ6sOl8-uupn"
      }
    },
    {
      "cell_type": "code",
      "source": [
        "CoureNum = 4310\n",
        "year=2023\n",
        "txt = \"I like SAT{} Fall{}\""
      ],
      "metadata": {
        "id": "c1N-FX6IuP_s"
      },
      "execution_count": 7,
      "outputs": []
    },
    {
      "cell_type": "code",
      "source": [
        "print(txt.format(year, CoureNum, CoureNum))"
      ],
      "metadata": {
        "colab": {
          "base_uri": "https://localhost:8080/"
        },
        "id": "zz858SOruQP4",
        "outputId": "66d33fc8-b680-4b3c-89ec-f261cde3bf5d"
      },
      "execution_count": 8,
      "outputs": [
        {
          "output_type": "stream",
          "name": "stdout",
          "text": [
            "I like SAT2023 Fall4310\n"
          ]
        }
      ]
    },
    {
      "cell_type": "code",
      "source": [
        "Semester = 'Fall'\n",
        "Year  = 2023\n",
        "Course = 'Python Programming'\n",
        "myStr = \"I want to take {2} in {0} {1}.\"\n",
        "print(myStr.format(Semester, Year, Course))"
      ],
      "metadata": {
        "colab": {
          "base_uri": "https://localhost:8080/"
        },
        "id": "crHZAFdvuMSw",
        "outputId": "e0a38efe-d196-4b13-a6ba-b31fa6b6ea86"
      },
      "execution_count": null,
      "outputs": [
        {
          "output_type": "stream",
          "name": "stdout",
          "text": [
            "I want to take Python Programming in Fall 2023.\n"
          ]
        }
      ]
    },
    {
      "cell_type": "code",
      "source": [
        "print(f\"I want to take {Course} in {Semester} {Year}\")"
      ],
      "metadata": {
        "colab": {
          "base_uri": "https://localhost:8080/"
        },
        "id": "idHQgU1OuMju",
        "outputId": "dbf06a41-a1ff-4301-e14a-79c40d77312f"
      },
      "execution_count": null,
      "outputs": [
        {
          "output_type": "stream",
          "name": "stdout",
          "text": [
            "I want to take Python Programming in Fall 2023\n"
          ]
        }
      ]
    },
    {
      "cell_type": "markdown",
      "source": [
        "## **09/06/2023**\n"
      ],
      "metadata": {
        "id": "R2DH-9Ku31vE"
      }
    },
    {
      "cell_type": "markdown",
      "source": [
        "## Specify decimal places in print()"
      ],
      "metadata": {
        "id": "r9qAncT0wM0l"
      }
    },
    {
      "cell_type": "code",
      "source": [
        "print(\"Floating point {0:.2f}\".format(256.859642, 42.3453))"
      ],
      "metadata": {
        "colab": {
          "base_uri": "https://localhost:8080/"
        },
        "id": "d6H6l32duMzu",
        "outputId": "46c255f3-303d-40a3-c566-180183cb4a00"
      },
      "execution_count": 10,
      "outputs": [
        {
          "output_type": "stream",
          "name": "stdout",
          "text": [
            "Floating point 256.86\n"
          ]
        }
      ]
    },
    {
      "cell_type": "code",
      "source": [
        "x=256.859642\n",
        "print(f\"Floating point {x:20.2f}\")"
      ],
      "metadata": {
        "colab": {
          "base_uri": "https://localhost:8080/"
        },
        "id": "luaQ4-lduNFi",
        "outputId": "60e4f78b-7144-421f-f98e-ebc2d8451865"
      },
      "execution_count": 12,
      "outputs": [
        {
          "output_type": "stream",
          "name": "stdout",
          "text": [
            "Floating point               256.86\n"
          ]
        }
      ]
    },
    {
      "cell_type": "code",
      "source": [
        "import math"
      ],
      "metadata": {
        "id": "FSKuM9LWx0H5"
      },
      "execution_count": null,
      "outputs": []
    },
    {
      "cell_type": "code",
      "source": [
        "print(\"Floating point pi = {0:.3f}, with {1:d} digit precision\".format(math.pi, 3) )\n"
      ],
      "metadata": {
        "colab": {
          "base_uri": "https://localhost:8080/"
        },
        "id": "9aaXQu7luNVo",
        "outputId": "c6826416-79a4-4671-9608-ce769fc6bc12"
      },
      "execution_count": null,
      "outputs": [
        {
          "output_type": "stream",
          "name": "stdout",
          "text": [
            "Floating point pi = 3.142, with 3 digit precision\n"
          ]
        }
      ]
    },
    {
      "cell_type": "code",
      "source": [
        "print(\"In binary 85 is {0:b}\".format(85))"
      ],
      "metadata": {
        "colab": {
          "base_uri": "https://localhost:8080/"
        },
        "id": "DpeFtzr8uNky",
        "outputId": "919246b8-c3ef-48d9-a3f3-9b749cd6e8a1"
      },
      "execution_count": 13,
      "outputs": [
        {
          "output_type": "stream",
          "name": "stdout",
          "text": [
            "In binary 85 is 1010101\n"
          ]
        }
      ]
    },
    {
      "cell_type": "code",
      "source": [
        "import math\n",
        "print (\"Floating point {2:10.8f}\".format(math.pi,8,96))"
      ],
      "metadata": {
        "colab": {
          "base_uri": "https://localhost:8080/"
        },
        "id": "lTd3m1Z_uN0U",
        "outputId": "05eee7cb-4408-485b-b645-c7cd47a4e54c"
      },
      "execution_count": 17,
      "outputs": [
        {
          "output_type": "stream",
          "name": "stdout",
          "text": [
            "Floating point 96.00000000\n"
          ]
        }
      ]
    },
    {
      "cell_type": "markdown",
      "source": [
        "#### Exercise: print the following message using multiple expressions (string + number).\n",
        "\n",
        "             Welcome to SAT-4310 ASP.\n"
      ],
      "metadata": {
        "id": "dU8CNaPiy0dv"
      }
    },
    {
      "cell_type": "code",
      "source": [
        "a=4310\n",
        "print(f\"Welcome to SAT- {a} ASP.\")"
      ],
      "metadata": {
        "id": "imMMD_CYY5zI",
        "colab": {
          "base_uri": "https://localhost:8080/"
        },
        "outputId": "93177329-7484-4ac3-d961-e641020313cb"
      },
      "execution_count": 21,
      "outputs": [
        {
          "output_type": "stream",
          "name": "stdout",
          "text": [
            "Welcome to SAT- 4310 ASP.\n"
          ]
        }
      ]
    },
    {
      "cell_type": "code",
      "source": [
        "###print(item1, item2, ..., itemN)"
      ],
      "metadata": {
        "id": "me62GRu5uODa"
      },
      "execution_count": null,
      "outputs": []
    },
    {
      "cell_type": "markdown",
      "source": [
        "## **sep parameter in print()**\n",
        "The separator between the arguments to print() function in Python is space by default.\n"
      ],
      "metadata": {
        "id": "4c55MPIlY-DQ"
      }
    },
    {
      "cell_type": "markdown",
      "source": [],
      "metadata": {
        "id": "AtDNtVBtY_gn"
      }
    },
    {
      "cell_type": "code",
      "source": [
        "print('SAT4310', 'Fall 2023')"
      ],
      "metadata": {
        "colab": {
          "base_uri": "https://localhost:8080/"
        },
        "id": "LSEXhK1AuOS3",
        "outputId": "9ac1046c-80a9-4f82-a690-67222a35a3fd"
      },
      "execution_count": 22,
      "outputs": [
        {
          "output_type": "stream",
          "name": "stdout",
          "text": [
            "SAT4310 Fall 2023\n"
          ]
        }
      ]
    },
    {
      "cell_type": "code",
      "source": [
        "#code for disabling the softspace feature\n",
        "print('S', 'A', 'T', sep='')"
      ],
      "metadata": {
        "id": "cTy8bfTkzJ1d",
        "colab": {
          "base_uri": "https://localhost:8080/"
        },
        "outputId": "2ed0515a-708f-4726-b8ea-e74c563500b3"
      },
      "execution_count": 25,
      "outputs": [
        {
          "output_type": "stream",
          "name": "stdout",
          "text": [
            "SAT\n"
          ]
        }
      ]
    },
    {
      "cell_type": "code",
      "source": [
        "#for formatting a date\n",
        "print('08', '30', '2023', sep='-')"
      ],
      "metadata": {
        "id": "3wDwKggJzOe0",
        "colab": {
          "base_uri": "https://localhost:8080/"
        },
        "outputId": "821d00b8-2721-4b4e-b826-3388f40e7c50"
      },
      "execution_count": 26,
      "outputs": [
        {
          "output_type": "stream",
          "name": "stdout",
          "text": [
            "08-30-2023\n"
          ]
        }
      ]
    },
    {
      "cell_type": "code",
      "source": [
        "#another example\n",
        "print('SAT4310', 'Fall 2023', sep='@')"
      ],
      "metadata": {
        "id": "6GdFkTb8zOuH",
        "colab": {
          "base_uri": "https://localhost:8080/"
        },
        "outputId": "ecfe7b18-93be-4679-bfb3-c355657c900a"
      },
      "execution_count": 27,
      "outputs": [
        {
          "output_type": "stream",
          "name": "stdout",
          "text": [
            "SAT4310@Fall 2023\n"
          ]
        }
      ]
    },
    {
      "cell_type": "markdown",
      "source": [
        "## Python Booleans\n",
        "Booleans represent one of two values: <font color='blue'>True </font> or <font color='red'>False</font>.\n",
        "\n",
        "You can evaluate any expression in Python, and return: <font color='blue'>True </font> or <font color='red'>False</font>."
      ],
      "metadata": {
        "id": "baPvWwq-zsT_"
      }
    },
    {
      "cell_type": "code",
      "source": [
        "print(100 > 39)\n",
        "print(12 == 13)\n",
        "print(15 < 6)"
      ],
      "metadata": {
        "id": "IV14wVCmzO7s",
        "colab": {
          "base_uri": "https://localhost:8080/"
        },
        "outputId": "211a867a-9d79-422f-d66b-92ed9b6e8b74"
      },
      "execution_count": 28,
      "outputs": [
        {
          "output_type": "stream",
          "name": "stdout",
          "text": [
            "True\n",
            "False\n",
            "False\n"
          ]
        }
      ]
    },
    {
      "cell_type": "markdown",
      "source": [
        "Evaluate Values and Variables\n",
        "The bool() function allows you to evaluate any value, and give you <font color='blue'>True </font> or <font color='red'>False</font> in return."
      ],
      "metadata": {
        "id": "Evw-yPp8ZHD4"
      }
    },
    {
      "cell_type": "code",
      "source": [
        "bool(\"abc\")\n",
        "bool(258)\n",
        "bool([\"apple\", \"cherry\", \"banana\"])"
      ],
      "metadata": {
        "id": "_fSw6swAzPHK",
        "colab": {
          "base_uri": "https://localhost:8080/"
        },
        "outputId": "49da39b9-8bfb-4a2b-c4f2-ac378670de15"
      },
      "execution_count": 29,
      "outputs": [
        {
          "output_type": "execute_result",
          "data": {
            "text/plain": [
              "True"
            ]
          },
          "metadata": {},
          "execution_count": 29
        }
      ]
    },
    {
      "cell_type": "code",
      "source": [
        "bool(False)\n",
        "bool(None)\n",
        "bool(0)\n",
        "bool(\"\")\n",
        "bool(())\n",
        "bool([])\n",
        "bool({})\n"
      ],
      "metadata": {
        "id": "g3-eIG5jzPRy",
        "colab": {
          "base_uri": "https://localhost:8080/"
        },
        "outputId": "d1d55161-ab25-4e66-c3b4-30b34bf472ba"
      },
      "execution_count": 30,
      "outputs": [
        {
          "output_type": "execute_result",
          "data": {
            "text/plain": [
              "False"
            ]
          },
          "metadata": {},
          "execution_count": 30
        }
      ]
    },
    {
      "cell_type": "markdown",
      "source": [
        "## Python Numbers"
      ],
      "metadata": {
        "id": "KTaBFzuR0HGF"
      }
    },
    {
      "cell_type": "markdown",
      "source": [
        "* int\n",
        "* float\n",
        "* Complex"
      ],
      "metadata": {
        "id": "M2HnbvJ60KOn"
      }
    },
    {
      "cell_type": "code",
      "source": [
        "x = 10             # int\n",
        "y = 3.256        # float\n",
        "z = 5 + 2j        # complex"
      ],
      "metadata": {
        "id": "AD2bbcc1zPde"
      },
      "execution_count": 31,
      "outputs": []
    },
    {
      "cell_type": "code",
      "source": [
        "type(z)"
      ],
      "metadata": {
        "colab": {
          "base_uri": "https://localhost:8080/"
        },
        "id": "jXklIetVzPo6",
        "outputId": "391c082e-f7dd-4c92-ac48-2d4b72aceb7d"
      },
      "execution_count": 32,
      "outputs": [
        {
          "output_type": "execute_result",
          "data": {
            "text/plain": [
              "complex"
            ]
          },
          "metadata": {},
          "execution_count": 32
        }
      ]
    },
    {
      "cell_type": "markdown",
      "source": [
        "## **Numbers**-float"
      ],
      "metadata": {
        "id": "oDo4va2G0Ww1"
      }
    },
    {
      "cell_type": "code",
      "source": [
        "#Examples of floats\n",
        "x = 2.5\n",
        "y = -50.0\n",
        "z = 100.00001\n"
      ],
      "metadata": {
        "id": "mPZHiV65zP0B"
      },
      "execution_count": 33,
      "outputs": []
    },
    {
      "cell_type": "code",
      "source": [
        "a = 5.2e3\n",
        "print(a)\n",
        "b = 800\n",
        "print(b)\n",
        "c = -32.6e-2\n",
        "print(c)\n",
        "d = 0.01\n",
        "print(d)"
      ],
      "metadata": {
        "id": "95HuW3gyzQAC",
        "colab": {
          "base_uri": "https://localhost:8080/"
        },
        "outputId": "1061c0c2-c07a-4237-e949-fd6bfc389c6d"
      },
      "execution_count": 35,
      "outputs": [
        {
          "output_type": "stream",
          "name": "stdout",
          "text": [
            "5200.0\n",
            "800\n",
            "-0.326\n",
            "0.01\n"
          ]
        }
      ]
    },
    {
      "cell_type": "code",
      "source": [],
      "metadata": {
        "id": "iiZymQHl4rQ9"
      },
      "execution_count": null,
      "outputs": []
    },
    {
      "cell_type": "markdown",
      "source": [
        "## **Numbers** - complex"
      ],
      "metadata": {
        "id": "Ocuh0KHo0voN"
      }
    },
    {
      "cell_type": "code",
      "source": [
        "x = 3+5j\n",
        "y = 5.2j\n",
        "z = -3j"
      ],
      "metadata": {
        "id": "twHDLbWuzQK7"
      },
      "execution_count": 36,
      "outputs": []
    },
    {
      "cell_type": "code",
      "source": [
        "x = int(1.8)\n",
        "print(type(x))\n",
        "print(x)\n",
        "x = float(1)\n",
        "print(type(x))\n",
        "print(x)\n",
        "x = str(2.000)\n",
        "print(type(x))\n",
        "print(x)\n",
        "x = complex(x)\n",
        "print(type(x))\n",
        "print(x)\n",
        "y=2\n",
        "z = complex(x, y)\n",
        "print(type(z))\n",
        "print(z)"
      ],
      "metadata": {
        "id": "DR72GcDfzQV3",
        "colab": {
          "base_uri": "https://localhost:8080/"
        },
        "outputId": "98d3debe-2315-48aa-a8fc-d490b995f0d1"
      },
      "execution_count": 38,
      "outputs": [
        {
          "output_type": "stream",
          "name": "stdout",
          "text": [
            "<class 'int'>\n",
            "1\n",
            "<class 'float'>\n",
            "1.0\n",
            "<class 'str'>\n",
            "2.0\n",
            "<class 'complex'>\n",
            "(2+0j)\n",
            "<class 'complex'>\n",
            "(2+2j)\n"
          ]
        }
      ]
    },
    {
      "cell_type": "markdown",
      "source": [
        "## **Python Arithmetic Operators**\n",
        "\n",
        "![image.png](data:image/png;base64,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)"
      ],
      "metadata": {
        "id": "EGBXax4nZTsx"
      }
    },
    {
      "cell_type": "markdown",
      "source": [
        "## Operators Exercise\n"
      ],
      "metadata": {
        "id": "EAIvoNFX1ZSP"
      }
    },
    {
      "cell_type": "code",
      "source": [
        "x=150\n",
        "y=8"
      ],
      "metadata": {
        "id": "JPDoOX3l5X16"
      },
      "execution_count": 39,
      "outputs": []
    },
    {
      "cell_type": "code",
      "source": [
        "print('x + y =', x+y)\n",
        "\n"
      ],
      "metadata": {
        "id": "lmOrPdG-zQfm",
        "colab": {
          "base_uri": "https://localhost:8080/"
        },
        "outputId": "3dfb9170-2721-4a0f-ea04-3717b27b0a55"
      },
      "execution_count": 40,
      "outputs": [
        {
          "output_type": "stream",
          "name": "stdout",
          "text": [
            "x + y = 158\n"
          ]
        }
      ]
    },
    {
      "cell_type": "code",
      "source": [
        "print('x - y =', x-y)\n",
        "\n"
      ],
      "metadata": {
        "id": "TKaUBKsEzQpD",
        "colab": {
          "base_uri": "https://localhost:8080/"
        },
        "outputId": "48d51d87-90d9-4a76-c8e2-9616074ab0bc"
      },
      "execution_count": 41,
      "outputs": [
        {
          "output_type": "stream",
          "name": "stdout",
          "text": [
            "x - y = 142\n"
          ]
        }
      ]
    },
    {
      "cell_type": "code",
      "source": [
        "print('x * y =', x*y)\n",
        "\n"
      ],
      "metadata": {
        "id": "lTnTsmCW1gJD",
        "colab": {
          "base_uri": "https://localhost:8080/"
        },
        "outputId": "d7b62687-71d4-437f-ae0a-375cdd16334c"
      },
      "execution_count": 42,
      "outputs": [
        {
          "output_type": "stream",
          "name": "stdout",
          "text": [
            "x * y = 1200\n"
          ]
        }
      ]
    },
    {
      "cell_type": "code",
      "source": [
        "print('x / y =',  x/y)\n",
        "\n"
      ],
      "metadata": {
        "id": "4ZhP_jnj1gE9",
        "colab": {
          "base_uri": "https://localhost:8080/"
        },
        "outputId": "acc5b5fa-ae5c-4b0c-9a6d-c3f679995556"
      },
      "execution_count": 43,
      "outputs": [
        {
          "output_type": "stream",
          "name": "stdout",
          "text": [
            "x / y = 18.75\n"
          ]
        }
      ]
    },
    {
      "cell_type": "code",
      "source": [
        "print('x // y =', x//y)\n",
        "\n"
      ],
      "metadata": {
        "id": "X9kBvkqZ1f_p",
        "colab": {
          "base_uri": "https://localhost:8080/"
        },
        "outputId": "fee1f313-af4c-4eba-c806-c34f25485c1b"
      },
      "execution_count": 44,
      "outputs": [
        {
          "output_type": "stream",
          "name": "stdout",
          "text": [
            "x // y = 18\n"
          ]
        }
      ]
    },
    {
      "cell_type": "code",
      "source": [
        "print('x %  y =', x%y)\n",
        "\n"
      ],
      "metadata": {
        "id": "3JgALGS31f9m",
        "colab": {
          "base_uri": "https://localhost:8080/"
        },
        "outputId": "8c332deb-7863-4483-e36f-bb1a0abd6418"
      },
      "execution_count": 45,
      "outputs": [
        {
          "output_type": "stream",
          "name": "stdout",
          "text": [
            "x %  y = 6\n"
          ]
        }
      ]
    },
    {
      "cell_type": "code",
      "source": [
        "print('x ** y =', x**y)\n"
      ],
      "metadata": {
        "id": "jPJTAOm_1f4_",
        "colab": {
          "base_uri": "https://localhost:8080/"
        },
        "outputId": "82926007-85e4-4e8c-cb7f-e29439bcca35"
      },
      "execution_count": 46,
      "outputs": [
        {
          "output_type": "stream",
          "name": "stdout",
          "text": [
            "x ** y = 256289062500000000\n"
          ]
        }
      ]
    },
    {
      "cell_type": "markdown",
      "source": [
        "## Python Assignment Operators\n",
        "\n",
        "![image.png](data:image/png;base64,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)"
      ],
      "metadata": {
        "id": "-zWXbSW1ZXu4"
      }
    },
    {
      "cell_type": "code",
      "source": [
        "x=150\n",
        "y=8"
      ],
      "metadata": {
        "id": "R7hrlGLr5lTB"
      },
      "execution_count": 47,
      "outputs": []
    },
    {
      "cell_type": "code",
      "source": [
        "x+=3\n",
        "print(x)\n",
        "\n"
      ],
      "metadata": {
        "colab": {
          "base_uri": "https://localhost:8080/"
        },
        "id": "Sj9paxSv5nUr",
        "outputId": "33459f2b-4548-44a8-e1ae-e825d60ddfcc"
      },
      "execution_count": 48,
      "outputs": [
        {
          "output_type": "stream",
          "name": "stdout",
          "text": [
            "153\n"
          ]
        }
      ]
    },
    {
      "cell_type": "markdown",
      "source": [
        "## **Number Type Conversion - Casting**\n",
        "Convert from one type to another\n",
        "\n",
        "* int(x) to convert x to a plain integer.\n",
        "* float(x) to convert x to a floating-point number.\n",
        "* complex(x) to convert x to a complex number with real part x and imaginary part zero.\n",
        "* complex(x, y) to convert x and y to a complex number with real part x and imaginary part y. x and y are numeric expressions\n",
        "* str(x) to convert x to a string\n"
      ],
      "metadata": {
        "id": "F4Bdq_GyZcNh"
      }
    },
    {
      "cell_type": "code",
      "source": [
        "#Examples\n",
        "x = int(1.8)  # x will be 1\n",
        "type(x)"
      ],
      "metadata": {
        "id": "oLxG2vOBZXQw",
        "colab": {
          "base_uri": "https://localhost:8080/"
        },
        "outputId": "b678a2a4-57ff-4e3f-81ee-79ef5067d6f6"
      },
      "execution_count": 49,
      "outputs": [
        {
          "output_type": "execute_result",
          "data": {
            "text/plain": [
              "int"
            ]
          },
          "metadata": {},
          "execution_count": 49
        }
      ]
    },
    {
      "cell_type": "code",
      "source": [
        "x = float(1) # x will be 1.0\n",
        "type(x)"
      ],
      "metadata": {
        "id": "Z7dE3QNMZgnI",
        "colab": {
          "base_uri": "https://localhost:8080/"
        },
        "outputId": "cc54ac55-017e-4f6b-dfdd-c5cf74b298c8"
      },
      "execution_count": 50,
      "outputs": [
        {
          "output_type": "execute_result",
          "data": {
            "text/plain": [
              "float"
            ]
          },
          "metadata": {},
          "execution_count": 50
        }
      ]
    },
    {
      "cell_type": "code",
      "source": [
        "x = str(2) # x will be '2’\n",
        "type(x)"
      ],
      "metadata": {
        "id": "BGppeT1ZZh35",
        "colab": {
          "base_uri": "https://localhost:8080/"
        },
        "outputId": "2e543cf1-e13e-49a8-a076-7791af52a775"
      },
      "execution_count": 51,
      "outputs": [
        {
          "output_type": "execute_result",
          "data": {
            "text/plain": [
              "str"
            ]
          },
          "metadata": {},
          "execution_count": 51
        }
      ]
    },
    {
      "cell_type": "code",
      "source": [
        "x = complex(x) # x will be (x+0j)\n",
        "type(x)"
      ],
      "metadata": {
        "id": "lLeUzyGQZk0w",
        "colab": {
          "base_uri": "https://localhost:8080/"
        },
        "outputId": "2917cc43-c7f2-4e2c-e062-66ddbf84fe7a"
      },
      "execution_count": 52,
      "outputs": [
        {
          "output_type": "execute_result",
          "data": {
            "text/plain": [
              "complex"
            ]
          },
          "metadata": {},
          "execution_count": 52
        }
      ]
    },
    {
      "cell_type": "code",
      "source": [
        "z = complex(x, y) #z will be (x+yj)\n",
        "type(z)"
      ],
      "metadata": {
        "id": "Ef21EFzNZmfg",
        "colab": {
          "base_uri": "https://localhost:8080/"
        },
        "outputId": "35362e65-8cb8-4458-ae08-f9255936b050"
      },
      "execution_count": 53,
      "outputs": [
        {
          "output_type": "execute_result",
          "data": {
            "text/plain": [
              "complex"
            ]
          },
          "metadata": {},
          "execution_count": 53
        }
      ]
    },
    {
      "cell_type": "markdown",
      "source": [
        "Exercises\n",
        "\n",
        "1. Insert the missing part of the code below to output \"Hello World\".\n",
        "\n",
        " ___(\"Hello World\")\n",
        "\n",
        "2. Display the sum of 5 + 10, using two variables: x and y\n",
        "* __ = __\n",
        "* y=10\n",
        "* z = x + y\n",
        "* print(_)\n",
        "\n",
        "3. What are the outputs after 10//3 and 10%3?\n"
      ],
      "metadata": {
        "id": "KV2QH29u2Ctp"
      }
    },
    {
      "cell_type": "code",
      "source": [
        "print(\"Hello World\")"
      ],
      "metadata": {
        "colab": {
          "base_uri": "https://localhost:8080/"
        },
        "id": "6jl9NuJdLT_W",
        "outputId": "be3ff30a-a698-43e9-c56b-1ec415608b59"
      },
      "execution_count": 54,
      "outputs": [
        {
          "output_type": "stream",
          "name": "stdout",
          "text": [
            "Hello World\n"
          ]
        }
      ]
    },
    {
      "cell_type": "code",
      "source": [
        "x = 5\n",
        "y=10\n",
        "z = x + y\n",
        "print(z)"
      ],
      "metadata": {
        "colab": {
          "base_uri": "https://localhost:8080/"
        },
        "id": "y3QTDm8LLacN",
        "outputId": "5cbafade-c594-4c8e-d480-9b190f14dcc7"
      },
      "execution_count": 55,
      "outputs": [
        {
          "output_type": "stream",
          "name": "stdout",
          "text": [
            "15\n"
          ]
        }
      ]
    },
    {
      "cell_type": "code",
      "source": [
        "10//3"
      ],
      "metadata": {
        "colab": {
          "base_uri": "https://localhost:8080/"
        },
        "id": "GvhkgyZ8LiT1",
        "outputId": "32f9006c-5ba7-4f54-a6f8-3e13e473e174"
      },
      "execution_count": 56,
      "outputs": [
        {
          "output_type": "execute_result",
          "data": {
            "text/plain": [
              "3"
            ]
          },
          "metadata": {},
          "execution_count": 56
        }
      ]
    },
    {
      "cell_type": "code",
      "source": [
        "10%3"
      ],
      "metadata": {
        "colab": {
          "base_uri": "https://localhost:8080/"
        },
        "id": "9xT_kVj_LlH2",
        "outputId": "f2bd3805-23d3-4a91-83f0-7289385716b3"
      },
      "execution_count": 57,
      "outputs": [
        {
          "output_type": "execute_result",
          "data": {
            "text/plain": [
              "1"
            ]
          },
          "metadata": {},
          "execution_count": 57
        }
      ]
    },
    {
      "cell_type": "markdown",
      "source": [
        "## **Python Comparison Operators**\n",
        "![image.png](data:image/png;base64,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)"
      ],
      "metadata": {
        "id": "hFPaEGdBKg_m"
      }
    },
    {
      "cell_type": "markdown",
      "source": [
        "## **Logical Operators in Python**\n",
        "![image.png](data:image/png;base64,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)"
      ],
      "metadata": {
        "id": "qIRoZBk9KxBO"
      }
    },
    {
      "cell_type": "code",
      "source": [
        "a = 5; b = 3; c = 3\n",
        "\n",
        "# Output: x and y is False\n",
        "print('a==c and b==c is ', a==c and b==c)\n",
        "\n",
        "# Output: x or y is True\n",
        "print('a==c or b==c is', a==c or b==c)\n",
        "\n",
        "# Output: not x is True\n",
        "print('not a==c is', not a==c)\n"
      ],
      "metadata": {
        "id": "7tHhQvY_1pmm",
        "colab": {
          "base_uri": "https://localhost:8080/"
        },
        "outputId": "67e757ae-fe05-45d4-be08-b73412405590"
      },
      "execution_count": 58,
      "outputs": [
        {
          "output_type": "stream",
          "name": "stdout",
          "text": [
            "a==c and b==c is  False\n",
            "a==c or b==c is True\n",
            "not a==c is True\n"
          ]
        }
      ]
    },
    {
      "cell_type": "markdown",
      "source": [
        "## **Math Commands**\n",
        "![image.png](data:image/png;base64,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)"
      ],
      "metadata": {
        "id": "dVb6MEDkL8sF"
      }
    },
    {
      "cell_type": "code",
      "source": [
        "abs(-8.2)"
      ],
      "metadata": {
        "colab": {
          "base_uri": "https://localhost:8080/",
          "height": 175
        },
        "id": "bgo0S2jgMfnP",
        "outputId": "570b2043-e3e8-4128-81a8-85b53a1071df"
      },
      "execution_count": 66,
      "outputs": [
        {
          "output_type": "error",
          "ename": "AttributeError",
          "evalue": "ignored",
          "traceback": [
            "\u001b[0;31m---------------------------------------------------------------------------\u001b[0m",
            "\u001b[0;31mAttributeError\u001b[0m                            Traceback (most recent call last)",
            "\u001b[0;32m<ipython-input-66-4f697d7fb11b>\u001b[0m in \u001b[0;36m<cell line: 1>\u001b[0;34m()\u001b[0m\n\u001b[0;32m----> 1\u001b[0;31m \u001b[0mmath\u001b[0m\u001b[0;34m.\u001b[0m\u001b[0mabs\u001b[0m\u001b[0;34m(\u001b[0m\u001b[0;34m-\u001b[0m\u001b[0;36m8.2\u001b[0m\u001b[0;34m)\u001b[0m\u001b[0;34m\u001b[0m\u001b[0;34m\u001b[0m\u001b[0m\n\u001b[0m",
            "\u001b[0;31mAttributeError\u001b[0m: module 'math' has no attribute 'abs'"
          ]
        }
      ]
    },
    {
      "cell_type": "markdown",
      "source": [
        "## **Lists and Arrays in Python**\n",
        "A **list** is a data structure that's built into Python and holds a collection of items. Lists have a number of important characteristics:\n",
        "\n",
        "* List items are enclosed in square brackets, like this [item1, item2, item3].\n",
        "* Lists are ordered – i.e. the items in the list appear in a specific order. This enables us to use an index to access to any item.\n",
        "* Lists are mutable, which means you can add or remove items after a list's creation.\n",
        "* List elements do not need to be unique. Item duplication is possible, as each element has its own distinct place and can be accessed separately through the index.\n",
        "* Elements can be of different data types: you can combine strings, integers, and objects in the same list.\n",
        "\n",
        "\n",
        "An **array** is also a data structure that stores a collection of items. Like lists, arrays are ordered, mutable, enclosed in square brackets, and able to store non-unique items.\n",
        "\n",
        "But when it comes to the array's ability to store different data types, the answer is not as straightforward. It depends on the kind of array used.\n",
        "\n",
        "To use arrays in Python, you need to import either an array module or a NumPy package.\n",
        "\n",
        "**Differences:**\n",
        "* Arrays need to be declared.\n",
        "* Arrays can store data very compactly\n",
        "* Arrays are great for numerical operations\n",
        "\n",
        "[source](https://learnpython.com/blog/python-array-vs-list/)"
      ],
      "metadata": {
        "id": "00R6nNVDMv8u"
      }
    },
    {
      "cell_type": "markdown",
      "source": [
        "## Create Array\n"
      ],
      "metadata": {
        "id": "5gxeHJJXZ1Wp"
      }
    },
    {
      "cell_type": "code",
      "source": [
        "# Creating a (1x4) vector:\n",
        "import numpy as np\n",
        "x = np.array([10, 20, 30, 40])\n",
        "print(x)"
      ],
      "metadata": {
        "colab": {
          "base_uri": "https://localhost:8080/"
        },
        "id": "LBmpzXIMMcVv",
        "outputId": "89375b98-077d-4164-d2b5-7acf55c299a9"
      },
      "execution_count": 67,
      "outputs": [
        {
          "output_type": "stream",
          "name": "stdout",
          "text": [
            "[10 20 30 40]\n"
          ]
        }
      ]
    },
    {
      "cell_type": "code",
      "source": [
        "#Create a (3x2) matrix with nested brackets\n",
        "#The array() function can also create 2-dimensional arrays with nested brackets:\n",
        "A = np.array([[10, 2], [30, 4], [50, 6],[5,6]])\n",
        "print(A)"
      ],
      "metadata": {
        "colab": {
          "base_uri": "https://localhost:8080/"
        },
        "id": "Nv8svjbLMcS9",
        "outputId": "e0a1167c-994c-4796-9616-89d95d819974"
      },
      "execution_count": 70,
      "outputs": [
        {
          "output_type": "stream",
          "name": "stdout",
          "text": [
            "[[10  2]\n",
            " [30  4]\n",
            " [50  6]\n",
            " [ 5  6]]\n"
          ]
        }
      ]
    },
    {
      "cell_type": "code",
      "source": [
        "#Shape function\n",
        "#The shape of an array returns the number of values for each dimension\n",
        "A.shape   #returns (3, 2)\n"
      ],
      "metadata": {
        "colab": {
          "base_uri": "https://localhost:8080/"
        },
        "id": "FcmeBrVPMcQG",
        "outputId": "87e04062-2019-47e7-d9d1-319f9878f515"
      },
      "execution_count": 71,
      "outputs": [
        {
          "output_type": "execute_result",
          "data": {
            "text/plain": [
              "(4, 2)"
            ]
          },
          "metadata": {},
          "execution_count": 71
        }
      ]
    },
    {
      "cell_type": "markdown",
      "source": [
        "## Array Operations\n"
      ],
      "metadata": {
        "id": "NiCUBXhEaK_A"
      }
    },
    {
      "cell_type": "code",
      "source": [
        "#Transposition\n",
        "A = np.array([[10, 2], [30, 4], [50, 6]])\n",
        "A_t = A.T\n",
        "print(A)\n",
        "print(\"\\n\")\n",
        "print(A_t)"
      ],
      "metadata": {
        "colab": {
          "base_uri": "https://localhost:8080/"
        },
        "id": "pJd042B_aB_y",
        "outputId": "2c1533e6-7899-4ce8-9676-a9c9c4bfc14d"
      },
      "execution_count": 72,
      "outputs": [
        {
          "output_type": "stream",
          "name": "stdout",
          "text": [
            "[[10  2]\n",
            " [30  4]\n",
            " [50  6]]\n",
            "\n",
            "\n",
            "[[10 30 50]\n",
            " [ 2  4  6]]\n"
          ]
        }
      ]
    },
    {
      "cell_type": "code",
      "source": [
        "#Addition\n",
        "A = np.array([[10, 2], [30, 4], [50, 6]])\n",
        "B = np.array([[2, 5], [7, 4], [4, 3]])\n",
        "C = A + B\n",
        "D = A+2 #(add a scalar)\n",
        "print(A)\n",
        "print(\"\\n\")\n",
        "print(B)\n",
        "print(\"\\n\")\n",
        "print(C)\n",
        "print(\"\\n\")\n",
        "print(D)"
      ],
      "metadata": {
        "colab": {
          "base_uri": "https://localhost:8080/"
        },
        "id": "5pK69bX1aB9Z",
        "outputId": "dffa69c5-1463-4eee-e045-4ef6c791b8ff"
      },
      "execution_count": 73,
      "outputs": [
        {
          "output_type": "stream",
          "name": "stdout",
          "text": [
            "[[10  2]\n",
            " [30  4]\n",
            " [50  6]]\n",
            "\n",
            "\n",
            "[[2 5]\n",
            " [7 4]\n",
            " [4 3]]\n",
            "\n",
            "\n",
            "[[12  7]\n",
            " [37  8]\n",
            " [54  9]]\n",
            "\n",
            "\n",
            "[[12  4]\n",
            " [32  6]\n",
            " [52  8]]\n"
          ]
        }
      ]
    },
    {
      "cell_type": "markdown",
      "source": [
        "## Indexing in Array\n"
      ],
      "metadata": {
        "id": "xfZeFiI7auSo"
      }
    },
    {
      "cell_type": "code",
      "source": [
        "A = np.array([[3, 0, 2], [2, 0, -2], [0, 1, 1]])\n",
        "print(A)"
      ],
      "metadata": {
        "colab": {
          "base_uri": "https://localhost:8080/"
        },
        "id": "dLAod8V8aB64",
        "outputId": "5b4888cb-e8f3-479d-ea20-e4fa531327e0"
      },
      "execution_count": 74,
      "outputs": [
        {
          "output_type": "stream",
          "name": "stdout",
          "text": [
            "[[ 3  0  2]\n",
            " [ 2  0 -2]\n",
            " [ 0  1  1]]\n"
          ]
        }
      ]
    },
    {
      "cell_type": "markdown",
      "source": [],
      "metadata": {
        "id": "TeH3nSxKatzI"
      }
    },
    {
      "cell_type": "code",
      "source": [
        "A[0]"
      ],
      "metadata": {
        "id": "jWtkbZSFaB4a",
        "colab": {
          "base_uri": "https://localhost:8080/"
        },
        "outputId": "3880a3f0-7d40-4dfd-e3ab-47b00d23477b"
      },
      "execution_count": 75,
      "outputs": [
        {
          "output_type": "execute_result",
          "data": {
            "text/plain": [
              "array([3, 0, 2])"
            ]
          },
          "metadata": {},
          "execution_count": 75
        }
      ]
    },
    {
      "cell_type": "code",
      "source": [
        "A[:2]"
      ],
      "metadata": {
        "id": "6QHa41uYaB14",
        "colab": {
          "base_uri": "https://localhost:8080/"
        },
        "outputId": "d776dfbf-d13d-4c75-c1c4-6e7f6a559b14"
      },
      "execution_count": 77,
      "outputs": [
        {
          "output_type": "execute_result",
          "data": {
            "text/plain": [
              "array([[ 3,  0,  2],\n",
              "       [ 2,  0, -2]])"
            ]
          },
          "metadata": {},
          "execution_count": 77
        }
      ]
    },
    {
      "cell_type": "code",
      "source": [
        "A[1:]"
      ],
      "metadata": {
        "id": "93YGSrSpaBzQ",
        "colab": {
          "base_uri": "https://localhost:8080/"
        },
        "outputId": "8710eea4-161a-478e-e094-fb04d53dcf9c"
      },
      "execution_count": 78,
      "outputs": [
        {
          "output_type": "execute_result",
          "data": {
            "text/plain": [
              "array([[ 2,  0, -2],\n",
              "       [ 0,  1,  1]])"
            ]
          },
          "metadata": {},
          "execution_count": 78
        }
      ]
    },
    {
      "cell_type": "code",
      "source": [
        "A[2,1]"
      ],
      "metadata": {
        "id": "Wkz0W938a7B7",
        "colab": {
          "base_uri": "https://localhost:8080/"
        },
        "outputId": "88035453-046b-4e43-baff-a5bb53f0b6db"
      },
      "execution_count": 79,
      "outputs": [
        {
          "output_type": "execute_result",
          "data": {
            "text/plain": [
              "1"
            ]
          },
          "metadata": {},
          "execution_count": 79
        }
      ]
    },
    {
      "cell_type": "markdown",
      "source": [
        "## Broadcasting\n",
        "Numpy can handle operations on arrays of different shapes. The smaller size array will be extended to match the shape of the bigger one.\n"
      ],
      "metadata": {
        "id": "uoyrMXmsbBDB"
      }
    },
    {
      "cell_type": "code",
      "source": [
        "A = np.array([[10, 2], [30, 4], [50, 6]])\n",
        "B = np.array([[2], [6], [3]])\n",
        "C=A+B   #(Broadcasting)\n",
        "print(A)\n",
        "print(\"\\n\")\n",
        "print(B)\n",
        "print(\"\\n\")\n",
        "print(C)"
      ],
      "metadata": {
        "colab": {
          "base_uri": "https://localhost:8080/"
        },
        "id": "vubWWT0zbLXx",
        "outputId": "dd6e4463-ff62-4cd1-a909-f27bd6f89899"
      },
      "execution_count": 80,
      "outputs": [
        {
          "output_type": "stream",
          "name": "stdout",
          "text": [
            "[[10  2]\n",
            " [30  4]\n",
            " [50  6]]\n",
            "\n",
            "\n",
            "[[2]\n",
            " [6]\n",
            " [3]]\n",
            "\n",
            "\n",
            "[[12  4]\n",
            " [36 10]\n",
            " [53  9]]\n"
          ]
        }
      ]
    },
    {
      "cell_type": "markdown",
      "source": [
        "## Identity matrix\n",
        "An identity matrix can be created with the Numpy function <font color='blue'>eye()</font>:\n"
      ],
      "metadata": {
        "id": "Xl2JQ4bBbYp4"
      }
    },
    {
      "cell_type": "code",
      "source": [
        "np.eye(3)\n"
      ],
      "metadata": {
        "colab": {
          "base_uri": "https://localhost:8080/"
        },
        "id": "90YjGTakbk2w",
        "outputId": "f960d74c-6f10-4aad-b0fc-7c53e6bee6d0"
      },
      "execution_count": 81,
      "outputs": [
        {
          "output_type": "execute_result",
          "data": {
            "text/plain": [
              "array([[1., 0., 0.],\n",
              "       [0., 1., 0.],\n",
              "       [0., 0., 1.]])"
            ]
          },
          "metadata": {},
          "execution_count": 81
        }
      ]
    },
    {
      "cell_type": "code",
      "source": [
        "np.eye(8)"
      ],
      "metadata": {
        "colab": {
          "base_uri": "https://localhost:8080/"
        },
        "id": "Mk7bTRcYbkz7",
        "outputId": "6b8107b4-b841-49c5-e6e0-9336dbc51dfd"
      },
      "execution_count": null,
      "outputs": [
        {
          "output_type": "execute_result",
          "data": {
            "text/plain": [
              "array([[1., 0., 0., 0., 0., 0., 0., 0.],\n",
              "       [0., 1., 0., 0., 0., 0., 0., 0.],\n",
              "       [0., 0., 1., 0., 0., 0., 0., 0.],\n",
              "       [0., 0., 0., 1., 0., 0., 0., 0.],\n",
              "       [0., 0., 0., 0., 1., 0., 0., 0.],\n",
              "       [0., 0., 0., 0., 0., 1., 0., 0.],\n",
              "       [0., 0., 0., 0., 0., 0., 1., 0.],\n",
              "       [0., 0., 0., 0., 0., 0., 0., 1.]])"
            ]
          },
          "metadata": {},
          "execution_count": 34
        }
      ]
    },
    {
      "cell_type": "markdown",
      "source": [
        "## Inverse Matrices\n",
        "Use the Numpy function <font color='blue'>linalg.inv()</font> to calculate the inverse of A.\n",
        "\n",
        "The inverse of $A$ is $A^{-1}$ only when:\n",
        "$$ AA^{-1} = A^{-1}A = I$$\n"
      ],
      "metadata": {
        "id": "_1KGrSoWbtmh"
      }
    },
    {
      "cell_type": "code",
      "source": [
        "A = np.array([[3, 0, 2], [2, 0, -2], [0, 1, 1]])\n",
        "A_inv = np.linalg.inv(A)\n"
      ],
      "metadata": {
        "id": "08ewgdu7bkxs"
      },
      "execution_count": null,
      "outputs": []
    },
    {
      "cell_type": "markdown",
      "source": [
        "## Trace\n",
        "* The trace is the sum of all values in the diagonal of a square matrix.\n",
        "* Numpy provides the function <font color='blue'>trace()</font> to calculate it:\n"
      ],
      "metadata": {
        "id": "31kCd19KciDB"
      }
    },
    {
      "cell_type": "code",
      "source": [
        "A = np.array([[5, 9, 8], [4, 0, 1], [8, 2, 5]])\n",
        "A_tr = np.trace(A)\n",
        "print(A)\n",
        "print(\"\\n\")\n",
        "print(A_tr)"
      ],
      "metadata": {
        "colab": {
          "base_uri": "https://localhost:8080/"
        },
        "id": "AvLfyObDbkvE",
        "outputId": "d5a6bc8c-b6e5-4075-9890-480751e59163"
      },
      "execution_count": 82,
      "outputs": [
        {
          "output_type": "stream",
          "name": "stdout",
          "text": [
            "[[5 9 8]\n",
            " [4 0 1]\n",
            " [8 2 5]]\n",
            "\n",
            "\n",
            "10\n"
          ]
        }
      ]
    },
    {
      "cell_type": "markdown",
      "source": [
        "## Python Collections\n",
        "* List is a ordered and changeable. Allows duplicate members.\n",
        "* Tuple is ordered and unchangeable. Allows duplicate members.\n",
        "* Set is a unordered and unindexed. No duplicate members.\n",
        "* Dictionary is unordered, changeable and indexed. No duplicate members.\n",
        "\n"
      ],
      "metadata": {
        "id": "mi-KmVRBc2H6"
      }
    },
    {
      "cell_type": "markdown",
      "source": [
        "List\n",
        "**Ordered** and **changeable**, written with square brackets.\n"
      ],
      "metadata": {
        "id": "jcvUo1zWd96s"
      }
    },
    {
      "cell_type": "code",
      "source": [
        "mylist = [\"a\", \"b\", \"c\"]\n",
        "print(mylist)"
      ],
      "metadata": {
        "id": "5yz41VVrbks5"
      },
      "execution_count": null,
      "outputs": []
    },
    {
      "cell_type": "code",
      "source": [
        "print(mylis[1])\n"
      ],
      "metadata": {
        "id": "OYsZIztZbkqi"
      },
      "execution_count": null,
      "outputs": []
    },
    {
      "cell_type": "code",
      "source": [
        "mylist[1] =  \"d\"\n",
        "print(mylist)"
      ],
      "metadata": {
        "id": "fG8e98R-bkoZ"
      },
      "execution_count": null,
      "outputs": []
    },
    {
      "cell_type": "code",
      "source": [
        "a = list(range(5))\n",
        "print(a)\n",
        "a.append(5)\n",
        "print(a)\n",
        "a.pop()\n",
        "print(a)\n",
        "a.insert(0, 42)\n",
        "print(a)\n",
        "a.pop(0)\n",
        "print(a)\n",
        "a.reverse()\n",
        "print(a)\n",
        "a.sort()"
      ],
      "metadata": {
        "colab": {
          "base_uri": "https://localhost:8080/"
        },
        "id": "JsryAyy3bklx",
        "outputId": "f9d55b8d-129b-4cb7-ff68-03312f4b5d5d"
      },
      "execution_count": null,
      "outputs": [
        {
          "output_type": "stream",
          "name": "stdout",
          "text": [
            "[0, 1, 2, 3, 4]\n",
            "[0, 1, 2, 3, 4, 5]\n",
            "[0, 1, 2, 3, 4]\n",
            "[42, 0, 1, 2, 3, 4]\n",
            "[0, 1, 2, 3, 4]\n",
            "[4, 3, 2, 1, 0]\n"
          ]
        }
      ]
    },
    {
      "cell_type": "code",
      "source": [
        "#Concatenation\n",
        "A = [1, 2, 3, 3, 5]\n",
        "B = [2, 5, 8]\n",
        "print(A + B)\n"
      ],
      "metadata": {
        "colab": {
          "base_uri": "https://localhost:8080/"
        },
        "id": "eEAiHvLIePAW",
        "outputId": "03e1f22a-e8d5-4ca1-9cfa-f74bca557ff5"
      },
      "execution_count": null,
      "outputs": [
        {
          "output_type": "stream",
          "name": "stdout",
          "text": [
            "[1, 2, 3, 3, 5, 2, 5, 8]\n"
          ]
        }
      ]
    },
    {
      "cell_type": "code",
      "source": [
        "#Repetition\n",
        "print(B*3)\n"
      ],
      "metadata": {
        "colab": {
          "base_uri": "https://localhost:8080/"
        },
        "id": "NMgaBB-neO9p",
        "outputId": "2d12ba45-bd55-4a20-f164-b9dd308c8cf6"
      },
      "execution_count": null,
      "outputs": [
        {
          "output_type": "stream",
          "name": "stdout",
          "text": [
            "[2, 5, 8, 2, 5, 8, 2, 5, 8]\n"
          ]
        }
      ]
    },
    {
      "cell_type": "code",
      "source": [
        "#Slicing\n",
        "print(A[1:4])\n",
        "print(A[:3])\n",
        "print(A[3:])\n"
      ],
      "metadata": {
        "colab": {
          "base_uri": "https://localhost:8080/"
        },
        "id": "8EfhLDNeeO7L",
        "outputId": "e4f8468f-5dec-4a22-9b75-3d5317279729"
      },
      "execution_count": null,
      "outputs": [
        {
          "output_type": "stream",
          "name": "stdout",
          "text": [
            "[2, 3, 3]\n",
            "[1, 2, 3]\n",
            "[3, 5]\n"
          ]
        }
      ]
    },
    {
      "cell_type": "markdown",
      "source": [
        "## Tuple\n",
        "Ordered and **unchangeable**, written with **round brackets**.\n"
      ],
      "metadata": {
        "id": "KZ5EEZEQfA6T"
      }
    },
    {
      "cell_type": "code",
      "source": [
        "mytuple = (\"a\", \"b\", \"c\")\n",
        "print(mytuple)\n",
        "print(mytuple[1])"
      ],
      "metadata": {
        "colab": {
          "base_uri": "https://localhost:8080/"
        },
        "id": "Tc7Zgq5veO5B",
        "outputId": "00b0179a-3285-4f6d-bfd5-b4e2c5ca5267"
      },
      "execution_count": null,
      "outputs": [
        {
          "output_type": "stream",
          "name": "stdout",
          "text": [
            "('a', 'b', 'c')\n"
          ]
        }
      ]
    },
    {
      "cell_type": "code",
      "source": [
        "mytuple[1] =  \"d\"\n"
      ],
      "metadata": {
        "id": "OIa81e0QfaaJ"
      },
      "execution_count": null,
      "outputs": []
    },
    {
      "cell_type": "code",
      "source": [
        "tuple1 = (1, [2, 3], 4, 5)\n",
        "print(tuple1)\n",
        "tuple1[1][0] = 6\n",
        "print(tuple1)"
      ],
      "metadata": {
        "colab": {
          "base_uri": "https://localhost:8080/"
        },
        "id": "jncr3-B2fjlp",
        "outputId": "af9aa542-9f9c-46a2-ed5a-cd9a947feebe"
      },
      "execution_count": null,
      "outputs": [
        {
          "output_type": "stream",
          "name": "stdout",
          "text": [
            "(1, [2, 3], 4, 5)\n",
            "(1, [6, 3], 4, 5)\n"
          ]
        }
      ]
    },
    {
      "cell_type": "code",
      "source": [
        "tuple1 = (10, 20, 30, 40)\n",
        "a, b, c, d = tuple1\n",
        "print(a)\n",
        "print(b)\n",
        "print(c)\n",
        "print(d)"
      ],
      "metadata": {
        "colab": {
          "base_uri": "https://localhost:8080/"
        },
        "id": "8D5biT8rfji5",
        "outputId": "e362e31b-1cb3-4193-e68c-f93c0b43514b"
      },
      "execution_count": null,
      "outputs": [
        {
          "output_type": "stream",
          "name": "stdout",
          "text": [
            "10\n",
            "20\n",
            "30\n",
            "40\n"
          ]
        }
      ]
    },
    {
      "cell_type": "markdown",
      "source": [
        "## Set\n",
        "Unordered and unindexed, written with **curly brackets**\n"
      ],
      "metadata": {
        "id": "RnUZ6_Y-f5g6"
      }
    },
    {
      "cell_type": "code",
      "source": [
        "myset={\"a\", \"b\", \"c\"}\n",
        "for x in myset:\n",
        "  print(x)"
      ],
      "metadata": {
        "colab": {
          "base_uri": "https://localhost:8080/"
        },
        "id": "MwVyBhF_f5Na",
        "outputId": "db69d12a-6259-4bc2-b776-d2ef7d5aa7f9"
      },
      "execution_count": null,
      "outputs": [
        {
          "output_type": "stream",
          "name": "stdout",
          "text": [
            "a\n",
            "c\n",
            "b\n"
          ]
        }
      ]
    },
    {
      "cell_type": "code",
      "source": [
        "myset.add(\"s\")\n",
        "print(myset)"
      ],
      "metadata": {
        "colab": {
          "base_uri": "https://localhost:8080/"
        },
        "id": "SX453t8WfjgK",
        "outputId": "7c04f37c-75fe-4c83-d777-56fcb8925429"
      },
      "execution_count": null,
      "outputs": [
        {
          "output_type": "stream",
          "name": "stdout",
          "text": [
            "{'a', 's', 'c', 'b'}\n"
          ]
        }
      ]
    },
    {
      "cell_type": "code",
      "source": [
        "myset.update([\"r\", \"t\", \"u\"])\n",
        "print(myset)"
      ],
      "metadata": {
        "colab": {
          "base_uri": "https://localhost:8080/"
        },
        "id": "sYc1RJvAfjdp",
        "outputId": "facd0749-8460-47bf-d0a6-c534667e18c8"
      },
      "execution_count": null,
      "outputs": [
        {
          "output_type": "stream",
          "name": "stdout",
          "text": [
            "{'a', 'u', 'r', 'b', 's', 'c', 't'}\n"
          ]
        }
      ]
    },
    {
      "cell_type": "code",
      "source": [
        "myset.remove(\"c\")\n",
        "print(myset)"
      ],
      "metadata": {
        "colab": {
          "base_uri": "https://localhost:8080/"
        },
        "id": "luDWW8pSgrjg",
        "outputId": "adfd4225-2840-4b8d-ca73-03afd5f01486"
      },
      "execution_count": null,
      "outputs": [
        {
          "output_type": "stream",
          "name": "stdout",
          "text": [
            "{'a', 'u', 'r', 'b', 's', 't'}\n"
          ]
        }
      ]
    },
    {
      "cell_type": "markdown",
      "source": [
        "We can get a unique number from a list by\n"
      ],
      "metadata": {
        "id": "jYcCtIE6g9s5"
      }
    },
    {
      "cell_type": "code",
      "source": [
        "a_list = [1, 3 ,4, 5, 3, 5]\n",
        "a_list = set(a_list)\n"
      ],
      "metadata": {
        "id": "_1t6vlKPgrg6"
      },
      "execution_count": null,
      "outputs": []
    },
    {
      "cell_type": "code",
      "source": [
        "#Set union\n",
        "set_1 = {1, 2, 3}\n",
        "set_2 = {2, 6, 5}\n",
        "set_1.union(set_2)\n"
      ],
      "metadata": {
        "colab": {
          "base_uri": "https://localhost:8080/"
        },
        "id": "0wzYI-sNgreR",
        "outputId": "587fbb35-60f8-4a66-8ccc-fd42904b7788"
      },
      "execution_count": null,
      "outputs": [
        {
          "output_type": "execute_result",
          "data": {
            "text/plain": [
              "{1, 2, 3, 5, 6}"
            ]
          },
          "metadata": {},
          "execution_count": 60
        }
      ]
    },
    {
      "cell_type": "code",
      "source": [
        "set_1 | set_2\n"
      ],
      "metadata": {
        "colab": {
          "base_uri": "https://localhost:8080/"
        },
        "id": "eyr0xhAUgrNS",
        "outputId": "ba081d42-ff77-4906-d97f-093838821937"
      },
      "execution_count": null,
      "outputs": [
        {
          "output_type": "execute_result",
          "data": {
            "text/plain": [
              "{1, 2, 3, 5, 6}"
            ]
          },
          "metadata": {},
          "execution_count": 61
        }
      ]
    },
    {
      "cell_type": "code",
      "source": [
        "#Set intersection\n",
        "set_1 = {1, 2, 3}\n",
        "set_2 = {2, 6, 5}\n",
        "Set_inter = set_1.intersection(set_2)\n",
        "print(Set_inter)"
      ],
      "metadata": {
        "id": "8_XZ0KWMhLwb"
      },
      "execution_count": null,
      "outputs": []
    },
    {
      "cell_type": "code",
      "source": [
        "#Compare 3 sets, and return a set with items that is present in all 3 sets:\n",
        "x = {\"a\", \"b\", \"c\"}\n",
        "y = {\"c\", \"d\", \"e\"}\n",
        "z = {\"f\", \"g\", \"c\"}\n",
        "result = x.intersection(y, z)\n",
        "print(result)"
      ],
      "metadata": {
        "id": "vK7RQfq5hLuL"
      },
      "execution_count": null,
      "outputs": []
    },
    {
      "cell_type": "markdown",
      "source": [
        "## Dictionary\n",
        "**Unordered**, changeable and indexed. Written with curly brackets. Includes **keys** and **values**.\n"
      ],
      "metadata": {
        "id": "bQjx-E94hbqa"
      }
    },
    {
      "cell_type": "code",
      "source": [
        "#Create and print a dictionary\n",
        "thisdict = {\n",
        "  \"brand\": \"Ford\",\n",
        "  \"model\": \"Mustang\",\n",
        "  \"year\": 1964\n",
        "}\n",
        "print(thisdict)\n"
      ],
      "metadata": {
        "id": "ksENjdNChLrO"
      },
      "execution_count": null,
      "outputs": []
    },
    {
      "cell_type": "code",
      "source": [
        "#Accessing Items\n",
        "x = thisdict[\"model\"]\n"
      ],
      "metadata": {
        "id": "iFpprRs5hLol"
      },
      "execution_count": null,
      "outputs": []
    },
    {
      "cell_type": "code",
      "source": [
        "x = thisdict.get(\"model\")\n"
      ],
      "metadata": {
        "id": "DIkwQEcghLmK"
      },
      "execution_count": null,
      "outputs": []
    },
    {
      "cell_type": "code",
      "source": [
        "#Change Values\n",
        "thisdict[\"year\"]= 2018\n"
      ],
      "metadata": {
        "id": "JY_IU9athLja"
      },
      "execution_count": null,
      "outputs": []
    },
    {
      "cell_type": "code",
      "source": [
        "thisdict[\"color\"]= \"blue\""
      ],
      "metadata": {
        "id": "9docfieCh3eI"
      },
      "execution_count": null,
      "outputs": []
    },
    {
      "cell_type": "code",
      "source": [
        "thisdict.pop(\"model\")\n",
        "#del thisdict[\"model\"]"
      ],
      "metadata": {
        "id": "sirkm0Joh3bp"
      },
      "execution_count": null,
      "outputs": []
    },
    {
      "cell_type": "markdown",
      "source": [
        "## The zip() function and a dict() constructor\n",
        "* Use the zip(keys, values) to aggregate two lists.\n",
        "* Wrap the result of a zip() function into a dict() constructor.\n"
      ],
      "metadata": {
        "id": "l67PheVph_3C"
      }
    },
    {
      "cell_type": "code",
      "source": [
        "keys = [\"Ten\", \"Twenty\", \"Thirty\"]\n",
        "\n",
        "values = [10, 20, 30]\n",
        "\n",
        "new_dict = dict(zip(keys, values))\n",
        "print(new_dict)\n"
      ],
      "metadata": {
        "colab": {
          "base_uri": "https://localhost:8080/"
        },
        "id": "_NmYkNRsh3ZP",
        "outputId": "acb338d0-a5a1-491f-b7a2-4c601ffdaf94"
      },
      "execution_count": null,
      "outputs": [
        {
          "output_type": "stream",
          "name": "stdout",
          "text": [
            "{'Ten': 10, 'Twenty': 20, 'Thirty': 30}\n"
          ]
        }
      ]
    },
    {
      "cell_type": "markdown",
      "source": [
        "Merge two Python dictionaries into one\n"
      ],
      "metadata": {
        "id": "hAAMXe0EiPSi"
      }
    },
    {
      "cell_type": "code",
      "source": [
        "dict1 = {'Ten': 10, 'Twenty': 20, 'Thirty': 30}\n",
        "dict2 = {'Thirty': 30, 'Fourty': 40, 'Fifty': 50}\n"
      ],
      "metadata": {
        "id": "xumxrdGch3Wp"
      },
      "execution_count": null,
      "outputs": []
    },
    {
      "cell_type": "code",
      "source": [
        "dict3 = {**dict1, **dict2}\n",
        "print(dict3)\n"
      ],
      "metadata": {
        "id": "MsCWrm8Jh3R0"
      },
      "execution_count": null,
      "outputs": []
    },
    {
      "cell_type": "code",
      "source": [
        "dict3 = dict1.copy()\n",
        "dict3.update(dict2)\n",
        "print(dict3)\n"
      ],
      "metadata": {
        "id": "5L5vGYdLh3PW"
      },
      "execution_count": null,
      "outputs": []
    },
    {
      "cell_type": "markdown",
      "source": [
        "## Python input() Function\n",
        "Syntax\n",
        "```python\n",
        "input(prompt)\n",
        "```"
      ],
      "metadata": {
        "id": "N-FE3mUbikMi"
      }
    },
    {
      "cell_type": "code",
      "source": [
        "print('Enter your name:')\n",
        "x = input()\n",
        "print('Hello, ' + x)\n"
      ],
      "metadata": {
        "id": "sShkOT15h3My"
      },
      "execution_count": null,
      "outputs": []
    },
    {
      "cell_type": "code",
      "source": [
        "x = input('Enter your name:')\n",
        "print('Hello, ' + x)\n"
      ],
      "metadata": {
        "id": "bXYlAxyCh3KS"
      },
      "execution_count": null,
      "outputs": []
    },
    {
      "cell_type": "markdown",
      "source": [
        "Python If ... Else\n",
        "An \"if statement\" is written by using the if keyword.\n",
        "We can create decisions using different forms of if…else statement."
      ],
      "metadata": {
        "id": "avlBJa2jfYcJ"
      }
    },
    {
      "cell_type": "code",
      "source": [
        "a, b = 30, 20\n",
        "if a > b:\n",
        "    print(\"a is greater than b\")\n",
        "elif a==b:\n",
        "    print(\"a and b are equal\")\n",
        "else:\n",
        "    print(\"b is greater than a\")\n"
      ],
      "metadata": {
        "colab": {
          "base_uri": "https://localhost:8080/"
        },
        "id": "0qNe_LcnjBz7",
        "outputId": "93768c01-55be-4bca-fba2-526c66668eb5"
      },
      "execution_count": null,
      "outputs": [
        {
          "output_type": "stream",
          "name": "stdout",
          "text": [
            "a is greater than b\n"
          ]
        }
      ]
    },
    {
      "cell_type": "code",
      "source": [
        "#Determiner input value is 0, positive or negative\n",
        "num = float(input(\"Enter a number: \"))\n",
        "if num >= 0:\n",
        "    if num == 0:\n",
        "        print(\"Zero\")\n",
        "    else:\n",
        "        print(\"Positive number\")\n",
        "else:\n",
        "    print(\"Negative number\")\n"
      ],
      "metadata": {
        "id": "QGC1b863jF0k"
      },
      "execution_count": null,
      "outputs": []
    },
    {
      "cell_type": "markdown",
      "source": [
        "For Loops\n",
        "for loop in Python is used to iterate over a sequence (list, tuple, string) or other iterable objects.\n",
        "\n",
        "Syntax of for Loop\n",
        "\n",
        "```\n",
        "for val in sequence:\n",
        "      loop body\n",
        "```\n",
        "\n"
      ],
      "metadata": {
        "id": "gBrpNaufjKsq"
      }
    },
    {
      "cell_type": "markdown",
      "source": [
        "A sequence of numbers can be generated by using <font color='blue'>range()</font> function.\n",
        "\n",
        "* range(10) will generate numbers from 0 to 9 (10 numbers).\n",
        "\n",
        "* We can also define the start, stop and step size as\n",
        "\n",
        " + range(start, stop,step_size)\n"
      ],
      "metadata": {
        "id": "F9VNcx0Eje3c"
      }
    },
    {
      "cell_type": "code",
      "source": [
        "print(range(10))\n",
        "print(list(range(10)))\n",
        "print(list(range(2, 7)))\n",
        "print(list(range(2, 21, 3)))\n"
      ],
      "metadata": {
        "colab": {
          "base_uri": "https://localhost:8080/"
        },
        "id": "q18vEd7XjKR2",
        "outputId": "120677c0-a68f-4926-e772-406bcf906bd1"
      },
      "execution_count": null,
      "outputs": [
        {
          "output_type": "stream",
          "name": "stdout",
          "text": [
            "range(0, 10)\n",
            "[0, 1, 2, 3, 4, 5, 6, 7, 8, 9]\n",
            "[2, 3, 4, 5, 6]\n",
            "[2, 5, 8, 11, 14, 17, 20]\n"
          ]
        }
      ]
    },
    {
      "cell_type": "code",
      "source": [
        "#Example: a for loop is used for iterating over a sequence\n",
        "for x in range(6):\n",
        "      print(x)\n",
        "else:\n",
        "      print(\"Done counting from 0 to 5\")\n"
      ],
      "metadata": {
        "colab": {
          "base_uri": "https://localhost:8080/"
        },
        "id": "WztsDCenjKPK",
        "outputId": "309a0d0a-d1e3-40cb-e917-b9510c846ed4"
      },
      "execution_count": null,
      "outputs": [
        {
          "output_type": "stream",
          "name": "stdout",
          "text": [
            "0\n",
            "1\n",
            "2\n",
            "3\n",
            "4\n",
            "5\n",
            "Done counting from 0 to 5\n"
          ]
        }
      ]
    },
    {
      "cell_type": "code",
      "source": [
        "#Nested for loop\n",
        "for x in range(5):\n",
        "  for y in range(3):\n",
        "        print(x+y)\n"
      ],
      "metadata": {
        "colab": {
          "base_uri": "https://localhost:8080/"
        },
        "id": "XHj5sb6IjKMT",
        "outputId": "3deb5f99-8547-4968-c650-fe917fbb8936"
      },
      "execution_count": null,
      "outputs": [
        {
          "output_type": "stream",
          "name": "stdout",
          "text": [
            "0\n",
            "1\n",
            "2\n",
            "1\n",
            "2\n",
            "3\n",
            "2\n",
            "3\n",
            "4\n",
            "3\n",
            "4\n",
            "5\n",
            "4\n",
            "5\n",
            "6\n"
          ]
        }
      ]
    },
    {
      "cell_type": "markdown",
      "source": [
        "For Loops + if else\n"
      ],
      "metadata": {
        "id": "94S2eQBsfAZS"
      }
    },
    {
      "cell_type": "code",
      "source": [
        "#Create two new dictionaries to separate active and inactive users.\n",
        "users = {'Vicky': 'active', 'Mike': 'inactive', 'Jack': 'active'}\n",
        "# Strategy:  Create new dictionaries\n",
        "active_users, inactive_users = {}, {}\n",
        "for user, status in users.items():\n",
        "    if status == 'active':\n",
        "        active_users[user] = status\n",
        "    else:\n",
        "        inactive_users[user] = status\n",
        "print(active_users)\n",
        "print(inactive_users)\n"
      ],
      "metadata": {
        "colab": {
          "base_uri": "https://localhost:8080/"
        },
        "id": "qmup3nDceO2J",
        "outputId": "33a6e1ab-712a-483c-e1af-f6e6c29c1b61"
      },
      "execution_count": null,
      "outputs": [
        {
          "output_type": "stream",
          "name": "stdout",
          "text": [
            "{'Vicky': 'active', 'Jack': 'active'}\n",
            "{'Mike': 'inactive'}\n"
          ]
        }
      ]
    },
    {
      "cell_type": "markdown",
      "source": [
        "## While Loops\n",
        "With the while loop we can execute a set of statements as long as a condition is true.\n"
      ],
      "metadata": {
        "id": "9ibqu0Pvk1ga"
      }
    },
    {
      "cell_type": "code",
      "source": [
        "#Print x as long as x is less than 10\n",
        "x = 5\n",
        "while x < 10:\n",
        "          print(x)\n",
        "          x += 1\n"
      ],
      "metadata": {
        "id": "GKXrC_o0k7fz"
      },
      "execution_count": null,
      "outputs": []
    },
    {
      "cell_type": "code",
      "source": [
        "#Sum the number from 1 to n using while loop\n",
        "# To take input from the user,\n",
        "n = int(input(\"Enter n > 1: \"))\n",
        "\n",
        "# initialize sum and counter\n",
        "sum = 0\n",
        "i = 1\n",
        "\n",
        "while i <= n:\n",
        "    sum = sum + i\n",
        "    i = i+1    # update counter\n",
        "\n",
        "# print the sum\n",
        "print(\"The sum is\", sum)\n"
      ],
      "metadata": {
        "id": "VHvwhbkllCWT"
      },
      "execution_count": null,
      "outputs": []
    },
    {
      "cell_type": "markdown",
      "source": [
        "## else statement in While Loops\n",
        "* If the else statement is used with a while loop, the else statement is executed when the condition becomes false.\n"
      ],
      "metadata": {
        "id": "J5w-gNLplRYS"
      }
    },
    {
      "cell_type": "code",
      "source": [
        "count = 0\n",
        "while count < 5:\n",
        "   print (count, \" is  less than 5\")\n",
        "   count = count + 1\n",
        "else:\n",
        "   print(count, \" is equal to 5\")\n"
      ],
      "metadata": {
        "colab": {
          "base_uri": "https://localhost:8080/"
        },
        "id": "mDWHQY8qlZPa",
        "outputId": "9d7cedf4-6372-449a-929b-8993ec9df172"
      },
      "execution_count": null,
      "outputs": [
        {
          "output_type": "stream",
          "name": "stdout",
          "text": [
            "0  is  less than 5\n",
            "1  is  less than 5\n",
            "2  is  less than 5\n",
            "3  is  less than 5\n",
            "4  is  less than 5\n",
            "5  is equal to 5\n"
          ]
        }
      ]
    },
    {
      "cell_type": "markdown",
      "source": [
        "## break & continue\n",
        "**break** and **continue** statements can alter the flow of a loop.\n",
        "\n",
        "* The **break** statement terminates the loop containing it. If break statement is inside a nested loop, break command will terminate the innermost loop.\n",
        "* The **continue** statement skips the rest of the code inside a loop for the current iteration only. Loop does not terminate but continues on with the next iteration.\n"
      ],
      "metadata": {
        "id": "JMN4LkZLlhmq"
      }
    },
    {
      "cell_type": "code",
      "source": [
        "x = 1\n",
        "while x < 10:\n",
        "        print(x)\n",
        "        if x == 3:\n",
        "            break\n",
        "        x += 1\n"
      ],
      "metadata": {
        "colab": {
          "base_uri": "https://localhost:8080/"
        },
        "id": "EDKmkReRmBsf",
        "outputId": "0df169e1-ab60-47fa-d2f4-9749884a7a72"
      },
      "execution_count": null,
      "outputs": [
        {
          "output_type": "stream",
          "name": "stdout",
          "text": [
            "1\n",
            "2\n",
            "3\n"
          ]
        }
      ]
    },
    {
      "cell_type": "code",
      "source": [
        "x = 0\n",
        "while x < 10:\n",
        "      x +=1\n",
        "      if x == 3:\n",
        "          continue\n",
        "      print(x)\n"
      ],
      "metadata": {
        "colab": {
          "base_uri": "https://localhost:8080/"
        },
        "id": "qEPIr82fmDKi",
        "outputId": "e413cc60-780e-42e4-9d25-c08bc9cf5f1c"
      },
      "execution_count": null,
      "outputs": [
        {
          "output_type": "stream",
          "name": "stdout",
          "text": [
            "1\n",
            "2\n",
            "4\n",
            "5\n",
            "6\n",
            "7\n",
            "8\n",
            "9\n",
            "10\n"
          ]
        }
      ]
    },
    {
      "cell_type": "markdown",
      "source": [
        "## List Comprehension\n",
        "List Comprehension offers a shorter syntax and might run slightly faster speed for creating a new list.\n"
      ],
      "metadata": {
        "id": "td1LwMTfmaYL"
      }
    },
    {
      "cell_type": "code",
      "source": [
        "a_list = []\n",
        "for i in range(5):\n",
        "    a_list.append(i)\n",
        "print(a_list)"
      ],
      "metadata": {
        "id": "chybMTXkmeiD"
      },
      "execution_count": null,
      "outputs": []
    },
    {
      "cell_type": "code",
      "source": [
        "new_list = [i for i in range(5)]\n",
        "print(new_list)"
      ],
      "metadata": {
        "id": "6ZYJ1XgUmhta"
      },
      "execution_count": null,
      "outputs": []
    },
    {
      "cell_type": "code",
      "source": [],
      "metadata": {
        "id": "-zAylfbTmubb"
      },
      "execution_count": null,
      "outputs": []
    },
    {
      "cell_type": "markdown",
      "source": [
        "## Dictionary Comprehension\n",
        "Similar to list comprehension we also use Dictionary Comprehension where no need to use for-loop to add values and keys to a dictionary.\n"
      ],
      "metadata": {
        "id": "b3jM24bvmoob"
      }
    },
    {
      "cell_type": "code",
      "source": [
        "a_dict = {x: x**2 for x in range(1,5)}\n",
        "print(a_dict)"
      ],
      "metadata": {
        "id": "kvphoNb8mv2T"
      },
      "execution_count": null,
      "outputs": []
    },
    {
      "cell_type": "markdown",
      "source": [
        "## **Python Functions**\n",
        "In Python, a function is defined using the <font color='red'>def </font> keyword.\n",
        "* a block of code that only runs when it is called.\n",
        "* can pass parameters into a function.\n",
        "* can return data as a result.\n",
        "\n",
        "```python\n",
        "def my_function(x):\n",
        "      return 5 + x\n",
        "print(my_function(5))\n",
        "print(my_function(3.5))\n",
        "print(my_function(\"a\"))\n",
        "```"
      ],
      "metadata": {
        "id": "-eiV8S7jSzK_"
      }
    },
    {
      "cell_type": "code",
      "source": [
        "def my_function(x):\n",
        "      return 5 + x\n",
        "print(my_function(5))\n",
        "print(my_function(3.5))\n",
        "#print(my_function(\"a\"))"
      ],
      "metadata": {
        "id": "GfyH0eYG1pjP",
        "colab": {
          "base_uri": "https://localhost:8080/"
        },
        "outputId": "b261bc99-114e-4171-ae48-3337bff288a3"
      },
      "execution_count": null,
      "outputs": [
        {
          "output_type": "stream",
          "name": "stdout",
          "text": [
            "10\n",
            "8.5\n"
          ]
        }
      ]
    },
    {
      "cell_type": "code",
      "source": [
        "course=input()\n",
        "year=input()\n",
        "def func(course, year):\n",
        "  print(course + \" \" + format(year))\n",
        "\n",
        "func(course, year)"
      ],
      "metadata": {
        "id": "HZUcQ4oP1pg_",
        "colab": {
          "base_uri": "https://localhost:8080/"
        },
        "outputId": "23b1b7b4-212b-4b07-8443-3d2118026ca2"
      },
      "execution_count": null,
      "outputs": [
        {
          "output_type": "stream",
          "name": "stdout",
          "text": [
            "SAT 4310\n",
            "2023\n",
            "SAT 4310 2023\n"
          ]
        }
      ]
    },
    {
      "cell_type": "code",
      "source": [
        "func(\"SAT4310\")\n"
      ],
      "metadata": {
        "id": "kIDVcQNs1pc9"
      },
      "execution_count": null,
      "outputs": []
    },
    {
      "cell_type": "code",
      "source": [
        "def sum3():\n",
        "    print (\"Please enter three numbers:\")\n",
        "    a = input()\n",
        "    b = input()\n",
        "    c = input()\n",
        "    return sum((int(a),int(b),int(c))) # a+b+c\n",
        "sum3()"
      ],
      "metadata": {
        "id": "ggQLTxq01pad",
        "colab": {
          "base_uri": "https://localhost:8080/"
        },
        "outputId": "ccd56db6-eb71-4c7b-ea95-4bed81781f01"
      },
      "execution_count": null,
      "outputs": [
        {
          "name": "stdout",
          "output_type": "stream",
          "text": [
            "Please enter three numbers:\n",
            "5\n",
            "6\n",
            "8\n"
          ]
        },
        {
          "output_type": "execute_result",
          "data": {
            "text/plain": [
              "19"
            ]
          },
          "metadata": {},
          "execution_count": 11
        }
      ]
    },
    {
      "cell_type": "markdown",
      "source": [
        "**Python Functions - Default Parameter Value**\n"
      ],
      "metadata": {
        "id": "hJyZko_4U4NQ"
      }
    },
    {
      "cell_type": "code",
      "source": [
        "def func(course=\"SAT3810\", year = 2020):\n",
        "    print(course + \" \" + format(year))\n",
        "func(\"SAT4310\", 2023)"
      ],
      "metadata": {
        "id": "eokaHq-01pVl",
        "colab": {
          "base_uri": "https://localhost:8080/"
        },
        "outputId": "372ecb9d-4cb8-4cbe-d37f-f92822de54a9"
      },
      "execution_count": null,
      "outputs": [
        {
          "output_type": "stream",
          "name": "stdout",
          "text": [
            "SAT4310 2023\n"
          ]
        }
      ]
    },
    {
      "cell_type": "code",
      "source": [
        "func()"
      ],
      "metadata": {
        "id": "UBwcb-qj1pTj",
        "colab": {
          "base_uri": "https://localhost:8080/"
        },
        "outputId": "48998703-893b-46fd-9892-797f707e8f78"
      },
      "execution_count": null,
      "outputs": [
        {
          "output_type": "stream",
          "name": "stdout",
          "text": [
            "SAT3810 2020\n"
          ]
        }
      ]
    },
    {
      "cell_type": "markdown",
      "source": [
        "**Recursion**\n",
        "\n",
        "* Recursion: a defined function can call itself.\n",
        "* Why use it: you can loop through data to reach a result.\n",
        "* Example: Use a recursive function to Count Down to Zero\n"
      ],
      "metadata": {
        "id": "mdV68bxwVJVo"
      }
    },
    {
      "cell_type": "code",
      "source": [
        "def countdown(n):\n",
        "    print(n)\n",
        "    if n == 0:\n",
        "        return   # Terminate recursion\n",
        "    else:\n",
        "        countdown(n - 1)   # Recursive call\n",
        "countdown(10)\n"
      ],
      "metadata": {
        "id": "0CpRYeAe1f3E"
      },
      "execution_count": null,
      "outputs": []
    },
    {
      "cell_type": "markdown",
      "source": [
        "Example: Use a recursive function to find the factorial of an integer\n",
        "\n",
        "$$ n!= n * (n-1)!$$\n"
      ],
      "metadata": {
        "id": "BB-c_CgxzKwk"
      }
    },
    {
      "cell_type": "code",
      "source": [
        "def factorial(x):\n",
        "    if x == 1 or x==0:\n",
        "        return 1\n",
        "    else:\n",
        "        return (x * factorial(x-1))\n"
      ],
      "metadata": {
        "id": "g0mpaousWESX"
      },
      "execution_count": null,
      "outputs": []
    },
    {
      "cell_type": "code",
      "source": [
        "factorial(5)"
      ],
      "metadata": {
        "colab": {
          "base_uri": "https://localhost:8080/"
        },
        "id": "bx2UQv2NWFFH",
        "outputId": "80f8752a-a3f4-49b9-c09e-a2620e4bfc68"
      },
      "execution_count": null,
      "outputs": [
        {
          "output_type": "execute_result",
          "data": {
            "text/plain": [
              "120"
            ]
          },
          "metadata": {},
          "execution_count": 19
        }
      ]
    },
    {
      "cell_type": "markdown",
      "source": [
        "## **Python Lambda**\n",
        "lambda is a small anonymous function.\n"
      ],
      "metadata": {
        "id": "R4E76abuWaCf"
      }
    },
    {
      "cell_type": "code",
      "source": [
        "x = lambda a : a + 45\n",
        "print(x(5))"
      ],
      "metadata": {
        "colab": {
          "base_uri": "https://localhost:8080/"
        },
        "id": "SfEU8iwGWFCH",
        "outputId": "c221070f-b245-4ebe-b99c-4bf6b3979a0f"
      },
      "execution_count": null,
      "outputs": [
        {
          "output_type": "stream",
          "name": "stdout",
          "text": [
            "50\n"
          ]
        }
      ]
    },
    {
      "cell_type": "code",
      "source": [
        "x = lambda a, b : a * b\n",
        "print(x(5, 2))"
      ],
      "metadata": {
        "id": "zirTX2JxWE-P"
      },
      "execution_count": null,
      "outputs": []
    },
    {
      "cell_type": "code",
      "source": [
        "def myfunc(n):\n",
        "      return lambda a : a ** n"
      ],
      "metadata": {
        "id": "1-tN3RdZWE73"
      },
      "execution_count": null,
      "outputs": []
    },
    {
      "cell_type": "code",
      "source": [
        "out1 = myfunc(2)\n",
        "print(out1(6))"
      ],
      "metadata": {
        "colab": {
          "base_uri": "https://localhost:8080/"
        },
        "id": "n068CNCGWE5z",
        "outputId": "f0bdec8a-adaa-4b4d-c9fc-5a1a23cde12e"
      },
      "execution_count": null,
      "outputs": [
        {
          "output_type": "stream",
          "name": "stdout",
          "text": [
            "36\n"
          ]
        }
      ]
    },
    {
      "cell_type": "markdown",
      "source": [
        "## Python Random Module: Generate Random Numbers and Data\n",
        "To generate a random number, we can use a Python function called <font color='blue'>random()</font>, which first needs to import a random module in your program:\n",
        "```python\n",
        "import random\n",
        "```\n",
        "Then call the function as:     \n",
        "```python\n",
        "print(random.random())\n",
        "```\n",
        "random() return the random floating-point number in the range [0.0, 1.0).\n",
        "There are many other different functions available in the random module:\n",
        "\n",
        "![image.png](data:image/png;base64,iVBORw0KGgoAAAANSUhEUgAAAv8AAAEFCAYAAAB0GojAAAAgAElEQVR4Ae29z64bOZM9qCephxJwX8GAn2CWA0FPYAxm5d1ABmbnwQ9ez+4aGKBgfECvutHlMty3brkW7q6qLqC//tBQDoJkkCeCZCqlqz8p6RgwbqaSDEacOEweMqnUYuA/IkAEiAARIAJEgAgQASJABO4CgcVdRMkgiQARIAJEgAgQASJABIgAERgo/kkCIkAEiAARIAJEgAgQASJwJwhQ/N9JohkmESACRIAIEAEiQASIABGg+CcHiAARIAJEgAgQASJABIjAnSBA8X8niWaYRIAIEAEiQASIABEgAkSA4p8cIAJEgAgQASJABIgAESACd4IAxf+dJJphEgEiQASIABEgAkSACBCBSeL/999/H/71X/91+OWXX/ifGJAD5AA5cAMc+Pnnn4cvX74wlzeQS47N1CbkADkgHBCtLpp9179J4v+PP/4IBv/7v/974H9iQA6QA+TA9XNABorn52fe0zmukQPkADlwIxwQ8S+afde/SeL/r7/+CuJ/u90O/E8MyAFygBy4fg6I8P/27Rvv6RzXyAFygBy4EQ6I+BfNvusfxf+NJJxi7PrFGHPIHJ6TAxT/5Ns5+ca2yDdy4PQcoPinqOdMnhwgB8iBLgco/k8/EFPsEGNygBw4Jwco/jnodwf9cxKRbfHGRw7MkwMU//PMC/sL80IOkAOHcoDin+Kf4p8cIAfIgS4HKP4pMA4VGKxH7pAD8+QAxT8H/e6gz047z07LvDAv5+QAxT/5dk6+sS3yjRw4PQco/in+Kf7JAXKAHOhygOL/9AMxxQ4xJgfIgXNygOKfg3530D8nEdkWb3zkwDw5QPE/z7ywvzAv5AA5cCgHbkv8f3oafnj9NPwogh6PDxH4Uv/t95cJ4+dvw6vXX4b3zy2C/jm8X/Wutcrzs0NJznrkDjlwOAemi//nYfOwGBaL8n/57vll99BD7t13USdifWp8H1eLYbF6ZA4dpy6Oy8f1sFish0fnl9znRn0bqcd75OH3yIzd182wXCyHzdcj2GrkNrdzhGsU/9vt8OPbz07ofx/e6CTiJSCPiv/tsJXrq2/Dby9pg3U5MJED5MAJOTBN/D8OaxH9Rii2PpvHoDgqkE6I5fEG75mJ/ysSPcfIwcX5gyLeYT/qG9a7Cp5f5n7x/G45LB42w/O+GLlcHINrp7Jxu+J/j6R58f/bhy/Dqw9/vlxQ7BL/aeLx5tNlCH4qUtEu80kO3A4Hpoj/IDhag+VMxcaoQNpj7Lgcz88j/ifHd0WiZ3JMIzyYFX8c9rPybQTDY+ThVDYo/svv/h7pF35lq8vn4c1b2Z4Dq+1hi87n+Nnrz0V4J/H85u2XfM1vxQnCXWy9VruNbT9pC9AbWeFPZVXci9DXz6Lt1nac6HcuN/WpgIr/DylejC11itD+S7cXXWkHO1XHpd3bEZ7M5eVzuVv8xxX+9cdpvgZxoluD8ElBmiisZatJum63taQnCekatic2l6v1sJRrOgkJ9mpbYWCv2u/brjgYxFaxa592AAah3HrQeNRfEz9uEdgVP7b7sB7WD4sB8TFxKQYyNiS7G1nNBOzQD/XNxxrKpBzF43V8whPs6PYGxE4/2w5df8SnHbGgb4ivfF7lGce/MQxDm8W/7dbyNsa3ga1rsq0GYyvbbNplfe6VI9hmnLStV7Jtxz8pS5hBn4jtlG1XIX7ZSpfitP7FdmrfoP1cr/BC+Sn+IJ88F2KbGtNIWWkj8XOR+R3jVv7hlqXob4tXCc8DuVL5v+37YMoGjFKcuR8hDxZDr79EXi+HzbuU312YInfPfHzmlf8kos1WF9liA3vfca9+EM8wSUjneaUcy25VoPfEP0wqQr3Spln5D20kGykZVqDHdnTyYEjjk6f+a7zefynfaG/Upm+D5y9/QkMMiSE50OXATvFfiSoQQQ5Xu6LmVq/ToJsFSDhX4eLKujaDgDB7oGWw1rpF6Oge6Sg4VFSN27b341g2D/7OD1M2iZYcj2ARhFHZTmD82Cf+ZlkVp9HHLJpdWRXlGkPwIYscmzv0LxwDpqaexyG0qf74fegO75Z/2R9bNvpQ7Bq8FV8UXMF24oH3sSX+c3wJw8ypKP40l9GPIgINFs5uEeqCbbKb47N4R/Go8T0O64flsDQ+pFgQXxdX9K1w3/iG9Rzu0c9Sz2I73p9M2WRX+SXXAufypKaV09Ku8TfhpbjrBETPR+8nrXtPxwfjv/qbc2T9HcUp9fm8AJHOEQvf1qXOLyL+x4RzXIlP4jsI4yLSt1uZKHweVPwb0S6JxslA71jKObvGjtRTse7IE5MUfRiLISezIfZNWw1fct1m2+5GwTJdwUIcyRVy4DgcOET8RwFSVgnj4BcHUTMQilDQQRaFidzbUNSEYxVFMS5pQ0VAaC8P7HXcUfCW+qb8DtujPAo+F+FiyqL/zXt1EoLq9874sR0rSEw80hbawmN/rRI6Fju0i8cSpxFeLlYpq7kJmCDGrqwK4lh+nCPeB4N3I7aaQ4hhFPTKR2/bnjfwVt5KuxiT4I3XkoDFPmCwkfr5P4hssbl6HB5XyWe0iznFthtf+DV5wnp47GPI/qBv5dj3p+K/417TTmMipX1gB6/24YrxqfLD+uDLGswcvtaHgkmwEcqWSaF8Znnkyld+ne/6DMS/rtjHLTmvVrINZ4r4b6zA4yr6McV/sKVbhr4Mr1bwFGEseW6SIUSwTxEk0e7Jx5g9XoOb5Pk6ib8x8JzY3xMHdop/v9Jp7lMosOJxefSvk4MkysfESLim5eFvEg31AJuEddrmsnyQLS8d8b/Dts91aCvZXYSVWRSU0Dcq0aAiUf1fDkt5O5IKn53xF//FJ/EDBbMRlGgLjyU37twIHZM7K1w8xqaeidViX/INIhZyYcXUOEe8Dz43PjYjyo2Pkifkpo1V8c25cSvQtR9iK8YXhbHmuPzt5qqBuZQVO62/IWbMoYvL+2byhPXwWHxwdiy2Nqe+P5my3m7mnGIRea98nexvwAknYeNcMT7t8MGX7WJW+QD9Xa41MAy2tI+H+q7OhT67vPhHkS4g4Hklni+x8u8nGf58JJGV/403CzXKeCLyfATjC3Uc5oQ5uRcO7Bb/STiZ1U7lBwqsOHDrSmuFnxcNOJCGYyt+sb4XEJUIdLZN+R22sZ1qcEcf/b2occ2061cFnY+mrcoWiqBauJr4vV13boSOiwH9xWPBxNRz/klZFXcGP7HvylrxP84R70Nl28Vm2qraRW7WGNq2duCNtsWHZl+QPmHtVP4LPlIfV/zF9kq+iwCTTIwT2/ac8nnCenjczIv24XrCaPjlOFNf8zHbc4vzOK8sftFO935i/LJtWjsQZ6ozxu3Rui4Xkl8fXzPnxtfan1PUmYn41609+hRgysq/ThS0bhLW+tQAJxF4LCA7wW224oRruOc/+aRfyg229ln5H/nOQvYF2ztP4k9BJtpk7siB2+PAFPGvq6hlpVRwiAOurPzqAG0GVR0YVSiNihE/eEfhpgKzGmCDLRVL6keZPNjy47YNp8PgXuIJdvI+cZf7nhDQeJOtjNmE+HPZVFfjt4Irxaurjd6uO/c5wXgRJzyWMqaej7XVRl7td3iHsmWyYOw6jngf0Ndw7No14j+t9FvMXC4VM203n1uffd7DuebVPVGIPmg71k7lv2iChOXyQfma9v5n+06MO+w9RgZPxAePod3mO+pD2X5/MnF4u3ofUCzD9ZLvUX/9ZMnVNbFpzhAniSv8b/WJ4oPx33O76YNiofbT39QvfT/V+59v55Lnlxf/+Yu6sq3my/D+E/wwlhPpfs+/ABe/I5C2DL19Gl4dIP7j04bPaa+/iP0yoQjJSYI/vO3n7Xf7uwByrfcdAfWfb/vhdp18E3I3C35ObsycA9PEf+R1FEX6eB/evAMx2jIqcJygkfJO1OQJhm65UTGhgz6c48QjvHHko/vxnSQiygqt20JgbNk+i/6vP9rVYzOYV/5rTAmfh83wiO8T96Kpqo8+xrcIZSGrgkWxQQHk7bpzL6AwBhRmeCxlbL0krvxET/3xEyQVSXI9rGpbIYYYd7drAaeyzy42z6Hgs/qU2lVh5uOz51a0x2v+zUDAE4wPv4DshWQrBhXLOYe27RCridNib/12ecJ6eNzsbxCP+hSwWw4b358wDm9XroXPEu/DU42y3W3U3+yX1o2YI+9Dfc1pnmCi7+l4xIfMH40j50/vT9j3dCLXaEP7bO9tP+JDzmujvrZ/hr9nFv+XDbZKcAdgmVBM+kJvqP/n8P7toT/UFZ8q6BeYp/rHctfBI+aJeboFDuwj/m8hXsZw7n4bxauKcOJ/bvyvqT1y5Vj9g+K/OQGQ7xZM3Irz/G14c+gPgsmTgd5Tg6Zf19RJ6euxOintkEuX5ADFP/l3XP7JKipsmwgrsnDOsY9PQzMHyJXj9r1yL6P4zyQroASwZTuP7vPvlXnR543tRS+y5/ynLd5AyQFy4AgcoPjnvfXYAsRsv4GtQsduh/aun7vkymlySPF/hMGRN5jTkJO4Eldy4PIcoPi/fA7YD5gDcoAcOCYHKP4p/rk6Sg6QA+RAlwMU/xQdxxQdtEU+kQOX5wDFPwf97qDPDnr5DsocMAeX5gDFPzl4aQ6yfXKQHDguByj+Kf4p/skBcoAc6HKA4v+4gy5FDPEkB8iBS3OA4p+DfnfQvzQ52T5vkOTA5TlA8X/5HLAfMAfkADlwTA5Q/FP8U/yTA+QAOdDlAMU/RccxRQdtkU/kwOU5QPHPQb876LODXr6DMgfMwaU5QPFPDl6ag2yfHCQHjsuBo4r/33//fRCDMljwPzEgB8gBcuD6OfDzzz8P8p+5vP5cMofMITlADggHRKuLZt/1b7GrgFwXQz/99NPw97//nf+JATlADpADN8CBX375JQh/3tc5rpED5AA5cBscEK1+NPH/119/hdkEH88c9/EM8SSe5AA5cCkOyCrRt2/fuD2QW0TJAXKAHLgRDhx12w/FPwXKpQQK2yX3yIHTcIDi/zS4kq/ElRwgBy7FAYr/G5nFXYpAbJc3L3LgtjlA8X/b+WX/ZX7JgfvjAMU/xT8f45ED5AA50OUAxf/9CQOKQeacHLhtDlD8c9DvDvrs/Lfd+Zlf5ncKByj+yZMpPGEZ8oQcuB4OUPxT/FP8kwPkADnQ5QDF//UM6BRfzBU5QA5M4QDFPwf97qA/hUAswxsNOXDbHKD4v+38sv8yv+TA/XGA4p/in+KfHCAHyIEuByj+708YUAwy5+TAbXOA4p+DfnfQZ+e/7c7P/DK/UzhA8U+eTOEJy5An5MD1cIDin+Kf4p8cIAfIgS4Hdov/x2G9WAyLxv/1x+sZDOckXJ7fLYfFw2Z4PiUvP66HxWI9PJ6yjSu0/bhaDIvVY7c/nJwnXzfDcrEcNl/rvjPq20i9k/t84TyP4nJh3+aKPcU/iXG5mxyxJ/bkwOw5MFX8e6EfBOxkcRknEN7GXAfOU/s1L/F/X7m5uJA0It5iP+qbqVdPHE7N2UvaH8WFY0xzjKH4JzGaxLhkR2bb93XjZr7nne9Dxf92a4XLeJ73KTtvvMbjnOb7WcT/5LHvvnIzLyFpsZ+Xb9O4fIz+sMsGcdk/FxT/k2+A+4O7i7C8TkzJAXJg7hw4qvgPq5O6RUi3NjwPmwf9bDGE1X+/JQVXNcPxeljL9oxFLB8H/zVsP1Lbwi9rf3RLh/FvbPtHtLleydaZUi74kbc/gQ/J//VqWbZHma0l6ONyCOVw24/xq7a7eZf8WCyG5bvnIT51ifjIeZNjiHE6VkwlplgP/Uq5kTGz54+/9rAe1g9qK/Z19M1sbRIfUvlFa9tL18eSY4wVBWE83gDPZLtTFNZxu1rZ/tQui/cprAeYJJ55TmTsQ3xlK5ef4IVz4UTiyuZrjX3tW4MLsl1oJ98wHi1f+mC3jwS7tu9JfMGvFu9Hc1byFnNQ877LFafbalxsPpEXW5eHnB9n89Y/p/i/s4TfOqEZn7upk99t4UNcJuNyqPiPA3cZhKsnAUkYxD3ndoUzDNC4ZSgLoiJUcECP4qMIoXCexHMWVSHnSbQ3v4vgrmGbFV+SMEOB7kRFFCRp73iwVSYJKp51m1PwMdtK4tKdm7KKjbcbMC1iu84B3B8Qf1cv4q94utz4JzpoJwngnJum3cIJg1Eqq3FW9/KmLfUx5iO3q4I0TbAsP1LuFMMUj9aNZYuoD+c5F64dw5EGJwxvBEf0dzksH/A8tWlsWuxtHEl0q29Yz/MinbexjX7na2jH+N/ue15MBx91Yjuas22cpKr/OhnT81C3wxXn12jOxI7aTLzQXFccc3Zv+TrF/x0l+5aJzNhgUCenJwtb8mY3b6aK/7h6B6uHWeikNtwgrCvyUXRYkbNb/KtoiraN4NhaUREFsC0/Ke9BfPTqORFY9bkkBFUEVYIK461tmcmAE0FmEuXt+vOqLuQbr+GxxGLsoK/bwYs9k0dTT9qysUmejPAK5ZPA8z54TP1105ZtR/KLnMBjf63lI4pFgwX6m/wrMdU+WJ7F65nvD5vh8d0yPulCuyYui72Pw/AE6+Fx8NPasX4BJ6RswLnD+8quq6tP2ZT3e+YM4ym4pjZC22UygDEEXEDgm5yFSYXGIzjosff9vs4p/v0NhucUTuQAOUAOZA5MFf955dALgIRlFOE4OcBtKU6cjImGhgAZFUU6GWhtS3B5Dna03MOy+9YVLxiDEAl+aXyyqutX+lF0YLx4nASIxJ/EDAqiKHigvMfCn3scMV68hsdSxtiB9iosNd4k6r0dI/6j+O1OEqu6Toz568bHWngjJ/BYMLTntq69Jj5I/Cl3wYcSc44liF1rB8WpHodcSlmx0/q7A3vvm+EG4oHHIec2h+qP/g12p/C+sqtcUUwc70dzVvtU4tnBFeRxlU+XM1ztF/9xkuDsKB738Pe2xP+np+GH10/Dj3NMqPj29nseUO+BXCbG52/Dq9efhx9efx7efHI39Qvk68e30ZcfVt+G36T9e8/PBXJg+MH2Z3tv2F/86+DrVnlFCHQHXicExkRDQ4CMiiLHrVC25Ye368+NnVroeR/MeWUL461tFRGkK7G44gl1vV1/7nHEGPAaHksZYwfak2tStoVfVU94YGMTTMzKf88f/FyPR3207ci9BfHHY3+t5aPZ845YhGPMBY5ltQ/VPU7q44q/TCweNsNmVbYZjWHv4zA8qfzsTTbRZ5/rxrniL3+xjfS598mc75kzjEfsdLmCPrlcB8y9n4mz8qRlqs0qd67Na79O8X+WhH4f3kyZlASB/GV4/+w650Qfg6B96QTjhT50O0Sw+/KJ2W8fvgxZsE/EpeuTCH4V/9vtIPjNYWLS9fel8bL+bAX2nHN+mPhX0ToiQMIAraLHCUxzLW3j0dVXP7A3Bn8vIlDMhWu6LQH7hGsziBhtE8uF41rohfIqipOt3G7ls403+JT3oEfbRWCPlPV2/bkXXxgHXsNjKWPs2PbNtqNcVvPocAl2QcS5dkzc7lrVJ/x146Pb/677x1OejSCt+GJ99nk3eXWTGcUiCkprp/I/YC9Y+r3+cg4TChOXxd7HgTw3OTM2RE9YO8a3UFbzl3Ds8b6y63BPtjLvd+TM+K850z7k6hquII81n+CzzVmJX57UlCeUh+ksg53z45quUfyfIXkiWF99+HO38Hih8Kb437MzO/G/FfxhMnBNHZm+7pn7M/T7W8nJweJft/9kUauiUrcIgCjMA3j5LIqwWHb5blO2XvQECAh6KyqSmNZtDeiP4wG2uf44IpgqEehiS6u7WcBXPte2TdvyFiEVQeKjiqoQA0yovF1/7gSU4SRew+PcXmlHfcurpsafkrNgH6+t4ht2cr1q21BpI+41BxHsclNd97Fiu4v1sJEfSjtU/Ce/47Ye71PMnd3yI/efKeJfxXWxGbAF7hoR7/qFL2t4jnjgccCx5htyQfMbxfFI2cqu46bn/Q5eKWaKc8gZ8D4Kfr1fAFccNyIu/m1OdkyIMRbcMf57PD6z+P9zeL/6PLx5K9tzPpdtMCLC0pYQ+ZuFchLDb95+KdfdynbeviHbSYLdtLochN3T8GYl2zt0NT22X9oqK9FROD8Nb7IfWicRKPiiW0Wi3exnWjXOdo2P0qa1hT6XlWd5OpDsZ3/janS2C5+HbSqrEt//9X/3MWoS22Cu/rV9CKvt6huK42DjaXgvq/HpenflPOBX8G76BB26iRH6DH6YsoB9zOm3wLnon2s/cCRt+wltS/yKhb1x7PKX14nXrXJgt/hn7m819y+PKwpirrayj0zhUhD7OBECTTCl/liZU9oea3eu1y4i/ovglQ7hBFcSlGHfvgpuFXTpPAtMLLtVYQ/i3+0vDyJWbaXyKuCjgCzCL5xngRlta9kgvGGSYreiuLJe9DrBKe1ku6Fs8SEK/CJOo5hN3xsIsdttKub6aKdpYK6xtnzIW5YSxoph8iF/lyGcg//og8cBr/njEYws1tvBnlvsAx7AgXCucUqbrh3ppFIm58P7xfPdT6+I0c1hRPFP4TZdwMiqMazQhpVfOOf94ebuD9O5UfcjWY0vT4XiE4dyXpc/vC1OQj12FxH/Y+IqiDkVm16IholCEbyV2A3iE8W/W+k1N564yq2+eFtGVFZ+oMiMx3lCIm2gqMRjvQaC1CSkagfJ3xLeNj4fg7HdiD2LdrzmfKhsVhij2Edc0PftELbUaF6xvdZxaKPkGeMweUkTuB72wXcU+y42k6fkRxVvyz9+xgHsjjhA8e/uZXeUe7z3Tj22WzW4x3oqbndZzmzVgrdjHbOPaRsneqJwrXmbgfhPojZtG3m1ki0kSdR6sWbEf0NohvIj4j+JyrgF5MvwalVWeb3oMyITBW8gJbYdJxG67aX8BT9QgEp94weIXB9vOC9bgcTfLNgrn9IWIV2V39l5nN9az/iAcaYBENvF49Se4KgTKtMpMDc7fetjZPKS+FAwV6wi9j6nzadMLjfBvmIxxU+W4UTgxjlA8U/xb+7lN853xkq+3wMHLi/+vYDEcyNEhZBRsOpKbyXusC4eh5uVF7L23NsyIrPyA+vGY/WpIo344QQmlgntdCY73idzXsW3r/iHDh7iS5MQF6tpU3DEdsPxCVb+3eCCGJm8tFb+oW7wHbF3sXHlHzgAuCE/eUyMKP7JAd4HyAFy4LY4MBPxrwIyCulpK/8qRLWufjkWVtxVVAdhk2zrqm4QrmWV2ovclsjMK9quri2b/FDRGQRn8mnr96inGExZF4+5dqSVfy+Cw6QqteuvodjX71V0MIwTg+K/uVk4HMw1Jzw9nijS/TV/joI/HMMXePFaaF9iU3yTD1Im59n5NeYzr93WjZH5LPmcnfj3bxwJ+8rljSBje8unvYnlZXk/RxslLy/ztbYT35jyyCd5vO+TA3fAgcuLfxWUYdvPl+H9J/kxqI4QdSv/cvML4k+3DL19Gl6p4DeiNd3okmgP20Tefg9f7tRtNEEYqqhVuygMg3hN20rexjfIoEiMQtNuO4k3Z5l0WEFsy+I1nfzgKnyyufo2/IjvuB+LL/gtT0nQtrvZIxbw5eUt5EOfZiDGRiwnH97oD2b1vssgHcmLf6mL+LrO1sUo56FMqGxZ9/lbfINTuRZyU/mwAzPn47EHX9pzHCXesxiE5y3+pwruqeX242DY355fTXiaNvx94VQi/VR2vf9nP/eTRd5XZnFfOTsPmHeT9zOL//1urPMlRxTpKo53+SniGScKu8of6/pvH54O/sGwST4k8T/pF5W9+JdJxtvyJqNJ7e3ZecOkACZ0VRte/PvzPdur7LO+udkQn+u8/81O/Jt+FQX3pV4leUvi/2b7J8U/78PmnnGd9+Fj90+K/0mkcCvCQfSOrKpXNqW+W3WuyhybkKcX12b//654vPh//ja8mfLDZ7vsjlzfV/xL+akTumN3RNo7Nv9p71icmiL+w6qx/ohWXgnXX/lNP7iUrluhHl/vpz+YZK/pL/umH/lRu1nMReGvdRer/zVsHuzbZcq7vXFVPh2v1sNSfXY//IXxrOUHt9z1gG3ebrRIP8ilbcgPkukPE7kfFQq+67Xd25RKbHE7jnmTTn57SQ/Dhj+KYeO+WVb+d+PT/tGxWC/iBW9u6cWseXwn+EZM5DWPGKN97WMvzvTDWas14K7YYh39jPeGY90baOd6uUTx37gJtghttr6MbW/p2ZMJw9gqdK/enD8Pk6CJk5q8Xed8AntM/Idrsl1Mtx7dYn7mzB36djWrcTvFv4hgEJUiIrNoU4GsQjWcqwhTcfocsVAx+DUNqKFsEc9ZnJpy1kYR+2IjidGP5Tj6FT8vgj6dGx+1XV/WDvahvRy7L+vsbqMQzRMcFx+OO/04VOjq3vzYRsa7gU35LoT3x8aS8a1+mdnX68WRymU8xH6vLPwyrMG9cCdOAmwe2nHqr+Yqr9K5+mEwsTEj5jwmNvfEAYp/ipCrESH31DEZKweiuXBgkvhf2BX37LsR+5JTEKtBlKm4i/nGiUMRo44LRsyBPbmXo008xnbNcWl3kURo1e4uka4ic4fdrdjJZQsWeTIAY1EUvkXMZjy3TvybGEssZpKj4lrsj8RS4naY+ja7Nup6ozGbPGruIGZsZzROh8k2PTFSrH07gDPiymPXz4jTTWsjin8S/KYJzhs6b+jkwMs4sFP8Z1Gp21lgIoACLt1rs8AP10od3foRRXhDSOq92og5Xy6eB0Et9rPwxXJ4XARzt91GDMqp1sp/Xp12ojkK+jpeLK925a8tX0RxEekq5mub3VgaIlrbLHbH8HHCWnMS/tb1bAzFzxCzyeMO8T/KFYp/zSH/vuxed0/4UfybmxeJc0/kZ6zkOzmwmwOTxD/cR6PgSyv6QbQV4bpr5R/zUcSo89GIxo7gXD0OUr+sqmM5PI62sS08Dv4cSfzXq+AuLsAQcZDj4FNayTb+jYh5xbpMgHSyYJ+2aHNK638AACAASURBVFvF7jg+/acHdb3RmE0ed4j/0Tgp/jWH/Du9T907VhT/IzfceycH4+eNhBwgB3aJ/yD2dYuF3E9FLOt5WrHNq9tmMuDFYtwfbssWoZrbMaLR21ARKavMnUnHlO05+Qu+0X75foDlQ/YpjCO1L0VQSz23/z3EgROUYtvWS6vtzW1Jvk3E0PuezvPTkNKe9PPSpreJ13pxCNZ1vdGYTR41b5AzM+nytjFO7597OuHb4ZjPp/3kwEDxTxLwRkAOkAPkQJcDu8R/Fo75DTe1gFuvypaPshpfhKTd8lNEaXyKoHXTRMCIOS8KpW78LE9AQm6xHB7HtorwhfMQz3LYhLfRlEmImRAnAR8nB7vt2rfklC+3Gpvgb8YlT0Z09V7fMCT+RiGcy2Zxn/zBtxrppKzB94LB/nHEnNb1QlwZo5jHPLkzedwl/sfi3CH+lQ/6vRScnDZwqHMROcHPicMtcYDin52/O+jfEtEZC2/c5MBhHJgi/rvYmtXbw9rv2h65d4uQzSJzpNwk21crFjti/KV4sD7HTHLg6jlA8U8SXz2JJw3gzDPzTA4cxIHrE/+yEg5PH/bMe3ja4FbPzb75Pe1d7v5E8X857M830WWMxPoQDlD8X82NnAQ/hOCsQ96QAy/jwFWJ//Ck4aWr/m4bzchWmXlzi+J/3vl5Wb9kbMTvJRyg+Kf4P2g18CWkY13etMiB6+HAi8Q/76+8v5ID5AA5MDsOUPyTlLMjJYXh9QhD5ur2c0Xxf/s5Zj9mjsmB++IAxT/FP8U/OUAOkANdDlD835cooAhkvsmB2+cAxT8H/e6gzxvA7d8AmGPmeBcHKP7JkV0c4XVyhBy4Lg5Q/FP8U/yTA+QAOdDlAMX/dQ3qFGHMFzlADuziAMU/B/3uoL+LPLzOGww5cPscoPi//RyzHzPH5MB9cYDin+Kf4p8cIAfIgS4HKP7vSxRQBDLf5MDtc+Co4v/3338fxODT0xP/EwNygBwgB26AA58/fx5+/vln5vIGcsmxmdqEHCAHhAOi1UWz7/q32FVArv/xxx/DTz/9NPzjH//gf2JADpAD5MANcOCXX34Zfv31V+byBnLJsZnahBwgB4QDotVFs+/6N0n8//XXX2E2wUdGt//IiDlmjsmB++AAt/3cR57Zn5lncuB+OHDUbT8U//dDHN4kmGty4D44QPF/H3lmf2aeyYH74QDFP7/o1/2iH28E93MjYK6Z6x4HKP7JjR43+Dm5QQ5cJwco/in+Kf7JAXKAHOhygOL/Ogd3ijLmjRwgB3ocoPjnoN8d9Huk4ee8oZAD98MBiv/7yTX7NXNNDtwHByj+Kf4p/skBcoAc6HKA4v8+xABFH/NMDtwPByj+Oeh3B33eCO7nRsBcM9c9DlD8kxs9bvBzcoMcuE4OUPxT/FP8kwPkADnQ5QDF/3UO7hRlzBs5QA70ODAf8f/8bXj1+svw/vmAZH16Gn54/TT8eIQB/Me3n4c3nw7wYVLbfw7vVwfGOMn+qfym3V4H4ufkxq1zYJr4fx42D4thsSj/1x+nciPWXb577k5Abgfjx2G9WAzTsZmKIZa7DJ7P75Yp/+vhkePV8bj8cT0sFvPF9HG1GBarx2G7vQzvuveGmePW9ftMfYfiH4GWScTb78frtGhbj2WSs/o2/Kbn/HtavIkv8SUHXsSB3eI/Cf8gAFSE7iNyjyMaighRH+b4dx9cDvUf8TxHe+Lnudo5FJMrrjdzEVv6HfJuDO/jcCVMNh82w3Pv/j5z3Cj+NXEvWflXGy/6e75V+dM+XRjrdLx26Q7H9snBa+PAbvHfHszD4GwmBL3cTxUNvfrx8yJCxstdFv82Vqfz6VztSTvLYfN1zthfqW8zF7H797vjcHKn+H+RHrxSruwR80VW/kX8/vA6/deVdhX/H2QLj7uWAmrWk2tu289vH74UG26VvWujsSJvyjo7Y21sQywaw7fh/erz8OrDn3n1LdTVuPdI1ukGiNsnOrFjjsmBwziwW/xH8R4f/Y+1EQd93RpUtr7U4j8ICt1C5CYQZXvJYliklT/zmSuveTc2R4SqlFuu1sNS2teVxa+beF75lHzX8uG626IRxFvaDrVau20/PUy2QxRVG9hOJXaxvGsnjyWK59+gLmw1MrGgYNd6m+BjyJPEj+UVj9yW5Bt9WgyyfauJoStX53/fdhPX0D/Bv5N/4YHhgI/F2EFctsMWr61iTnrb1LpteBEfbGI7FseMT6q3yduqIsbK6+ov8m1hy3Z9M/kUXCMXtK+ObTsKNgPmyp+0fc/4oXFauznGqv1yH2n6jLZDHqPd9Uq2SCUOJNxkC1r0Mfa9GJP60+DQw3pYP1jcKoxH/L2WsmcX/0H4ZiEtq+1JGKtgVlGcznX/va33fXjzGgQ1in883m6HIOCTTWsD2t5uh0qQi53sZ7STBfxIG9ttyzfwVUgTYjvOdxSuhWj0s9zMiAWxuCYO7Bb/Thw5wRFjdcLACB97za7o2WtbGNDFbhEe9rjCV+qB2MN6vmwUGyisk7DQ7zA0fC/iKJYtAjQKOhU5OkmJ563YiiiJfuh5spv3fke7bQGKdm37KtTVH4tnu42MWxLAua4RQLadHobZ35DH8dimtRt9zj6Z3Lj7TIMD2R+/bcnwzGEdrnXE4Vgbxqb2GYtB9gfj8O2Fc63nYgxxwDVsU45dH8jtmVxuh8DTPIlCPvn2sN9hOcHM+ZHbtlzx/c+cj/jcuk9gfMht25eSz9kf9Hs7xHqd/DqcjK9Xdu3M4t8KbgNcEMT4ZdgooqP4r+sZIQ9iHMW+sb+NNnQyEa6BwJd6WdxLEoPN9pd/q7Io5sGX2H7texT/GGvdoazvvE48yAFy4DIcmCT+YeBTgSsrbFaUoaCOA3AUHzj4xuNcT+yCAAiDeBYlFo+xa5Y7sY0i0Pe0EwSVChv0PdoxfoSyGDcIHxR4AT9ry9hxEx1dmW2LN7QD7TksIyaxbMQb60ks/tzZgpz7SYX3Pa6cK2betm/Hn4+1a3MXhRu2A9dDLoCT6D9wrMKlyqH3b4828uTNif+KC94mcGisLMa0TSJe2xyL39Wz/SXi3+bamPjvPYXZN5/tnLXEv/ER8ub5aOpWeI7kdxQnyNkVlDuz+EdB74AaFf91vbb4bwjtnIRoI28p0q1F6S1BlaCXemkCoHVwIqKflb9JzE8R/+HpAMW/vcE4PuS88XPiRA5ckgP7in/1NU4CkmhJwqNsI9BtMP4tIVEYVOWCgBkflP0Ar36Ev2GA1zcRLYelvJloj0lEsK1bfh6WwzKvatY+oR9GZIR7WiwfxDaIk+irtYV25Lo9t2VNrEa0W6EVc6I4lL/1JEz6nG/D2rJt2mvWV11NBQFrbPt2/Lm1bdtNuDRz07hvOB7qJHMUlx158v7oyrFyWNuInwMGKDqrNsB3fw3rVeNkxE7bXj7IG5igzU784zHE/mKENbRbct3Om/pS+tt4Psd9KRMB27d825ZzxceIq6nr8TXchDxAzJWPV3jtzOJ/RJyPiv+6Xlv8220+NkHRhln5h4Q1xT9cD+2NTRS07BTxX8V6uwSzOWCcxIMcuDYO7BT/MnjmR+iQXxxUg2ABEaL3y/AXB+54nAWTKecFMLRViePxa14MYE6qa15smXP0PbZp6iMGIRYQPsaO1LW2jJ0qPlsW/bd2oD1pv5erKg+1P35137Zp2/G+n2zl32Pozx1/0Oco+BMnx3CpcjiGveVd1QYKcfQVj73Pvv19yvq6YNv4Bp9b/rR4YGMsuR7BJfiswt1yBXOy6xh9Dsf5vtNoG2IvPkbfTd0Kz4Ytg4+Nf5fPc71+ZvGf9ta7vfTh9ZqVILar/UbsN/fVpz30TnxjPTyWhIjg13394Zp+30C/AwB+hqcAet5qI//OgJuohLJuS1GIlXv+59op6Ndt3NyYx+Pkcaf41y9ympX0OICW1T4/oEYB0FpxNgOzil4d5GFAl/xiWT/AY/7DNbWRhEjxzeJU2THCRVeadWuJj8tPUDBOXY1UEeTqhtjUrrfjz11dI07wmhda7tzEhvUEE3/u6po27bUKQ2/LxOrb8efWNuZVv4irk8XQbn4qY/OKXAk2xAflhN/zP4ZL8L29J3y0DWNTt+RovkdiDu3BxDnY0Xo2RrvtKdrUlf9R30wuUz3tzyPxCo4l1xBD5aPkUH0eyafxw/ZvnzMbD7StNgC34mPEa7TujngN/7StK/x7dvEvwAXRrdtuVFDvEP9VPRDqo2/7yaI8Jt20jdekffUlJdKWtdt0wmRBY6h+nAy2GK2ehjf6peZk1080boVMjMPdiK/whsAcMoeeA7vFv2CmQsNvJUE846BfbwOoB+4o4tQWCB8V/LrNA1dS06BdBB20nYRXaPthMzzKm1Oy8INyRsyUz9Gf9UcULx3fVTjJPcC0Hd8komJVV9MVk/I5iqrohxUwdbslb/aa+p63baA/5svZtp7mNNfzAtnc3xCT2vfom81/ifUl7aa2Eh9sbkr+FBvFIuKtYjSV6+Ii18H3HW+DGWsDry3fyduN0AdoA/MCIjbEEfzEehhnxDLH91HeUlXKYvsL+FzxyX+1Lwmuq0cQ+NhWPA42A99dHtEGxqN9TD+Tcp2+KP50fc75kvuDa1u4CbgVH6PPVvy7Pure5hTKYn82vK/xyBjOvNxFxP88wZEVeyvwj+OnexLQ+uLxzElyHByut5MwfubunjkwTfyTI/fMkfuKvSE0OYbnV5nvz4XnYbMa+bGus2Mb81smp7d5b6P4R2LJFh18ooDXDj524r/xhGH/znKbZCQOzCs5MD8OUPzPLyfsJ5fMCcX/Ufn3dTOs36XfBjhYZ72ED/LEpTwdsVunXmJ33nUp/h3ZZKtP70vBhxEexf+pni7Mm2SH4caYiBs5MAcOUPyTh3Pg4Xx8oPifTy6O0zfD1p68lVC/k3Mc23PFiuLfif+5Jop+3XZHZH6Z37lygOKf3JwrN+kXuUkOHMYBin+K/xfs1TuMdOysxI0cuB4OUPxfT67Yr5grcoAcmMIBin+Kf4p/coAcIAe6HKD4p5iYIiZYhjwhB66HAxT/HPS7gz478vV0ZOaKuToVByj+ya1TcYt2yS1y4DIcoPin+Kf4JwfIAXKgywGK/8sMzhRFxJ0cIAdOxQGKfw763UH/VKSjXd7QyIHr4QDF//Xkiv2KuSIHyIEpHKD4p/in+CcHyAFyoMsBin+KiSligmXIE3LgejhwVPH/+++/D2JQBgv+JwbkADlADlw/B37++efhy5cvvKdzXCMHyAFy4EY4IFpdNPuuf4tdBeS6iv+///3vA/8TA3KAHCAHrp8DT09PYcBnLq8/l8whc0gOkAPCgaOK/7/++isY5KOf63n0w1wxV+QAOTDGAXl68+3bt+62oLG6vEZukQPkADkwPw4cddsPxf/8EsxOx5yQA+TASzhA8U/+vIQ/rEv+kAPz4wDFP7/oxxU9coAcIAe6HKD4n9/ATTHFnJAD5MBLOEDxz0G/O+i/hFisyxsTOXAbHKD4v408sj8yj+QAOaAcoPin+Kf4JwfIAXKgywGKfwoGFQz8Sy6QA7fBAYp/DvrdQZ+d/DY6OfPIPL6EAxT/5M9L+MO65A85MD8OUPxT/FP8kwPkADnQ5QDF//wGboop5oQcIAdewgGKfw763UH/JcRiXd6YyIHb4ADF/23kkf2ReSQHyAHlAMU/xT/FPzlADpADXQ7sFv+Pw3qxGBaN/+uPtzrYPg+bh8WwfPfcxU0H2e7fr5thuVgOm6/HxOgIfh3YF57fLYfFw2Z4PrB+F6c52TthzkL/WT0ezqc54XQUXw7l8qH1jtkPJ9g6CZcmtJtyQ/F/FJJOB/wqbnDEhDdgcoAcSByYKv690A9icLEeHidxKU4gvI353i+PIDBOMvgfwa9J+arHPIr/GpNJ/P24HhaT+8mBbRyY00n+n8z2dC5b7k2vd9H4TtL/p/OD4v9kxJ2ehIsSkPFT5JED5MAIBw4V/9vtPoJ+n7JzuLfOVWBczi8rwOaQoxP4cArBJuL/1p+YjNxf+vpnOpevknun4NIeOFP87wFWn6QnuMnQLwoycoAcmAEHjir+w4CnW4R0y0sc5HXbUFj996uhOFCG4/WwXkU7Uv5Rjldr2H6ktuXebO0vxrZWGP/EZm8bhhMmwd/F0Hxy4WzmMhBTEC9+2xQIQnMdPg9jEtp/WA/r3nakUM7iJvUDdrltwC3lQHGW/NhtTojrcliv7Lafrs/J7ka2CaV2cw7hvDneYqwLjzf6I9woT50iPzZhq1ZsU67hdrVdZdMYDzmL/qEN50/iRGwPcMU+XZWJMaxX8jQA+GfiBlvqz7tUPuUIsbc5c1rFtO/zC2U7OSs56uPQxj7ZTnbz00GNJ2yFc33M92PNL8YQ+oavt8u33n0D4pecmRxAro3PUie2l/v5djtgPvJET+tB7vr3G7Hb53fXN+SaO6b4d4AUMrvEsxyFGDlADtwhBw4V/3HAK6KqGhTNwO8GTHNNB94ketIgjKImCtgiisJ5EsnBjyzik7hqfhfBXdPBubknHwSG99VwpGUzYdK1P45FFFM6KQE/pN0khBCbPKY1cAvlYTJhbHtb4bxgHHDNdZPA0nODSfQxCxtnV4WRiiXMXfY9YDqCpQosl2fFIdjM369I/qh4TGLNli3izvhjcuawN9cEj4KVx9nE1cJKcQxxWz6YfpVyOo4t9kHUNQ0fMyZYrvDKtqPxORwcTyL2HTxN7K6fJ7GreWn1Y3MtY4b+4LHGoX7rxNedZzuIQbSjHI1iu9ePbb5inyw5CHgIT33u0nluw9xH0gSiye8R35wN5B3F/wg4CBSPsSPwmHwgB+6FA1PFv67ilr9lUA1YyUBvBlYctMYHzDhQJntGZEUe5gE13c9RmEax5HyZct93IsbmO4mKB1m9LgO7LSO+xXI27tR3GnFoeRU1Yk9iw/Nx4ZH8an0Rudke9uPkqwqMPYSZ+ImY+3wYAeTtunO0Y/EcwbLKZ+ST4ub9secWs3ANeYq4Vcc291I3thnbz2K58g9wN/FbX0L85rrUg76C/kgb/ryqC+06n2I/sfFk/IMd7EPgp2/TifZRPL1/xha04XxVDDS/ljNQz9iT2OGaPvVSvjsO59hD27HetH4M+Wm0ke1Wvtl6uVwVe+FAjH/Et2bdyAGK/xFwxsHvdyLWIzbkADlwKxyYKv7LilUajGBQFSyiuNAtP+UviqVsY0wUVIOmbvvR1XArROu2UcRYngaholtgHpYjb+NJMS6Ww7K3zSaPLVo2xazCckIcKlbKhEpxSzF4nFqTBfWj0V5efQwxx1iyYPW2Tf2GUJHyIbYYrwqz0A/QFh6Lb+7cCjmbnwoPxTLbKfhgXkJegY/23Pprr0n7EmvCGzEIfmt78De3EzHKucufu5hM/NaXzF2M82ji3/JyOTaRNT5G/wWnkOPqmo1hFE9fF/F1Qj3yRHG2/c5yBtr39p1N75u14/KU6uZ8ak6Mz8oXfdIBvmg/1L+j9Xzb2k/a8Y/2C23P/aX4d4CEGxU/4/YOcoAcIAcCB/YX/2UArASgDpgVtk5M+kEbB0o8Tnb2GcRD2ZYf3q4/Nz7DoD5azg/iMc6Ai6vXEx7ir8ER/XA2VAQ0y1dl60mTwXEsB05EeZFq7Ii/aAuP/TWdJLbyg3GHY8Cy8gfy01h9tf41ymL7iFt13Fkp976GeioIHScMHtaXauIEcYeJMvoj1/y5sT3WrsuR9z/YwUkz+OnbdLkIWPfw9P4ZW9CGs+l5bvsO1DP2JH641uCFtePwMpgA96o27L3Mcg1s7qhntaj128dhy4Jvxmdoe7sd7k/8f3oafnj9NPw4AooB8vnb8Gr1bfhtavljl9vXX23/0Hpaf8rfkTZ+fPt5ePPJks3gOsU+y1CAkwMX58Bh4l/FBAoGOyjqqnNc7R+7pk8NGquviR9+gMVBvHmttQobBuMi0EI9XfGteGgHY2zP3udcXEl8VMLNiyBsz10LbeWtRtGPvFqfYthL/KswS3WzLdeuF5ZNP9SWqet8NNeUJ0VEH4RlwtX6XiZNngP23ObS5z2ca1xGsNl6ZiuKKSfjoPAA+wKMjQYPb1PrFl4a3H07/tzYhjaFX+Ga+pRylHnVKlvwbNXNnDN2d+yrD/762KxP0W7yT/ttaKP4YzmDGOKxj7me/Fo7iMFIP05PYmz8JSYz8cXJrc8VPtHB/h+Ox+If8w1jsMcU/xXICNCfw/vVl+H9M3525uMRgW0Hme0ggvuHt9+jWNijnrcz+Xy0je/Dm30mWaN5ODPm9OXignMyB5mrk+fqYPGvggwFRRrs9dF5HjB1FQ7eKBNFWHzMvXy3KeKpGjR3DeJp4NTtPOiP4w+2uf7oB1W8DzlR4QUA2nUxZ4Ga4/D+6aN9J4iz/yqO1J/oZ8Q0vs0Hcc19Kben9XSlOLX3sBke8Ye6vHBs1Dd4yRtqVCSryFGf4XMvhvx5X4A5f8W2ikHBOwnCgMPqMb0BKm4FC35CWXtucxmv4RtgSh78BEgFv/K56w/wOudDOWJwtr7ksoZDkH+fE39ubEPeQ9vIu+Ww+Tjyo3PJDr75KW/RC7aQgyB8tV+bN3EBnno98cT0c7dKP5ZfXUiI37/xGO7yrb9dMOMvMZocWO7FCVnqR6v4VinEx1zX+4/P1aj4H+f3mG8mBuUcV/59Z3DnIm5VTANoPTBP8vmowLb+GvF/Dn93+Pbbhy/Dqw9/nlycnAT3c+DHNsiNK+DAbvFv70Psj8TjmjlgJwbMZcjl6CRiHCPiOY7PpfrK+Vf+g2D8PPzwWv67VXXZYhM+T9ez8JYV+M/Dqw/fhjd6XbbiYPm8NadTVgdZL1jRhvPHb12J4vpb8CX677YPdW2N++RFu4jmHzQe76/BTzCJ4jrUUWwEN19vl29vnwB7F5di5/+aNmKM2W8pK9c1Dl+X5xS+5MBVcIDif56D96VEw623S7Ha4DvF/1Xcq/fpm2cW/7IVBAS/EYdRPOZ94kGsatkkLPM2ErHzuQjLJGxjXS3r6upEwgjWaCe3WV1TG7EzBJH+uuxlD+dZ3FpbUYyriB73abr4b+CXMRnb9jPFN+er4jUm0DJeMT6diBQCOn/HbPHazd1cCg8agwnzfTX5pvgnf++pL1P8N/hO8X819+upffUC4h/2pY8JgCAsVXx7cenPUdwmoY3iNYvUtBqtglk+z+JdCB/rhslAmFCoII6dwYr97bDFCQq2EeKa7tN08W87pZ1gjIj/Cb6hcPf+dMkU7H4ZXoWnMq3tPYiB9b1rc4wTvHZzNyDyYP79guJ//jliP2KOyAFyYB8OnFn8S3KiIIzbZuxEIIhO3bqy+jK8yk8JvNj35ygy/TUV6UnIgxA2W2W03ddpK01P/OOkIsQSJyjBlplITPfJi21jC/zVyYli92r1xby5yNiBesZeZ2JyuPj/PHg/CgFhMkXhTuFODlwlByj+KSrKPZ1YEAty4BY4cAHxD8TB7Tq4ii4iwZx7Qe/Pa6FtvqgLQtjshZfPjWD3vs1s5R/jEIzceU/8+3I6AcNtUoeL/4iRaTuLPMwLYJuv87NbuIkwhtvmMcX/beeX/Zf5JQfujwPnFf9G0AvYIg7T1h6cCGzTFha9lrbjFIE6Qfzr1p5UN08GjGB24tT4AL4lsRoEbvYp+ZgnD9ZWfKqgk4fob/l9gXSeniI0y6pd9Dcc261QxebItp/0tEW/29Bqr2Dr7IwJdfTNtRFvJjWGvMnc302GOb/unB9V/OPr7fB47D7Da1f5xIj9/rr7PfN32/k7r/iXm3gQjPq2n/K2GiFaFNfx2ptPKKa92PfnjbL49hoV0rl9FeX6hKHvjwrm7N/bp/LGoTzBSCRJk4f6TUbJ355PSTjneh/giYQR2GnSELYofRnef5K3I+lkALCVeE09HyfUqSZWTvyLHcQPB2LXhp1UJH96ddEOjzm4kwOz5cClxf/oe98vxJs5+kSxdttijfllfo/JgfOL/5PfrP3E4AWEEXELe/zbW1um2D+iTyfHz8fz5/D+7WG/cCx44ROFYxKXtnyeeE5OnIYDJxP/E+9lcxTac/SJ/D8N/4krcb1FDlD8jw5AItrLKvldiv/nb8Obg36oS57GwBOWUZx5c7nFmwtjug1eTxL/I79+aXiAW33w2P3SZ/6l2PCKwfILtM/N+0jvFzzjL32u5Zdn/a/Bqh3nN/4qp//11nxtkk+3kXuTO8WMf2f7lI75Yr+bygGK/103MtnKk7au3KX434VP57pghVumphKS5XjzIgfmxYHd4j+J7I/JbyfqTT7xGh6LoH7YDCru5V3ry3fPQWSNr7LHtrXsNgjz5bD5Kr7Ea2jX+JKuZ1Ef/FkPj+Ge5uyir9vtMO7TvPJnY6ZvxIMcIAe2ww2KfxKbxCYHyAFy4Fgc2C3+HdZGgLtrKKLxOK2mZyEOiwqjQhttVKLdCXiwGbEZmRwEuzoRiDFMn5C4mKt2ef1Y3KQdcokcOIwDFP+8MfMRJjlADpADXQ5MEf/hV1Fla438f1gOy4WuvruBCcU6Hgv+aQIQbCwWg04ERsV/qIMiHQU/Hjs/cr7TBCD7np4+OF/Up8XqccLTiF5b/JxCjRwgB+bBAYr/PAjMIyHsGMwDOUAOzIkDO8W/F/H+HO+xeA2PsYxuq1lEUT8q/isbKPjxeAqn4ncHwhaiYBcnFbb+qE8uljnlkr7YPBIP4nGvHKD45426u+J3r52CcXNAIAcKB6aJ/7JSH58C7LfyX4lpWXlP3wGorpl7thP4YcVe23bXTD2JL4p9fcKg3xGI574uTAx0cgLfUSBfCl+IBbEgB+bPAYr/akCYf9LYsZgjcoAcOBcHdop/96ae9UcvqiFXuFKPx87GArcNhXKypai3Eh/b0605XsznLwO37vXZdtqylLb1RGytXd3yE67lej2fIOZWu/yMJ/ytwAAAIABJREFUi07kADlwQQ5Q/F8Q/HMN3myHAzE5QA4cyoEp4v9Q26xHXpID5AA5cH4OUPxT/HP2TQ6QA+RAlwMU/+cfmCmGiDk5QA6ckgMU/xz0u4P+KYlH27yxkQPXwQGK/+vIE/sT80QOkANTOUDxT/FP8U8OkAPkQJcDFP8UFFMFBcuRK+TAdXCA4p+DfnfQZye+jk7MPDFPp+QAxT/5dUp+0Tb5RQ6cnwMU/xT/FP/kADlADnQ5QPF//oGZYoiYkwPkwCk5QPHPQb876J+SeLTNGxs5cB0coPi/jjyxPzFP5AA5MJUDFP8U/xT/5AA5QA50OUDxT0ExVVCwHLlCDlwHByj+Oeh3B3124uvoxMwT83RKDlD8k1+n5Bdtk1/kwPk5QPFP8U/xTw6QA+RAlwMU/+cfmCmGiDk5QA6ckgNHFf+///77IAafnp74nxiQA+QAOXADHPj5558H+c/7Osc1coAcIAdugwOi1UWz7/q32FVArv/xxx9B/P/jH/8Y+J8YkAPkADlw/Rz45Zdfhl9//ZX3dI5r5AA5QA7cCAdE/Itm3/Vvkvj/66+/gvg/5aMK2uajMHKAHCAHzscBbvs5H9bkNbEmB8iBc3DgqNt+KP5J2nOQlm2QZ+TA+ThA8X8+rMlrYk0OkAPn4ADFP7/o1/2i3zkIyDZ4oyMH5s0Biv9554f9h/khB8iBfTlA8U/xT/FPDpAD5ECXAxT/FBb7CguWJ2fIgXlzgOKfg3530GfnnXfnZX6Yn3NwgOKfPDsHz9gGeUYOnI8DFP8U/xT/5AA5QA50OUDxf74BmeKHWJMD5MA5OEDxz0G/O+ifg4Bsgzc6cmDeHKD4n3d+2H+YH3KAHNiXAxT/FP8U/+QAOUAOdDlA8U9hsa+wYHlyhhyYNwco/jnodwd9dt55d17mh/k5Bwd2i//HYb1YDIvG//XHW83R87B5WAzLd8+H3z+/boblYjlsvh4ToyP4NTYmTvb5lH5Evp2fW5dqN/Hj43pYLNbD41h+OtceV4thsXo8nKsdu4fff0b4MZljx+w3YmvEp13xj/qMdnvHx45ltz2K/11J5fUZ3TB2E/rwmxFtEztyoMWBqeLfi7Hnd8s9xMqFhdXe93kcxA/kzahgONDmSwTMFAwm+zyOT+DGw2Z4ntJmVeZSXLlUu4kLNyz+zeRkMscO7SO9euOcbd0b82ejPqPd3vH5uUXxX91YesTg55noxIwTInLgbjhwqPjfbvcZ0PYpO4d7MQ7ic/BHfZiLX+N+UPxrvvb4+wLxP/ex+7bFP+a41y/Of/+j+KeIuRsRM/cbIP3DmySP58KHo4r/sEKmW4R0y0scEHXbUHiC4IUOrqyF4/Wwlq0Mi8Ug5aN4WMP2I7UtPLL2R7c/GP/Gtkq4QTz4G32p8uZs5ickEFN8SqK4pL+wMm6uw+ehLbT/sB7Wze1I0d/cdjUxE/FRMOu2Bz6Pt634bCAnactKwirkG2IJOdStY36LCtZZxTyXWOBeIeUSBguNB/ER+2B7nDfbYbuj3Z7P0e4mbA2LvJbYo8Ar5+C30yFNu8GX9bAJT9QiR/y2s2a9rfaPsu2nm18t28qDw7GJf4ix8Gjb5Itgofx4Howvkhut8062OaW+ADkz/atRFjERPJar9bAUO8o1Ewf4mn0CzmqdlB+Dr/JLro36UWLVe1H0UT//G/BE7iHxc8Q3YNTDwHHH4DNyjeJ/BJypILJc/yZGbIgNOXDdHDhU/MdBHfcou9WtJGbiHuaxazC4yv74NHj7QT6LPRUwaeC2A2c9sBZ+ums6oDf35OvA/ZwEIsaJ+W7ZTGW79sexCAIkCwHwQ8ayJFYRG43P4PBxPSwflkUISz0VOiYvTjgan8fajtfKHvV0nvwOvmh7220UgPnc2XUTlcirzkQrxV+EU7SVz43/KTYQcQHb7IfNg2/XxhDLKu5RJKqw9FjYspof/WvtAhY+t+Fc2/AY2jYMZ0by2207CWOLY5vz0pbiIPaEZ3geJ18Ql/ZX5XTIEUzS0nluGzWbltWcubIxD+hnK6d6XfOkmKZz9Utw03Z6Put14wfG2jtu+KXteuwx/hccU/y/ADztrPyLgx2PyQdy4JY4MFX851U6Xa0DURXwcIOnroLFQd0OflHE6qCsgj8NymFg1QE6cs2IGycmg6Dxvky57ztxZXOaBnER0KNfwkwCQkUBttuIQzFRsSRtopgKPoR6CZvKBooL1w8Bf8Fk/fFxWCe/sA08Hm1vtO3aD8xRS2QacQe+VlxwkwGTl5Az4A3iLccup+iT2DF+VbaQo3V8WNfbted13RLDyDXvj8G/rtfzx/qCHIk22nmI11D8Fp/RRsIwCdfH1XLYfNwMy3CO9q2/xicTl9hG3G1buhCAPqMtPA7+egyN7RRjFt3KlxafXNngs52QlrYx1t6xizHYwz7e8sFh4bm+45zifwdAPYLz85cRj/gRP3LgOjgwVfyXAdgNjOkeG8RInhiULS5R6LrBzw/SKAjwONkuA23EFIWP8My2bScOyMNgR32UFcvupCHFuJCVzbLSibbKsZZ123kmxKGTge7EyuPUmizkMU4wltjFn9Zfwc75qlgoDuhz1XasG/OJxzEnmCObn5j7OsYoeGzZ4mPhW7Qf8K580tV9xd7mFH2S+tgWHsdcxphiu46vrq63a89rbApXarv5mo8Nc2FEbMQD/S/t7267l4eKG60JrXAt+CW5k1haf0sOdZJb/NP62EdHMDEYQNx58gFPEFyOIq5ou4FNjkX90vtW7Pd5C9moH2i3d4x+FHwC1yTvOCHJ/TnGm/mx5+cU/3sCdijQrPcyohI/4kcOXIYD+4t/8TMOZjq4h9zJINYTDF68jAmdxkBrxENzkC/YhbItP7xdf27GChjER8uVdiN/ARdXD8Uacl38NTiiH86GCrReebGFK/7S5vrdZlgCHpPbG20b8En+BtyTiLGxxrJNMS91PRc8VxAPX9b76M7RJ8Hc+OVtmXbr+LCut2vP67ol3yPXvD8mlrpezx/rC/Iz2ujmAXFu9e98Xezgir9MwJbDRvbwZxFr/TU+mbjKvaTpVyjbW3FPE7/c5i4uWZ9CTgBz42Nz2w9OWLBttNs79uK/PEGRdpuxZ7wxh9OP5yP+n78Nr15/Gd4/T3c+d5hPT8MPr5+GH18IRrbXtPPn8H51oH9Ne3vGeSg+h9Y7hs/72Jjsp+Th8/Dqw58n/KLySBvi5+rb8Ns+sbHsCXO1Zz9iLvbOxWHiXwdaHBDdAGcG7rFrunKfbFXiAAfayIee8JF7fLiGgkA5YfxJNnXFW8vkvziIO9GYy4gvLi7cv4txgMioxiF3LfiftxpFP7KoSjH0xH/EZZm2YcQc4Z7s0PZYe+hziiW3FerpRMXiI3ZRPGF+ck7cBKRMFCOGvp2mIHK++20hwQfIKfpU+zHero3BlvV27XmNTcA98cbaBdyasZX+ZeuN+OPsYD08zjkLeYn2CuYxhnJu78MSL/JK7Mp5KW8xMPgYjrX6ELSV+O75r+0YuwFfG0eI1/clf57uFcGWcrTTbtsPjLV3bP0KfNA2gK/Ik5ceU/ybGzWQyn3+24cvJxac/bZDkieL4+3w49vPww9vv8dBfo96LyXTi+pP9nNEmEvOJtsZw3u8jYtzwXHzRbjT1t5i+N7wPlj85y0ksF81D2jx8XkWdCoOFyoeVXxrOXkDx2HiX1fDy3YG8MfxPwzwaatLWCFPbxOqc46DuNxLrNgy5V3MViBITNFW8U+3FhQ/o0jRz4vgi+3EtmP9+BYkxLXlS74efPP2dLLVaM+Xx9hW8e020bbHB0SsYJ7rlRgR++p7FLm8vLUlvtFIBZ6JzwlbuYZ2fU7DNZgIevFb/Gy3i7ZzXrVNsGvbqbExMWh93XKlgtPH5nPh63Xb9/ktOfB4mTxgDsQ3sO/9j09rYMXa+96ZOIYJXxVXQxhrv01l1yv57o3eK8oP71nc05hv4kDua146b/vBeg+b4VHeuqS5UZ/hDUW5j5lYtQ3xEY8LT3293IbGfKS/tyH+jwRGReBs9/vw5uRPFsbE6H6i1oj/HMMO+1dTblyYn0P8b7cz4MPV5OtWeHe/cewW//eLTX/MuEdMophpinLer7jIcAoOqOhuvpHr+vugTF7KZOC48VxE/Adx+vrz8IP89yvUH2QLj7uWSNOsJ9fcth9Zmc023BaNro2wYpzaff15ePMJgBb76udWV9a/he0nsR2/5UjEYcuWCtdv5Tr65+IwQtavaDt/1T8Tu/js6wXhOuLb26fhVfbdxwWY5I4cYyp4xdjtedkuZfzD2L2fGN/qaXiTt/o0MMwTM8Q9tRkw1XiLH+ODtraRthYlGyUmH3MLF342jjHxuRZ8KP7J1TZXZUUWVk7D6i6c5zGC+LXxIy4vxuWmxb/rX0fuT2cX/0H8ZdEHIkvFnorsdK6Cy9aLIi/v+0bRjMdZqMctMNYGtL11Yi60XYSvTBhyW2oTJghhQtGKKU9MVHTGdn7I321I5xqz890I9+CTtaPYmHLqn9ps1MuxhPaszfLdCefbCPECrtrep6fh1epLmSxJG4qNiy/gpvV2+qk5UAw1P85PY0d4ovGlSaL6MhLPNvEh4OR81puViXnUFm/wihn/XicXKP6vM2/n6G92OxJs8+A9kSv95+DArYr/MJE+3aq/3BvOLP6jUMviE8lhRJvcbHEFua5nhDwINCMo0b4X+HItC9MkIJvCMF7LQlvFNZZF3/E4tI++p3ZU8KoPunINcYQbN9rCYxOXPvkoItdggPXwuOMb5sbY8W3iecZxO0he3nz6PrxJ+IgNtYnHJb4k4tE3PN7XT1M3PQlAvNHv7nHKmUxiNDeurOGfu3aOQZdtUJCdiwMU/+TaubjGdsg1cuA8HDiz+EdB7wI0ok2uYVk8jvWM+MqiGYW2s++2u+RtQVncJWGuW16yuI+fV+LfCErxL4nv7Iu2jz7hcboe4k4C2NdFTPBYJyDZ1y/mTUlGtGM9bx9XuM1x9M3YGRW4Gr/EJzj4v2Ivxl5wd1txjuUn2gk+R+7kdk3eNEf+r/r6ZXiVtxu5MoJl5oi7NooVy/Lmfl0coPi/rnyxfzFf5AA5sIsDZxb/UVTpSrBxriPaouiu67XFv+7HT2+6MSIs2kARb9o3ZaNgjH7W9YIoRuGHvuNxsIm+x2Pdnx/aR0GOx1IXbfWOfTmdGKjIHatnBD/6GTvOdPEfcccV//AE4IN9LabYa+bex4A+dzBEO8bPqi7cBMI1932OYB/K+PY69gz/mja8TZ73+xuxmTM2FP/k55z5Sd/IT3Jgfw6cWfzHbSG4YpqFWyWyogBXsW7FFopz3fbSXj3HengsZAltBxFv29JVam3bi9ZQT1f6jR1JgBPRQdDrlpwk/v3TBiPUizgN/mo7iI8TsU1/jE3bfhbODd/yNY1L7ewQuBHbL8MrLZ/2/qO99hezG9t+mhjqxMHh6/2scNLYJTeSZzzvdRjbhueNcCd8prHuwIY3ph7O/PwauDFZ/Mv+W3313RH6RPM1fS271WsED+GVvKlm15dV49tswisFx15z2PLxlj87dN/1ofXOjeXc/UT+4/G5cWJ7V/U9j7OL/yy685aV9INJKNoCibwgT2Jd66HwcivmUTTrtpIkLhMxo1BuXEuCurk9ROxDe8HG26fyxp4s5nXQib6rLZ1E5IkBvlEHnyCokE0xvvogbwVKYtXhg3GEFXf4AnIU2Z/jthRXT7dTdX2DH8+KcepTlB3COeGXxX7VbsTG5gaEuC+f7AU/38Y3K0XbVphnPuX86AQrTaICNzTfOoEQX2K5khvNXbmWY0lbxsr5WF20w+NrELf0cZyn08T/FPE83o7Pw3HE/8g7wr1Y2TV5obBqi5s9xLF5j/4e9Tw3zno+dz+Rl3js+Q3nk/sW1Dkt5nv007P5tN/96rT4HN+Xi4j/awMpCuYyibCieJ+k1ML1mrD47cPTYb/A/OLOeiKx/enJvtJ1qp9hYlL4cE05pK/79FeWFb5MEv8iOi61Gj4qePYTFSKKuu+pl3aO+GTjZvriHuLYiP+p99tLl9sjvovkdJT/7XsYxX8bl4vk70L8pvifCLysWOvK732K/z+H92/TU5qJmB3ekdxTBrM96Xid9se3hwl45MLhMR4vDvpALE/JgSni34hmJ5K94AvneaIQxbn+OicKbytQYMvNYjmEX/RUIZ7Ez0Z+cdP8yifWUVFvP/MTFusb8Cq0gb94G+2sV+vYZoon1Pe/zCr3SxWQ7hdAsfzYj/kELNQuvlvf34sbWCCm+kvEilO5FuNZvuv8ummy+6jtaTzy40p4nGNVrOCXYBFDyZ2vl34luevbaj0sMwb2V2kN/4Pd0n6OsdNevi4TXeBQnuhpPcid581Y+6ZszzfFFf8iXvDL16YtKY+5weP8C9sJixZHcz8ErvdwyLmNvyIteULs1C/DVe2jGpeJX7fZ2T7Zsqm2+dfm6SV4UPwrKXf+ldXnuE3lPsX/8Ug3hbB2e1D5HsSUuictI6v+bqvWSdvbycvz5oWx3h/eu8W/CHgdyAUfPJeBfTks8376JJo/SjkVnPJT97WIRPEfRFkWEmnCoOdJJGXxHM7Vn1hWBUWwkwUP+pLyGsRJR1i2hJX6IP63rmtbKnr03PkcRedIu9AO4lL1x2Q3C85wrlg4vBvXFjmPsay1A/6FeJJdPE45Vbz9xMDksVGvncPky0Lbd76Ze2S8ZttP9Ux7ylMQsAEPbWM7ZJxDPZjEpPPcxs72Lf65XrBT2rO5xD7kuZW4qu2i33A8xvUcm9rAv2BD+2jmQYo95wnrybHUdVwtZW1ftP3FXfN2ed7ecvcCXCj+XwCe7ayuQ9Lu0clKvMkxcuD8HNgp/isRgwLscVg/bIbHd8u4Sohl8TjdL0WUqFgoAiXa08+FA0ZEGrHiJxFWVESRrWKsgWXwqXPdtFP7VPxNdrG8t+vPsezo2BHbzWLMlw120H/w07dpJl8Nu+gTHkubaAuPd/hj8ob18DjYAL+NnxHbCuvcbooDBGi+Z1RtWG50be6ol+1nH4BXJh8jvrXqwmeRt52JAuYGjse43o11C5MebR9smrzrdfwbysKEyl8zeYl4xMmQzcUopmiTxwfrLIp/kudg8rCDwk2ePCKPbpQD+4v/JM5llVvEQOuvYJWEgm7zyH/T6ngRKLUwMCISxYnYNWKtUzdvH0GhLP1ZyvvPUj837aA4lev+XOPrrDobH11Zz6NQVrexyFMUWIX2ZY2P0W/BMUycqmvoMx6neEO7yX9fF/3HYxWPiq889QE8Td6wnrdv8Kx9K9xIvhocYvnMJxWc2F4oj9yo28jj22i9uv3gWyd+5Unlm/FfbNoY5MnZIj/5cG0idnisk2T1BfLQx6+BA9qssHC+SByhvPK1TATiZKR8rhjEST3momGzwodlMj8PxIbi/0DgXgo867PzkgPkwDVw4BDxHwQ4rviLqH7YDBv8Qm0QEp3VTBWRYSJQCxIjIlGcyP3cCJRxURFEkIrDqq7jp2mn9qkSVFje+OR9VMHUxsLb9eeGQ6FNnLyAn96HhsA2TxTQfzz2OKFdPPblVIwq3lgWj6Vewzd88jOKQaivuYv5D3WrNiw3ujZ31DP4+7L+vOeb+bzBB48/lsdreIxltD8l7Luxark0AQ+xoc3ReBTz8jcKfphAau6db/pdlLwlqrpebBq8We7gRTeKf5LnYPKwE/KGRA7cPgd2iv/markIK7/XX85R4IIwDfdhEGpOhBixH9pblL3FKE7EjhEo4wIv2EWhE+qij5Bf04733Qu2eD2LaeOT99HXhTYVBxVNwc6ulf+ydSquwupkwPkc4rHXyupyy3+/ipvqYmzJPxVxQWTCirPJI9YzYl/xsL5NE/823zqJwK0l2U6Iv8QUsSq5z74aPyU3vg3I12j8vl7EWLEy99LR3EB7wnfkJRx7gY9c99fqthWHFg80L84PP7lT35S7HjeDlcemtm18DPcLlnkJJhT/JBHFPzlADpADXQ7sFv9xn7AXMVH4qYho7CUOmMdBX7cAZLGsojcL8yRCwhaG9RDe7KOiAgRPGAydWIt+qCBGO7IFofgndVEgVQOraSfayUIy8SfU120W6p9ccz5V58a2EzVJJAWM0tMU/FKl8TPZWa/K9gqbF4t3uZbiwTfqoP+ajxRbfCtQQ/y7cuuPTtTlWNbDo8dEJ3Wpjcq3d+mL4dpG5sYIXmILypn8rDbD5gHEv+Zf86fc6PhZ/LPtK98kX/34U37AN5NHs+1nOWw+bsz2KVMWuYPHxobjeigHE2h3/zM4IQ8qLGzs4hfGX75Ansrl/Mf4sf9oPfzMxOl85LUa+30wofgnobqD/j5EYtmXdUTiR/zmyoEp4j+sPnaFzPFzOyrSD76nRwHcE3VzzY/xy4i/fXBvT2aM7YNx3ccPliXm5MA5OEDxzxsaxT85QA6QA10OTBL/YZWxvx3gpYOZrAqWFcG4mlzOjyQWZFUSVzmvkRMU/10ev5SDrH+kfnaN/eoGfab4v8Gk8ibFmxQ5QA4ciwPTxH/a2nIq8ey2C+BWjuPEKSvfp5u8HMfHCZym+Kf4p6YhByZwgOJ/Akhnu3HTF3ZacoAcmBkHJov/mfnN+/aEyQJzxvsNOXCXHKD4J/HvkvgUBhQG5MA0DlD8T8OJfCJO5AA5cC0coPin+Kf4JwfIAXKgywGKfwqaaxE09JNcJQemcYDin4N+d9BnJ5rWiYgTcbplDlD8k9+3zG/GRn7fIwco/in+Kf7JAXKAHOhygOKf4ugexRFjJu9vmQMU/xz0u4P+LROfsfHGTg5M4wDF/zScyCfiRA6QA9fCAYp/in+Kf3KAHCAHuhyg+KeguRZBQz/JVXJgGgeOKv5///334aeffhq+fv3K/8SAHCAHyIEb4MDnz58H+c/7Osc1coAcIAdugwOi1UWz7/q32FVArv/nf/7nILOJ//mf/+F/YkAOkAPkwA1w4Jdffhl+/fVX5vIGcsmxmdqEHCAHhAOi1UWz7/o3Sfz/9ddfwSAfu0x77EKciBM5QA7MnQPc9kOOzp2j9I8cJQf248BRt/1Q/O8HPslKvMgBcmDuHKD4J0fnzlH6R46SA/txgOKfX/TrftGPnWm/zkS8iNctcoDin7y+RV4zJvL6njlA8U/xT/FPDpAD5ECXAxT/FEn3LJIYO/l/ixyg+Oeg3x30b5HwjIk3cnJgPw5Q/O+HF/lFvMgBcmDuHKD4p/in+CcHyAFyoMsBin8KmbkLGfpHjpID+3GA4p+DfnfQZ2farzMRL+J1ixyg+Cevb5HXjIm8vmcOUPxT/FP8kwPkADnQ5QDFP0XSPYskxk7+3yIHKP456HcH/VskPGPijZwc2I8DFP/74UV+ES9ygByYOwco/in+Kf7JAXKAHOhygOKfQmbuQob+kaPkwH4coPjnoN8d9NmZ9utMxIt43SIHKP7J61vkNWMir++ZAxT/FP8U/+QAOUAOdDlA8U+RdM8iibGT/7fIAYp/DvrdQf8WCc+YeCMnB/bjAMX/fniRX8SLHCAH5s4Bin+Kf4p/coAcIAe6HKD4p5CZu5Chf+QoObAfByj+Oeh3B312pv06E/EiXrfIAYp/8voWec2YyOt75sCViv/vw5vXn4dXH/4E4Ro/++H15+GHt9/hcxJ8b4J/ehoCjq8/D28+Eb+98eOEkv3vhjhA8X/+e+Dzu+WwWCyGxWI5bL6eo/3HYR3akzbj//XHY7f7PGweFsNi9Tiz+8Nc/RrHP3PkYTM8X+x+E3mzfPfczOnjKvGp6+N1Yn8LmuA6xf/zt+GVE6Y/vr2EUG1NQsY77PWQJsYWxT8e30p8jON6uMhcXTJXk8X/x3UWjiogw9/Zib0r4dPXzbA8k/gXkVbEfhR05fxYeI0LxctxfK5+7cY9TAC6wnp3/RdjHjiK3KnbHPfxerF/MXYXm7DFHF2n+K9AE3H6ZXj/XBPvdAmaKoj/HN6vXjgxCZOdp+HHKu5Txuvji+f2acsp26ft03GX2BLb6RyYLP7l/uQFa5oQ9FYGbR7iKuDxRef0WK0/F67nsTzZ/V8EGD5hOFIeJPeXFKYnw+tI+BzDv7lhHDi7Hh4htnHxf+E+Bn7Oqu+fwa/bEP8XEMfypGHa9qJbEf/bYRu2A517EsKbw73dlBjvvDj/IvG/jSt707Z6zEhUnWHw3cnzc4n/SrAdKQ9zE6ZHy+mR8DmGP3PDuOLSdqD4n9f9XO87FxH/v334EveUh735URzLHnNdVdbrrz58D6vmcf+5is64Ai2fhS0psD89lNP9/mlrUKxbngoU29/C9wZ+CE8M1ObT8CPYE/tB5Mv3CMyTBb8qHpNbyurEQO1KfbABbaDdpm//b9l/H2ysvg2/7bppoH2Px+rb8KPirxiqPYNZ9Nnu+W/HrWTi33l2cuaFeXkJB44h/u3KfxRPdk97miTkfefL4f/8P9K+97BtqNRRW0FULBbD8t0m7VdfDpv/T7bKLMKK82PeN++2JYhgyu3YVUrFKe9VTrZae6qb7cv+fGO/rKiX8o9x73vwwbVv6tZ7/o1feTuVYrceHqG+PEEp5YsfGmP4C+XLFq1a3BY7fs9+yUupnwRfxljq/K8cs+ZPba4/qv8xbwVr+Fxt9Z4kBNEp9dfDWr5XEMq7mE2sinvxf5pf3ifXhk52FzYXals5ECfDddt6ffkOOCIxa3wSV8574pqJWeNK9zysp9jpZw+bYZP25Kt/kRsQY2pLcqVP5NTHxcP/PvxvKS/hmsG35DKUh7bK91jq+HdzAu/lpT5yz/B7W/rA+l26N0hu4PNQV7GBzw/jJfrkuYG+X/74IuJfkhOErgrTbRTZKv7lehTSKtq96HSr6dXKvysfxLDaUttPw49J7AaBq8I3+aRCXMWvWekPZYu9QDZpI8fzfXiTRbrzZRvi2jVRAAALZklEQVTPNVZjN8ftfAv+6+RnB2mMb67tNClot2392iI2OjnYRty1vu9kPN+Rm4wjy5Er18OBl4j/MJjDwCp5D58lUaHCIAq+KDpUZEjZcB3EjtRFoRLFwnp4TIIGRYiWw/a2QZwVgfS4agzQQcTo57VPyN26/Vi+3bYKkY5tjEHuFcYPv4KaRIZio4IOcV0UwWYxcNwLdQsm2220rXmwObLthmtJTPktX7ZebFP8UGy0nUWnPvqMx4i/OXZ4hTrKvRCj4q6TkxLzPn5FDhVsjQ+St1Yu1I/JnFZfkxDX+i4OzxETc5qIxDzGvGXsk1Bff7T5zLEYTtRlHt/pl4zjNeVK9KfgKvYiRwpePpf7YV+4O8a9HEcYc5P/gqFy5P+RBQCLcY4h8f8QXmJsLf5bv0osl/h81uK/iEwvOsfFfxDuWXwLwFbYiuAutlMCgtgFgS1CGWyYyYoR2Kl+EtY6WSjJdALcCcCW+K9820P8t+zlSUkrphRjnOxA/AkzG0/EPdtzsZSYL0tq+kH8yYHjcWB/8a8rryj0kj9evJjzWmiHAVQFbpo4ZAHTOA95lwFexZKKj3yexBTYHOdK7ROWt8KlxhzFgNSz5aMo0XhC2eynisieQFFRlYSWEWu6IqwCLZXtxezrGvFfx29EF44BJpepTYynE38RXdiWxSaISmcL8xCOXd5xMuLzoAJd227lRa/VYh/9rHMebYMADoKznO/HaSeug6BXTtR5xpi9+DTnHivMYziGdr9uhk1YNdd2H4dNfrsPlJN6LlbJi2lXz4GL+2HfwFvaddyz3HA+VrH6fPryeD1e0z5reOl98OdVu51YzlTuTsS/nTy8WPwHMe5W/vVpRtjeg5OLhvhPq+qyjefV6gs8MaifgAQS7yv+kw9xq5FuQUp79v2EBsU/XNMJE8X/ZTuovYnRF+Jxfg7sL/6TSAhCQAVD8jsMiGVyYLdn4CAby+8nlFIbTth48aHCzz/uR26FOmnryPKhrFpiGTm2wqWOcfmwNNs0bHkrJOSa2dJhxEONjRFaoWwRmEaUNASXicPX3SH+TbsJg4jl0rydqMK9wmtMZNknRAYbzyEVki7vKNpN/SCuLJ6tvFyl+IfV/sJh6G86gaqwStwF4RnqC7YfN+F1sxmjdB455HIY+jzwULmn7eq55mxPThjejnDPlnM+phgLPsvB9nFfvuaK9lPDK8/L1tYzwNf6WON/6uu3K/5f16vYuqL+YvHfWvnHpJrJgRP/SfirqDZPFBrbnwIB9hX/efuRI5TYAYGPT0jwOJLO+R3is5OoU5OT9l3+kGM8br5Xmpw5PmcOFv86OMPAP75CZwdZyWUWIInvWYB0zkP+nbAJNtCH3Hdie3kVL30eRYEKGC8ELL7eH51YqHAc9z/a1vaNkBBfgpjQyVPtq/HTC/gWBiC4TD/xdRviX33MOcF90xlb8VH9rVd8pa7Fy2Pr8x+vxwmi5sPib+JwMSN+Advsp2JbJnX7+eX9dD55PJ0gHufEFIwKxn6ShzGHdjDmzPvGEwO8pscpDtkrH7blJXzlKUD5XobLoYs18wX8GI/f2YPJjMl1dW+x3LNlvc3ETd1uZvguufTlfb7j9YqXAS/IjeI407+XFf9ZiEahqeJcEmcFuhed7jwI6lrsq8D2b6mxtlPH9YK+JZSzqK6FsYjn3F7YG6/+RF/zNdNOvIbbaPq+qT3xt8Yrk91MPFJZxbkVk15Lk5Kcg3Se/Q4EruPO7c6U4PQv8Zv54WThQA68RPzr6msRj2ngBCEqYiCKZT/oegEZB+FiywulxHUnAo0IkgG62XbpJ1V52Dvv7ydWNKqoVAFQx2rLx+s5niCciiCNK+xqy2Ph6nrh0cIA4jZxJJFXXs9o82DwSMJIfQ6iWu0G/4u/lTBVwabld4iswouSG+O357NrP/imotPhY2OyTxmmij+d4FU+eTyDX2XyYttuc1pXltu+OIxhwlXHDHwKeCc/HD+qGAK2jmNJiGvuYx1XxseuE3jNg55nDuyLfeHCKPcMNyyfxW+Tg+CzxwnPrfjv8zK2U3IX2+nyxPhY4mrn4vjXLyb+VcDGrSlPwxt5dWZ6409YhYbtMyKIdQuLiFF7HgUpXg/gJfEaPy9bdNB2WQVHG/aNP1IG346jQj34kCcD6QvMsN0GRXPxV/xIgj+U/TK8/5De5vP2e/wStNpQUR4IAv7J5xobtI+EMTHqExCtI/bFRpgkJFzVDn62+hJ+SE3wy7GE6zgJOT4hMQ4eE19y4PIcmCz+g8gpWwzyoAefx8/iYBpXzuz3AsKAbh6XY9n1sIa3k4QBPL1tJO/xTwN53IaiX/BLPongwOtSF0RI5hqWgbeU5HjSoN1sPwnaGNty2LxLbxZaPeYvPso1EVAl1iI0rE3ZRiO+F7GHdYrvFiN844/ggm89KnWUV1hX/EgCJuGqMbfb1T3eiu8mvdEn+Ys47owf223Ud/7kXKGAAp5F/IvgDuXN9XINMa/z0vBLJzEuN9EnxLN8ET3zMfhry/Q4bd74EyagWC9iJL6HrWUJn9wPFBcTcwvX9JmWd3/FvnJA4vNfkEdeVH1bBD+27zggXDwE+5x7Y9txD+JAHzP/kZuuj2N52x9a+EXuF4wwR/belv0G3y752QXFv958rvXvpVfBvw9vVLSfhUwx3vxk4CxtXis36Pclb2ps+7j8myz+eU/g06WjcUBEVBHooU+LYIMV5Kqfixgcu340347bv6o46OeM+9EBvJxpPin+X5SYywni3z48nfEXjS890eHNlgMEOXApDlD8k3tn515Y1bXiP6wSj4n7Rp2z+/0iPUGezT5fDY7t5OVMOUHxP9PEjHaCT0/1q0qvMQ76POMVDg5Eo33wjrhL8c++cIm+gNsv7LaZRj5wGwdsk7qE32yzkZ8bul/uxcsZx03xP+Pk8CZy2zcR5pf5vQYOUPyTp9fAU/pInpID0zlA8U/xz9VncoAcIAe6HKD4nz6gUnwQK3KAHLgGDlD8c9DvDvrXQGD6yBstOXBaDlD8nxZf8pf4kgPkwLk5QPFP8U/xTw6QA+RAlwMU/xQm5xYmbI+cIwdOywGKfw763UGfne+0nY/4Et9r4ADFP3l6DTylj+QpOTCdAxT/FP8U/+QAOUAOdDlA8T99QKX4IFbkADlwDRyg+Oeg3x30r4HA9JE3WnLgtByg+D8tvuQv8SUHyIFzc4Din+Kf4p8cIAfIgS4HKP4pTM4tTNgeOUcOnJYDFP8c9LuDPjvfaTsf8SW+18ABin/y9Bp4Sh/JU3JgOgco/in+Kf7JAXKAHOhygOJ/+oBK8UGsyAFy4Bo4QPHPQb876F8Dgekjb7TkwGk5QPF/WnzJX+JLDpAD5+YAxT/FP8U/OUAOkANdDlD8U5icW5iwPXKOHDgtByj+Oeh3B312vtN2PuJLfK+BAxT/5Ok18JQ+kqfkwHQOHFX8/8d//MfwL//yL8N//dd/8T8xIAfIAXLgBjjwb//2b8Mvv/zCXN5ALjk2U5uQA+SAcEC0umj2Xf8WuwrI9e/fvw9/+9vfhn/+53/mf2JADpAD5MANcOCf/umfBvnP+zrHNXKAHCAHboMDotX//d//fae0nyT+d1phASJABIgAESACRIAIEAEiQARmjwDF/+xTRAeJABEgAkSACBABIkAEiMBxEKD4Pw6OtEIEiAARIAJEgAgQASJABGaPAMX/7FNEB4kAESACRIAIEAEiQASIwHEQoPg/Do60QgSIABEgAkSACBABIkAEZo8Axf/sU0QHiQARIAJEgAgQASJABIjAcRCg+D8OjrRCBIgAESACRIAIEAEiQARmjwDF/+xTRAeJABEgAkSACBABIkAEiMBxEKD4Pw6OtEIEiAARIAJEgAgQASJABGaPwP8PFWxqOP9Hk7gAAAAASUVORK5CYII=)\n",
        "\n",
        "\n",
        "\n",
        "\n"
      ],
      "metadata": {
        "id": "cW7FbAyFXCPs"
      }
    },
    {
      "cell_type": "code",
      "source": [
        "## create a list of 5 random integers in the range of 0 to 20\n",
        "import random\n",
        "a=[random.randint(0,20) for _ in range(5)]\n",
        "a"
      ],
      "metadata": {
        "id": "7pB3wh0VWE3M",
        "colab": {
          "base_uri": "https://localhost:8080/"
        },
        "outputId": "7e795f6c-d1da-4090-b6e7-61626fc0b7a6"
      },
      "execution_count": null,
      "outputs": [
        {
          "output_type": "execute_result",
          "data": {
            "text/plain": [
              "[7, 6, 16, 17, 20]"
            ]
          },
          "metadata": {},
          "execution_count": 1
        }
      ]
    },
    {
      "cell_type": "code",
      "source": [
        "a = random.sample(range(100), 5)\n",
        "print(a)"
      ],
      "metadata": {
        "id": "67vxRW7IWE0P",
        "colab": {
          "base_uri": "https://localhost:8080/"
        },
        "outputId": "c7914db1-cc14-41d8-c432-d619672edeb8"
      },
      "execution_count": null,
      "outputs": [
        {
          "output_type": "stream",
          "name": "stdout",
          "text": [
            "[56, 2, 40, 7, 71]\n"
          ]
        }
      ]
    },
    {
      "cell_type": "code",
      "source": [],
      "metadata": {
        "id": "-ZQ6aoP2WEq_"
      },
      "execution_count": null,
      "outputs": []
    },
    {
      "cell_type": "code",
      "source": [],
      "metadata": {
        "id": "Kiai9W80qBXA"
      },
      "execution_count": null,
      "outputs": []
    },
    {
      "cell_type": "code",
      "source": [],
      "metadata": {
        "id": "1ncSECtvqBUT"
      },
      "execution_count": null,
      "outputs": []
    },
    {
      "cell_type": "code",
      "source": [],
      "metadata": {
        "id": "i826yENJqBRT"
      },
      "execution_count": null,
      "outputs": []
    }
  ]
}