{
  "cells": [
    {
      "cell_type": "code",
      "source": [
        "## install libraries if needed\n",
        "!pip install wget\n",
        "!pip install mechanicalsoup"
      ],
      "metadata": {
        "id": "dnX8tMjzYkxj",
        "colab": {
          "base_uri": "https://localhost:8080/"
        },
        "outputId": "15b9c29e-5a76-42e5-dc7b-3397e5fc9a88"
      },
      "id": "dnX8tMjzYkxj",
      "execution_count": 2,
      "outputs": [
        {
          "output_type": "stream",
          "name": "stdout",
          "text": [
            "Requirement already satisfied: wget in /usr/local/lib/python3.10/dist-packages (3.2)\n",
            "Requirement already satisfied: mechanicalsoup in /usr/local/lib/python3.10/dist-packages (1.3.0)\n",
            "Requirement already satisfied: requests>=2.22.0 in /usr/local/lib/python3.10/dist-packages (from mechanicalsoup) (2.31.0)\n",
            "Requirement already satisfied: beautifulsoup4>=4.7 in /usr/local/lib/python3.10/dist-packages (from mechanicalsoup) (4.11.2)\n",
            "Requirement already satisfied: lxml in /usr/local/lib/python3.10/dist-packages (from mechanicalsoup) (4.9.3)\n",
            "Requirement already satisfied: soupsieve>1.2 in /usr/local/lib/python3.10/dist-packages (from beautifulsoup4>=4.7->mechanicalsoup) (2.5)\n",
            "Requirement already satisfied: charset-normalizer<4,>=2 in /usr/local/lib/python3.10/dist-packages (from requests>=2.22.0->mechanicalsoup) (3.3.2)\n",
            "Requirement already satisfied: idna<4,>=2.5 in /usr/local/lib/python3.10/dist-packages (from requests>=2.22.0->mechanicalsoup) (3.6)\n",
            "Requirement already satisfied: urllib3<3,>=1.21.1 in /usr/local/lib/python3.10/dist-packages (from requests>=2.22.0->mechanicalsoup) (2.0.7)\n",
            "Requirement already satisfied: certifi>=2017.4.17 in /usr/local/lib/python3.10/dist-packages (from requests>=2.22.0->mechanicalsoup) (2023.11.17)\n"
          ]
        }
      ]
    },
    {
      "cell_type": "code",
      "source": [
        "### import libraries: wget, os, mechanicalsoup\n",
        "import wget\n",
        "import mechanicalsoup\n",
        "import os"
      ],
      "metadata": {
        "id": "X7bEZARL5XGd"
      },
      "id": "X7bEZARL5XGd",
      "execution_count": 14,
      "outputs": []
    },
    {
      "cell_type": "code",
      "source": [
        "## url\n",
        "url=\"https://www.google.com/imghp?hl=en&tab=ri&authuser=0&ogbl\""
      ],
      "metadata": {
        "id": "lHoQ6MkEZHTz"
      },
      "id": "lHoQ6MkEZHTz",
      "execution_count": 15,
      "outputs": []
    },
    {
      "cell_type": "code",
      "source": [
        "### create the browser\n",
        "browser=mechanicalsoup.StatefulBrowser()\n"
      ],
      "metadata": {
        "id": "DDN0ZPU65XDm"
      },
      "id": "DDN0ZPU65XDm",
      "execution_count": 16,
      "outputs": []
    },
    {
      "cell_type": "code",
      "source": [
        "### open the url\n",
        "browser.open(url)"
      ],
      "metadata": {
        "id": "dvIp57ui5XA1",
        "colab": {
          "base_uri": "https://localhost:8080/"
        },
        "outputId": "ba0a2ccb-ee5d-48d8-b87a-1176a3d429fb"
      },
      "id": "dvIp57ui5XA1",
      "execution_count": 17,
      "outputs": [
        {
          "output_type": "execute_result",
          "data": {
            "text/plain": [
              "<Response [200]>"
            ]
          },
          "metadata": {},
          "execution_count": 17
        }
      ]
    },
    {
      "cell_type": "code",
      "source": [
        "### verify the url\n",
        "browser.get_url()"
      ],
      "metadata": {
        "id": "3LFPNOqg5W-N",
        "colab": {
          "base_uri": "https://localhost:8080/",
          "height": 35
        },
        "outputId": "2d77affd-033e-46d5-9b69-426c28cfe075"
      },
      "id": "3LFPNOqg5W-N",
      "execution_count": 18,
      "outputs": [
        {
          "output_type": "execute_result",
          "data": {
            "text/plain": [
              "'https://www.google.com/imghp?hl=en&tab=ri&authuser=0&ogbl'"
            ],
            "application/vnd.google.colaboratory.intrinsic+json": {
              "type": "string"
            }
          },
          "metadata": {},
          "execution_count": 18
        }
      ]
    },
    {
      "cell_type": "code",
      "source": [
        "### get the page\n",
        "browser.get_current_page()"
      ],
      "metadata": {
        "id": "aLL18zRm5W6d",
        "colab": {
          "base_uri": "https://localhost:8080/"
        },
        "outputId": "0d5d0f1b-48f8-418b-9aeb-832dbd676056"
      },
      "id": "aLL18zRm5W6d",
      "execution_count": 19,
      "outputs": [
        {
          "output_type": "execute_result",
          "data": {
            "text/plain": [
              "<!DOCTYPE html>\n",
              "<html itemscope=\"\" itemtype=\"http://schema.org/WebPage\" lang=\"en-NL\"><head><meta content=\"Google Images. The most comprehensive image search on the web.\" name=\"description\"/><meta content=\"text/html; charset=utf-8\" http-equiv=\"Content-Type\"/><meta content=\"/images/branding/googleg/1x/googleg_standard_color_128dp.png\" itemprop=\"image\"/><title>Google Images</title><script nonce=\"wlwu5OBlg26jUfQIJIrr8g\">(function(){var _g={kEI:'IUBuZeKHJPvWi-gP9YmGiAE',kEXPI:'0,1365467,207,4804,2316,383,1129371,1804,117,1195861,619,380090,16114,28684,22431,1361,12313,4751,12835,4998,17075,38444,2872,2891,3926,214,4208,3406,606,30668,30022,2614,13721,1014,1,16916,2652,4,57401,2216,27044,6630,7596,2,42153,2,16737,21266,1758,5679,1021,31121,4569,6255,23421,1249,30155,27543,2006,8155,23351,872,19634,7,1922,9779,12415,30044,20199,20232,20206,27916,4824,3030,15816,1804,7734,28,6044,21462,11814,1632,3244,31372,7652,14094,5206703,3436,2,580,134,48,567,5992427,1209,2803214,3311,141,795,30314,2,2,2,2,2,36,41,2,3,22,4,3,4,6,4,6,1,4,3,7,4,23940094,396,4043710,16673,37283,6603,3,1603,3,499,3,552,1393390,727334,23031936,8163,4636,8409,2879,335,4813,2727,3702,241,740,17860,818,1224,4231,2004,3117,1865,4013,4241,10365,16386,8818,2,3,390,2,665,1914,769,27,6,5,15,265,48,4784,699,4,872,439,667,1682,4,81,2467,4960,308,1173,911,1104,49,285,806,3078,3989,1896,238,290,897,621,852,1252,108,853,153,513,2026,504,602,2,1559,1,6,3644,4,853,4,2296,149,592,434,4,1731,286,326,409,218,3,225,7,1,8,218,1600,145,111,59,1,6,245,896,1585,2215,1006,1280,5,1163,2,491,499,1093,70,1684,1,6,3770,236,449,16,155,293,167,656,214,103,3,4,2,2,2,280,548,788,171,573,110,3,38,187,266,541,1174,38,742,386,716,15,4,118,251,4,682,908,474,387,118,314,279,121,3,529,96,343,503,718,422,58,123,408,231,496,83,647,2,6,2,484,57,614,1170,20,290,894,123,1162,1,1,21752243,1541,218,1560',kBL:'AiXN',kOPI:89978449};(function(){var a;(null==(a=window.google)?0:a.stvsc)?google.kEI=_g.kEI:window.google=_g;}).call(this);})();(function(){google.sn='imghp';google.kHL='en-NL';})();(function(){\n",
              "var h=this||self;function l(){return void 0!==window.google&&void 0!==window.google.kOPI&&0!==window.google.kOPI?window.google.kOPI:null};var m,n=[];function p(a){for(var b;a&&(!a.getAttribute||!(b=a.getAttribute(\"eid\")));)a=a.parentNode;return b||m}function q(a){for(var b=null;a&&(!a.getAttribute||!(b=a.getAttribute(\"leid\")));)a=a.parentNode;return b}function r(a){/^http:/i.test(a)&&\"https:\"===window.location.protocol&&(google.ml&&google.ml(Error(\"a\"),!1,{src:a,glmm:1}),a=\"\");return a}\n",
              "function t(a,b,c,d,k){var e=\"\";-1===b.search(\"&ei=\")&&(e=\"&ei=\"+p(d),-1===b.search(\"&lei=\")&&(d=q(d))&&(e+=\"&lei=\"+d));d=\"\";var g=-1===b.search(\"&cshid=\")&&\"slh\"!==a,f=[];f.push([\"zx\",Date.now().toString()]);h._cshid&&g&&f.push([\"cshid\",h._cshid]);c=c();null!=c&&f.push([\"opi\",c.toString()]);for(c=0;c<f.length;c++){if(0===c||0<c)d+=\"&\";d+=f[c][0]+\"=\"+f[c][1]}return\"/\"+(k||\"gen_204\")+\"?atyp=i&ct=\"+String(a)+\"&cad=\"+(b+e+d)};m=google.kEI;google.getEI=p;google.getLEI=q;google.ml=function(){return null};google.log=function(a,b,c,d,k,e){e=void 0===e?l:e;c||(c=t(a,b,e,d,k));if(c=r(c)){a=new Image;var g=n.length;n[g]=a;a.onerror=a.onload=a.onabort=function(){delete n[g]};a.src=c}};google.logUrl=function(a,b){b=void 0===b?l:b;return t(\"\",a,b)};}).call(this);(function(){google.y={};google.sy=[];google.x=function(a,b){if(a)var c=a.id;else{do c=Math.random();while(google.y[c])}google.y[c]=[a,b];return!1};google.sx=function(a){google.sy.push(a)};google.lm=[];google.plm=function(a){google.lm.push.apply(google.lm,a)};google.lq=[];google.load=function(a,b,c){google.lq.push([[a],b,c])};google.loadAll=function(a,b){google.lq.push([a,b])};google.bx=!1;google.lx=function(){};var d=[];google.fce=function(a,b,c,e){d.push([a,b,c,e])};google.qce=d;}).call(this);google.f={};(function(){\n",
              "document.documentElement.addEventListener(\"submit\",function(b){var a;if(a=b.target){var c=a.getAttribute(\"data-submitfalse\");a=\"1\"===c||\"q\"===c&&!a.elements.q.value?!0:!1}else a=!1;a&&(b.preventDefault(),b.stopPropagation())},!0);document.documentElement.addEventListener(\"click\",function(b){var a;a:{for(a=b.target;a&&a!==document.documentElement;a=a.parentElement)if(\"A\"===a.tagName){a=\"1\"===a.getAttribute(\"data-nohref\");break a}a=!1}a&&b.preventDefault()},!0);}).call(this);</script><style>#gbar,#guser{font-size:13px;padding-top:1px !important;}#gbar{height:22px}#guser{padding-bottom:7px !important;text-align:right}.gbh,.gbd{border-top:1px solid #c9d7f1;font-size:1px}.gbh{height:0;position:absolute;top:24px;width:100%}@media all{.gb1{height:22px;margin-right:.5em;vertical-align:top}#gbar{float:left}}a.gb1,a.gb4{text-decoration:underline !important}a.gb1,a.gb4{color:#00c !important}.gbi .gb4{color:#dd8e27 !important}.gbf .gb4{color:#900 !important}\n",
              "</style><style>body,td,a,p,.h{font-family:arial,sans-serif}body{margin:0;overflow-y:scroll}#gog{padding:3px 8px 0}td{line-height:.8em}.gac_m td{line-height:17px}form{margin-bottom:20px}.h{color:#1967d2}em{font-weight:bold;font-style:normal}.lst{height:25px;width:496px}.gsfi,.lst{font:18px arial,sans-serif}.gsfs{font:17px arial,sans-serif}.ds{display:inline-box;display:inline-block;margin:3px 0 4px;margin-left:4px}input{font-family:inherit}body{background:#fff;color:#000}a{color:#681da8;text-decoration:none}a:hover,a:active{text-decoration:underline}.fl a{color:#1967d2}a:visited{color:#681da8}.sblc{padding-top:5px}.sblc a{display:block;margin:2px 0;margin-left:13px;font-size:11px}.lsbb{background:#f8f9fa;border:solid 1px;border-color:#dadce0 #70757a #70757a #dadce0;height:30px}.lsbb{display:block}#WqQANb a{display:inline-block;margin:0 12px}.lsb{background:url(/images/nav_logo229.png) 0 -261px repeat-x;color:#000;border:none;cursor:pointer;height:30px;margin:0;outline:0;font:15px arial,sans-serif;vertical-align:top}.lsb:active{background:#dadce0}.lst:focus{outline:none}.prms{color:#c5221f;font-size:13px}.sshppd{font-size:13px;margin:32px 0 26px}.sshpplo span{color:#c5221f}.sshpplt{margin:15px 0 30px}</style><script nonce=\"wlwu5OBlg26jUfQIJIrr8g\">(function(){window.google.erd={jsr:1,bv:1914,de:true};\n",
              "var h=this||self;var k,l=null!=(k=h.mei)?k:1,n,p=null!=(n=h.sdo)?n:!0,q=0,r,t=google.erd,v=t.jsr;google.ml=function(a,b,d,m,e){e=void 0===e?2:e;b&&(r=a&&a.message);void 0===d&&(d={});d.cad=\"ple_\"+google.ple+\".aple_\"+google.aple;if(google.dl)return google.dl(a,e,d),null;if(0>v){window.console&&console.error(a,d);if(-2===v)throw a;b=!1}else b=!a||!a.message||\"Error loading script\"===a.message||q>=l&&!m?!1:!0;if(!b)return null;q++;d=d||{};b=encodeURIComponent;var c=\"/gen_204?atyp=i&ei=\"+b(google.kEI);google.kEXPI&&(c+=\"&jexpid=\"+b(google.kEXPI));c+=\"&srcpg=\"+b(google.sn)+\"&jsr=\"+b(t.jsr)+\"&bver=\"+\n",
              "b(t.bv);var f=a.lineNumber;void 0!==f&&(c+=\"&line=\"+f);var g=a.fileName;g&&(0<g.indexOf(\"-extension:/\")&&(e=3),c+=\"&script=\"+b(g),f&&g===window.location.href&&(f=document.documentElement.outerHTML.split(\"\\n\")[f],c+=\"&cad=\"+b(f?f.substring(0,300):\"No script found.\")));google.ple&&1===google.ple&&(e=2);c+=\"&jsel=\"+e;for(var u in d)c+=\"&\",c+=b(u),c+=\"=\",c+=b(d[u]);c=c+\"&emsg=\"+b(a.name+\": \"+a.message);c=c+\"&jsst=\"+b(a.stack||\"N/A\");12288<=c.length&&(c=c.substr(0,12288));a=c;m||google.log(0,\"\",a);return a};window.onerror=function(a,b,d,m,e){r!==a&&(a=e instanceof Error?e:Error(a),void 0===d||\"lineNumber\"in a||(a.lineNumber=d),void 0===b||\"fileName\"in a||(a.fileName=b),google.ml(a,!1,void 0,!1,\"SyntaxError\"===a.name||\"SyntaxError\"===a.message.substring(0,11)||-1!==a.message.indexOf(\"Script error\")?3:0));r=null;p&&q>=l&&(window.onerror=null)};})();</script></head><body bgcolor=\"#fff\"><script nonce=\"wlwu5OBlg26jUfQIJIrr8g\">(function(){var src='/images/nav_logo229.png';var iesg=false;document.body.onload = function(){window.n && window.n();if (document.images){new Image().src=src;}\n",
              "if (!iesg){document.f&&document.f.q.focus();document.gbqf&&document.gbqf.q.focus();}\n",
              "}\n",
              "})();</script><div id=\"mngb\"><div id=\"gbar\"><nobr><a class=\"gb1\" href=\"https://www.google.nl/webhp?tab=iw\">Search</a> <b class=\"gb1\">Images</b> <a class=\"gb1\" href=\"https://maps.google.nl/maps?hl=en&amp;tab=il\">Maps</a> <a class=\"gb1\" href=\"https://play.google.com/?hl=en&amp;tab=i8\">Play</a> <a class=\"gb1\" href=\"https://www.youtube.com/?tab=i1\">YouTube</a> <a class=\"gb1\" href=\"https://news.google.com/?tab=in\">News</a> <a class=\"gb1\" href=\"https://mail.google.com/mail/?tab=im\">Gmail</a> <a class=\"gb1\" href=\"https://drive.google.com/?tab=io\">Drive</a> <a class=\"gb1\" href=\"https://www.google.nl/intl/en/about/products?tab=ih\" style=\"text-decoration:none\"><u>More</u> »</a></nobr></div><div id=\"guser\" width=\"100%\"><nobr><span class=\"gbi\" id=\"gbn\"></span><span class=\"gbf\" id=\"gbf\"></span><span id=\"gbe\"></span><a class=\"gb4\" href=\"http://www.google.nl/history/optout?hl=en\">Web History</a> | <a class=\"gb4\" href=\"/preferences?hl=en\">Settings</a> | <a class=\"gb4\" href=\"https://accounts.google.com/ServiceLogin?hl=en&amp;passive=true&amp;continue=https://www.google.com/imghp%3Fhl%3Den%26tab%3Dri%26authuser%3D0%26ogbl&amp;ec=GAZAAg\" id=\"gb_70\" target=\"_top\">Sign in</a></nobr></div><div class=\"gbh\" style=\"left:0\"></div><div class=\"gbh\" style=\"right:0\"></div></div><center><br clear=\"all\" id=\"lgpd\"/><div id=\"lga\"><div style=\"padding:28px 0 3px\"><div align=\"left\" id=\"hplogo\" style=\"height:110px;width:276px;background:url(/intl/en_ALL/images/branding/googlelogo/1x/googlelogo_white_background_color_272x92dp.png) no-repeat\" title=\"Google Images\"><div nowrap=\"\" style=\"font-size:16px;font-weight:bold;position:relative;top:70px;color:#1a73e8;right:115px;float:right\"><span>images</span></div></div></div><br/></div><form action=\"https://www.google.com/search\" name=\"f\"><table cellpadding=\"0\" cellspacing=\"0\"><tr valign=\"top\"><td width=\"25%\"> </td><td align=\"center\" nowrap=\"\"><input name=\"tbm\" type=\"hidden\" value=\"isch\"/><input name=\"ie\" type=\"hidden\" value=\"ISO-8859-1\"/><input name=\"hl\" type=\"hidden\" value=\"en-NL\"/><input name=\"source\" type=\"hidden\" value=\"hp\"/><input name=\"biw\" type=\"hidden\"/><input name=\"bih\" type=\"hidden\"/><div class=\"ds\" style=\"height:32px;margin:4px 0\"><input autocomplete=\"off\" class=\"lst\" maxlength=\"2048\" name=\"q\" size=\"57\" style=\"margin:0;padding:5px 8px 0 6px;vertical-align:top;color:#000\" title=\"Search Images\" value=\"\"/></div> <span class=\"ds\"><span class=\"lsbb\"><input class=\"lsb\" name=\"btnG\" type=\"submit\" value=\"Search Images\"/></span></span></td><td align=\"left\" class=\"fl sblc\" nowrap=\"\" valign=\"middle\" width=\"25%\"><a href=\"/advanced_image_search?hl=en-NL&amp;authuser=0\">Advanced Image Search</a></td></tr></table><input id=\"gbv\" name=\"gbv\" type=\"hidden\" value=\"1\"/><script nonce=\"wlwu5OBlg26jUfQIJIrr8g\">(function(){var a,b=\"1\";if(document&&document.getElementById)if(\"undefined\"!=typeof XMLHttpRequest)b=\"2\";else if(\"undefined\"!=typeof ActiveXObject){var c,d,e=[\"MSXML2.XMLHTTP.6.0\",\"MSXML2.XMLHTTP.3.0\",\"MSXML2.XMLHTTP\",\"Microsoft.XMLHTTP\"];for(c=0;d=e[c++];)try{new ActiveXObject(d),b=\"2\"}catch(h){}}a=b;if(\"2\"==a&&-1==location.search.indexOf(\"&gbv=2\")){var f=google.gbvu,g=document.getElementById(\"gbv\");g&&(g.value=a);f&&window.setTimeout(function(){location.href=f},0)};}).call(this);</script></form><div id=\"gac_scont\"></div><div style=\"font-size:83%;min-height:3.5em\"><br/></div><span id=\"footer\"><div style=\"font-size:10pt\"><div id=\"WqQANb\" style=\"margin:19px auto;text-align:center\"><a href=\"/intl/en/ads/\">Advertising</a><a href=\"/services/\">Business Solutions</a><a href=\"/intl/en/about.html\">About Google</a></div></div><p style=\"font-size:8pt;color:#70757a\">© 2023 - <a href=\"/intl/en/policies/privacy/\">Privacy</a> - <a href=\"/intl/en/policies/terms/\">Terms</a></p></span></center><script nonce=\"wlwu5OBlg26jUfQIJIrr8g\">(function(){window.google.cdo={height:757,width:1440};(function(){var a=window.innerWidth,b=window.innerHeight;if(!a||!b){var c=window.document,d=\"CSS1Compat\"==c.compatMode?c.documentElement:c.body;a=d.clientWidth;b=d.clientHeight}\n",
              "if(a&&b&&(a!=google.cdo.width||b!=google.cdo.height)){var e=google,f=e.log,g=\"/client_204?&atyp=i&biw=\"+a+\"&bih=\"+b+\"&ei=\"+google.kEI,h=\"\",k=[],l=void 0!==window.google&&void 0!==window.google.kOPI&&0!==window.google.kOPI?window.google.kOPI:null;null!=l&&k.push([\"opi\",l.toString()]);for(var m=0;m<k.length;m++){if(0===m||0<m)h+=\"&\";h+=k[m][0]+\"=\"+k[m][1]}f.call(e,\"\",\"\",g+h)};}).call(this);})();</script> <script nonce=\"wlwu5OBlg26jUfQIJIrr8g\">(function(){google.xjs={ck:'xjs.hp.-UCIkV4o_kI.L.X.O',combam:'AAAAAAAAAAAAAAAAAAAAAAAAAAEAAAAAAAcAEAABAAAAAAAAAAACANERAAALAHAB',cs:'ACT90oFKMnAriH_zSQjjoWXtrAPEn4R_6w',cssam:'AAAAAAAAAAAAAAAAAAAAAAAAAAAAAAAAAAAAEAABAAAAAAAAAAAC',cssopt:false,csss:'ACT90oFfVhXfiktPL7xqxdUZsUZEIlW3PA',excm:[],sepam:false,sepcss:false};})();</script> <script nonce=\"wlwu5OBlg26jUfQIJIrr8g\">(function(){var u='/xjs/_/js/k\\x3dxjs.hp.en.u3O1oymXz3k.O/am\\x3dAAAAAAAAAAAAAAAAAAAAAAAAAAEAAAAAAAcAEAABAAAAAAAAAAACANERAAALAHAB/d\\x3d1/ed\\x3d1/rs\\x3dACT90oHVKCDUTVkyppYEdU85z9eBDu3tsQ/m\\x3dsb_he,d?cb\\x3d72433548';var amd=0;\n",
              "var e=this||self,f=function(a){return a};var g;var h=function(a){this.g=a};h.prototype.toString=function(){return this.g+\"\"};var k={};var l=function(){var a=document;var b=\"SCRIPT\";\"application/xhtml+xml\"===a.contentType&&(b=b.toLowerCase());return a.createElement(b)};\n",
              "function m(a,b){a.src=b instanceof h&&b.constructor===h?b.g:\"type_error:TrustedResourceUrl\";var c,d;(c=(b=null==(d=(c=(a.ownerDocument&&a.ownerDocument.defaultView||window).document).querySelector)?void 0:d.call(c,\"script[nonce]\"))?b.nonce||b.getAttribute(\"nonce\")||\"\":\"\")&&a.setAttribute(\"nonce\",c)};function n(a){a=null===a?\"null\":void 0===a?\"undefined\":a;if(void 0===g){var b=null;var c=e.trustedTypes;if(c&&c.createPolicy){try{b=c.createPolicy(\"goog#html\",{createHTML:f,createScript:f,createScriptURL:f})}catch(d){e.console&&e.console.error(d.message)}g=b}else g=b}a=(b=g)?b.createScriptURL(a):a;return new h(a,k)};void 0===google.ps&&(google.ps=[]);function p(){var a=u,b=function(){};google.lx=google.stvsc?b:function(){q(a);google.lx=b};google.bx||google.lx()}function r(a,b){b&&m(a,n(b));var c=a.onload;a.onload=function(d){c&&c(d);google.ps=google.ps.filter(function(t){return a!==t})};google.ps.push(a);document.body.appendChild(a)}google.as=r;function q(a){google.timers&&google.timers.load&&google.tick&&google.tick(\"load\",\"xjsls\");var b=l();b.onerror=function(){google.ple=1};b.onload=function(){google.ple=0};google.xjsus=void 0;r(b,a);google.aple=-1;google.psa=!0};google.xjsu=u;e._F_jsUrl=u;setTimeout(function(){0<amd?google.caft(function(){return p()},amd):p()},0);})();window._ = window._ || {};window._DumpException = _._DumpException = function(e){throw e;};window._s = window._s || {};_s._DumpException = _._DumpException;window._qs = window._qs || {};_qs._DumpException = _._DumpException;(function(){var t=[1,0,0,0,0,4,24117248,4195328,0,4096,487587872,46137348,94208];window._F_toggles = window._xjs_toggles = t;})();function _F_installCss(c){}\n",
              "(function(){google.jl={blt:'none',chnk:0,dw:false,dwu:true,emtn:0,end:0,ico:false,ikb:0,ine:false,injs:'none',injt:0,injth:0,injv2:false,lls:'default',pdt:0,rep:0,snet:true,strt:0,ubm:false,uwp:true};})();(function(){var pmc='{\\x22d\\x22:{},\\x22sb_he\\x22:{\\x22agen\\x22:false,\\x22cgen\\x22:false,\\x22client\\x22:\\x22img\\x22,\\x22dh\\x22:true,\\x22ds\\x22:\\x22i\\x22,\\x22host\\x22:\\x22google.com\\x22,\\x22jsonp\\x22:true,\\x22msgs\\x22:{\\x22cibl\\x22:\\x22Clear Search\\x22,\\x22dym\\x22:\\x22Did you mean:\\x22,\\x22lcky\\x22:\\x22I\\\\u0026#39;m Feeling Lucky\\x22,\\x22lml\\x22:\\x22Learn more\\x22,\\x22psrc\\x22:\\x22This search was removed from your \\\\u003Ca href\\x3d\\\\\\x22/history\\\\\\x22\\\\u003EWeb History\\\\u003C/a\\\\u003E\\x22,\\x22psrl\\x22:\\x22Remove\\x22,\\x22sbit\\x22:\\x22Search by image\\x22,\\x22srch\\x22:\\x22Google Search\\x22},\\x22ovr\\x22:{},\\x22pq\\x22:\\x22\\x22,\\x22sbas\\x22:\\x220 3px 8px 0 rgba(0,0,0,0.2),0 0 0 1px rgba(0,0,0,0.08)\\x22,\\x22stok\\x22:\\x22AIav-ccKBCoaWhNm5MnI8FYMkT4\\x22}}';google.pmc=JSON.parse(pmc);})();(function(){var b=function(a){var c=0;return function(){return c<a.length?{done:!1,value:a[c++]}:{done:!0}}};\n",
              "var e=this||self;var g,h;a:{for(var k=[\"CLOSURE_FLAGS\"],l=e,n=0;n<k.length;n++)if(l=l[k[n]],null==l){h=null;break a}h=l}var p=h&&h[610401301];g=null!=p?p:!1;var q,r=e.navigator;q=r?r.userAgentData||null:null;function t(a){return g?q?q.brands.some(function(c){return(c=c.brand)&&-1!=c.indexOf(a)}):!1:!1}function u(a){var c;a:{if(c=e.navigator)if(c=c.userAgent)break a;c=\"\"}return-1!=c.indexOf(a)};function v(){return g?!!q&&0<q.brands.length:!1}function w(){return u(\"Safari\")&&!(x()||(v()?0:u(\"Coast\"))||(v()?0:u(\"Opera\"))||(v()?0:u(\"Edge\"))||(v()?t(\"Microsoft Edge\"):u(\"Edg/\"))||(v()?t(\"Opera\"):u(\"OPR\"))||u(\"Firefox\")||u(\"FxiOS\")||u(\"Silk\")||u(\"Android\"))}function x(){return v()?t(\"Chromium\"):(u(\"Chrome\")||u(\"CriOS\"))&&!(v()?0:u(\"Edge\"))||u(\"Silk\")}function y(){return u(\"Android\")&&!(x()||u(\"Firefox\")||u(\"FxiOS\")||(v()?0:u(\"Opera\"))||u(\"Silk\"))};var z=v()?!1:u(\"Trident\")||u(\"MSIE\");y();x();w();Object.freeze({});Object.freeze({});var A=!z&&!w(),D=function(a){if(/-[a-z]/.test(\"ved\"))return null;if(A&&a.dataset){if(y()&&!(\"ved\"in a.dataset))return null;a=a.dataset.ved;return void 0===a?null:a}return a.getAttribute(\"data-\"+\"ved\".replace(/([A-Z])/g,\"-$1\").toLowerCase())};var E=[],F=null;function G(a){a=a.target;var c=performance.now(),f=[],H=f.concat,d=E;if(!(d instanceof Array)){var m=\"undefined\"!=typeof Symbol&&Symbol.iterator&&d[Symbol.iterator];if(m)d=m.call(d);else if(\"number\"==typeof d.length)d={next:b(d)};else throw Error(\"a`\"+String(d));for(var B=[];!(m=d.next()).done;)B.push(m.value);d=B}E=H.call(f,d,[c]);if(a&&a instanceof HTMLElement)if(a===F){if(c=4<=E.length)c=5>(E[E.length-1]-E[E.length-4])/1E3;if(c){c=google.getEI(a);a.hasAttribute(\"data-ved\")?f=a?D(a)||\"\":\"\":f=(f=\n",
              "a.closest(\"[data-ved]\"))?D(f)||\"\":\"\";f=f||\"\";if(a.hasAttribute(\"jsname\"))a=a.getAttribute(\"jsname\");else{var C;a=null==(C=a.closest(\"[jsname]\"))?void 0:C.getAttribute(\"jsname\")}google.log(\"rcm\",\"&ei=\"+c+\"&ved=\"+f+\"&jsname=\"+(a||\"\"))}}else F=a,E=[c]}window.document.addEventListener(\"DOMContentLoaded\",function(){document.body.addEventListener(\"click\",G)});}).call(this);</script></body></html>"
            ]
          },
          "metadata": {},
          "execution_count": 19
        }
      ]
    },
    {
      "cell_type": "code",
      "source": [
        "### select the form\n",
        "browser.select_form()\n",
        "browser.get_current_form().print_summary()"
      ],
      "metadata": {
        "id": "Ed-Fxeo_5W2u",
        "colab": {
          "base_uri": "https://localhost:8080/"
        },
        "outputId": "b230b6cc-b932-4f63-ddc5-7e7b44d2da6d"
      },
      "id": "Ed-Fxeo_5W2u",
      "execution_count": 20,
      "outputs": [
        {
          "output_type": "stream",
          "name": "stdout",
          "text": [
            "<input name=\"tbm\" type=\"hidden\" value=\"isch\"/>\n",
            "<input name=\"ie\" type=\"hidden\" value=\"ISO-8859-1\"/>\n",
            "<input name=\"hl\" type=\"hidden\" value=\"en-NL\"/>\n",
            "<input name=\"source\" type=\"hidden\" value=\"hp\"/>\n",
            "<input name=\"biw\" type=\"hidden\"/>\n",
            "<input name=\"bih\" type=\"hidden\"/>\n",
            "<input autocomplete=\"off\" class=\"lst\" maxlength=\"2048\" name=\"q\" size=\"57\" style=\"margin:0;padding:5px 8px 0 6px;vertical-align:top;color:#000\" title=\"Search Images\" value=\"\"/>\n",
            "<input class=\"lsb\" name=\"btnG\" type=\"submit\" value=\"Search Images\"/>\n",
            "<input id=\"gbv\" name=\"gbv\" type=\"hidden\" value=\"1\"/>\n"
          ]
        }
      ]
    },
    {
      "cell_type": "code",
      "source": [
        "### get the form"
      ],
      "metadata": {
        "id": "hHa9669h5W0G"
      },
      "id": "hHa9669h5W0G",
      "execution_count": 21,
      "outputs": []
    },
    {
      "cell_type": "code",
      "source": [
        "### search term\n",
        "search_term=\"Michigan Tech\"\n",
        "browser[\"q\"]=search_term"
      ],
      "metadata": {
        "id": "bev7CFDI5Wxm"
      },
      "id": "bev7CFDI5Wxm",
      "execution_count": 22,
      "outputs": []
    },
    {
      "cell_type": "code",
      "source": [
        "### launch browser\n",
        "browser.launch_browser()\n",
        "response=browser.submit_selected()"
      ],
      "metadata": {
        "id": "8yLh3qzE5WsF"
      },
      "id": "8yLh3qzE5WsF",
      "execution_count": 23,
      "outputs": []
    },
    {
      "cell_type": "code",
      "source": [
        "### get new response\n"
      ],
      "metadata": {
        "id": "TQwr87sZ5Wm9"
      },
      "id": "TQwr87sZ5Wm9",
      "execution_count": null,
      "outputs": []
    },
    {
      "cell_type": "code",
      "source": [
        "### print new url and response\n",
        "browser.get_url()"
      ],
      "metadata": {
        "colab": {
          "base_uri": "https://localhost:8080/",
          "height": 35
        },
        "id": "n7j6ZnCp5Wkb",
        "outputId": "393ab7db-cf28-4148-c3fc-15140939a229"
      },
      "id": "n7j6ZnCp5Wkb",
      "execution_count": 25,
      "outputs": [
        {
          "output_type": "execute_result",
          "data": {
            "text/plain": [
              "'https://www.google.com/search?tbm=isch&ie=ISO-8859-1&hl=en-NL&source=hp&biw=&bih=&q=Michigan+Tech&btnG=Search+Images&gbv=1'"
            ],
            "application/vnd.google.colaboratory.intrinsic+json": {
              "type": "string"
            }
          },
          "metadata": {},
          "execution_count": 25
        }
      ]
    },
    {
      "cell_type": "code",
      "source": [
        "### declare new url and open browser\n",
        "new_url=browser.get_url()\n",
        "browser.open(new_url)"
      ],
      "metadata": {
        "id": "MSOOufnM5WiF",
        "colab": {
          "base_uri": "https://localhost:8080/"
        },
        "outputId": "d884af1b-43c6-401a-c69d-16bda31756f6"
      },
      "id": "MSOOufnM5WiF",
      "execution_count": 26,
      "outputs": [
        {
          "output_type": "execute_result",
          "data": {
            "text/plain": [
              "<Response [200]>"
            ]
          },
          "metadata": {},
          "execution_count": 26
        }
      ]
    },
    {
      "cell_type": "code",
      "source": [
        "### get current page\n",
        "page=browser.get_current_page()\n"
      ],
      "metadata": {
        "id": "hoSGQFtHZC6q"
      },
      "id": "hoSGQFtHZC6q",
      "execution_count": 27,
      "outputs": []
    },
    {
      "cell_type": "code",
      "source": [
        "page"
      ],
      "metadata": {
        "colab": {
          "base_uri": "https://localhost:8080/"
        },
        "id": "TWhQLztYrOwN",
        "outputId": "c82e847a-8ebe-4533-bd03-cd8f08350e92"
      },
      "id": "TWhQLztYrOwN",
      "execution_count": 28,
      "outputs": [
        {
          "output_type": "execute_result",
          "data": {
            "text/plain": [
              "<!DOCTYPE html PUBLIC \"-//WAPFORUM//DTD XHTML Mobile 1.0//EN\" \"http://www.wapforum.org/DTD/xhtml-mobile10.dtd\">\n",
              "<html lang=\"en-NL\" xmlns=\"http://www.w3.org/1999/xhtml\"><head><meta content=\"application/xhtml+xml; charset=utf-8\" http-equiv=\"Content-Type\"/><meta content=\"no-cache\" name=\"Cache-Control\"/><title>Michigan Tech - Google Search</title><style>a{text-decoration:none;color:inherit}a:hover{text-decoration:underline}a img{border:0}body{font-family:arial,sans-serif;padding:8px;margin:0 auto;max-width:700px;min-width:240px;}.FbhRzb{border-left:thin solid #dadce0;border-right:thin solid #dadce0;border-top:thin solid #dadce0;height:40px;overflow:hidden}.n692Zd{margin-bottom:10px}.cvifge{height:40px;border-spacing:0}.QvGUP{height:40px;padding:0 8px 0 8px;vertical-align:top}.O4cRJf{height:40px;width:100%;padding:0;padding-right:16px}.O1ePr{height:40px;padding:0;vertical-align:top}.kgJEQe{height:36px;width:98px;vertical-align:top;margin-top:4px}.lXLRf{vertical-align:top}.MhzMZd{border:0;vertical-align:middle;font-size:14px;height:40px;padding:0;width:100%;padding-left:16px}.xB0fq{height:40px;border:none;font-size:14px;background-color:#1a73e8;color:#fff;padding:0 16px;margin:0;vertical-align:top;cursor:pointer}.xB0fq:focus{border:1px solid #1a73e8}.M7pB2{border:thin solid #dadce0;margin:0 0 3px 0;font-size:13px;font-weight:500;height:40px}.euZec{width:100%;height:40px;text-align:center;border-spacing:0}table.euZec td{padding:0;width:25%}.QIqI7{display:inline-block;padding-top:4px;font-weight:bold;color:#4285f4}.EY24We{border-bottom:2px solid #4285f4}.CsQyDc{display:inline-block;color:#70757a}.TuS8Ad{font-size:14px}.HddGcc{padding:8px;color:#70757a}.dzp8ae{font-weight:bold;color:#3c4043}.rEM8G{color:#70757a}.bookcf{table-layout:fixed;width:100%;border-spacing:0}.InWNIe{text-align:center}.uZgmoc{border:thin solid #dadce0;color:#70757a;font-size:14px;text-align:center;table-layout:fixed;width:100%}.frGj1b{display:block;padding:12px 0 12px 0;width:100%}.BnJWBc{text-align:center;padding:6px 0 13px 0;height:35px}.e3goi{vertical-align:top;padding:0;height:180px}.GpQGbf{margin:auto;border-collapse:collapse;border-spacing:0;width:100%}</style></head><body><style>.X6ZCif{color:#202124;font-size:11px;line-height:16px;display:inline-block;padding-top:2px;overflow:hidden;padding-bottom:4px;width:100%}.TwVfHd{border-radius:16px;border:thin solid #dadce0;display:inline-block;padding:8px 8px;margin-right:8px;margin-bottom:4px}.yekiAe{background-color:#dadce0}.jjVJ4e{width:100%}.ezO2md{border:thin solid #dadce0;padding:12px 16px 12px 16px;margin-bottom:10px;font-family:arial,sans-serif}.lIMUZd{font-family:arial,sans-serif}.RntSmf{border-spacing:0}.lgD2Tc{width:100%}.SpelHe{text-align:center}.SpelHe{position:relative}.deHqpb{bottom:0;left:0;margin:auto;position:absolute;right:0;top:0}.kCmkOe{position:relative}.ID6Z3b{background-image:url(https://www.gstatic.com/search_trustx/visibility_off_icon_p0-7d897bf44bafe5436baa9009e8716337.png);background-repeat:no-repeat;background-position:center;background-size:20px}.kCmkOe{width:162px;height:140px;line-height:140px;overflow:'hidden';text-align:center}.DS1iW{text-align:center;margin:auto;vertical-align:middle;max-width:162px;max-height:140px}.AlD19d{padding-top:2px;padding-bottom:8px;}.fYyStc{word-break:break-word}.ynsChf{display:block;white-space:nowrap;overflow:hidden;text-overflow:ellipsis}.Fj3V3b{color:#1967d2;font-size:14px;line-height:20px}.FrIlee{color:#202124;font-size:11px;line-height:16px}.F9iS2e{color:#70757a;font-size:11px;line-height:16px}.WMQ2Le{color:#70757a;font-size:12px;line-height:16px}.x3G5ab{color:#202124;font-size:12px;line-height:16px}.fuLhoc{color:#1967d2;font-size:18px;line-height:24px}.epoveb{font-size:32px;line-height:40px;font-weight:400;color:#202124}.dXDvrc{color:#0d652d;font-size:14px;line-height:20px;word-wrap:break-word}.dloBPe{font-weight:bold}.YVIcad{color:#70757a}.JkVVdd{color:#ea4335}.oXZRFd{color:#ea4335}.MQHtg{color:#fbbc04}.pyMRrb{color:#1e8e3e}.EtTZid{color:#1e8e3e}.M3vVJe{color:#1967d2}.qXLe6d{display:block}.NHQNef{font-style:italic}.Cb8Z7c{white-space:pre}a.ZWRArf{text-decoration:none}a .CVA68e:hover{text-decoration:underline}</style><div class=\"n692Zd\"><div class=\"BnJWBc\"><a class=\"lXLRf\" href=\"/?sa=G&amp;sca_esv=587798794&amp;hl=en-NL&amp;gbv=1&amp;output=images&amp;ie=UTF-8&amp;tbm=isch&amp;ved=0ahUKEwiLmqGI2faCAxUj0QIHHQ1jCnUQPAgC\"><img alt=\"Google\" class=\"kgJEQe\" src=\"/images/branding/searchlogo/1x/googlelogo_desk_heirloom_color_150x55dp.gif\"/></a></div><div class=\"FbhRzb\"><form action=\"/search\"><input name=\"sca_esv\" type=\"hidden\" value=\"587798794\"/><input name=\"hl\" type=\"hidden\" value=\"en-NL\"/><input name=\"gbv\" type=\"hidden\" value=\"1\"/><input name=\"ie\" type=\"hidden\" value=\"ISO-8859-1\"/><input name=\"tbm\" type=\"hidden\" value=\"isch\"/><input name=\"oq\" type=\"hidden\"/><input name=\"aqs\" type=\"hidden\"/><table class=\"cvifge\"><tr><td class=\"O4cRJf\"><input class=\"MhzMZd\" name=\"q\" type=\"text\" value=\"Michigan Tech\"/></td><td class=\"O1ePr\"><input class=\"xB0fq\" type=\"submit\" value=\"Search\"/></td></tr></table></form></div><div class=\"M7pB2\"><table class=\"euZec\"><tbody><tr><td><a class=\"CsQyDc\" href=\"/search?q=Michigan+Tech&amp;sca_esv=587798794&amp;hl=en-NL&amp;gbv=1&amp;ie=UTF-8&amp;source=lnms&amp;sa=X&amp;ved=0ahUKEwiLmqGI2faCAxUj0QIHHQ1jCnUQ_AUIBCgA\">ALL</a></td><td><a class=\"CsQyDc\" href=\"/search?q=Michigan+Tech&amp;sca_esv=587798794&amp;hl=en-NL&amp;gbv=1&amp;ie=UTF-8&amp;tbm=nws&amp;source=lnms&amp;sa=X&amp;ved=0ahUKEwiLmqGI2faCAxUj0QIHHQ1jCnUQ_AUIBSgB\">NEWS</a></td><td class=\"EY24We\"><span class=\"QIqI7\">IMAGES</span></td><td><a class=\"CsQyDc\" href=\"/search?q=Michigan+Tech&amp;sca_esv=587798794&amp;hl=en-NL&amp;gbv=1&amp;ie=UTF-8&amp;tbm=vid&amp;source=lnms&amp;sa=X&amp;ved=0ahUKEwiLmqGI2faCAxUj0QIHHQ1jCnUQ_AUIBygD\">VIDEOS</a></td></tr></tbody></table></div></div><div class=\"X6ZCif\"><a class=\"TwVfHd\" href=\"/search?sca_esv=587798794&amp;hl=en-NL&amp;gbv=1&amp;ie=UTF-8&amp;tbm=isch&amp;q=Michigan+Tech&amp;chips=q:michigan+tech,g_1:logo&amp;sa=X&amp;ved=0ahUKEwiLmqGI2faCAxUj0QIHHQ1jCnUQ4lYICygA\">logo</a><a class=\"TwVfHd\" href=\"/search?sca_esv=587798794&amp;hl=en-NL&amp;gbv=1&amp;ie=UTF-8&amp;tbm=isch&amp;q=Michigan+Tech&amp;chips=q:michigan+tech,g_1:campus&amp;sa=X&amp;ved=0ahUKEwiLmqGI2faCAxUj0QIHHQ1jCnUQ4lYIDCgB\">campus</a><a class=\"TwVfHd\" href=\"/search?sca_esv=587798794&amp;hl=en-NL&amp;gbv=1&amp;ie=UTF-8&amp;tbm=isch&amp;q=Michigan+Tech&amp;chips=q:michigan+tech,g_1:huskies&amp;sa=X&amp;ved=0ahUKEwiLmqGI2faCAxUj0QIHHQ1jCnUQ4lYIDSgC\">huskies</a><a class=\"TwVfHd\" href=\"/search?sca_esv=587798794&amp;hl=en-NL&amp;gbv=1&amp;ie=UTF-8&amp;tbm=isch&amp;q=Michigan+Tech&amp;chips=q:michigan+tech,g_1:winter+carnival&amp;sa=X&amp;ved=0ahUKEwiLmqGI2faCAxUj0QIHHQ1jCnUQ4lYIDigD\">winter carnival</a><a class=\"TwVfHd\" href=\"/search?sca_esv=587798794&amp;hl=en-NL&amp;gbv=1&amp;ie=UTF-8&amp;tbm=isch&amp;q=Michigan+Tech&amp;chips=q:michigan+tech,g_1:wadsworth+hall&amp;sa=X&amp;ved=0ahUKEwiLmqGI2faCAxUj0QIHHQ1jCnUQ4lYIDygE\">wadsworth hall</a><a class=\"TwVfHd\" href=\"/search?sca_esv=587798794&amp;hl=en-NL&amp;gbv=1&amp;ie=UTF-8&amp;tbm=isch&amp;q=Michigan+Tech&amp;chips=q:michigan+tech,g_1:dorm&amp;sa=X&amp;ved=0ahUKEwiLmqGI2faCAxUj0QIHHQ1jCnUQ4lYIECgF\">dorm</a><a class=\"TwVfHd\" href=\"/search?sca_esv=587798794&amp;hl=en-NL&amp;gbv=1&amp;ie=UTF-8&amp;tbm=isch&amp;q=Michigan+Tech&amp;chips=q:michigan+tech,g_1:university&amp;sa=X&amp;ved=0ahUKEwiLmqGI2faCAxUj0QIHHQ1jCnUQ4lYIESgG\">university</a><a class=\"TwVfHd\" href=\"/search?sca_esv=587798794&amp;hl=en-NL&amp;gbv=1&amp;ie=UTF-8&amp;tbm=isch&amp;q=Michigan+Tech&amp;chips=q:michigan+tech,g_1:football&amp;sa=X&amp;ved=0ahUKEwiLmqGI2faCAxUj0QIHHQ1jCnUQ4lYIEigH\">football</a><a class=\"TwVfHd\" href=\"/search?sca_esv=587798794&amp;hl=en-NL&amp;gbv=1&amp;ie=UTF-8&amp;tbm=isch&amp;q=Michigan+Tech&amp;chips=q:michigan+tech,g_1:mcnair+hall&amp;sa=X&amp;ved=0ahUKEwiLmqGI2faCAxUj0QIHHQ1jCnUQ4lYIEygI\">mcnair hall</a><a class=\"TwVfHd\" href=\"/search?sca_esv=587798794&amp;hl=en-NL&amp;gbv=1&amp;ie=UTF-8&amp;tbm=isch&amp;q=Michigan+Tech&amp;chips=q:michigan+tech,g_1:houghton&amp;sa=X&amp;ved=0ahUKEwiLmqGI2faCAxUj0QIHHQ1jCnUQ4lYIFCgJ\">houghton</a></div><div><table class=\"GpQGbf\"><tr><td align=\"center\" class=\"e3goi\"><div class=\"jjVJ4e\"> <div> <div class=\"lIMUZd\"><div><table class=\"RntSmf\"><tr><td><a href=\"/url?q=https://www.usnews.com/best-colleges/michigan-tech-2292&amp;sa=U&amp;ved=2ahUKEwiLmqGI2faCAxUj0QIHHQ1jCnUQqoUBegQIAhAB&amp;usg=AOvVaw300d65yxR0wGp1IVUGiRHM\"><div class=\"kCmkOe\"><img alt=\"\" class=\"DS1iW\" src=\"https://encrypted-tbn0.gstatic.com/images?q=tbn:ANd9GcRzp-idiQcUXW2G806ZB3wYLAnr4r_jmBPjBczkDB6q4hXheU8dZ5bSMeGGPR8&amp;s\"/></div></a></td></tr><tr><td><a href=\"/url?q=https://www.usnews.com/best-colleges/michigan-tech-2292&amp;sa=U&amp;ved=2ahUKEwiLmqGI2faCAxUj0QIHHQ1jCnUQr4kDegQIAhAC&amp;usg=AOvVaw3EGAPCTuj3eIurGB0h6Ndc\"><div class=\"AlD19d\"> <span class=\"qXLe6d x3G5ab\"> <span class=\"fYyStc\">Michigan Technological...</span> </span> <span class=\"qXLe6d F9iS2e\"> <span class=\"fYyStc\">www.usnews.com</span> </span> </div></a></td></tr></table></div></div> </div> </div></td><td align=\"center\" class=\"e3goi\"><div class=\"jjVJ4e\"> <div> <div class=\"lIMUZd\"><div><table class=\"RntSmf\"><tr><td><a href=\"/url?q=https://en.wikipedia.org/wiki/Michigan_Technological_University&amp;sa=U&amp;ved=2ahUKEwiLmqGI2faCAxUj0QIHHQ1jCnUQqoUBegQIEhAB&amp;usg=AOvVaw1fZ0PX9AU1LJIbmndytDHq\"><div class=\"kCmkOe\"><img alt=\"\" class=\"DS1iW\" src=\"https://encrypted-tbn0.gstatic.com/images?q=tbn:ANd9GcTQaZcZulkIlxkZ1xH_08AvxudMQNZaKFOYa8_frMjjL1FtVf1QhqRSx3X0zA&amp;s\"/></div></a></td></tr><tr><td><a href=\"/url?q=https://en.wikipedia.org/wiki/Michigan_Technological_University&amp;sa=U&amp;ved=2ahUKEwiLmqGI2faCAxUj0QIHHQ1jCnUQr4kDegQIEhAC&amp;usg=AOvVaw3rAVngn8dQhCcSqgrxao6W\"><div class=\"AlD19d\"> <span class=\"qXLe6d x3G5ab\"> <span class=\"fYyStc\">Michigan Technological...</span> </span> <span class=\"qXLe6d F9iS2e\"> <span class=\"fYyStc\">en.wikipedia.org</span> </span> </div></a></td></tr></table></div></div> </div> </div></td><td align=\"center\" class=\"e3goi\"><div class=\"jjVJ4e\"> <div> <div class=\"lIMUZd\"><div><table class=\"RntSmf\"><tr><td><a href=\"/url?q=https://www.mtu.edu/&amp;sa=U&amp;ved=2ahUKEwiLmqGI2faCAxUj0QIHHQ1jCnUQqoUBegQIExAB&amp;usg=AOvVaw3gq9n64I9lVllvP6Yqn87-\"><div class=\"kCmkOe\"><img alt=\"\" class=\"DS1iW\" src=\"https://encrypted-tbn0.gstatic.com/images?q=tbn:ANd9GcTl-gvh-CJ1FHV_UfzCZSHBKCtiAKsWjwpjp26luRdEsSgoKIT0RAw1UJkxHg&amp;s\"/></div></a></td></tr><tr><td><a href=\"/url?q=https://www.mtu.edu/&amp;sa=U&amp;ved=2ahUKEwiLmqGI2faCAxUj0QIHHQ1jCnUQr4kDegQIExAC&amp;usg=AOvVaw1U-Q9JT57yeu2M9-WTlEgt\"><div class=\"AlD19d\"> <span class=\"qXLe6d x3G5ab\"> <span class=\"fYyStc\">campus-aerial-card1200.jpg</span> </span> <span class=\"qXLe6d F9iS2e\"> <span class=\"fYyStc\">www.mtu.edu</span> </span> </div></a></td></tr></table></div></div> </div> </div></td><td align=\"center\" class=\"e3goi\"><div class=\"jjVJ4e\"> <div> <div class=\"lIMUZd\"><div><table class=\"RntSmf\"><tr><td><a href=\"/url?q=https://en.wikipedia.org/wiki/Michigan_Technological_University&amp;sa=U&amp;ved=2ahUKEwiLmqGI2faCAxUj0QIHHQ1jCnUQqoUBegQIERAB&amp;usg=AOvVaw0mfjGZTy5nPx95dsbfzPl6\"><div class=\"kCmkOe\"><img alt=\"\" class=\"DS1iW\" src=\"https://encrypted-tbn0.gstatic.com/images?q=tbn:ANd9GcT2RKe5rDTPiKsGDeUrcNrO0irJVCN7YTFZ1RVHWQ1hJqEhbln4uBufireedFE&amp;s\"/></div></a></td></tr><tr><td><a href=\"/url?q=https://en.wikipedia.org/wiki/Michigan_Technological_University&amp;sa=U&amp;ved=2ahUKEwiLmqGI2faCAxUj0QIHHQ1jCnUQr4kDegQIERAC&amp;usg=AOvVaw3KTZlRAY_kOE0_A1vYJfPN\"><div class=\"AlD19d\"> <span class=\"qXLe6d x3G5ab\"> <span class=\"fYyStc\">Michigan Technological...</span> </span> <span class=\"qXLe6d F9iS2e\"> <span class=\"fYyStc\">en.wikipedia.org</span> </span> </div></a></td></tr></table></div></div> </div> </div></td></tr><tr><td align=\"center\" class=\"e3goi\"><div class=\"jjVJ4e\"> <div> <div class=\"lIMUZd\"><div><table class=\"RntSmf\"><tr><td><a href=\"/url?q=https://www.mtu.edu/colleges-schools/&amp;sa=U&amp;ved=2ahUKEwiLmqGI2faCAxUj0QIHHQ1jCnUQqoUBegQIDxAB&amp;usg=AOvVaw1D0ult_tDFhasdpGZEFf1-\"><div class=\"kCmkOe\"><img alt=\"\" class=\"DS1iW\" src=\"https://encrypted-tbn0.gstatic.com/images?q=tbn:ANd9GcQHtpD7aBU3eVNs6xp01BIpm0xjHBqY3vkpl25nkWUG8hzzySoH4WhxBN0lcgk&amp;s\"/></div></a></td></tr><tr><td><a href=\"/url?q=https://www.mtu.edu/colleges-schools/&amp;sa=U&amp;ved=2ahUKEwiLmqGI2faCAxUj0QIHHQ1jCnUQr4kDegQIDxAC&amp;usg=AOvVaw2JvPLxGl19Y3L40sIbNE8n\"><div class=\"AlD19d\"> <span class=\"qXLe6d x3G5ab\"> <span class=\"fYyStc\">Colleges and Departments |...</span> </span> <span class=\"qXLe6d F9iS2e\"> <span class=\"fYyStc\">www.mtu.edu</span> </span> </div></a></td></tr></table></div></div> </div> </div></td><td align=\"center\" class=\"e3goi\"><div class=\"jjVJ4e\"> <div> <div class=\"lIMUZd\"><div><table class=\"RntSmf\"><tr><td><a href=\"/url?q=https://www.ncaa.com/schools/michigan-tech&amp;sa=U&amp;ved=2ahUKEwiLmqGI2faCAxUj0QIHHQ1jCnUQqoUBegQIDBAB&amp;usg=AOvVaw1JIZQV619BGCNhHIy7o0_T\"><div class=\"kCmkOe\"><img alt=\"\" class=\"DS1iW\" src=\"https://encrypted-tbn0.gstatic.com/images?q=tbn:ANd9GcSB0UpctZDL4WBlAre3YKX20_bmOBJ8DjczOQ7l_N0NitQ_4f5kzKGYE_GbdAE&amp;s\"/></div></a></td></tr><tr><td><a href=\"/url?q=https://www.ncaa.com/schools/michigan-tech&amp;sa=U&amp;ved=2ahUKEwiLmqGI2faCAxUj0QIHHQ1jCnUQr4kDegQIDBAC&amp;usg=AOvVaw3igURpJCzwpa4I97XNq-rR\"><div class=\"AlD19d\"> <span class=\"qXLe6d x3G5ab\"> <span class=\"fYyStc\">Michigan Technological...</span> </span> <span class=\"qXLe6d F9iS2e\"> <span class=\"fYyStc\">www.ncaa.com</span> </span> </div></a></td></tr></table></div></div> </div> </div></td><td align=\"center\" class=\"e3goi\"><div class=\"jjVJ4e\"> <div> <div class=\"lIMUZd\"><div><table class=\"RntSmf\"><tr><td><a href=\"/url?q=https://mtulode.com/1902/pulse/a-brief-history-of-michigan-tech/&amp;sa=U&amp;ved=2ahUKEwiLmqGI2faCAxUj0QIHHQ1jCnUQqoUBegQIEBAB&amp;usg=AOvVaw3dzRYIg0uDkSIwbxi68uj0\"><div class=\"kCmkOe\"><img alt=\"\" class=\"DS1iW\" src=\"https://encrypted-tbn0.gstatic.com/images?q=tbn:ANd9GcSoX6iBgYBBBGVXfCQpeO1G7UTrkzL_cAN_doFnsfGMdsKe8LC664vC0-snONo&amp;s\"/></div></a></td></tr><tr><td><a href=\"/url?q=https://mtulode.com/1902/pulse/a-brief-history-of-michigan-tech/&amp;sa=U&amp;ved=2ahUKEwiLmqGI2faCAxUj0QIHHQ1jCnUQr4kDegQIEBAC&amp;usg=AOvVaw0tQeEReKS58kayWW29B__u\"><div class=\"AlD19d\"> <span class=\"qXLe6d x3G5ab\"> <span class=\"fYyStc\">A brief history of Michigan...</span> </span> <span class=\"qXLe6d F9iS2e\"> <span class=\"fYyStc\">mtulode.com</span> </span> </div></a></td></tr></table></div></div> </div> </div></td><td align=\"center\" class=\"e3goi\"><div class=\"jjVJ4e\"> <div> <div class=\"lIMUZd\"><div><table class=\"RntSmf\"><tr><td><a href=\"/url?q=https://en.wikipedia.org/wiki/Michigan_Tech_Huskies&amp;sa=U&amp;ved=2ahUKEwiLmqGI2faCAxUj0QIHHQ1jCnUQqoUBegQICRAB&amp;usg=AOvVaw3wVbPnvzz28YuRN60qcH2O\"><div class=\"kCmkOe\"><img alt=\"\" class=\"DS1iW\" src=\"https://encrypted-tbn0.gstatic.com/images?q=tbn:ANd9GcQ1Y5NoECqbK3-ppzJc3sRzT0Q401Cd6kiHJylzlySopo0v_obMw-Euo-P2Qq0&amp;s\"/></div></a></td></tr><tr><td><a href=\"/url?q=https://en.wikipedia.org/wiki/Michigan_Tech_Huskies&amp;sa=U&amp;ved=2ahUKEwiLmqGI2faCAxUj0QIHHQ1jCnUQr4kDegQICRAC&amp;usg=AOvVaw1IWbYN643yrOcpQtS-Z9J-\"><div class=\"AlD19d\"> <span class=\"qXLe6d x3G5ab\"> <span class=\"fYyStc\">Michigan Tech Huskies -...</span> </span> <span class=\"qXLe6d F9iS2e\"> <span class=\"fYyStc\">en.wikipedia.org</span> </span> </div></a></td></tr></table></div></div> </div> </div></td></tr><tr><td align=\"center\" class=\"e3goi\"><div class=\"jjVJ4e\"> <div> <div class=\"lIMUZd\"><div><table class=\"RntSmf\"><tr><td><a href=\"/url?q=https://1000logos.net/michigan-tech-huskies-logo/&amp;sa=U&amp;ved=2ahUKEwiLmqGI2faCAxUj0QIHHQ1jCnUQqoUBegQIChAB&amp;usg=AOvVaw3O-vJ8WJAA3StmE5h2SzrP\"><div class=\"kCmkOe\"><img alt=\"\" class=\"DS1iW\" src=\"https://encrypted-tbn0.gstatic.com/images?q=tbn:ANd9GcSf5ppc3b_qjUULs_fvR8C0g8eIewlZ284aqYEP_JiZKigtg8Y9rVsJU8kM-XA&amp;s\"/></div></a></td></tr><tr><td><a href=\"/url?q=https://1000logos.net/michigan-tech-huskies-logo/&amp;sa=U&amp;ved=2ahUKEwiLmqGI2faCAxUj0QIHHQ1jCnUQr4kDegQIChAC&amp;usg=AOvVaw0Bph9ekzr_BuiK9_3xOREQ\"><div class=\"AlD19d\"> <span class=\"qXLe6d x3G5ab\"> <span class=\"fYyStc\">Michigan Tech Huskies Logo...</span> </span> <span class=\"qXLe6d F9iS2e\"> <span class=\"fYyStc\">1000logos.net</span> </span> </div></a></td></tr></table></div></div> </div> </div></td><td align=\"center\" class=\"e3goi\"><div class=\"jjVJ4e\"> <div> <div class=\"lIMUZd\"><div><table class=\"RntSmf\"><tr><td><a href=\"/url?q=https://www.uppermichiganssource.com/content/news/4200-jobs-448-million-New-study-shows-Michigan-Techs-impact-on-state-economy-488425921.html&amp;sa=U&amp;ved=2ahUKEwiLmqGI2faCAxUj0QIHHQ1jCnUQqoUBegQIDRAB&amp;usg=AOvVaw3HMzfN9sC0lzFlAaZgK9La\"><div class=\"kCmkOe\"><img alt=\"\" class=\"DS1iW\" src=\"https://encrypted-tbn0.gstatic.com/images?q=tbn:ANd9GcRDsc3v7ojIF3vfrkv4IQlhNmBMPEgljfU25W0K11vV17iXpHmKGhy2tthnvYE&amp;s\"/></div></a></td></tr><tr><td><a href=\"/url?q=https://www.uppermichiganssource.com/content/news/4200-jobs-448-million-New-study-shows-Michigan-Techs-impact-on-state-economy-488425921.html&amp;sa=U&amp;ved=2ahUKEwiLmqGI2faCAxUj0QIHHQ1jCnUQr4kDegQIDRAC&amp;usg=AOvVaw3GlnrL0gNeAOUZ1htq2PRx\"><div class=\"AlD19d\"> <span class=\"qXLe6d x3G5ab\"> <span class=\"fYyStc\">4,200 jobs, $448 ...</span> </span> <span class=\"qXLe6d F9iS2e\"> <span class=\"fYyStc\">www.uppermichiganssource.co...</span> </span> </div></a></td></tr></table></div></div> </div> </div></td><td align=\"center\" class=\"e3goi\"><div class=\"jjVJ4e\"> <div> <div class=\"lIMUZd\"><div><table class=\"RntSmf\"><tr><td><a href=\"/url?q=https://wkfr.com/ice-chapel-michigan-tech-winter-carnival/&amp;sa=U&amp;ved=2ahUKEwiLmqGI2faCAxUj0QIHHQ1jCnUQqoUBegQICxAB&amp;usg=AOvVaw3BkVVcw3glLVq_UkvXdc0K\"><div class=\"kCmkOe\"><img alt=\"\" class=\"DS1iW\" src=\"https://encrypted-tbn0.gstatic.com/images?q=tbn:ANd9GcQp4-YePliYW3GjytHCyVlaae7uyRVNi19earCZjDtRlmzd14aQdINppE8nWA&amp;s\"/></div></a></td></tr><tr><td><a href=\"/url?q=https://wkfr.com/ice-chapel-michigan-tech-winter-carnival/&amp;sa=U&amp;ved=2ahUKEwiLmqGI2faCAxUj0QIHHQ1jCnUQr4kDegQICxAC&amp;usg=AOvVaw1hfjQV-6AGRZqPE5J8pqQx\"><div class=\"AlD19d\"> <span class=\"qXLe6d x3G5ab\"> <span class=\"fYyStc\">Watch: Students at Michigan...</span> </span> <span class=\"qXLe6d F9iS2e\"> <span class=\"fYyStc\">wkfr.com</span> </span> </div></a></td></tr></table></div></div> </div> </div></td><td align=\"center\" class=\"e3goi\"><div class=\"jjVJ4e\"> <div> <div class=\"lIMUZd\"><div><table class=\"RntSmf\"><tr><td><a href=\"/url?q=https://www.mlive.com/news/2022/04/michigan-tech-university-reports-record-number-of-applications-for-fifth-straight-year.html&amp;sa=U&amp;ved=2ahUKEwiLmqGI2faCAxUj0QIHHQ1jCnUQqoUBegQIDhAB&amp;usg=AOvVaw3SORdifTxyNSRJgYumejl9\"><div class=\"kCmkOe\"><img alt=\"\" class=\"DS1iW\" src=\"https://encrypted-tbn0.gstatic.com/images?q=tbn:ANd9GcTM4bsRPYKDZOJcXkJXdGY3AK2ApVmv6dNJqPQJ9eUBTrAsU-c9HY6ZaAnOaoo&amp;s\"/></div></a></td></tr><tr><td><a href=\"/url?q=https://www.mlive.com/news/2022/04/michigan-tech-university-reports-record-number-of-applications-for-fifth-straight-year.html&amp;sa=U&amp;ved=2ahUKEwiLmqGI2faCAxUj0QIHHQ1jCnUQr4kDegQIDhAC&amp;usg=AOvVaw1Hrc3r-N7-9r-7gBjreuzJ\"><div class=\"AlD19d\"> <span class=\"qXLe6d x3G5ab\"> <span class=\"fYyStc\">Michigan Tech University...</span> </span> <span class=\"qXLe6d F9iS2e\"> <span class=\"fYyStc\">www.mlive.com</span> </span> </div></a></td></tr></table></div></div> </div> </div></td></tr><tr><td align=\"center\" class=\"e3goi\"><div class=\"jjVJ4e\"> <div> <div class=\"lIMUZd\"><div><table class=\"RntSmf\"><tr><td><a href=\"/url?q=https://www.upmatters.com/news/local-news/copper-country/michigan-tech-commits-to-supporting-finlandia-students-amid-closure-announcment/&amp;sa=U&amp;ved=2ahUKEwiLmqGI2faCAxUj0QIHHQ1jCnUQqoUBegQIBRAB&amp;usg=AOvVaw3MF77MjGEMSaEZlgOkm3Fu\"><div class=\"kCmkOe\"><img alt=\"\" class=\"DS1iW\" src=\"https://encrypted-tbn0.gstatic.com/images?q=tbn:ANd9GcSh9QX9R7ow-XLto30ynPWMN2-TwSJldoahXBWsWXiTmUzV_hWSqoK7Fh_FNg&amp;s\"/></div></a></td></tr><tr><td><a href=\"/url?q=https://www.upmatters.com/news/local-news/copper-country/michigan-tech-commits-to-supporting-finlandia-students-amid-closure-announcment/&amp;sa=U&amp;ved=2ahUKEwiLmqGI2faCAxUj0QIHHQ1jCnUQr4kDegQIBRAC&amp;usg=AOvVaw3yB1V5fN_YVdieXXQZkCZ3\"><div class=\"AlD19d\"> <span class=\"qXLe6d x3G5ab\"> <span class=\"fYyStc\">Michigan Tech commits to...</span> </span> <span class=\"qXLe6d F9iS2e\"> <span class=\"fYyStc\">www.upmatters.com</span> </span> </div></a></td></tr></table></div></div> </div> </div></td><td align=\"center\" class=\"e3goi\"><div class=\"jjVJ4e\"> <div> <div class=\"lIMUZd\"><div><table class=\"RntSmf\"><tr><td><a href=\"/url?q=https://www.mtu.edu/provost/accreditation/&amp;sa=U&amp;ved=2ahUKEwiLmqGI2faCAxUj0QIHHQ1jCnUQqoUBegQICBAB&amp;usg=AOvVaw1oi7C4XYfygeLlu8Q9D-O2\"><div class=\"kCmkOe\"><img alt=\"\" class=\"DS1iW\" src=\"https://encrypted-tbn0.gstatic.com/images?q=tbn:ANd9GcR3McPnOO-ELI8sEWBp1587TzzeTzPhB_17Tyj3a8Tp7gXSRu_qoFkig2CJJUA&amp;s\"/></div></a></td></tr><tr><td><a href=\"/url?q=https://www.mtu.edu/provost/accreditation/&amp;sa=U&amp;ved=2ahUKEwiLmqGI2faCAxUj0QIHHQ1jCnUQr4kDegQICBAC&amp;usg=AOvVaw1I1-jSgr4Da7_YWqyN03Yi\"><div class=\"AlD19d\"> <span class=\"qXLe6d x3G5ab\"> <span class=\"fYyStc\">Accreditation | Michigan...</span> </span> <span class=\"qXLe6d F9iS2e\"> <span class=\"fYyStc\">www.mtu.edu</span> </span> </div></a></td></tr></table></div></div> </div> </div></td><td align=\"center\" class=\"e3goi\"><div class=\"jjVJ4e\"> <div> <div class=\"lIMUZd\"><div><table class=\"RntSmf\"><tr><td><a href=\"/url?q=https://www.niche.com/colleges/michigan-technological-university/&amp;sa=U&amp;ved=2ahUKEwiLmqGI2faCAxUj0QIHHQ1jCnUQqoUBegQIBxAB&amp;usg=AOvVaw0aw8LzWfXia231EFkRl_L-\"><div class=\"kCmkOe\"><img alt=\"\" class=\"DS1iW\" src=\"https://encrypted-tbn0.gstatic.com/images?q=tbn:ANd9GcSlVHJY5WfVnqFWUOFb7bdXkqYjRUh_l4PCgOODw58xlUPf4H2ElsaR1RonYO0&amp;s\"/></div></a></td></tr><tr><td><a href=\"/url?q=https://www.niche.com/colleges/michigan-technological-university/&amp;sa=U&amp;ved=2ahUKEwiLmqGI2faCAxUj0QIHHQ1jCnUQr4kDegQIBxAC&amp;usg=AOvVaw3cYQbB_A35SwfkTcP5jfVH\"><div class=\"AlD19d\"> <span class=\"qXLe6d x3G5ab\"> <span class=\"fYyStc\">Michigan Technological...</span> </span> <span class=\"qXLe6d F9iS2e\"> <span class=\"fYyStc\">www.niche.com</span> </span> </div></a></td></tr></table></div></div> </div> </div></td><td align=\"center\" class=\"e3goi\"><div class=\"jjVJ4e\"> <div> <div class=\"lIMUZd\"><div><table class=\"RntSmf\"><tr><td><a href=\"/url?q=https://wwmt.com/news/local/michigan-technological-university-brings-back-mining-engineering-program-after-15-years&amp;sa=U&amp;ved=2ahUKEwiLmqGI2faCAxUj0QIHHQ1jCnUQqoUBegQIBBAB&amp;usg=AOvVaw3T2WuYxt2AOGJB7pAUaOVN\"><div class=\"kCmkOe\"><img alt=\"\" class=\"DS1iW\" src=\"https://encrypted-tbn0.gstatic.com/images?q=tbn:ANd9GcSeE6PWEwo1g09cCN5DiKp-XpcR1QQu3-0Bzb2chS2jq54xMtBFluoC3uxPnA&amp;s\"/></div></a></td></tr><tr><td><a href=\"/url?q=https://wwmt.com/news/local/michigan-technological-university-brings-back-mining-engineering-program-after-15-years&amp;sa=U&amp;ved=2ahUKEwiLmqGI2faCAxUj0QIHHQ1jCnUQr4kDegQIBBAC&amp;usg=AOvVaw0rUIo6QJl5mX7BF6T4xeVk\"><div class=\"AlD19d\"> <span class=\"qXLe6d x3G5ab\"> <span class=\"fYyStc\">Michigan Technological...</span> </span> <span class=\"qXLe6d F9iS2e\"> <span class=\"fYyStc\">wwmt.com</span> </span> </div></a></td></tr></table></div></div> </div> </div></td></tr><tr><td align=\"center\" class=\"e3goi\"><div class=\"jjVJ4e\"> <div> <div class=\"lIMUZd\"><div><table class=\"RntSmf\"><tr><td><a href=\"/url?q=https://www.thoughtco.com/michigan-tech-gpa-sat-act-data-786549&amp;sa=U&amp;ved=2ahUKEwiLmqGI2faCAxUj0QIHHQ1jCnUQqoUBegQIABAB&amp;usg=AOvVaw0PYl8_OT3cEfy1fJrSwHX_\"><div class=\"kCmkOe\"><img alt=\"\" class=\"DS1iW\" src=\"https://encrypted-tbn0.gstatic.com/images?q=tbn:ANd9GcQs5rtQ8LHDBO7EEOsg3iHS7DfdIntpiHhjzSo9dI9ZHCGUoknP1tywtqGzzIk&amp;s\"/></div></a></td></tr><tr><td><a href=\"/url?q=https://www.thoughtco.com/michigan-tech-gpa-sat-act-data-786549&amp;sa=U&amp;ved=2ahUKEwiLmqGI2faCAxUj0QIHHQ1jCnUQr4kDegQIABAC&amp;usg=AOvVaw2K62xf0LoCqFc9qILUuu5Z\"><div class=\"AlD19d\"> <span class=\"qXLe6d x3G5ab\"> <span class=\"fYyStc\">Michigan Tech University:...</span> </span> <span class=\"qXLe6d F9iS2e\"> <span class=\"fYyStc\">www.thoughtco.com</span> </span> </div></a></td></tr></table></div></div> </div> </div></td><td align=\"center\" class=\"e3goi\"><div class=\"jjVJ4e\"> <div> <div class=\"lIMUZd\"><div><table class=\"RntSmf\"><tr><td><a href=\"/url?q=https://www.mitransfer.org/Michigan-Technological-University&amp;sa=U&amp;ved=2ahUKEwiLmqGI2faCAxUj0QIHHQ1jCnUQqoUBegQIAxAB&amp;usg=AOvVaw23fS-uY8Q8eW2poDoA_6Qx\"><div class=\"kCmkOe\"><img alt=\"\" class=\"DS1iW\" src=\"https://encrypted-tbn0.gstatic.com/images?q=tbn:ANd9GcSekwDEwp0d5-AUTWLcNu63Y1HQBY1HnamxXzk0dQDOwL05FTDf5QXg-S6P_BU&amp;s\"/></div></a></td></tr><tr><td><a href=\"/url?q=https://www.mitransfer.org/Michigan-Technological-University&amp;sa=U&amp;ved=2ahUKEwiLmqGI2faCAxUj0QIHHQ1jCnUQr4kDegQIAxAC&amp;usg=AOvVaw21bG7sriflRkpNoWCXSmFD\"><div class=\"AlD19d\"> <span class=\"qXLe6d x3G5ab\"> <span class=\"fYyStc\">Michigan Transfer Network</span> </span> <span class=\"qXLe6d F9iS2e\"> <span class=\"fYyStc\">www.mitransfer.org</span> </span> </div></a></td></tr></table></div></div> </div> </div></td><td align=\"center\" class=\"e3goi\"><div class=\"jjVJ4e\"> <div> <div class=\"lIMUZd\"><div><table class=\"RntSmf\"><tr><td><a href=\"/url?q=https://en.wikipedia.org/wiki/Campus_of_Michigan_Technological_University&amp;sa=U&amp;ved=2ahUKEwiLmqGI2faCAxUj0QIHHQ1jCnUQqoUBegQIARAB&amp;usg=AOvVaw37Y2d4s7dvb4reuBzNDxuv\"><div class=\"kCmkOe\"><img alt=\"\" class=\"DS1iW\" src=\"https://encrypted-tbn0.gstatic.com/images?q=tbn:ANd9GcTFjs9_7RHNPWWuag43rtE0hOHVhl6GqoQbTp4cL_tKzjaJBHhHiCDtDyBAcQw&amp;s\"/></div></a></td></tr><tr><td><a href=\"/url?q=https://en.wikipedia.org/wiki/Campus_of_Michigan_Technological_University&amp;sa=U&amp;ved=2ahUKEwiLmqGI2faCAxUj0QIHHQ1jCnUQr4kDegQIARAC&amp;usg=AOvVaw3PMafCFaYgOF9JUaStFCnA\"><div class=\"AlD19d\"> <span class=\"qXLe6d x3G5ab\"> <span class=\"fYyStc\">Campus of Michigan...</span> </span> <span class=\"qXLe6d F9iS2e\"> <span class=\"fYyStc\">en.wikipedia.org</span> </span> </div></a></td></tr></table></div></div> </div> </div></td><td align=\"center\" class=\"e3goi\"><div class=\"jjVJ4e\"> <div> <div class=\"lIMUZd\"><div><table class=\"RntSmf\"><tr><td><a href=\"/url?q=https://www.appily.com/colleges/michigan-technological-university&amp;sa=U&amp;ved=2ahUKEwiLmqGI2faCAxUj0QIHHQ1jCnUQqoUBegQIBhAB&amp;usg=AOvVaw0zYKgCJ_S6VLmoyaGujkcA\"><div class=\"kCmkOe\"><img alt=\"\" class=\"DS1iW\" src=\"https://encrypted-tbn0.gstatic.com/images?q=tbn:ANd9GcQA7mx1DUW3ysqPgMaXoojgwbCIHSN6NazRTipY3Jn5BgX3Yz2W9xk2hhFui9U&amp;s\"/></div></a></td></tr><tr><td><a href=\"/url?q=https://www.appily.com/colleges/michigan-technological-university&amp;sa=U&amp;ved=2ahUKEwiLmqGI2faCAxUj0QIHHQ1jCnUQr4kDegQIBhAC&amp;usg=AOvVaw3kjYRy1hQuGjQ4dKSkKKiL\"><div class=\"AlD19d\"> <span class=\"qXLe6d x3G5ab\"> <span class=\"fYyStc\">Michigan Technological...</span> </span> <span class=\"qXLe6d F9iS2e\"> <span class=\"fYyStc\">www.appily.com</span> </span> </div></a></td></tr></table></div></div> </div> </div></td></tr></table></div><table class=\"uZgmoc\"><tbody><td><a class=\"frGj1b\" href=\"/search?q=Michigan+Tech&amp;sca_esv=587798794&amp;hl=en-NL&amp;gbv=1&amp;ie=UTF-8&amp;tbm=isch&amp;ei=lkBuZYv3HaOii-gPjcapqAc&amp;start=20&amp;sa=N\">Next &gt;</a></td></tbody></table><br/><div class=\"TuS8Ad\" data-ved=\"0ahUKEwiLmqGI2faCAxUj0QIHHQ1jCnUQpyoIUg\"><style>.VYM29{font-weight:bold}</style><div align=\"center\" class=\"HddGcc\"><span class=\"VYM29\">Netherlands</span><span> - </span><span>From your IP address</span><span> - </span><a href=\"/url?q=https://support.google.com/websearch%3Fp%3Dws_settings_location%26hl%3Den-NL&amp;opi=89978449&amp;sa=U&amp;ved=0ahUKEwiLmqGI2faCAxUj0QIHHQ1jCnUQty4IUw&amp;usg=AOvVaw2otdHlKpYUWmxAxVCvVadM\">Learn more</a></div><div align=\"center\"><a class=\"rEM8G\" href=\"/url?q=https://accounts.google.com/ServiceLogin%3Fcontinue%3Dhttps://www.google.com/search%253Ftbm%253Disch%2526ie%253DISO-8859-1%2526hl%253Den-NL%2526source%253Dhp%2526q%253DMichigan%252BTech%2526btnG%253DSearch%252BImages%2526gbv%253D1%26hl%3Den&amp;opi=89978449&amp;sa=U&amp;ved=0ahUKEwiLmqGI2faCAxUj0QIHHQ1jCnUQxs8CCFQ&amp;usg=AOvVaw01-O_-f9VFPiPw8_iZUpE_\">Sign in</a></div><div><table class=\"bookcf\"><tbody class=\"InWNIe\"><tr><td><a class=\"rEM8G\" href=\"https://www.google.com/preferences?hl=en&amp;sa=X&amp;ved=0ahUKEwiLmqGI2faCAxUj0QIHHQ1jCnUQv5YECFU\">Settings</a></td><td><a class=\"rEM8G\" href=\"https://www.google.com/intl/en_nl/policies/privacy/\">Privacy</a></td><td><a class=\"rEM8G\" href=\"https://www.google.com/intl/en_nl/policies/terms/\">Terms</a></td></tr></tbody></table></div></div><div> </div></body></html>"
            ]
          },
          "metadata": {},
          "execution_count": 28
        }
      ]
    },
    {
      "cell_type": "code",
      "source": [
        "### search for images\n",
        "images=page.find_all(\"img\")\n",
        "images"
      ],
      "metadata": {
        "id": "684eOTL1ZC4S",
        "colab": {
          "base_uri": "https://localhost:8080/"
        },
        "outputId": "543336df-e6e6-40cd-b692-326bffe47898"
      },
      "id": "684eOTL1ZC4S",
      "execution_count": 29,
      "outputs": [
        {
          "output_type": "execute_result",
          "data": {
            "text/plain": [
              "[<img alt=\"Google\" class=\"kgJEQe\" src=\"/images/branding/searchlogo/1x/googlelogo_desk_heirloom_color_150x55dp.gif\"/>,\n",
              " <img alt=\"\" class=\"DS1iW\" src=\"https://encrypted-tbn0.gstatic.com/images?q=tbn:ANd9GcRzp-idiQcUXW2G806ZB3wYLAnr4r_jmBPjBczkDB6q4hXheU8dZ5bSMeGGPR8&amp;s\"/>,\n",
              " <img alt=\"\" class=\"DS1iW\" src=\"https://encrypted-tbn0.gstatic.com/images?q=tbn:ANd9GcTQaZcZulkIlxkZ1xH_08AvxudMQNZaKFOYa8_frMjjL1FtVf1QhqRSx3X0zA&amp;s\"/>,\n",
              " <img alt=\"\" class=\"DS1iW\" src=\"https://encrypted-tbn0.gstatic.com/images?q=tbn:ANd9GcTl-gvh-CJ1FHV_UfzCZSHBKCtiAKsWjwpjp26luRdEsSgoKIT0RAw1UJkxHg&amp;s\"/>,\n",
              " <img alt=\"\" class=\"DS1iW\" src=\"https://encrypted-tbn0.gstatic.com/images?q=tbn:ANd9GcT2RKe5rDTPiKsGDeUrcNrO0irJVCN7YTFZ1RVHWQ1hJqEhbln4uBufireedFE&amp;s\"/>,\n",
              " <img alt=\"\" class=\"DS1iW\" src=\"https://encrypted-tbn0.gstatic.com/images?q=tbn:ANd9GcQHtpD7aBU3eVNs6xp01BIpm0xjHBqY3vkpl25nkWUG8hzzySoH4WhxBN0lcgk&amp;s\"/>,\n",
              " <img alt=\"\" class=\"DS1iW\" src=\"https://encrypted-tbn0.gstatic.com/images?q=tbn:ANd9GcSB0UpctZDL4WBlAre3YKX20_bmOBJ8DjczOQ7l_N0NitQ_4f5kzKGYE_GbdAE&amp;s\"/>,\n",
              " <img alt=\"\" class=\"DS1iW\" src=\"https://encrypted-tbn0.gstatic.com/images?q=tbn:ANd9GcSoX6iBgYBBBGVXfCQpeO1G7UTrkzL_cAN_doFnsfGMdsKe8LC664vC0-snONo&amp;s\"/>,\n",
              " <img alt=\"\" class=\"DS1iW\" src=\"https://encrypted-tbn0.gstatic.com/images?q=tbn:ANd9GcQ1Y5NoECqbK3-ppzJc3sRzT0Q401Cd6kiHJylzlySopo0v_obMw-Euo-P2Qq0&amp;s\"/>,\n",
              " <img alt=\"\" class=\"DS1iW\" src=\"https://encrypted-tbn0.gstatic.com/images?q=tbn:ANd9GcSf5ppc3b_qjUULs_fvR8C0g8eIewlZ284aqYEP_JiZKigtg8Y9rVsJU8kM-XA&amp;s\"/>,\n",
              " <img alt=\"\" class=\"DS1iW\" src=\"https://encrypted-tbn0.gstatic.com/images?q=tbn:ANd9GcRDsc3v7ojIF3vfrkv4IQlhNmBMPEgljfU25W0K11vV17iXpHmKGhy2tthnvYE&amp;s\"/>,\n",
              " <img alt=\"\" class=\"DS1iW\" src=\"https://encrypted-tbn0.gstatic.com/images?q=tbn:ANd9GcQp4-YePliYW3GjytHCyVlaae7uyRVNi19earCZjDtRlmzd14aQdINppE8nWA&amp;s\"/>,\n",
              " <img alt=\"\" class=\"DS1iW\" src=\"https://encrypted-tbn0.gstatic.com/images?q=tbn:ANd9GcTM4bsRPYKDZOJcXkJXdGY3AK2ApVmv6dNJqPQJ9eUBTrAsU-c9HY6ZaAnOaoo&amp;s\"/>,\n",
              " <img alt=\"\" class=\"DS1iW\" src=\"https://encrypted-tbn0.gstatic.com/images?q=tbn:ANd9GcSh9QX9R7ow-XLto30ynPWMN2-TwSJldoahXBWsWXiTmUzV_hWSqoK7Fh_FNg&amp;s\"/>,\n",
              " <img alt=\"\" class=\"DS1iW\" src=\"https://encrypted-tbn0.gstatic.com/images?q=tbn:ANd9GcR3McPnOO-ELI8sEWBp1587TzzeTzPhB_17Tyj3a8Tp7gXSRu_qoFkig2CJJUA&amp;s\"/>,\n",
              " <img alt=\"\" class=\"DS1iW\" src=\"https://encrypted-tbn0.gstatic.com/images?q=tbn:ANd9GcSlVHJY5WfVnqFWUOFb7bdXkqYjRUh_l4PCgOODw58xlUPf4H2ElsaR1RonYO0&amp;s\"/>,\n",
              " <img alt=\"\" class=\"DS1iW\" src=\"https://encrypted-tbn0.gstatic.com/images?q=tbn:ANd9GcSeE6PWEwo1g09cCN5DiKp-XpcR1QQu3-0Bzb2chS2jq54xMtBFluoC3uxPnA&amp;s\"/>,\n",
              " <img alt=\"\" class=\"DS1iW\" src=\"https://encrypted-tbn0.gstatic.com/images?q=tbn:ANd9GcQs5rtQ8LHDBO7EEOsg3iHS7DfdIntpiHhjzSo9dI9ZHCGUoknP1tywtqGzzIk&amp;s\"/>,\n",
              " <img alt=\"\" class=\"DS1iW\" src=\"https://encrypted-tbn0.gstatic.com/images?q=tbn:ANd9GcSekwDEwp0d5-AUTWLcNu63Y1HQBY1HnamxXzk0dQDOwL05FTDf5QXg-S6P_BU&amp;s\"/>,\n",
              " <img alt=\"\" class=\"DS1iW\" src=\"https://encrypted-tbn0.gstatic.com/images?q=tbn:ANd9GcTFjs9_7RHNPWWuag43rtE0hOHVhl6GqoQbTp4cL_tKzjaJBHhHiCDtDyBAcQw&amp;s\"/>,\n",
              " <img alt=\"\" class=\"DS1iW\" src=\"https://encrypted-tbn0.gstatic.com/images?q=tbn:ANd9GcQA7mx1DUW3ysqPgMaXoojgwbCIHSN6NazRTipY3Jn5BgX3Yz2W9xk2hhFui9U&amp;s\"/>]"
            ]
          },
          "metadata": {},
          "execution_count": 29
        }
      ]
    },
    {
      "cell_type": "code",
      "source": [],
      "metadata": {
        "id": "mo6kUr3Fyck8"
      },
      "id": "mo6kUr3Fyck8",
      "execution_count": null,
      "outputs": []
    },
    {
      "cell_type": "code",
      "source": [
        "### refine the search\n",
        "images_source=[]\n",
        "for image in images:\n",
        "  src=image.get('src')\n",
        "  images_source.append(src)\n",
        "\n",
        "images_source"
      ],
      "metadata": {
        "id": "eSpKW6VQZCzi",
        "colab": {
          "base_uri": "https://localhost:8080/"
        },
        "outputId": "b1eaa69f-509c-401c-8f24-a77562e5d007"
      },
      "id": "eSpKW6VQZCzi",
      "execution_count": 30,
      "outputs": [
        {
          "output_type": "execute_result",
          "data": {
            "text/plain": [
              "['/images/branding/searchlogo/1x/googlelogo_desk_heirloom_color_150x55dp.gif',\n",
              " 'https://encrypted-tbn0.gstatic.com/images?q=tbn:ANd9GcRzp-idiQcUXW2G806ZB3wYLAnr4r_jmBPjBczkDB6q4hXheU8dZ5bSMeGGPR8&s',\n",
              " 'https://encrypted-tbn0.gstatic.com/images?q=tbn:ANd9GcTQaZcZulkIlxkZ1xH_08AvxudMQNZaKFOYa8_frMjjL1FtVf1QhqRSx3X0zA&s',\n",
              " 'https://encrypted-tbn0.gstatic.com/images?q=tbn:ANd9GcTl-gvh-CJ1FHV_UfzCZSHBKCtiAKsWjwpjp26luRdEsSgoKIT0RAw1UJkxHg&s',\n",
              " 'https://encrypted-tbn0.gstatic.com/images?q=tbn:ANd9GcT2RKe5rDTPiKsGDeUrcNrO0irJVCN7YTFZ1RVHWQ1hJqEhbln4uBufireedFE&s',\n",
              " 'https://encrypted-tbn0.gstatic.com/images?q=tbn:ANd9GcQHtpD7aBU3eVNs6xp01BIpm0xjHBqY3vkpl25nkWUG8hzzySoH4WhxBN0lcgk&s',\n",
              " 'https://encrypted-tbn0.gstatic.com/images?q=tbn:ANd9GcSB0UpctZDL4WBlAre3YKX20_bmOBJ8DjczOQ7l_N0NitQ_4f5kzKGYE_GbdAE&s',\n",
              " 'https://encrypted-tbn0.gstatic.com/images?q=tbn:ANd9GcSoX6iBgYBBBGVXfCQpeO1G7UTrkzL_cAN_doFnsfGMdsKe8LC664vC0-snONo&s',\n",
              " 'https://encrypted-tbn0.gstatic.com/images?q=tbn:ANd9GcQ1Y5NoECqbK3-ppzJc3sRzT0Q401Cd6kiHJylzlySopo0v_obMw-Euo-P2Qq0&s',\n",
              " 'https://encrypted-tbn0.gstatic.com/images?q=tbn:ANd9GcSf5ppc3b_qjUULs_fvR8C0g8eIewlZ284aqYEP_JiZKigtg8Y9rVsJU8kM-XA&s',\n",
              " 'https://encrypted-tbn0.gstatic.com/images?q=tbn:ANd9GcRDsc3v7ojIF3vfrkv4IQlhNmBMPEgljfU25W0K11vV17iXpHmKGhy2tthnvYE&s',\n",
              " 'https://encrypted-tbn0.gstatic.com/images?q=tbn:ANd9GcQp4-YePliYW3GjytHCyVlaae7uyRVNi19earCZjDtRlmzd14aQdINppE8nWA&s',\n",
              " 'https://encrypted-tbn0.gstatic.com/images?q=tbn:ANd9GcTM4bsRPYKDZOJcXkJXdGY3AK2ApVmv6dNJqPQJ9eUBTrAsU-c9HY6ZaAnOaoo&s',\n",
              " 'https://encrypted-tbn0.gstatic.com/images?q=tbn:ANd9GcSh9QX9R7ow-XLto30ynPWMN2-TwSJldoahXBWsWXiTmUzV_hWSqoK7Fh_FNg&s',\n",
              " 'https://encrypted-tbn0.gstatic.com/images?q=tbn:ANd9GcR3McPnOO-ELI8sEWBp1587TzzeTzPhB_17Tyj3a8Tp7gXSRu_qoFkig2CJJUA&s',\n",
              " 'https://encrypted-tbn0.gstatic.com/images?q=tbn:ANd9GcSlVHJY5WfVnqFWUOFb7bdXkqYjRUh_l4PCgOODw58xlUPf4H2ElsaR1RonYO0&s',\n",
              " 'https://encrypted-tbn0.gstatic.com/images?q=tbn:ANd9GcSeE6PWEwo1g09cCN5DiKp-XpcR1QQu3-0Bzb2chS2jq54xMtBFluoC3uxPnA&s',\n",
              " 'https://encrypted-tbn0.gstatic.com/images?q=tbn:ANd9GcQs5rtQ8LHDBO7EEOsg3iHS7DfdIntpiHhjzSo9dI9ZHCGUoknP1tywtqGzzIk&s',\n",
              " 'https://encrypted-tbn0.gstatic.com/images?q=tbn:ANd9GcSekwDEwp0d5-AUTWLcNu63Y1HQBY1HnamxXzk0dQDOwL05FTDf5QXg-S6P_BU&s',\n",
              " 'https://encrypted-tbn0.gstatic.com/images?q=tbn:ANd9GcTFjs9_7RHNPWWuag43rtE0hOHVhl6GqoQbTp4cL_tKzjaJBHhHiCDtDyBAcQw&s',\n",
              " 'https://encrypted-tbn0.gstatic.com/images?q=tbn:ANd9GcQA7mx1DUW3ysqPgMaXoojgwbCIHSN6NazRTipY3Jn5BgX3Yz2W9xk2hhFui9U&s']"
            ]
          },
          "metadata": {},
          "execution_count": 30
        }
      ]
    },
    {
      "cell_type": "code",
      "source": [
        "### comprehension\n",
        "images_source=[item for item in images_source if item.startswith(\"https\")]\n",
        "images_source"
      ],
      "metadata": {
        "id": "AGBPBIO1ZCxC",
        "colab": {
          "base_uri": "https://localhost:8080/"
        },
        "outputId": "53a65b32-1841-4f62-fe7d-decfb21eb81e"
      },
      "id": "AGBPBIO1ZCxC",
      "execution_count": 31,
      "outputs": [
        {
          "output_type": "execute_result",
          "data": {
            "text/plain": [
              "['https://encrypted-tbn0.gstatic.com/images?q=tbn:ANd9GcRzp-idiQcUXW2G806ZB3wYLAnr4r_jmBPjBczkDB6q4hXheU8dZ5bSMeGGPR8&s',\n",
              " 'https://encrypted-tbn0.gstatic.com/images?q=tbn:ANd9GcTQaZcZulkIlxkZ1xH_08AvxudMQNZaKFOYa8_frMjjL1FtVf1QhqRSx3X0zA&s',\n",
              " 'https://encrypted-tbn0.gstatic.com/images?q=tbn:ANd9GcTl-gvh-CJ1FHV_UfzCZSHBKCtiAKsWjwpjp26luRdEsSgoKIT0RAw1UJkxHg&s',\n",
              " 'https://encrypted-tbn0.gstatic.com/images?q=tbn:ANd9GcT2RKe5rDTPiKsGDeUrcNrO0irJVCN7YTFZ1RVHWQ1hJqEhbln4uBufireedFE&s',\n",
              " 'https://encrypted-tbn0.gstatic.com/images?q=tbn:ANd9GcQHtpD7aBU3eVNs6xp01BIpm0xjHBqY3vkpl25nkWUG8hzzySoH4WhxBN0lcgk&s',\n",
              " 'https://encrypted-tbn0.gstatic.com/images?q=tbn:ANd9GcSB0UpctZDL4WBlAre3YKX20_bmOBJ8DjczOQ7l_N0NitQ_4f5kzKGYE_GbdAE&s',\n",
              " 'https://encrypted-tbn0.gstatic.com/images?q=tbn:ANd9GcSoX6iBgYBBBGVXfCQpeO1G7UTrkzL_cAN_doFnsfGMdsKe8LC664vC0-snONo&s',\n",
              " 'https://encrypted-tbn0.gstatic.com/images?q=tbn:ANd9GcQ1Y5NoECqbK3-ppzJc3sRzT0Q401Cd6kiHJylzlySopo0v_obMw-Euo-P2Qq0&s',\n",
              " 'https://encrypted-tbn0.gstatic.com/images?q=tbn:ANd9GcSf5ppc3b_qjUULs_fvR8C0g8eIewlZ284aqYEP_JiZKigtg8Y9rVsJU8kM-XA&s',\n",
              " 'https://encrypted-tbn0.gstatic.com/images?q=tbn:ANd9GcRDsc3v7ojIF3vfrkv4IQlhNmBMPEgljfU25W0K11vV17iXpHmKGhy2tthnvYE&s',\n",
              " 'https://encrypted-tbn0.gstatic.com/images?q=tbn:ANd9GcQp4-YePliYW3GjytHCyVlaae7uyRVNi19earCZjDtRlmzd14aQdINppE8nWA&s',\n",
              " 'https://encrypted-tbn0.gstatic.com/images?q=tbn:ANd9GcTM4bsRPYKDZOJcXkJXdGY3AK2ApVmv6dNJqPQJ9eUBTrAsU-c9HY6ZaAnOaoo&s',\n",
              " 'https://encrypted-tbn0.gstatic.com/images?q=tbn:ANd9GcSh9QX9R7ow-XLto30ynPWMN2-TwSJldoahXBWsWXiTmUzV_hWSqoK7Fh_FNg&s',\n",
              " 'https://encrypted-tbn0.gstatic.com/images?q=tbn:ANd9GcR3McPnOO-ELI8sEWBp1587TzzeTzPhB_17Tyj3a8Tp7gXSRu_qoFkig2CJJUA&s',\n",
              " 'https://encrypted-tbn0.gstatic.com/images?q=tbn:ANd9GcSlVHJY5WfVnqFWUOFb7bdXkqYjRUh_l4PCgOODw58xlUPf4H2ElsaR1RonYO0&s',\n",
              " 'https://encrypted-tbn0.gstatic.com/images?q=tbn:ANd9GcSeE6PWEwo1g09cCN5DiKp-XpcR1QQu3-0Bzb2chS2jq54xMtBFluoC3uxPnA&s',\n",
              " 'https://encrypted-tbn0.gstatic.com/images?q=tbn:ANd9GcQs5rtQ8LHDBO7EEOsg3iHS7DfdIntpiHhjzSo9dI9ZHCGUoknP1tywtqGzzIk&s',\n",
              " 'https://encrypted-tbn0.gstatic.com/images?q=tbn:ANd9GcSekwDEwp0d5-AUTWLcNu63Y1HQBY1HnamxXzk0dQDOwL05FTDf5QXg-S6P_BU&s',\n",
              " 'https://encrypted-tbn0.gstatic.com/images?q=tbn:ANd9GcTFjs9_7RHNPWWuag43rtE0hOHVhl6GqoQbTp4cL_tKzjaJBHhHiCDtDyBAcQw&s',\n",
              " 'https://encrypted-tbn0.gstatic.com/images?q=tbn:ANd9GcQA7mx1DUW3ysqPgMaXoojgwbCIHSN6NazRTipY3Jn5BgX3Yz2W9xk2hhFui9U&s']"
            ]
          },
          "metadata": {},
          "execution_count": 31
        }
      ]
    },
    {
      "cell_type": "code",
      "source": [
        "## Define path\n",
        "path=os.getcwd()"
      ],
      "metadata": {
        "id": "QC9GCRQAaPhi"
      },
      "id": "QC9GCRQAaPhi",
      "execution_count": 32,
      "outputs": []
    },
    {
      "cell_type": "code",
      "source": [
        "path"
      ],
      "metadata": {
        "colab": {
          "base_uri": "https://localhost:8080/",
          "height": 35
        },
        "id": "lX0TYpEgsYZs",
        "outputId": "3eda78e8-2a04-43c2-a89b-167a8a6ad29e"
      },
      "id": "lX0TYpEgsYZs",
      "execution_count": 33,
      "outputs": [
        {
          "output_type": "execute_result",
          "data": {
            "text/plain": [
              "'/content'"
            ],
            "application/vnd.google.colaboratory.intrinsic+json": {
              "type": "string"
            }
          },
          "metadata": {},
          "execution_count": 33
        }
      ]
    },
    {
      "cell_type": "code",
      "source": [
        "## Create directory\n",
        "path=os.path.join(path, search_term+\"lecture\")\n",
        "path"
      ],
      "metadata": {
        "id": "FBddBMDXaPfL",
        "colab": {
          "base_uri": "https://localhost:8080/",
          "height": 35
        },
        "outputId": "b5935155-87fc-495a-f0cb-aeca807a8c5b"
      },
      "id": "FBddBMDXaPfL",
      "execution_count": 34,
      "outputs": [
        {
          "output_type": "execute_result",
          "data": {
            "text/plain": [
              "'/content/Michigan Techlecture'"
            ],
            "application/vnd.google.colaboratory.intrinsic+json": {
              "type": "string"
            }
          },
          "metadata": {},
          "execution_count": 34
        }
      ]
    },
    {
      "cell_type": "code",
      "source": [
        "os.mkdir(path)"
      ],
      "metadata": {
        "id": "NxfobSQVzjv0"
      },
      "id": "NxfobSQVzjv0",
      "execution_count": 35,
      "outputs": []
    },
    {
      "cell_type": "code",
      "source": [
        "## save images\n",
        "counter=0\n",
        "for src in images_source:\n",
        "  file_name=os.path.join(path,search_term+\"_\"+str(counter)+\".jpg\")\n",
        "  wget.download(src, file_name)\n",
        "  counter+=1\n",
        "\n",
        ""
      ],
      "metadata": {
        "id": "5IFKUAN1aPcq"
      },
      "id": "5IFKUAN1aPcq",
      "execution_count": 37,
      "outputs": []
    },
    {
      "cell_type": "code",
      "source": [],
      "metadata": {
        "id": "USvC7DlXaf7U"
      },
      "id": "USvC7DlXaf7U",
      "execution_count": null,
      "outputs": []
    },
    {
      "cell_type": "code",
      "source": [],
      "metadata": {
        "id": "FpLDd_Bsaf2p"
      },
      "id": "FpLDd_Bsaf2p",
      "execution_count": null,
      "outputs": []
    },
    {
      "cell_type": "code",
      "source": [],
      "metadata": {
        "id": "zREcM7PKbQi1"
      },
      "id": "zREcM7PKbQi1",
      "execution_count": null,
      "outputs": []
    },
    {
      "cell_type": "code",
      "source": [],
      "metadata": {
        "id": "wGs_9lYUbQgF"
      },
      "id": "wGs_9lYUbQgF",
      "execution_count": null,
      "outputs": []
    },
    {
      "cell_type": "code",
      "source": [],
      "metadata": {
        "id": "ldNchT3mbQdK"
      },
      "id": "ldNchT3mbQdK",
      "execution_count": null,
      "outputs": []
    },
    {
      "cell_type": "code",
      "source": [],
      "metadata": {
        "id": "AYe8H8p5bQXq"
      },
      "id": "AYe8H8p5bQXq",
      "execution_count": null,
      "outputs": []
    },
    {
      "cell_type": "code",
      "source": [],
      "metadata": {
        "id": "2LUZsNb_bQVK"
      },
      "id": "2LUZsNb_bQVK",
      "execution_count": null,
      "outputs": []
    },
    {
      "cell_type": "code",
      "source": [],
      "metadata": {
        "id": "Xw_HpTH7bQSy"
      },
      "id": "Xw_HpTH7bQSy",
      "execution_count": null,
      "outputs": []
    },
    {
      "cell_type": "code",
      "source": [],
      "metadata": {
        "id": "3HlsX-BObQQL"
      },
      "id": "3HlsX-BObQQL",
      "execution_count": null,
      "outputs": []
    },
    {
      "cell_type": "code",
      "execution_count": null,
      "id": "b804b635",
      "metadata": {
        "id": "b804b635"
      },
      "outputs": [],
      "source": []
    }
  ],
  "metadata": {
    "kernelspec": {
      "display_name": "Python 3 (ipykernel)",
      "language": "python",
      "name": "python3"
    },
    "language_info": {
      "codemirror_mode": {
        "name": "ipython",
        "version": 3
      },
      "file_extension": ".py",
      "mimetype": "text/x-python",
      "name": "python",
      "nbconvert_exporter": "python",
      "pygments_lexer": "ipython3",
      "version": "3.7.11"
    },
    "colab": {
      "provenance": []
    }
  },
  "nbformat": 4,
  "nbformat_minor": 5
}