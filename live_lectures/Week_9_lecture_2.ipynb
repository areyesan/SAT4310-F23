{
  "nbformat": 4,
  "nbformat_minor": 0,
  "metadata": {
    "colab": {
      "provenance": []
    },
    "kernelspec": {
      "name": "python3",
      "display_name": "Python 3"
    },
    "language_info": {
      "name": "python"
    }
  },
  "cells": [
    {
      "cell_type": "markdown",
      "source": [
        "# **Python Optimization**"
      ],
      "metadata": {
        "id": "BbJ-95zzWxjA"
      }
    },
    {
      "cell_type": "markdown",
      "source": [
        "## Method 1: Python time module\n",
        "\n",
        "+ Time in Python is easy to implement and it can be used anywhere in a program to measure the execution time.  \n",
        "+ Import: import time\n",
        "\n",
        "```python\n",
        "# importing time module\n",
        "import time\n",
        "\n",
        "start = time.time()\n",
        "mylist = list(range(100000000))\n",
        "print(\"% s seconds\" % (time.time() - start))\n",
        "```"
      ],
      "metadata": {
        "id": "xIyGK2ShW3X4"
      }
    },
    {
      "cell_type": "code",
      "source": [
        "import sys\n",
        "print(sys.version)"
      ],
      "metadata": {
        "colab": {
          "base_uri": "https://localhost:8080/"
        },
        "id": "E5QCY0pzYRGG",
        "outputId": "f3fbef44-c56c-4174-9dd4-52ffa4d54fc0"
      },
      "execution_count": 6,
      "outputs": [
        {
          "output_type": "stream",
          "name": "stdout",
          "text": [
            "3.10.12 (main, Jun 11 2023, 05:26:28) [GCC 11.4.0]\n"
          ]
        }
      ]
    },
    {
      "cell_type": "code",
      "execution_count": 8,
      "metadata": {
        "colab": {
          "base_uri": "https://localhost:8080/"
        },
        "id": "pGNZ5MC7NxZY",
        "outputId": "c22f782f-efda-4f00-a2b0-7daa46acbe70"
      },
      "outputs": [
        {
          "output_type": "stream",
          "name": "stdout",
          "text": [
            "3.480947494506836 seconds\n"
          ]
        }
      ],
      "source": [
        "# importing time module\n",
        "import time\n",
        "\n",
        "start = time.time()\n",
        "mylist = list(range(100_000_000))\n",
        "print(\"% s seconds\" % (time.time() - start))"
      ]
    },
    {
      "cell_type": "markdown",
      "source": [
        "## **Method 2: Python cProfile**\n",
        "\n",
        "+ Measure the execution time of a program.\n",
        "+ The cProfiler deterministic profiling of Python programs.\n",
        "+ makes it suitable for profiling long-running programs.\n",
        "\n",
        "```python\n",
        "import cProfile\n",
        "\n",
        "def cal_sqr():\n",
        "    array = np.array([random.randint(1,100) for i in range(1000)])\n",
        "    sqr_ar = [np.sqrt(x) for x in array]\n",
        "    return sqr_ar\n",
        "\n",
        "cProfile.run('cal_sqr()')\n",
        "```\n"
      ],
      "metadata": {
        "id": "ftijg2DAXEZX"
      }
    },
    {
      "cell_type": "code",
      "source": [
        "import cProfile\n",
        "import numpy as np\n",
        "import random\n",
        "\n",
        "\n",
        "def sum():\n",
        "  a=np.array([random.randint(1,100) for i in range(1000)])\n",
        "  b=np.array([random.randint(1,100) for i in range(1000)])\n",
        "  #print(a)\n",
        "  #print(b)\n",
        "  c=a+b\n",
        "  return c\n",
        "\n",
        "cProfile.run('sum()')\n"
      ],
      "metadata": {
        "colab": {
          "base_uri": "https://localhost:8080/"
        },
        "id": "fBb1SvJwXVpA",
        "outputId": "089ef928-a997-4319-ecf9-2237c0c3e733"
      },
      "execution_count": 9,
      "outputs": [
        {
          "output_type": "stream",
          "name": "stdout",
          "text": [
            "         16610 function calls in 0.015 seconds\n",
            "\n",
            "   Ordered by: standard name\n",
            "\n",
            "   ncalls  tottime  percall  cumtime  percall filename:lineno(function)\n",
            "        1    0.003    0.003    0.015    0.015 <ipython-input-9-fd097dedf2ee>:6(sum)\n",
            "        1    0.001    0.001    0.008    0.008 <ipython-input-9-fd097dedf2ee>:7(<listcomp>)\n",
            "        1    0.000    0.000    0.003    0.003 <ipython-input-9-fd097dedf2ee>:8(<listcomp>)\n",
            "        1    0.000    0.000    0.015    0.015 <string>:1(<module>)\n",
            "     2000    0.003    0.000    0.003    0.000 random.py:239(_randbelow_with_getrandbits)\n",
            "     2000    0.006    0.000    0.009    0.000 random.py:292(randrange)\n",
            "     2000    0.001    0.000    0.010    0.000 random.py:366(randint)\n",
            "     6000    0.001    0.000    0.001    0.000 {built-in method _operator.index}\n",
            "        1    0.000    0.000    0.015    0.015 {built-in method builtins.exec}\n",
            "        2    0.000    0.000    0.000    0.000 {built-in method numpy.array}\n",
            "     2000    0.000    0.000    0.000    0.000 {method 'bit_length' of 'int' objects}\n",
            "        1    0.000    0.000    0.000    0.000 {method 'disable' of '_lsprof.Profiler' objects}\n",
            "     2602    0.000    0.000    0.000    0.000 {method 'getrandbits' of '_random.Random' objects}\n",
            "\n",
            "\n"
          ]
        }
      ]
    },
    {
      "cell_type": "code",
      "source": [
        "def cal_sqr():\n",
        "    array = np.array([random.randint(1,100) for i in range(1000)])\n",
        "    sqr_ar = [np.sqrt(x) for x in array]\n",
        "    return sqr_ar\n",
        "\n",
        "cProfile.run('cal_sqr()')\n"
      ],
      "metadata": {
        "colab": {
          "base_uri": "https://localhost:8080/"
        },
        "id": "n-Gfipr4oyvK",
        "outputId": "43b09b8c-4c33-4fa6-9eb3-db5946924f32"
      },
      "execution_count": 10,
      "outputs": [
        {
          "output_type": "stream",
          "name": "stdout",
          "text": [
            "         8295 function calls in 0.007 seconds\n",
            "\n",
            "   Ordered by: standard name\n",
            "\n",
            "   ncalls  tottime  percall  cumtime  percall filename:lineno(function)\n",
            "        1    0.000    0.000    0.007    0.007 <ipython-input-10-480f4c9e3631>:1(cal_sqr)\n",
            "        1    0.000    0.000    0.004    0.004 <ipython-input-10-480f4c9e3631>:2(<listcomp>)\n",
            "        1    0.003    0.003    0.003    0.003 <ipython-input-10-480f4c9e3631>:3(<listcomp>)\n",
            "        1    0.000    0.000    0.007    0.007 <string>:1(<module>)\n",
            "     1000    0.001    0.000    0.001    0.000 random.py:239(_randbelow_with_getrandbits)\n",
            "     1000    0.002    0.000    0.003    0.000 random.py:292(randrange)\n",
            "     1000    0.000    0.000    0.004    0.000 random.py:366(randint)\n",
            "     3000    0.000    0.000    0.000    0.000 {built-in method _operator.index}\n",
            "        1    0.000    0.000    0.007    0.007 {built-in method builtins.exec}\n",
            "        1    0.000    0.000    0.000    0.000 {built-in method numpy.array}\n",
            "     1000    0.000    0.000    0.000    0.000 {method 'bit_length' of 'int' objects}\n",
            "        1    0.000    0.000    0.000    0.000 {method 'disable' of '_lsprof.Profiler' objects}\n",
            "     1288    0.000    0.000    0.000    0.000 {method 'getrandbits' of '_random.Random' objects}\n",
            "\n",
            "\n"
          ]
        }
      ]
    },
    {
      "cell_type": "code",
      "source": [],
      "metadata": {
        "id": "2RBA9uxUqLLb"
      },
      "execution_count": null,
      "outputs": []
    },
    {
      "cell_type": "markdown",
      "source": [
        "## **Opt. Method**"
      ],
      "metadata": {
        "id": "ZeZumXrfqMAZ"
      }
    },
    {
      "cell_type": "code",
      "source": [
        "!pip install line_profiler"
      ],
      "metadata": {
        "colab": {
          "base_uri": "https://localhost:8080/"
        },
        "id": "yskcRnyMqT7l",
        "outputId": "b6cb192a-7f94-4a6e-9104-0b9d876fbebf"
      },
      "execution_count": 12,
      "outputs": [
        {
          "output_type": "stream",
          "name": "stdout",
          "text": [
            "Collecting line_profiler\n",
            "  Downloading line_profiler-4.1.1-cp310-cp310-manylinux_2_17_x86_64.manylinux2014_x86_64.whl (709 kB)\n",
            "\u001b[?25l     \u001b[90m━━━━━━━━━━━━━━━━━━━━━━━━━━━━━━━━━━━━━━━━\u001b[0m \u001b[32m0.0/709.4 kB\u001b[0m \u001b[31m?\u001b[0m eta \u001b[36m-:--:--\u001b[0m\r\u001b[2K     \u001b[91m━━━━━━\u001b[0m\u001b[91m╸\u001b[0m\u001b[90m━━━━━━━━━━━━━━━━━━━━━━━━━━━━━━━━━\u001b[0m \u001b[32m122.9/709.4 kB\u001b[0m \u001b[31m3.4 MB/s\u001b[0m eta \u001b[36m0:00:01\u001b[0m\r\u001b[2K     \u001b[91m━━━━━━━━━━━━━━━━━━━━━━━━━━━━━━━━━━━━━━━\u001b[0m\u001b[91m╸\u001b[0m \u001b[32m706.6/709.4 kB\u001b[0m \u001b[31m11.5 MB/s\u001b[0m eta \u001b[36m0:00:01\u001b[0m\r\u001b[2K     \u001b[90m━━━━━━━━━━━━━━━━━━━━━━━━━━━━━━━━━━━━━━━━\u001b[0m \u001b[32m709.4/709.4 kB\u001b[0m \u001b[31m9.5 MB/s\u001b[0m eta \u001b[36m0:00:00\u001b[0m\n",
            "\u001b[?25hInstalling collected packages: line_profiler\n",
            "Successfully installed line_profiler-4.1.1\n"
          ]
        }
      ]
    },
    {
      "cell_type": "code",
      "source": [
        "from line_profiler import LineProfiler\n",
        "import random\n",
        "import numpy as np\n",
        "\n",
        "def cal_sqr(array):\n",
        "    sqr_ar = [np.sqrt(x) for x in array]\n",
        "    return sqr_ar\n",
        "\n",
        "arr = np.array([random.randint(1,100) for i in range(1000)])\n",
        "lp = LineProfiler()\n",
        "lp_wrapper = lp(cal_sqr)\n",
        "lp_wrapper(arr)\n",
        "lp.print_stats()\n"
      ],
      "metadata": {
        "colab": {
          "base_uri": "https://localhost:8080/"
        },
        "id": "yrWERdGeqK-y",
        "outputId": "2622342e-cdff-43df-ad1e-3ae2c682b464"
      },
      "execution_count": 13,
      "outputs": [
        {
          "output_type": "stream",
          "name": "stdout",
          "text": [
            "Timer unit: 1e-09 s\n",
            "\n",
            "Total time: 0.00276957 s\n",
            "File: <ipython-input-13-285ae0fc6999>\n",
            "Function: cal_sqr at line 5\n",
            "\n",
            "Line #      Hits         Time  Per Hit   % Time  Line Contents\n",
            "==============================================================\n",
            "     5                                           def cal_sqr(array):\n",
            "     6         1    2769052.0    3e+06    100.0      sqr_ar = [np.sqrt(x) for x in array]\n",
            "     7         1        520.0    520.0      0.0      return sqr_ar\n",
            "\n"
          ]
        }
      ]
    },
    {
      "cell_type": "markdown",
      "source": [
        "# **Use the right algorithms and data structures**\n"
      ],
      "metadata": {
        "id": "EkzTLZskrGaZ"
      }
    },
    {
      "cell_type": "markdown",
      "source": [
        "+ One of the most effective ways of improving the performance of applications is via the use of better algorithms and data structures.\n",
        "+ The Python standard library provides such algorithms and data structures that can be used and utilized in your applications.\n",
        "+ In this module, you will learn\n",
        " + to achieve better scaling using standard algorithms and data structures.\n"
      ],
      "metadata": {
        "id": "yVvlYySO1AE1"
      }
    },
    {
      "cell_type": "code",
      "source": [
        "mylist = list(range(1_000_000))\n",
        "len(mylist)"
      ],
      "metadata": {
        "id": "qoqpM0_r20wo",
        "colab": {
          "base_uri": "https://localhost:8080/"
        },
        "outputId": "0ea74aaa-5ec0-4186-891c-47f83d3687f9"
      },
      "execution_count": 14,
      "outputs": [
        {
          "output_type": "execute_result",
          "data": {
            "text/plain": [
              "1000000"
            ]
          },
          "metadata": {},
          "execution_count": 14
        }
      ]
    },
    {
      "cell_type": "code",
      "source": [
        "import time\n",
        "\n",
        "start = time.time()\n",
        "mylist.pop()\n",
        "print(\"% s seconds\" % (time.time() - start))\n",
        "\n",
        "start = time.time()\n",
        "mylist.pop(0)\n",
        "print(\"% s seconds\" % (time.time() - start))\n",
        "\n",
        "start = time.time()\n",
        "mylist.append(1)\n",
        "print(\"% s seconds\" % (time.time() - start))\n",
        "\n",
        "start = time.time()\n",
        "mylist.insert(0,1)\n",
        "print(\"% s seconds\" % (time.time() - start))"
      ],
      "metadata": {
        "colab": {
          "base_uri": "https://localhost:8080/"
        },
        "id": "Sp1IqTdFrJhn",
        "outputId": "229176cb-fd03-40e8-e14e-ced133141b67"
      },
      "execution_count": 15,
      "outputs": [
        {
          "output_type": "stream",
          "name": "stdout",
          "text": [
            "0.00021791458129882812 seconds\n",
            "0.0016705989837646484 seconds\n",
            "0.00011801719665527344 seconds\n",
            "0.002939939498901367 seconds\n"
          ]
        }
      ]
    },
    {
      "cell_type": "code",
      "source": [
        "mylist = list(range(2_000_000))\n",
        "len(mylist)"
      ],
      "metadata": {
        "colab": {
          "base_uri": "https://localhost:8080/"
        },
        "id": "X1h_u_uS3qLx",
        "outputId": "dfc7f4a2-1310-4d12-d02a-0ab078783816"
      },
      "execution_count": 16,
      "outputs": [
        {
          "output_type": "execute_result",
          "data": {
            "text/plain": [
              "2000000"
            ]
          },
          "metadata": {},
          "execution_count": 16
        }
      ]
    },
    {
      "cell_type": "code",
      "source": [
        "import time\n",
        "\n",
        "start = time.time()\n",
        "mylist.pop()\n",
        "print(\"% s seconds\" % (time.time() - start))\n",
        "\n",
        "start = time.time()\n",
        "mylist.pop(0)\n",
        "print(\"% s seconds\" % (time.time() - start))\n",
        "\n",
        "start = time.time()\n",
        "mylist.append(1)\n",
        "print(\"% s seconds\" % (time.time() - start))\n",
        "\n",
        "start = time.time()\n",
        "mylist.insert(0,1)\n",
        "print(\"% s seconds\" % (time.time() - start))"
      ],
      "metadata": {
        "colab": {
          "base_uri": "https://localhost:8080/"
        },
        "id": "SCcvi5zC31WX",
        "outputId": "a5450309-8c0b-40a6-d38e-4c2847677fd4"
      },
      "execution_count": 17,
      "outputs": [
        {
          "output_type": "stream",
          "name": "stdout",
          "text": [
            "0.00011086463928222656 seconds\n",
            "0.0018889904022216797 seconds\n",
            "0.00011706352233886719 seconds\n",
            "0.006110429763793945 seconds\n"
          ]
        }
      ]
    },
    {
      "cell_type": "code",
      "source": [
        "mylist = list(range(3_000_000))\n",
        "len(mylist)"
      ],
      "metadata": {
        "colab": {
          "base_uri": "https://localhost:8080/"
        },
        "id": "a9AbdXx3lO9a",
        "outputId": "83c3da56-5bca-4d41-9d58-6d10dbf74b09"
      },
      "execution_count": 18,
      "outputs": [
        {
          "output_type": "execute_result",
          "data": {
            "text/plain": [
              "3000000"
            ]
          },
          "metadata": {},
          "execution_count": 18
        }
      ]
    },
    {
      "cell_type": "code",
      "source": [
        "import time\n",
        "\n",
        "start = time.time()\n",
        "mylist.pop()\n",
        "print(\"% s seconds\" % (time.time() - start))\n",
        "\n",
        "start = time.time()\n",
        "mylist.pop(0)\n",
        "print(\"% s seconds\" % (time.time() - start))\n",
        "\n",
        "start = time.time()\n",
        "mylist.append(1)\n",
        "print(\"% s seconds\" % (time.time() - start))\n",
        "\n",
        "start = time.time()\n",
        "mylist.insert(0,1)\n",
        "print(\"% s seconds\" % (time.time() - start))"
      ],
      "metadata": {
        "colab": {
          "base_uri": "https://localhost:8080/"
        },
        "id": "S_PRCVoWlPll",
        "outputId": "ade102f9-14bb-4435-ee0d-73efc4e982bc"
      },
      "execution_count": 19,
      "outputs": [
        {
          "output_type": "stream",
          "name": "stdout",
          "text": [
            "0.0001785755157470703 seconds\n",
            "0.0030040740966796875 seconds\n",
            "0.00010991096496582031 seconds\n",
            "0.004586458206176758 seconds\n"
          ]
        }
      ]
    },
    {
      "cell_type": "code",
      "source": [
        "from collections import deque\n",
        "d = deque(list(range(1_000_000)))"
      ],
      "metadata": {
        "id": "NEc_4G1OlY5R"
      },
      "execution_count": 20,
      "outputs": []
    },
    {
      "cell_type": "code",
      "source": [
        "import time\n",
        "\n",
        "start = time.time()\n",
        "d.pop()\n",
        "print(\"% s seconds\" % (time.time() - start))\n",
        "\n",
        "start = time.time()\n",
        "d.popleft()\n",
        "print(\"% s seconds\" % (time.time() - start))\n",
        "\n",
        "start = time.time()\n",
        "d.append(5)\n",
        "print(\"% s seconds\" % (time.time() - start))\n",
        "\n",
        "start = time.time()\n",
        "d.appendleft(5)\n",
        "print(\"% s seconds\" % (time.time() - start))\n",
        "\n"
      ],
      "metadata": {
        "colab": {
          "base_uri": "https://localhost:8080/"
        },
        "id": "ltPlcnqWlY2U",
        "outputId": "ec36a2cb-a13d-4654-a249-f3eddf1a3c77"
      },
      "execution_count": 21,
      "outputs": [
        {
          "output_type": "stream",
          "name": "stdout",
          "text": [
            "0.00010824203491210938 seconds\n",
            "0.00012421607971191406 seconds\n",
            "0.00010251998901367188 seconds\n",
            "0.0001049041748046875 seconds\n"
          ]
        }
      ]
    },
    {
      "cell_type": "code",
      "source": [
        "from collections import deque\n",
        "d = deque(list(range(2_000_000)))"
      ],
      "metadata": {
        "id": "1ZTtKMValYjz"
      },
      "execution_count": 22,
      "outputs": []
    },
    {
      "cell_type": "code",
      "source": [
        "import time\n",
        "\n",
        "start = time.time()\n",
        "d.pop()\n",
        "print(\"% s seconds\" % (time.time() - start))\n",
        "\n",
        "start = time.time()\n",
        "d.popleft()\n",
        "print(\"% s seconds\" % (time.time() - start))\n",
        "\n",
        "start = time.time()\n",
        "d.append(5)\n",
        "print(\"% s seconds\" % (time.time() - start))\n",
        "\n",
        "start = time.time()\n",
        "d.appendleft(5)\n",
        "print(\"% s seconds\" % (time.time() - start))\n",
        "\n",
        "\n"
      ],
      "metadata": {
        "colab": {
          "base_uri": "https://localhost:8080/"
        },
        "id": "7n-LnkoKlYVD",
        "outputId": "c91698d1-3b14-473a-9e14-e6ab2c8cd3bc"
      },
      "execution_count": 23,
      "outputs": [
        {
          "output_type": "stream",
          "name": "stdout",
          "text": [
            "9.632110595703125e-05 seconds\n",
            "0.00011014938354492188 seconds\n",
            "0.000118255615234375 seconds\n",
            "0.00011038780212402344 seconds\n"
          ]
        }
      ]
    },
    {
      "cell_type": "code",
      "source": [
        "from collections import deque\n",
        "d = deque(list(range(3_000_000)))"
      ],
      "metadata": {
        "id": "BBNq54Ux34PZ"
      },
      "execution_count": 24,
      "outputs": []
    },
    {
      "cell_type": "code",
      "source": [
        "import time\n",
        "\n",
        "start = time.time()\n",
        "d.pop()\n",
        "print(\"% s seconds\" % (time.time() - start))\n",
        "\n",
        "start = time.time()\n",
        "d.popleft()\n",
        "print(\"% s seconds\" % (time.time() - start))\n",
        "\n",
        "start = time.time()\n",
        "d.append(5)\n",
        "print(\"% s seconds\" % (time.time() - start))\n",
        "\n",
        "start = time.time()\n",
        "d.appendleft(5)\n",
        "print(\"% s seconds\" % (time.time() - start))\n",
        "\n",
        "\n"
      ],
      "metadata": {
        "colab": {
          "base_uri": "https://localhost:8080/"
        },
        "id": "jyMMQgz634LL",
        "outputId": "930ff668-e716-41df-e6d3-ce2e0126b830"
      },
      "execution_count": 25,
      "outputs": [
        {
          "output_type": "stream",
          "name": "stdout",
          "text": [
            "7.43865966796875e-05 seconds\n",
            "0.0001201629638671875 seconds\n",
            "8.96453857421875e-05 seconds\n",
            "0.00010132789611816406 seconds\n"
          ]
        }
      ]
    },
    {
      "cell_type": "markdown",
      "source": [],
      "metadata": {
        "id": "vc4OjamVpaRq"
      }
    },
    {
      "cell_type": "code",
      "source": [
        "from time import time #importing time function from module time\n",
        "from collections import deque #importing deque from collections library\n",
        "nums_list = [1,2,3,4,5] # creating a list\n",
        "start = time()\n",
        "nums_list.append(6) #appending 6 at the beginning of the list\n",
        "end = time()\n",
        "print(\"Time taken to append an element at end of the list:\", end-start)\n",
        "nums_deque = deque([1,2,3,4,5]) # creating a deque\n",
        "start = time()\n",
        "nums_deque.append(6) #appending 6 at the beginning of the deque\n",
        "end = time()\n",
        "print(\"Time taken to append an element at end of the deque:\", end-start)"
      ],
      "metadata": {
        "id": "gYYmD4tT34Je",
        "colab": {
          "base_uri": "https://localhost:8080/"
        },
        "outputId": "7af18829-ce53-4a23-e988-0f698e45e802"
      },
      "execution_count": 26,
      "outputs": [
        {
          "output_type": "stream",
          "name": "stdout",
          "text": [
            "Time taken to append an element at end of the list: 4.649162292480469e-05\n",
            "Time taken to append an element at end of the deque: 5.745887756347656e-05\n"
          ]
        }
      ]
    },
    {
      "cell_type": "code",
      "source": [
        "from time import time #importing time function from module time\n",
        "from collections import deque #importing deque from collections library\n",
        "nums_list = [1,2,3,4,5] # creating a list\n",
        "start = time()\n",
        "nums_list.insert(0,0) #appending 0 at the beginning of the list\n",
        "end = time()\n",
        "print(\"Time taken to append an element at beginning of the list:\", end-start)\n",
        "nums_deque = deque([1,2,3,4,5]) # creating a deque\n",
        "start = time()\n",
        "nums_deque.appendleft(0) #appending 0 at the beginning of the deque\n",
        "end = time()\n",
        "print(\"Time taken to append an element at beginning of the deque:\", end-start)\n"
      ],
      "metadata": {
        "colab": {
          "base_uri": "https://localhost:8080/"
        },
        "id": "872sbjEValmQ",
        "outputId": "a9e6d279-a921-4ee5-b928-2df1cf940e49"
      },
      "execution_count": 27,
      "outputs": [
        {
          "output_type": "stream",
          "name": "stdout",
          "text": [
            "Time taken to append an element at beginning of the list: 9.5367431640625e-05\n",
            "Time taken to append an element at beginning of the deque: 8.726119995117188e-05\n"
          ]
        }
      ]
    },
    {
      "cell_type": "code",
      "source": [
        "from time import time #importing time function from module time\n",
        "from collections import deque #importing deque from collections library\n",
        "A_really_big_number=10**8\n",
        "nums_list = list(range(A_really_big_number)) # creating a list\n",
        "start = time()\n",
        "nums_list.insert(A_really_big_number//2,0) #appending at the middle of the list\n",
        "end = time()\n",
        "print(\"Time taken to append an element at middle of the list:\", end-start)\n",
        "nums_deque = deque(range(A_really_big_number)) # creating a deque\n",
        "start = time()\n",
        "nums_deque.insert(A_really_big_number//2,0) #appending at the middle of the deque\n",
        "end = time()\n",
        "print(\"Time taken to append an element at middle of the deque:\", end-start)\n"
      ],
      "metadata": {
        "colab": {
          "base_uri": "https://localhost:8080/",
          "height": 262
        },
        "id": "XMqZQHN6p6r6",
        "outputId": "e7fa97c9-e491-4fbc-9676-42d6007b788f"
      },
      "execution_count": 28,
      "outputs": [
        {
          "output_type": "stream",
          "name": "stdout",
          "text": [
            "Time taken to append an element at middle of the list: 0.07462596893310547\n"
          ]
        },
        {
          "output_type": "error",
          "ename": "KeyboardInterrupt",
          "evalue": "ignored",
          "traceback": [
            "\u001b[0;31m---------------------------------------------------------------------------\u001b[0m",
            "\u001b[0;31mKeyboardInterrupt\u001b[0m                         Traceback (most recent call last)",
            "\u001b[0;32m<ipython-input-28-9c3520cfbedf>\u001b[0m in \u001b[0;36m<cell line: 9>\u001b[0;34m()\u001b[0m\n\u001b[1;32m      7\u001b[0m \u001b[0mend\u001b[0m \u001b[0;34m=\u001b[0m \u001b[0mtime\u001b[0m\u001b[0;34m(\u001b[0m\u001b[0;34m)\u001b[0m\u001b[0;34m\u001b[0m\u001b[0;34m\u001b[0m\u001b[0m\n\u001b[1;32m      8\u001b[0m \u001b[0mprint\u001b[0m\u001b[0;34m(\u001b[0m\u001b[0;34m\"Time taken to append an element at middle of the list:\"\u001b[0m\u001b[0;34m,\u001b[0m \u001b[0mend\u001b[0m\u001b[0;34m-\u001b[0m\u001b[0mstart\u001b[0m\u001b[0;34m)\u001b[0m\u001b[0;34m\u001b[0m\u001b[0;34m\u001b[0m\u001b[0m\n\u001b[0;32m----> 9\u001b[0;31m \u001b[0mnums_deque\u001b[0m \u001b[0;34m=\u001b[0m \u001b[0mdeque\u001b[0m\u001b[0;34m(\u001b[0m\u001b[0mrange\u001b[0m\u001b[0;34m(\u001b[0m\u001b[0mA_really_big_number\u001b[0m\u001b[0;34m)\u001b[0m\u001b[0;34m)\u001b[0m \u001b[0;31m# creating a deque\u001b[0m\u001b[0;34m\u001b[0m\u001b[0;34m\u001b[0m\u001b[0m\n\u001b[0m\u001b[1;32m     10\u001b[0m \u001b[0mstart\u001b[0m \u001b[0;34m=\u001b[0m \u001b[0mtime\u001b[0m\u001b[0;34m(\u001b[0m\u001b[0;34m)\u001b[0m\u001b[0;34m\u001b[0m\u001b[0;34m\u001b[0m\u001b[0m\n\u001b[1;32m     11\u001b[0m \u001b[0mnums_deque\u001b[0m\u001b[0;34m.\u001b[0m\u001b[0minsert\u001b[0m\u001b[0;34m(\u001b[0m\u001b[0mA_really_big_number\u001b[0m\u001b[0;34m//\u001b[0m\u001b[0;36m2\u001b[0m\u001b[0;34m,\u001b[0m\u001b[0;36m0\u001b[0m\u001b[0;34m)\u001b[0m \u001b[0;31m#appending at the middle of the deque\u001b[0m\u001b[0;34m\u001b[0m\u001b[0;34m\u001b[0m\u001b[0m\n",
            "\u001b[0;31mKeyboardInterrupt\u001b[0m: "
          ]
        }
      ]
    },
    {
      "cell_type": "code",
      "source": [
        "from time import time #importing time function from module time\n",
        "from collections import deque #importing deque from collections library\n",
        "\n",
        "A_really_big_number=10**8\n",
        "nums_list = list(range(A_really_big_number)) # creating a list\n",
        "nums_deque = deque(range(A_really_big_number)) # creating a deque\n",
        "\n",
        "start = time()\n",
        "nums_list.pop(0) #popping from the start of the list\n",
        "end = time()\n",
        "print(\"Time taken to append an element at the start of the list:\", end-start)\n",
        "\n",
        "start = time()\n",
        "nums_deque.popleft() #popping from  the start of the deque\n",
        "end = time()\n",
        "print(\"Time taken to append an element at the start of the deque:\", end-start)\n",
        "\n",
        "start = time()\n",
        "nums_list.pop() #popping from the end of the list\n",
        "end = time()\n",
        "print(\"\\nTime taken to append an element at the end of the list:\", end-start)\n",
        "\n",
        "start = time()\n",
        "nums_deque.pop() #popping from the end of the deque\n",
        "end = time()\n",
        "print(\"Time taken to append an element at the end of the deque:\", end-start)\n"
      ],
      "metadata": {
        "colab": {
          "base_uri": "https://localhost:8080/"
        },
        "id": "_2TG92UkqLP6",
        "outputId": "8a75f77c-5600-4d15-f3e8-2aba9c990464"
      },
      "execution_count": 1,
      "outputs": [
        {
          "output_type": "stream",
          "name": "stdout",
          "text": [
            "Time taken to append an element at the start of the list: 0.08094477653503418\n",
            "Time taken to append an element at the start of the deque: 5.936622619628906e-05\n",
            "\n",
            "Time taken to append an element at the end of the list: 5.125999450683594e-05\n",
            "Time taken to append an element at the end of the deque: 7.915496826171875e-05\n"
          ]
        }
      ]
    },
    {
      "cell_type": "markdown",
      "source": [
        "# **Set vs Lists**"
      ],
      "metadata": {
        "id": "jfpZBtDBj3tw"
      }
    },
    {
      "cell_type": "code",
      "source": [
        "from timeit import timeit"
      ],
      "metadata": {
        "id": "FtgDOBCxal8W"
      },
      "execution_count": 29,
      "outputs": []
    },
    {
      "cell_type": "code",
      "source": [
        "my_list=list(range(10_000_000))\n",
        "my_set=set(range(10_000_000))"
      ],
      "metadata": {
        "id": "zGrOQG6Ear64"
      },
      "execution_count": 34,
      "outputs": []
    },
    {
      "cell_type": "code",
      "source": [
        "list_time=timeit('99_999 in my_list', number=100, globals=globals())\n",
        "print(f'List: {list_time:.7} seconds')"
      ],
      "metadata": {
        "colab": {
          "base_uri": "https://localhost:8080/"
        },
        "id": "d2wDNz2Ea1Ks",
        "outputId": "04fd1599-bf49-4727-9958-2e33b69a7b0e"
      },
      "execution_count": 35,
      "outputs": [
        {
          "output_type": "stream",
          "name": "stdout",
          "text": [
            "List: 0.1998947 seconds\n"
          ]
        }
      ]
    },
    {
      "cell_type": "code",
      "source": [
        "set_time=timeit('99_999 in my_set', number=100, globals=globals())\n",
        "print(f'List: {set_time:.7} seconds')"
      ],
      "metadata": {
        "colab": {
          "base_uri": "https://localhost:8080/"
        },
        "id": "ktgV1ZrubMvm",
        "outputId": "0e4a665e-1d34-4d21-ea5a-aeb40ef0bdb1"
      },
      "execution_count": 36,
      "outputs": [
        {
          "output_type": "stream",
          "name": "stdout",
          "text": [
            "List: 1.5587e-05 seconds\n"
          ]
        }
      ]
    },
    {
      "cell_type": "code",
      "source": [
        "speed_difference=(list_time-set_time)/list_time*100\n",
        "print(f'{speed_difference:.3f}% faster')"
      ],
      "metadata": {
        "colab": {
          "base_uri": "https://localhost:8080/"
        },
        "id": "FM-uOh2KbMro",
        "outputId": "7d083223-ebb2-4fb4-88b7-5355f03ef3e5"
      },
      "execution_count": 37,
      "outputs": [
        {
          "output_type": "stream",
          "name": "stdout",
          "text": [
            "99.992% faster\n"
          ]
        }
      ]
    },
    {
      "cell_type": "markdown",
      "source": [
        "**Why set is faster?**\n",
        "+ So basically a set uses a hashtable as its underlying data structure.\n",
        "+ This explains the O(1) membership checking, since looking up an item in a hashtable is an O(1) operation (constant time complexity), on average. List uses O(N).\n",
        "+ Set only allowed for UNIQUE elements.\n",
        "+ Set not preserve the order.\n"
      ],
      "metadata": {
        "id": "JdtgN4AqbvaW"
      }
    },
    {
      "cell_type": "code",
      "source": [],
      "metadata": {
        "id": "Kmd4_4H6bMk3"
      },
      "execution_count": null,
      "outputs": []
    },
    {
      "cell_type": "markdown",
      "source": [
        "# **Memoization**"
      ],
      "metadata": {
        "id": "BNHm0qJRjvlS"
      }
    },
    {
      "cell_type": "code",
      "source": [
        "from functools import wraps\n",
        "from time import perf_counter\n",
        "import sys"
      ],
      "metadata": {
        "id": "TsuEsC6af0q3"
      },
      "execution_count": 38,
      "outputs": []
    },
    {
      "cell_type": "code",
      "source": [
        "def fibonacci(n):\n",
        "  if n<2:\n",
        "    return n\n",
        "  return fibonacci(n-1)+fibonacci(n-2)\n"
      ],
      "metadata": {
        "id": "3585adQTfcNI"
      },
      "execution_count": 39,
      "outputs": []
    },
    {
      "cell_type": "code",
      "source": [
        "start=perf_counter()\n",
        "f=fibonacci(40)\n",
        "end=perf_counter()\n",
        "\n",
        "print(f)\n",
        "print(f'Time: {end - start} seconds')\n"
      ],
      "metadata": {
        "colab": {
          "base_uri": "https://localhost:8080/"
        },
        "id": "PRaV4aKefcJ_",
        "outputId": "2f4a9c21-d32b-4fb5-c9dc-44cd36a782f3"
      },
      "execution_count": 47,
      "outputs": [
        {
          "output_type": "stream",
          "name": "stdout",
          "text": [
            "102334155\n",
            "Time: 0.00015502400037803454 seconds\n"
          ]
        }
      ]
    },
    {
      "cell_type": "code",
      "source": [
        "def memoize(func):\n",
        "  cache={}\n",
        "  @wraps(func)\n",
        "  def wrapper(*args, **kwargs):\n",
        "    key=str(args)+str(kwargs)\n",
        "\n",
        "    if key not in cache:\n",
        "      cache[key]=func(*args, **kwargs)\n",
        "\n",
        "    return cache[key]\n",
        "\n",
        "  return wrapper"
      ],
      "metadata": {
        "id": "CHWiUQ3wgNvl"
      },
      "execution_count": 43,
      "outputs": []
    },
    {
      "cell_type": "code",
      "source": [
        "@memoize\n",
        "def fibonacci(n):\n",
        "  if n<2:\n",
        "    return n\n",
        "  return fibonacci(n-1)+fibonacci(n-2)"
      ],
      "metadata": {
        "id": "Ma9z6yNxh6Oz"
      },
      "execution_count": 44,
      "outputs": []
    },
    {
      "cell_type": "code",
      "source": [
        "sys.setrecursionlimit(10_000)\n",
        "start=perf_counter()\n",
        "f=fibonacci(2000)\n",
        "end=perf_counter()\n",
        "\n",
        "print(f)\n",
        "print(f'Time: {end - start} seconds')"
      ],
      "metadata": {
        "colab": {
          "base_uri": "https://localhost:8080/"
        },
        "id": "WqTOP5GpiGnQ",
        "outputId": "8daeddf2-c934-4f8f-9536-3e39e75fd88c"
      },
      "execution_count": 46,
      "outputs": [
        {
          "output_type": "stream",
          "name": "stdout",
          "text": [
            "4224696333392304878706725602341482782579852840250681098010280137314308584370130707224123599639141511088446087538909603607640194711643596029271983312598737326253555802606991585915229492453904998722256795316982874482472992263901833716778060607011615497886719879858311468870876264597369086722884023654422295243347964480139515349562972087652656069529806499841977448720155612802665404554171717881930324025204312082516817125\n",
            "Time: 1.2864788589995442 seconds\n"
          ]
        }
      ]
    },
    {
      "cell_type": "markdown",
      "source": [
        "+ **Memoization in python**: Memoization is a method used to store the results of previous function calls to speed up future calculations.\n",
        "+ **Decorators in python**: Decorators are a very powerful and useful tool in Python since it allows programmers to modify the behaviour of a function or class"
      ],
      "metadata": {
        "id": "lhLi290ajEdx"
      }
    },
    {
      "cell_type": "code",
      "source": [],
      "metadata": {
        "id": "foI3wkByjD-r"
      },
      "execution_count": null,
      "outputs": []
    },
    {
      "cell_type": "code",
      "source": [],
      "metadata": {
        "id": "WXqYOZybiH7c"
      },
      "execution_count": null,
      "outputs": []
    }
  ]
}