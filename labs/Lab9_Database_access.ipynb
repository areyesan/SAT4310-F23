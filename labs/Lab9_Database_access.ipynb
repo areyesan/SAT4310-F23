{
  "cells": [
    {
      "cell_type": "markdown",
      "id": "4e5a0f1a",
      "metadata": {
        "id": "4e5a0f1a"
      },
      "source": [
        "<h1><center>SAT 4310 Advanced Scripting Programming\n",
        "    <br>Lab 9: SQLite with Python</center></h1>\n",
        "\n",
        "<h3>\n",
        "<font color='blue'>\n",
        "    \n",
        "**Course Name** : SAT 4310 Advanced Scripting Programming\n",
        "\n",
        "**Semester**    : Fall 2023\n",
        "\n",
        "**Author**      : Your full name\n",
        "\n",
        "**Assignment**  : Lab X  (X will be replaced by the corresponding lab number)\n",
        "\n",
        "**Date**: mm/dd/yy\n",
        "\n",
        "</font>\n",
        "<h3>"
      ]
    },
    {
      "cell_type": "markdown",
      "id": "1d688bf5",
      "metadata": {
        "id": "1d688bf5"
      },
      "source": [
        "SQL (Structured Query Language) is a programming language used for managing databases, and is implemented in many database management systems such as MySQL.\n",
        "\n",
        "sqlite is a portable SQL tool that can be implemented with Python. SQLite3 comes with your python installation and is imported using the following command:"
      ]
    },
    {
      "cell_type": "code",
      "execution_count": null,
      "id": "81e34bbc",
      "metadata": {
        "id": "81e34bbc"
      },
      "outputs": [],
      "source": [
        "import sqlite3"
      ]
    },
    {
      "cell_type": "markdown",
      "id": "ec37486b",
      "metadata": {
        "id": "ec37486b"
      },
      "source": [
        "https://docs.python.org/3/library/sqlite3.html#module-sqlite3\n",
        "\n",
        "A sqlite database is stored within a portable file, and can be accessed by creating a reference using:\n",
        "conn = sql.connect(\"filename.db\")\n",
        "This command will create the file if it does not exist.\n",
        "\n",
        "### To close the connection, to ensure other processes can access the file, use conn.close()\n",
        "### Close your SQLite connection at the end of every exercise\n",
        "#### **NOTE:** If you get a \"database is locked\" error, restart your jupyter notebook process\n",
        "\n",
        "## **Excerise 1:** Create and connect to a database file named as your username.db, then close the connection"
      ]
    },
    {
      "cell_type": "code",
      "execution_count": null,
      "id": "f550cf47",
      "metadata": {
        "id": "f550cf47"
      },
      "outputs": [],
      "source": []
    },
    {
      "cell_type": "markdown",
      "id": "b2f2e909",
      "metadata": {
        "id": "b2f2e909"
      },
      "source": [
        "In sqlite, SQL commands are sent and pepared using a cursor, and results are also fetched using this cursor.\n",
        "\n",
        "To create a cursor, you can create a reference using:\n",
        "cur = conn.cursor()\n",
        "\n",
        "Commands are then executed using the cursor.execute(\"SQL STATEMENT\") method, and the results can be stored to a variable, and accessed using either the fetchone() method, which will display results one-at-a-time, or the fetchall() method, which will output all results in a list. This list can then be iterated through using a for loop.\n",
        "\n",
        "## **Excerise 2:** Connect to the included classes.db file, and display all results in the \"CLASSES\" table using a SELECT statement."
      ]
    },
    {
      "cell_type": "code",
      "execution_count": null,
      "id": "afd18670",
      "metadata": {
        "id": "afd18670"
      },
      "outputs": [],
      "source": []
    },
    {
      "cell_type": "markdown",
      "id": "402ab8ca",
      "metadata": {
        "id": "402ab8ca"
      },
      "source": [
        "A powerful benefit of utilizing the SQL language is the ability to do complex tasks, such as filtering for items or utilizing multiple tables. Combined with the flexibility of a scripting language, you are able to provide these capabilities in more ways to the user.\n",
        "\n",
        "## **Excerise 3:**\n",
        "\n",
        "Utilizing the classes.db table, utilize the WHERE clause to filter the classes displayed by the name of the instructor, which is to be provided using user input.\n",
        "\n",
        "Example:\n",
        "```\n",
        "Input an instructor name: Van Wagner\n",
        "('SAT', '2343', 'Van Wagner', 'Network Administration I')\n",
        "('SAT', '3200', 'Van Wagner', 'Storage Area Networking')\n",
        "('SAT', '4816', 'Van Wagner', 'Digital Forensics')\n",
        "('SAT', '5816', 'Van Wagner', 'Digital Forensics')\n",
        "```"
      ]
    },
    {
      "cell_type": "code",
      "execution_count": null,
      "id": "ed1c5bf2",
      "metadata": {
        "id": "ed1c5bf2"
      },
      "outputs": [],
      "source": []
    },
    {
      "cell_type": "markdown",
      "id": "795bdfd4",
      "metadata": {
        "id": "795bdfd4"
      },
      "source": [
        "You can also modify the database using the cusor object. Once you have made changes, you need to commit the changes.\n",
        "This is done using the conn.commit() method.\n",
        "\n",
        "## **Excerise 4:**\n",
        "\n",
        "Connect to your username.db file.\n",
        "\n",
        "Create a table named BOOKS, with columns named 'Title', 'Author', 'Year'.\n",
        "\n",
        "Utilize the INSERT INTO statement to add at least 3 different books into the table.\n",
        "\n",
        "Commit the changes\n",
        "\n",
        "\n",
        "You may use the following code block to reset your if you need. Replace \"username.db\" with your file name."
      ]
    },
    {
      "cell_type": "code",
      "execution_count": null,
      "id": "034468b6",
      "metadata": {
        "id": "034468b6"
      },
      "outputs": [],
      "source": [
        "import sqlite3\n",
        "conn = sqlite3.connect(\"username.db\")\n",
        "cur = conn.cursor()\n",
        "cur.execute(\"DROP TABLE IF EXISTS BOOKS\")\n",
        "conn.commit()\n",
        "conn.close()"
      ]
    },
    {
      "cell_type": "code",
      "execution_count": null,
      "id": "e1b2668c",
      "metadata": {
        "id": "e1b2668c"
      },
      "outputs": [],
      "source": []
    },
    {
      "cell_type": "markdown",
      "id": "62c34645",
      "metadata": {
        "id": "62c34645"
      },
      "source": [
        "A more effecient way to add multiple values is the cursor.executemany method and providing a list of tuples. For example:\n",
        "\n",
        "data = [(\"columnA1\", \"columnB1\"), (\"columnA2\", \"columnB2\")]\n",
        "\n",
        "\n",
        "https://docs.python.org/3/library/sqlite3.html#sqlite3.Cursor.executemany\n",
        "\n",
        "## **Excerise 5:** Utilize the execute many functionality to add 3 more books to your database."
      ]
    },
    {
      "cell_type": "code",
      "execution_count": null,
      "id": "3dc76196",
      "metadata": {
        "id": "3dc76196"
      },
      "outputs": [],
      "source": []
    },
    {
      "cell_type": "markdown",
      "source": [
        "---\n",
        "\n",
        "## **Exercise 6: uploading your work**\n",
        "\n",
        "1. Make sure your exercise notebook has the correct name: `<your LastName_FirstName>-lab-9.ipynb`. (You won't get credit for your hard work otherwise.)\n",
        "2. Right-click on that notebook and click ↓Download. Download the file to your computer. (This varies depending on your device, but save it somewhere easily accessible.)   \n",
        "3. Open [Canvas](https://mtu.instructure.com/) and log in.\n",
        "5. Go to the assignment for this week, hit submit, and upload your lab from your computer.\n",
        "\n",
        "---\n",
        "\n",
        "Good job, and see you next week."
      ],
      "metadata": {
        "id": "XmvWKeTxsTNp"
      },
      "id": "XmvWKeTxsTNp"
    }
  ],
  "metadata": {
    "kernelspec": {
      "display_name": "Python 3 (ipykernel)",
      "language": "python",
      "name": "python3"
    },
    "language_info": {
      "codemirror_mode": {
        "name": "ipython",
        "version": 3
      },
      "file_extension": ".py",
      "mimetype": "text/x-python",
      "name": "python",
      "nbconvert_exporter": "python",
      "pygments_lexer": "ipython3",
      "version": "3.9.12"
    },
    "colab": {
      "provenance": []
    }
  },
  "nbformat": 4,
  "nbformat_minor": 5
}