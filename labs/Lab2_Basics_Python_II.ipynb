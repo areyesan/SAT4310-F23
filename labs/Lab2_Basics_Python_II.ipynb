{
  "cells": [
    {
      "cell_type": "markdown",
      "metadata": {
        "id": "VuNF99eu8gv6"
      },
      "source": [
        "\n",
        "<h1><center>SAT 4310 Advanced Scripting Programming </center></h1>\n",
        "\n",
        "<h1><center>Lab 2: Basics Python II </center></h1>\n",
        "\n",
        "\n",
        "\n",
        "<h3>\n",
        "<font color='blue'>\n",
        "    \n",
        "**Course Name** : SAT 4310 Advanced Scripting Programming\n",
        "\n",
        "**Semester**    : Fall 2023\n",
        "\n",
        "**Author**      : Your full name\n",
        "\n",
        "**Date**: mm/dd/yy\n",
        "\n",
        "</font>\n",
        "<h3>"
      ]
    },
    {
      "cell_type": "markdown",
      "metadata": {
        "id": "IW8sz9nS8gv8"
      },
      "source": [
        "This notebook will help you practice some of the skills and concepts you learned in the Basics Python and Classes and Objects modules of the class:\n",
        "\n",
        "- Strings, Numbers\n",
        "- Variables\n",
        "- Lists, Sets, Dictionaries\n",
        "- Loops and list comprehensions\n",
        "- Control Flow\n",
        "- Functions\n",
        "- Classes\n",
        "- Packages/Modules\n",
        "- Debugging an error\n",
        "- Using documentation"
      ]
    },
    {
      "cell_type": "markdown",
      "source": [
        "## **Exercise 1: Randomly generate a list and check if the first and last number of the list is the same, if it is not same, swap their postions.**\n",
        "**Expected output:**\n",
        "\n",
        "```\n",
        "Original List: [11, 62, 75, 22, 24, 52, 47, 42, 21, 91]\n",
        "Modified List: [91, 62, 75, 22, 24, 52, 47, 42, 21, 11]\n",
        "```"
      ],
      "metadata": {
        "id": "oweyYMMHyJ85"
      }
    },
    {
      "cell_type": "code",
      "source": [
        "# your code here"
      ],
      "metadata": {
        "id": "vhuDB7icyC73"
      },
      "execution_count": null,
      "outputs": []
    },
    {
      "cell_type": "markdown",
      "source": [
        "## **Exercise 2: Print the following pattern**\n",
        "2\n",
        "\n",
        "4 4\n",
        "\n",
        "8 8 8\n",
        "\n",
        "16 16 16 16\n",
        "\n",
        "32 32 32 32 32"
      ],
      "metadata": {
        "id": "N-G1cUOyyRSk"
      }
    },
    {
      "cell_type": "code",
      "source": [
        "# your code here"
      ],
      "metadata": {
        "id": "rkdSrwaDyfYT"
      },
      "execution_count": null,
      "outputs": []
    },
    {
      "cell_type": "markdown",
      "source": [
        "## **Exercise 3: Write a Python Program to 1) ask a user to enter an integer greater than ten, 2) reverse its digit, 3) then use control statements to determine which integer is greater, i.e., original integer or reversed integer.**\n",
        "**Expected output:**\n",
        "\n",
        "```\n",
        "Original Integer: 1234\n",
        "Reversed ingeer: 4321\n",
        "Reversed integer is greater\n",
        "```"
      ],
      "metadata": {
        "id": "_XjPj3bFyf8L"
      }
    },
    {
      "cell_type": "code",
      "source": [
        "# your code here"
      ],
      "metadata": {
        "id": "mcW2LUoQylwf"
      },
      "execution_count": null,
      "outputs": []
    },
    {
      "cell_type": "markdown",
      "source": [
        "## **Exercise 4: Define a function named 'fibonacci' that can compute Fibonacci series, and then display Fibonacci series up to 20 terms.**\n",
        "hint: The Fibonacci series is an infinite series, starting from '0' and '1', in which every number in the series is the sum of two numbers preceding it in the series. For instance: 0, 1, 1, 2, 3, 5, 8, 13, 21, 34, 55, 89, etc.\n",
        "\n",
        "`Expected output: 0 1 1 2 3 5 8 13 21 34 55 89 144 233 377 610 987 1597 2584 4181`"
      ],
      "metadata": {
        "id": "Q_kUBpkRymS_"
      }
    },
    {
      "cell_type": "code",
      "source": [
        "# your code here"
      ],
      "metadata": {
        "id": "kg3fh7uLyrb1"
      },
      "execution_count": null,
      "outputs": []
    },
    {
      "cell_type": "markdown",
      "source": [
        "## **Exercise 5: Write a program to calculate the sum of series up to _n_ term. For example, if _n = 5_ the series**\n",
        "\n",
        "### will be `5+55+555+5555+55555 = 61725`."
      ],
      "metadata": {
        "id": "pzwlMfFbys7L"
      }
    },
    {
      "cell_type": "code",
      "source": [
        "# your code here"
      ],
      "metadata": {
        "id": "Jsrh_yJ2ytPJ"
      },
      "execution_count": null,
      "outputs": []
    },
    {
      "cell_type": "markdown",
      "source": [
        "## **Exercise 6: Randomly generate two lists contains 5 integers each from 1 to 100, and create a list by picking an odd-index items from the first list and even index items from the second.**  \n",
        "\n",
        "hint: Use random modules and [list slicing](https://www.geeksforgeeks.org/python-list-slicing/)\n",
        "\n",
        "**Expected output:**\n",
        "\n",
        "```\n",
        "[82, 22, 81, 79, 45]\n",
        "[64, 96, 57, 91, 24]\n",
        "Element at odd-index positions from list one\n",
        "[22, 79]\n",
        "Element at even-index positions from list two\n",
        "[64, 57, 24]\n",
        "Printing Final third list\n",
        "[22, 79, 64, 57, 24]\n",
        "```"
      ],
      "metadata": {
        "id": "qpUA5LZNy2sY"
      }
    },
    {
      "cell_type": "code",
      "source": [
        "# your code here"
      ],
      "metadata": {
        "id": "HyM-EIZxy3vB"
      },
      "execution_count": null,
      "outputs": []
    },
    {
      "cell_type": "markdown",
      "source": [
        "## **Exercise 7: Write a Python program to create a new dictionary by extracting the mentioned keys from the below dictionary.**\n",
        "```python\n",
        "my_dict = {\n",
        "    \"name\": 'Tesla car',\n",
        "    \n",
        "    \"model\": 'Model X',\n",
        "    \n",
        "    \"price\": '$80k',\n",
        "    \n",
        "    \"year\": 2022}\n",
        "```\n",
        "**Keys to extract:**\n",
        "\n",
        "keys = [\"name\", \"price\"]\n",
        "\n",
        "**Expected output:**\n",
        "```\n",
        "{'name': 'Tesla car', 'price': '$80k'}\n",
        "```"
      ],
      "metadata": {
        "id": "WpDoeBpfy8om"
      }
    },
    {
      "cell_type": "code",
      "source": [
        "# your code here"
      ],
      "metadata": {
        "id": "eqaMtWfDzDYJ"
      },
      "execution_count": null,
      "outputs": []
    },
    {
      "cell_type": "markdown",
      "source": [
        "## **Exercise 8:  Write a program to count the number of occurrences of even number from a tuple given below:**\n",
        "\n",
        "tuple1 = (55, 23, 7, 17, 8, 65, 3, 56, 31, 72, 52, 53, 95, 94, 40, 38, 20, 59, 71, 34)"
      ],
      "metadata": {
        "id": "ccTgnpYSzEuf"
      }
    },
    {
      "cell_type": "code",
      "source": [
        "# your code here"
      ],
      "metadata": {
        "id": "lQJy7e67zFdl"
      },
      "execution_count": null,
      "outputs": []
    },
    {
      "cell_type": "markdown",
      "metadata": {
        "id": "dACzg1Xr8gv8"
      },
      "source": [
        "## **Exercise 9: Here we have some data on the number of books read by different people who work at Bob's Book Emporium. Create Python code that loops through each of the people and prints out how many books they have read. If someone has read 0 books, print out \"___ has not read any books!\" instead of the number of books.**"
      ]
    },
    {
      "cell_type": "code",
      "execution_count": null,
      "metadata": {
        "id": "M9gpqYG68gv8"
      },
      "outputs": [],
      "source": [
        "people = ['Krishnang', 'Steve', 'Jimmy', 'Mary', 'Divya', 'Robert', 'Yulia']\n",
        "books_read = [12, 6, 0, 7, 4, 10, 15]"
      ]
    },
    {
      "cell_type": "markdown",
      "metadata": {
        "id": "6YZmR0SB8gwD"
      },
      "source": [
        "There are several ways to solve this -- you could look at the `zip()` function, use `enumerate()`, use `range` and `len`, or use other methods. To print the names and values, you can use string concatenation (+), f-string formatting, or other methods.\n",
        "\n",
        "**Expected output:**\n",
        "```\n",
        "Krishnang has read 12 books!\n",
        "Steve has read 6 books!\n",
        "Jimmy has not read any books!\n",
        "Mary has read 7 books!\n",
        "Divya has read 4 books!\n",
        "Robert has read 10 books!\n",
        "Yulia has read 15 books!\n",
        "```"
      ]
    },
    {
      "cell_type": "code",
      "execution_count": null,
      "metadata": {
        "id": "1gXkhKtG8gwE"
      },
      "outputs": [],
      "source": [
        "# your code here"
      ]
    },
    {
      "cell_type": "markdown",
      "metadata": {
        "id": "Fe8VCLFw8gwE"
      },
      "source": [
        "Turn the loop we just created into a function that takes the two lists (books read and people) as arguments. Be sure to try out your function to make sure it works."
      ]
    },
    {
      "cell_type": "code",
      "execution_count": null,
      "metadata": {
        "id": "An125IMH8gwE"
      },
      "outputs": [],
      "source": [
        "# your code here"
      ]
    },
    {
      "cell_type": "markdown",
      "metadata": {
        "id": "lsMtWN568gwE"
      },
      "source": [
        "Challenge: Sort the values of `books_read` from greatest to least and print the top three people with the number of books  they have read. This is a tougher problem. Some possible ways to solve it include using NumPy's argsort, creating a dictionary, and creating tuples."
      ]
    },
    {
      "cell_type": "code",
      "execution_count": null,
      "metadata": {
        "id": "33c39x6d8gwF"
      },
      "outputs": [],
      "source": [
        "# your code here"
      ]
    },
    {
      "cell_type": "markdown",
      "metadata": {
        "id": "W_hkM-id8gwF"
      },
      "source": [
        "Bob's books gets a discount for every multiple of 3 books their employees buy and read. Find out how many multiples of 3 books they have read, and how many more books need to be read to get to the next multiple of 3. Python has a built-in `sum` function that may be useful here, and don't forget about the modulo operator."
      ]
    },
    {
      "cell_type": "code",
      "execution_count": null,
      "metadata": {
        "id": "5YPVw3qS8gwF"
      },
      "outputs": [],
      "source": [
        "# your code here"
      ]
    },
    {
      "cell_type": "markdown",
      "metadata": {
        "id": "pvwFpk2t8gwF"
      },
      "source": [
        "Create a dictionary for the data where the keys are people's names and the values are the number of books. An advanced way to do this would be with a dictionary comprehension, but you can also use a loop."
      ]
    },
    {
      "cell_type": "code",
      "execution_count": null,
      "metadata": {
        "id": "35v379cB8gwF"
      },
      "outputs": [],
      "source": [
        "# your code here"
      ]
    },
    {
      "cell_type": "markdown",
      "metadata": {
        "id": "d0L5pCyI8gwF"
      },
      "source": [
        "Challenge: Use the dictionary to print out the top 3 people with the most books read. This is where Stack Overflow and searching the web might come in handy -- try searching 'sort dictionary by value in Python'."
      ]
    },
    {
      "cell_type": "code",
      "execution_count": null,
      "metadata": {
        "id": "SR_wh0yR8gwF"
      },
      "outputs": [],
      "source": [
        "# your code here"
      ]
    },
    {
      "cell_type": "markdown",
      "metadata": {
        "id": "1Gx_Cg4W8gwG"
      },
      "source": [
        "Using sets, ensure there are no duplicate names in our data. (Yes, this is trivial since our data is small and we can manually inspect it, but if we had thousands of names, we could use the same method as we do here.)"
      ]
    },
    {
      "cell_type": "code",
      "execution_count": null,
      "metadata": {
        "id": "1_FjdikM8gwG"
      },
      "outputs": [],
      "source": [
        "# your code here"
      ]
    },
    {
      "cell_type": "markdown",
      "metadata": {
        "id": "GZeQS1NE8gwG"
      },
      "source": [
        "Create a class for storing the books read and people's names. The class should also include a function for printing out the top three book readers. Test out your class to make sure it works."
      ]
    },
    {
      "cell_type": "code",
      "execution_count": null,
      "metadata": {
        "id": "cun90PSv8gwG"
      },
      "outputs": [],
      "source": [
        "# your code here"
      ]
    },
    {
      "cell_type": "markdown",
      "metadata": {
        "id": "0PqtSUsD8gwG"
      },
      "source": [
        "Use the time module to see how long it takes to make a new class and print out the top three readers."
      ]
    },
    {
      "cell_type": "code",
      "execution_count": null,
      "metadata": {
        "id": "8Jx62SqD8gwG"
      },
      "outputs": [],
      "source": [
        "# your code here"
      ]
    },
    {
      "cell_type": "markdown",
      "metadata": {
        "id": "04cOU_mI8gwH"
      },
      "source": [
        "Another way to do this is with the %%timeit magic command:"
      ]
    },
    {
      "cell_type": "markdown",
      "metadata": {
        "id": "nu3nYJfk8gwH"
      },
      "source": [
        "The code below is throwing a few errors. Debug and correct the error so the code runs."
      ]
    },
    {
      "cell_type": "code",
      "execution_count": null,
      "metadata": {
        "id": "9ZB__obg8gwH"
      },
      "outputs": [],
      "source": [
        "for b, p in zip(books_read, people)[:3]:\n",
        "    if b > 0 and b < 10:\n",
        "        print(p + ' has only read ' + b + ' books')"
      ]
    },
    {
      "cell_type": "markdown",
      "metadata": {
        "id": "S6tEceeE8gwH"
      },
      "source": [
        "Use the documentation (https://docs.python.org/3/library/stdtypes.html#string-methods) to understand how the functions `rjust` and `ljust` work, then modify the loop below so the output looks something like:\n",
        "\n",
        "```\n",
        "Krishnang------12 books\n",
        "Steve---------- 6 books\n",
        "Jimmy---------- 0 books\n",
        "Mary----------- 7 books\n",
        "Divya---------- 4 books\n",
        "Robert---------10 books\n",
        "Yulia----------15 books\n",
        "```"
      ]
    },
    {
      "cell_type": "code",
      "execution_count": null,
      "metadata": {
        "id": "NcH9uQIr8gwH"
      },
      "outputs": [],
      "source": [
        "for b, p in zip(books_read, people):\n",
        "    print(f'{p} {b} books')"
      ]
    },
    {
      "cell_type": "markdown",
      "source": [
        "---\n",
        "\n",
        "## **Exercise 10: uploading your work**\n",
        "\n",
        "1. Make sure your exercise notebook has the correct name: `<your LastName_FirstName>-lab-2.ipynb`. (You won't get credit for your hard work otherwise.)\n",
        "2. Right-click on that notebook and click ↓Download. Download the file to your computer. (This varies depending on your device, but save it somewhere easily accessible.)\n",
        "3. Open [Canvas](https://mtu.instructure.com/) and log in.\n",
        "4. Go to the assignment for this week, hit submit, and upload your lab from your computer.\n",
        "\n",
        "---\n",
        "\n",
        "Good job, and see you next week."
      ],
      "metadata": {
        "id": "5xqCq09p0Mol"
      }
    }
  ],
  "metadata": {
    "kernelspec": {
      "display_name": "Python 3 (ipykernel)",
      "language": "python",
      "name": "python3"
    },
    "language_info": {
      "codemirror_mode": {
        "name": "ipython",
        "version": 3
      },
      "file_extension": ".py",
      "mimetype": "text/x-python",
      "name": "python",
      "nbconvert_exporter": "python",
      "pygments_lexer": "ipython3",
      "version": "3.9.12"
    },
    "colab": {
      "provenance": []
    }
  },
  "nbformat": 4,
  "nbformat_minor": 0
}