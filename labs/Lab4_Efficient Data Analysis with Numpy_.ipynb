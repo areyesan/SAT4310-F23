{
  "cells": [
    {
      "cell_type": "markdown",
      "metadata": {
        "id": "AQRIwKqV9JJV"
      },
      "source": [
        "<h1><center>SAT 4310 Advanced Scripting Programming </center></h1>\n",
        "\n",
        "<h1><center>Lab 4: Efficient Data Analysis with Numpy </center></h1>\n",
        "\n",
        "\n",
        "\n",
        "<h3>\n",
        "<font color='blue'>\n",
        "    \n",
        "**Course Name** : SAT 4310 Advanced Scripting Programming\n",
        "\n",
        "**Semester**    : Fall 2023\n",
        "\n",
        "**Author**      : Your full name\n",
        "\n",
        "**Assignment**  : Lab X  (X will be replaced by the corresponding lab number)\n",
        "\n",
        "**Date**: mm/dd/yy\n",
        "\n",
        "</font>\n",
        "<h3>"
      ]
    },
    {
      "cell_type": "markdown",
      "metadata": {
        "id": "u-kBjykU9JJa"
      },
      "source": [
        "##  - **Numpy Exercises**\n"
      ]
    },
    {
      "cell_type": "markdown",
      "metadata": {
        "id": "cCHUfWNO9JJa"
      },
      "source": [
        "## **Exercise 1: Compute Cross-Entropy Loss**\n",
        "\n",
        "Cross-entropy loss is widely used in many machine learning models that deal with classification problem. The Cross-entropy loss increases as the predicted probability diverges from the actual label.\n",
        "\n",
        "Mathematical formulation :\n",
        "CEL = $-(\\frac{1}{N})\\sum_{i=1}^{N}(y_ilog(\\hat{y_i}) + (1-y_i)log(1 - \\hat{y_i}))$\n",
        "\n",
        "$y$ is the actual value, and $\\hat{y}$ is the predicted value. $N$ is the length of $y$.\n",
        "\n",
        "Given the values of one-dimensional numpy array $y$ with values $[0,0,0,1,1,0,0,1]$, and the values of one-dimensional numpy array $\\hat{y}$  with values $[0.01,0.31,0.81,0.96,0.25,0.28,0.32,0.25]$, compute the Cross-Entropy Loss. Note that you will need to create two different arrays first and then compute cross entropy loss."
      ]
    },
    {
      "cell_type": "code",
      "execution_count": null,
      "metadata": {
        "id": "msOZ8GQw9JJa"
      },
      "outputs": [],
      "source": [
        "# your code here"
      ]
    },
    {
      "cell_type": "markdown",
      "metadata": {
        "id": "yTfRMW979JJa"
      },
      "source": [
        "## **Exercise 2: Extract postive values from an array.**\n",
        "1) Create an array with size of 100 elements usin np.random.rand() function. \\\n",
        "2) Filter the array using a boolean expression to extract values that are greater than 0.5 \\\n",
        "3) Count of values that satisfy the given condition and display the result.\n",
        "**hint:** check the notes and the lecture code\n"
      ]
    },
    {
      "cell_type": "code",
      "execution_count": null,
      "metadata": {
        "id": "PcSop9XH9JJa"
      },
      "outputs": [],
      "source": [
        "# your code here"
      ]
    },
    {
      "cell_type": "markdown",
      "metadata": {
        "id": "5KmVSb2d9JJa"
      },
      "source": [
        "## **Exercise 3:  Given a matrix A and perform the following matrix operations using Numpy**\n",
        "\n",
        "[[0.81213742, 0.15391061, 0.12601765, 0.75466464, 0.89550227], <br>\n",
        "       [0.42260538, 0.99830435, 0.35713202, 0.68131423, 0.5868979 ], <br>\n",
        "       [0.66908189, 0.67883768, 0.65172953, 0.44989457, 0.28612913], <br>\n",
        "       [0.043009  , 0.0927719 , 0.71757135, 0.12836832, 0.26812919], <br>\n",
        "       [0.05802819, 0.6407965 , 0.85478515, 0.31367685, 0.33175084]]\n",
        "\n",
        " - Find the mean, median, variance, Maximum , Minimum  and standard deviation of the matrix. (check [here](https://numpy.org/doc/stable/reference/routines.statistics.html) for some useful hint)\n",
        " - fill the diagonals of the array with the value of 5\n",
        " - Calculate the norm for the first two colums of the array. **hint:** np.linalg.norm()\n",
        " - Finding the 5 smallest and largest values of a NumPy array\n",
        " - Compute the 25th and 75 percentile of the given data (array elements) along the specified axis. [hint](https://numpy.org/doc/stable/reference/generated/numpy.percentile.html)\n"
      ]
    },
    {
      "cell_type": "code",
      "source": [
        "# your code here"
      ],
      "metadata": {
        "id": "KK55zBl2Fk0C"
      },
      "execution_count": null,
      "outputs": []
    },
    {
      "cell_type": "markdown",
      "source": [
        "---\n",
        "\n",
        "## **Exercise 4: uploading your work**\n",
        "\n",
        "1. Make sure your exercise notebook has the correct name: `<your LastName_FirstName>-lab-4.ipynb`. (You won't get credit for your hard work otherwise.)\n",
        "2. Right-click on that notebook and click ↓Download. Download the file to your computer. (This varies depending on your device, but save it somewhere easily accessible.)\n",
        "3. Open [Canvas](https://mtu.instructure.com/) and log in.\n",
        "4. Go to the assignment for this week, hit submit, and upload your lab from your computer.\n",
        "\n",
        "---\n",
        "\n",
        "Good job, and see you next week."
      ],
      "metadata": {
        "id": "4bd3g3bNFlU5"
      }
    }
  ],
  "metadata": {
    "kernelspec": {
      "display_name": "Python 3 (ipykernel)",
      "language": "python",
      "name": "python3"
    },
    "language_info": {
      "codemirror_mode": {
        "name": "ipython",
        "version": 3
      },
      "file_extension": ".py",
      "mimetype": "text/x-python",
      "name": "python",
      "nbconvert_exporter": "python",
      "pygments_lexer": "ipython3",
      "version": "3.9.12"
    },
    "colab": {
      "provenance": []
    }
  },
  "nbformat": 4,
  "nbformat_minor": 0
}