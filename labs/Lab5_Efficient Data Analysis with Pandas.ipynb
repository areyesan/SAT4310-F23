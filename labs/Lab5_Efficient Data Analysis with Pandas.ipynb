{
  "cells": [
    {
      "cell_type": "markdown",
      "metadata": {
        "id": "AQRIwKqV9JJV"
      },
      "source": [
        "<h1><center>SAT 4310 Advanced Scripting Programming </center></h1>\n",
        "\n",
        "<h1><center>Lab 5: Efficient Data Analysis with Pandas </center></h1>\n",
        "\n",
        "\n",
        "\n",
        "<h3>\n",
        "<font color='blue'>\n",
        "    \n",
        "**Course Name** : SAT 4310 Advanced Scripting Programming\n",
        "\n",
        "**Semester**    : Fall 2023\n",
        "\n",
        "**Author**      : Your full name\n",
        "\n",
        "**Assignment**  : Lab X  (X will be replaced by the corresponding lab number)\n",
        "\n",
        "**Date**: mm/dd/yy\n",
        "\n",
        "</font>\n",
        "<h3>"
      ]
    },
    {
      "cell_type": "code",
      "execution_count": null,
      "metadata": {
        "id": "wS-i399b9JJW"
      },
      "outputs": [],
      "source": [
        "import pandas as pd\n",
        "import matplotlib.pyplot as plt\n"
      ]
    },
    {
      "cell_type": "markdown",
      "metadata": {
        "id": "vXVj7lmd9JJX"
      },
      "source": [
        "#  **Pandas Exercises**"
      ]
    },
    {
      "cell_type": "markdown",
      "metadata": {
        "id": "YzdEO7vV9JJX"
      },
      "source": [
        "###  **Exercise 1: Load the datasets solar_data_1.xlsx and solar_data_2.xlsx. You can use Pandas read_excel() function to load xlsx files.**"
      ]
    },
    {
      "cell_type": "code",
      "execution_count": null,
      "metadata": {
        "id": "FCPzRrAD9JJX"
      },
      "outputs": [],
      "source": [
        "# your code here"
      ]
    },
    {
      "cell_type": "markdown",
      "metadata": {
        "id": "WKJHRX7V9JJX"
      },
      "source": [
        "### **Exercise 2: Concatenate two dataframes and display first 5 rows of the combined data**"
      ]
    },
    {
      "cell_type": "code",
      "execution_count": null,
      "metadata": {
        "id": "uZXNWvhn9JJX"
      },
      "outputs": [],
      "source": [
        "# your code here"
      ]
    },
    {
      "cell_type": "markdown",
      "metadata": {
        "id": "iGDZfXNT9JJY"
      },
      "source": [
        "### **Exercise 3: Display shape of the data**"
      ]
    },
    {
      "cell_type": "code",
      "execution_count": null,
      "metadata": {
        "id": "vPdztI-f9JJY"
      },
      "outputs": [],
      "source": [
        "# your code here"
      ]
    },
    {
      "cell_type": "markdown",
      "metadata": {
        "id": "-7JrE9rP9JJY"
      },
      "source": [
        "### **Exercise 4: use Pandas info() and describe() to explore data. Print all output information from these two functions.**"
      ]
    },
    {
      "cell_type": "code",
      "execution_count": null,
      "metadata": {
        "id": "EJk3Y9AW9JJY"
      },
      "outputs": [],
      "source": [
        "# your code here"
      ]
    },
    {
      "cell_type": "markdown",
      "metadata": {
        "id": "FOUcP1xZ9JJY"
      },
      "source": [
        "### **Exercise 5: find correlation between different variables in the dataset**"
      ]
    },
    {
      "cell_type": "code",
      "execution_count": null,
      "metadata": {
        "id": "zIYdqzGy9JJY"
      },
      "outputs": [],
      "source": [
        "# your code here"
      ]
    },
    {
      "cell_type": "markdown",
      "metadata": {
        "id": "4Xa9E51S9JJY"
      },
      "source": [
        "### **Exercise 6: filter the outliers in the data by checking if any values in 'existing_installs_count' is greater than 50000. If exists remove the corresponding row.**"
      ]
    },
    {
      "cell_type": "code",
      "execution_count": null,
      "metadata": {
        "id": "V5OoIuE79JJZ"
      },
      "outputs": [],
      "source": [
        "# your code here"
      ]
    },
    {
      "cell_type": "markdown",
      "metadata": {
        "id": "nWktcwkV9JJZ"
      },
      "source": [
        "### **Exercise 7: Sort the data by using the values in 'existing_installs_count' from the lowest to highest values.**\n",
        "(hint use sort_values() functions in pandas)"
      ]
    },
    {
      "cell_type": "code",
      "execution_count": null,
      "metadata": {
        "id": "DxzOo9Ny9JJZ"
      },
      "outputs": [],
      "source": [
        "# your code here"
      ]
    },
    {
      "cell_type": "markdown",
      "metadata": {
        "id": "Anjb0xYk9JJZ"
      },
      "source": [
        "### **Exercise 8: Check for duplicated values. If there are duplicated values, drop them from the current dataframe**"
      ]
    },
    {
      "cell_type": "code",
      "execution_count": null,
      "metadata": {
        "id": "NIFFXR5J9JJZ"
      },
      "outputs": [],
      "source": [
        "# your code here"
      ]
    },
    {
      "cell_type": "markdown",
      "metadata": {
        "id": "lZp_aoSK9JJZ"
      },
      "source": [
        "### **Exercise 9: Check for missing values in variable named 'existing_installs_count' . If there are missing values, replace the missing values by the average of that column. Check any missing value in state_name, would you do any imputation or remove this row?, why?. Please proceed with your choice**"
      ]
    },
    {
      "cell_type": "code",
      "execution_count": null,
      "metadata": {
        "id": "LBcA24Yi9JJZ"
      },
      "outputs": [],
      "source": [
        "# your code here"
      ]
    },
    {
      "cell_type": "markdown",
      "metadata": {
        "id": "7JhqOaG69JJZ"
      },
      "source": [
        "### **Exercise 10: Save the cleaned data to a xlsx file named as 'cleaned_solar_data.xlsx'**\n",
        "(hint: use Pandas [to_excel()](https://pandas.pydata.org/docs/reference/api/pandas.DataFrame.to_excel.html) function to save the file)"
      ]
    },
    {
      "cell_type": "markdown",
      "metadata": {
        "id": "9lTWcwF-9JJa"
      },
      "source": [
        "Summary:\n",
        "\n",
        "The data is very small, with each US state, DC, and one unknown location having data. Most of the data is left-skewed with some large outliers. A few large outliers are CA and FL, which have a lot of installed solar panels.\n",
        "We also see some strong correlations between certain columns of data. For example, the yearly kW total, number of panels, and existing installs count were strongly correcated, the kWh and kW median columns were weakly correlated to everything else. Some duplicates were detected in the data and were removed, and some missing values filled in with the mean value. Then the data was saved to an Excel file for further use."
      ]
    },
    {
      "cell_type": "markdown",
      "source": [
        "---\n",
        "\n",
        "## **Exercise 11: uploading your work**\n",
        "\n",
        "1. Make sure your exercise notebook has the correct name: `<your LastName_FirstName>-lab-5.ipynb`. (You won't get credit for your hard work otherwise.)\n",
        "2. Right-click on that notebook and click ↓Download. Download the file to your computer. (This varies depending on your device, but save it somewhere easily accessible.)\n",
        "3. Take your Jupyter notebook and the excel file. Zip the 2 files and use the following name: `<your LastName_FirstName>-lab-5.zip`   \n",
        "4. Open [Canvas](https://mtu.instructure.com/) and log in.\n",
        "5. Go to the assignment for this week, hit submit, and upload your lab from your computer.\n",
        "\n",
        "---\n",
        "\n",
        "Good job, and see you next week."
      ],
      "metadata": {
        "id": "FcF9V6vM9Fn-"
      }
    }
  ],
  "metadata": {
    "kernelspec": {
      "display_name": "Python 3 (ipykernel)",
      "language": "python",
      "name": "python3"
    },
    "language_info": {
      "codemirror_mode": {
        "name": "ipython",
        "version": 3
      },
      "file_extension": ".py",
      "mimetype": "text/x-python",
      "name": "python",
      "nbconvert_exporter": "python",
      "pygments_lexer": "ipython3",
      "version": "3.9.12"
    },
    "colab": {
      "provenance": []
    }
  },
  "nbformat": 4,
  "nbformat_minor": 0
}