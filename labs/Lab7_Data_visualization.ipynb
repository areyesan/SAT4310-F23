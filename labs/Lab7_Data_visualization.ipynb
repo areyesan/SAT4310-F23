{
  "cells": [
    {
      "cell_type": "markdown",
      "metadata": {
        "id": "pL3H9PK6_K0O"
      },
      "source": [
        "<h1><center>SAT 4310 Advanced Scripting Programming </center></h1>\n",
        "\n",
        "<h1><center>Lab 7: Data visualization  </center></h1>\n",
        "\n",
        "\n",
        "\n",
        "<h3>\n",
        "<font color='blue'>\n",
        "    \n",
        "**Course Name** : SAT 4310 Advanced Scripting Programming\n",
        "\n",
        "**Semester**    : Fall 2023\n",
        "\n",
        "**Author**      : Your full name\n",
        "\n",
        "**Assignment**  : Lab X  (X will be replaced by the corresponding lab number)\n",
        "\n",
        "**Date**: mm/dd/yy\n",
        "\n",
        "</font>\n",
        "<h3>"
      ]
    },
    {
      "cell_type": "code",
      "execution_count": null,
      "metadata": {
        "id": "XaI8qvEP_K0P"
      },
      "outputs": [],
      "source": [
        "import pandas as pd\n",
        "import matplotlib.pyplot as plt\n",
        "import seaborn as sns\n",
        "import numpy as np\n",
        "import missingno as msno\n",
        "import time\n",
        "from collections import deque\n",
        "from bisect import bisect_left\n",
        "import bisect\n",
        "import heapq"
      ]
    },
    {
      "cell_type": "markdown",
      "metadata": {
        "id": "u5RGCkvg_K0Q"
      },
      "source": [
        "## Data visualization\n",
        "### **Exercise 1: Complete the following steps:**\n",
        "1. load **planets.csv** file from seaborn dataset library.\n",
        "2. print number of rows and cols in this dataset\n",
        "3. use msno module to produce a missing value plot, and find out the maximum and the minimum number of complete values in the dataset. (write your answer using Markdown mode in this notebook)\n",
        "4. Perform data cleaning by remove rows that have NaN values, then print the shape of the cleaned data.\n",
        "5. Create a heatmap to find out which pair of attribute has the highest correlation. (write your answer using Markdown mode in this notebook)\n",
        "6. Create a boxplot by setting x='year' and y='orbital_period'. From the plot, find out which year has the higest value for Q3 + 1.5\\*IQR. (write your answer using Markdown mode in this notebook)  \n",
        "    Note that you can use the code **plt.figure(figsize=(15,8))** to make figure bigger."
      ]
    },
    {
      "cell_type": "code",
      "execution_count": null,
      "metadata": {
        "id": "LGJJNunj_K0R"
      },
      "outputs": [],
      "source": [
        "# your code here"
      ]
    },
    {
      "cell_type": "markdown",
      "source": [
        "---\n",
        "\n",
        "## **Exercise 2: uploading your work**\n",
        "\n",
        "1. Make sure your exercise notebook has the correct name: `<your LastName_FirstName>-lab-7.ipynb`. (You won't get credit for your hard work otherwise.)\n",
        "2. Right-click on that notebook and click ↓Download. Download the file to your computer. (This varies depending on your device, but save it somewhere easily accessible.)   \n",
        "3. Open [Canvas](https://mtu.instructure.com/) and log in.\n",
        "5. Go to the assignment for this week, hit submit, and upload your lab from your computer.\n",
        "\n",
        "---\n",
        "\n",
        "Good job, and see you next week."
      ],
      "metadata": {
        "id": "0YO6_WLa4k1P"
      }
    }
  ],
  "metadata": {
    "kernelspec": {
      "display_name": "Python 3 (ipykernel)",
      "language": "python",
      "name": "python3"
    },
    "language_info": {
      "codemirror_mode": {
        "name": "ipython",
        "version": 3
      },
      "file_extension": ".py",
      "mimetype": "text/x-python",
      "name": "python",
      "nbconvert_exporter": "python",
      "pygments_lexer": "ipython3",
      "version": "3.9.12"
    },
    "colab": {
      "provenance": []
    }
  },
  "nbformat": 4,
  "nbformat_minor": 0
}