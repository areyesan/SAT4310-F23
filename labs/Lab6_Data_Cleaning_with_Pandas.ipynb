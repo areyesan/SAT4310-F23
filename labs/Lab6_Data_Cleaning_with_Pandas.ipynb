{
  "cells": [
    {
      "cell_type": "markdown",
      "metadata": {
        "id": "QjKDxgRW_v5k"
      },
      "source": [
        "<h1><center>SAT 4310 Advanced Scripting Programming </center></h1>\n",
        "\n",
        "<h1><center>Lab 6: Data Cleaning with Pandas </center></h1>\n",
        "\n",
        "\n",
        "\n",
        "<h3>\n",
        "<font color='blue'>\n",
        "    \n",
        "**Course Name** : SAT 4310 Advanced Scripting Programming\n",
        "\n",
        "**Semester**    : Fall 2023\n",
        "\n",
        "**Author**      : Your full name\n",
        "\n",
        "**Assignment**  : Lab X  (X will be replaced by the corresponding lab number)\n",
        "\n",
        "**Date**: mm/dd/yy\n",
        "\n",
        "</font>\n",
        "<h3>"
      ]
    },
    {
      "cell_type": "code",
      "execution_count": null,
      "metadata": {
        "id": "LE-FBUpu_v5l"
      },
      "outputs": [],
      "source": [
        "import pandas as pd\n",
        "import matplotlib.pyplot as plt"
      ]
    },
    {
      "cell_type": "markdown",
      "metadata": {
        "id": "UkKueD3e_v5m"
      },
      "source": [
        "##  - Load the followig csv file: **COVID-19-vaccination-data.csv** using pandas and complete the questions below using Python programming."
      ]
    },
    {
      "cell_type": "markdown",
      "metadata": {
        "id": "HGWyWjeC_v5m"
      },
      "source": [
        "##  **Exercise 1: Load the dataset:  _COVID-19-vaccination-data.csv_ and then display the first 6 rows and the last 3 rows of the data.**"
      ]
    },
    {
      "cell_type": "code",
      "execution_count": null,
      "metadata": {
        "id": "K4iEGNxC_v5m"
      },
      "outputs": [],
      "source": [
        "# your code here"
      ]
    },
    {
      "cell_type": "markdown",
      "metadata": {
        "id": "8M_Yirqv_v5m"
      },
      "source": [
        "## **Exercise 2: In practical dataset analysis, it is often to see Empty cells (NaN) which can potentially bring a wrong result when you analyze data. Use a function from pandas DataFrame to remove rows that contain empty cells. Display the number of rows and columns in the dataset after removing the empty cells.**"
      ]
    },
    {
      "cell_type": "code",
      "execution_count": null,
      "metadata": {
        "id": "_zOOV41w_v5m"
      },
      "outputs": [],
      "source": [
        "# your code here"
      ]
    },
    {
      "cell_type": "markdown",
      "metadata": {
        "id": "3siFugKL_v5m"
      },
      "source": [
        "## **Exercise 3: Reload the csv file and replace Empty cells with 0.**"
      ]
    },
    {
      "cell_type": "code",
      "execution_count": null,
      "metadata": {
        "id": "o1LIMv11_v5m"
      },
      "outputs": [],
      "source": [
        "# your code here"
      ]
    },
    {
      "cell_type": "markdown",
      "metadata": {
        "id": "CJasSHzt_v5n"
      },
      "source": [
        "## **Exercise 4: Reload the csv file and replace empty cells in the “NUMBER_VACCINES_TYPES_USED\" column with the number 100.**"
      ]
    },
    {
      "cell_type": "code",
      "execution_count": null,
      "metadata": {
        "id": "DsEF-Djy_v5t"
      },
      "outputs": [],
      "source": [
        "# your code here"
      ]
    },
    {
      "cell_type": "markdown",
      "metadata": {
        "id": "62YR5xNp_v5t"
      },
      "source": [
        "## **Exercise 5: Reload the csv file and replace empty cells in the “PERSONS_BOOSTER_ADD_DOSE\" column with the mean value of that column.**"
      ]
    },
    {
      "cell_type": "code",
      "execution_count": null,
      "metadata": {
        "id": "FIZLlzj1_v5t"
      },
      "outputs": [],
      "source": [
        "# your code here"
      ]
    },
    {
      "cell_type": "markdown",
      "metadata": {
        "id": "sqTtRY4a_v5u"
      },
      "source": [
        "## **Exercise 6: Reload the csv file and replace values in the “PERSONS_BOOSTER_ADD_DOSE_PER100\" column with 1 if the value in that column is less than 1.**"
      ]
    },
    {
      "cell_type": "code",
      "execution_count": null,
      "metadata": {
        "id": "RDRt0lub_v5u"
      },
      "outputs": [],
      "source": [
        "# your code here"
      ]
    },
    {
      "cell_type": "markdown",
      "metadata": {
        "id": "ae_4YBpq_v5u"
      },
      "source": [
        "## **Exercise 7: Reload the csv file,  and remove rows in the “PERSONS_BOOSTER_ADD_DOSE_PER100\" column if the value in that column is great than 100. Display the number of rows and columns in the dataset after removing the rows.**"
      ]
    },
    {
      "cell_type": "code",
      "execution_count": null,
      "metadata": {
        "id": "J6tXKbT2_v5u"
      },
      "outputs": [],
      "source": [
        "# your code here"
      ]
    },
    {
      "cell_type": "markdown",
      "source": [
        "---\n",
        "\n",
        "## **Exercise 8: uploading your work**\n",
        "\n",
        "1. Make sure your exercise notebook has the correct name: `<your LastName_FirstName>-lab-6.ipynb`. (You won't get credit for your hard work otherwise.)\n",
        "2. Right-click on that notebook and click ↓Download. Download the file to your computer. (This varies depending on your device, but save it somewhere easily accessible.)   \n",
        "3. Open [Canvas](https://mtu.instructure.com/) and log in.\n",
        "5. Go to the assignment for this week, hit submit, and upload your lab from your computer.\n",
        "\n",
        "---\n",
        "\n",
        "Good job, and see you next week."
      ],
      "metadata": {
        "id": "A_a4CPryhcpE"
      }
    }
  ],
  "metadata": {
    "kernelspec": {
      "display_name": "Python 3 (ipykernel)",
      "language": "python",
      "name": "python3"
    },
    "language_info": {
      "codemirror_mode": {
        "name": "ipython",
        "version": 3
      },
      "file_extension": ".py",
      "mimetype": "text/x-python",
      "name": "python",
      "nbconvert_exporter": "python",
      "pygments_lexer": "ipython3",
      "version": "3.9.12"
    },
    "colab": {
      "provenance": []
    }
  },
  "nbformat": 4,
  "nbformat_minor": 0
}