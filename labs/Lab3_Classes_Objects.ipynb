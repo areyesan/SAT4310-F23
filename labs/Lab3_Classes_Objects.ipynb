{
  "cells": [
    {
      "cell_type": "markdown",
      "metadata": {
        "id": "pXKG-MXc_3t-"
      },
      "source": [
        "<h1><center>SAT 4310 Advanced Scripting Programming </center></h1>\n",
        "\n",
        "<h1><center>Lab 3 Python Class </center></h1>\n",
        "\n",
        "\n",
        "\n",
        "<h3>\n",
        "<font color='blue'>\n",
        "    \n",
        "**Course Name** : SAT 4310 Advanced Scripting Programming\n",
        "\n",
        "**Semester**    : Fall 2023\n",
        "\n",
        "**Author**      : Your full name\n",
        "\n",
        "**Date**: mm/dd/yy\n",
        "\n",
        "</font>\n",
        "<h3>"
      ]
    },
    {
      "cell_type": "markdown",
      "metadata": {
        "id": "8f9_SZGF_3uA"
      },
      "source": [
        "This notebook will help you practice some of the skills and concepts of Python Class:\n",
        "-\n",
        "- Class object\n",
        "- Methods\n",
        "- Constructors\n",
        "- Inheritance\n",
        "- Type of Inheritance"
      ]
    },
    {
      "cell_type": "markdown",
      "metadata": {
        "id": "Dgknsv4S_3uA"
      },
      "source": [
        "**Recap:**\n",
        "\n",
        "Classes are the foundation of object-oriented programming. A class defines the general behavior that a whole category of objects can have, and the information that can be associated with those objects."
      ]
    },
    {
      "cell_type": "markdown",
      "metadata": {
        "id": "VIddrZoV_3uA"
      },
      "source": [
        "## **Creating and using a Class**\n",
        "\n",
        "Consider how we might model a car. What information would we associate with a car, and what behavior would it have? The information is stored in variables called attributes, and the behavior is represented by functions. Functions that are part of a class are called methods.\n",
        "\n",
        "## **Exercise 1). Create a class and access/modify attributes**\n",
        "\n",
        "1) Create a class named _Car_ that has five attributes: brand, model, year, fuel_capacity, and fuel_level. Fuel capacity and level are fixed to 25 and 0, respectively.  \n",
        "\n",
        "2) Create a method (named \"fill_tank\") within the class and print fuel capacity and level.\n",
        "\n",
        "3) Create three different object from the _Car_ class named _myCar1_, _myCar2_, and _myCar3_. Then, set arguments as ('Audi', 'A4', 2018), ('Subaru', 'outback', 2016), ('Toyota', 'Tacoma', 2020), respectively.\n",
        "\n",
        "4) Create an object my_new_car = Car('Audi', 'A4', 2016) and set my_new_car.fuel_level = 50. Then write a method to update an attribute fuel_level's value following the considion as:\n",
        "```\n",
        "if new_level <= self.fuel_capacity:\n",
        "    self.fuel_level = new_level\n",
        "else:\n",
        "    print(\"The tank can't hold that much!\")\n",
        "```    \n",
        "    "
      ]
    },
    {
      "cell_type": "code",
      "execution_count": null,
      "metadata": {
        "id": "c2TDK-gx_3uB"
      },
      "outputs": [],
      "source": [
        "# your code here"
      ]
    },
    {
      "cell_type": "markdown",
      "metadata": {
        "id": "uGhgvMj8_3uB"
      },
      "source": [
        "## **Class inheritance**\n",
        "Classes can inherit from each other – you can write a class that extends the functionality of an existing class. This allows you to code efficiently for a wide variety of situations. <br>\n",
        "To inherit from another class include the name of the parent class in parentheses when defining the new class.\n",
        "\n",
        "## **Exercise 2. Create child class and inheritance**\n",
        "\n",
        "1) create a child class named _ElectricCar_ that inherits from the parent class _Car_ class mentioned in **Exercise 1**. Use <font color='blue'>super()</font> method to keep inheriting all the methods and properties from its parent. <br>\n",
        "2) In the Child class _ElectricCar_, add two additional attributes: charge_level (in %) and battery_life (in years) and set their corresponding values to 100 and 10, respectively. <br>\n",
        "3) In the Child class _ElectricCar_, add a method _capacity_, and set battery capacity to 40 (kWh), then print a message \"The vehicle is fully charged.\" if battery level is 100. <br>\n",
        "4) Create an object name _myEV_ using the child class, and set arguments as ('Tesla', 'model s', 2016) <br>\n",
        "5) print output of myEV.capacity() and myEV.fill_tank() <br>\n",
        "6) Make Multilevel inheritance: create another child class (grandchild relationship) named _Battery_ that has defaulty attribute named _size_ with a value of 60. And create a method, named _getRange_, within this child class. The _getRange_ method is defined as follow: <br>\n",
        "```\n",
        "if self.size == 60:  \n",
        "   return 220  \n",
        "elif self.size == 80:\n",
        "   return 250  \n",
        "```   \n",
        "7) Create an object named myEV2 using the subclass _Battery_ and set arguments as ('Tesla', 'model s', 2020, 80). Print the output from myEV2.getRange().\n",
        "\n",
        "8) Make instance variables of the parent class <font color = 'blue'> fuel_capacity </font> private, which will not be available to the child class.\n"
      ]
    },
    {
      "cell_type": "code",
      "execution_count": null,
      "metadata": {
        "id": "dbI_xr8N_3uC"
      },
      "outputs": [],
      "source": [
        "# your code here"
      ]
    },
    {
      "cell_type": "markdown",
      "source": [
        "---\n",
        "\n",
        "## **Exercise 3: uploading your work**\n",
        "\n",
        "1. Make sure your exercise notebook has the correct name: `<your LastName_FirstName>-lab-3.ipynb`. (You won't get credit for your hard work otherwise.)\n",
        "2. Right-click on that notebook and click ↓Download. Download the file to your computer. (This varies depending on your device, but save it somewhere easily accessible.)\n",
        "3. Open [Canvas](https://mtu.instructure.com/) and log in.\n",
        "4. Go to the assignment for this week, hit submit, and upload your lab from your computer.\n",
        "\n",
        "---\n",
        "\n",
        "Good job, and see you next week."
      ],
      "metadata": {
        "id": "Ty2EBJ1unoG0"
      }
    }
  ],
  "metadata": {
    "kernelspec": {
      "display_name": "Python 3 (ipykernel)",
      "language": "python",
      "name": "python3"
    },
    "language_info": {
      "codemirror_mode": {
        "name": "ipython",
        "version": 3
      },
      "file_extension": ".py",
      "mimetype": "text/x-python",
      "name": "python",
      "nbconvert_exporter": "python",
      "pygments_lexer": "ipython3",
      "version": "3.9.12"
    },
    "colab": {
      "provenance": []
    }
  },
  "nbformat": 4,
  "nbformat_minor": 0
}