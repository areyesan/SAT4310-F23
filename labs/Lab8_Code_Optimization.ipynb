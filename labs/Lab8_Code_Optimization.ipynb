{
  "cells": [
    {
      "cell_type": "markdown",
      "metadata": {
        "id": "pL3H9PK6_K0O"
      },
      "source": [
        "<h1><center>SAT 4310 Advanced Scripting Programming </center></h1>\n",
        "\n",
        "<h1><center>Lab 8: Code Optimization </center></h1>\n",
        "\n",
        "\n",
        "\n",
        "<h3>\n",
        "<font color='blue'>\n",
        "    \n",
        "**Course Name** : SAT 4310 Advanced Scripting Programming\n",
        "\n",
        "**Semester**    : Fall 2023\n",
        "\n",
        "**Author**      : Your full name\n",
        "\n",
        "**Assignment**  : Lab X  (X will be replaced by the corresponding lab number)\n",
        "\n",
        "**Date**: mm/dd/yy\n",
        "\n",
        "</font>\n",
        "<h3>"
      ]
    },
    {
      "cell_type": "code",
      "execution_count": null,
      "metadata": {
        "id": "XaI8qvEP_K0P"
      },
      "outputs": [],
      "source": [
        "import pandas as pd\n",
        "import matplotlib.pyplot as plt\n",
        "import seaborn as sns\n",
        "import numpy as np\n",
        "import missingno as msno\n",
        "import time\n",
        "from collections import deque\n",
        "from bisect import bisect_left\n",
        "import bisect\n",
        "import heapq"
      ]
    },
    {
      "cell_type": "markdown",
      "metadata": {
        "id": "ShBFhWlF_K0R"
      },
      "source": [
        "## **Python Code optimization**\n",
        "### **Exercise 1: Complete the following steps:**\n",
        "1. Load planets.csv file from seaborn dataset library, **remove the nan/null values (use `dropna()`),** and extract the column named \"'orbital_period'. Then assign its content to a variable name x.\n",
        "2. Convert its data type to a list.\n",
        "3. Sort the list in asending order\n",
        "4. Use the Python List **index()** function to find the index of the value 66.8. Then use **%timeit** function to compute the processing time.\n",
        "5. Similarly, use the Python **bisect_left** function to optimize the code and find the index of the value 66.8. Then use **%timeit** function to compute the processing time.\n",
        "6. which function computes faster? **index()** or **bisect_left** based on the results from 4) and 5)\n",
        "7. Use **heapq** to find the smallest number in the original list (not sorted one)\n",
        "8. Create two functions (one uses list comprehension, another one uses a for-loop) to compute the sum of all items in the list, and use **%timeit** to find out which function performs faster. [hint: check my lecture notes]"
      ]
    },
    {
      "cell_type": "code",
      "execution_count": null,
      "metadata": {
        "id": "5-v68UpT_K0R"
      },
      "outputs": [],
      "source": [
        "# your code here"
      ]
    },
    {
      "cell_type": "markdown",
      "source": [
        "---\n",
        "\n",
        "## **Exercise 2: uploading your work**\n",
        "\n",
        "1. Make sure your exercise notebook has the correct name: `<your LastName_FirstName>-lab-8.ipynb`. (You won't get credit for your hard work otherwise.)\n",
        "2. Right-click on that notebook and click ↓Download. Download the file to your computer. (This varies depending on your device, but save it somewhere easily accessible.)   \n",
        "3. Open [Canvas](https://mtu.instructure.com/) and log in.\n",
        "5. Go to the assignment for this week, hit submit, and upload your lab from your computer.\n",
        "\n",
        "---\n",
        "\n",
        "Good job, and see you next week."
      ],
      "metadata": {
        "id": "_iW8ELh7Xtyx"
      }
    }
  ],
  "metadata": {
    "kernelspec": {
      "display_name": "Python 3 (ipykernel)",
      "language": "python",
      "name": "python3"
    },
    "language_info": {
      "codemirror_mode": {
        "name": "ipython",
        "version": 3
      },
      "file_extension": ".py",
      "mimetype": "text/x-python",
      "name": "python",
      "nbconvert_exporter": "python",
      "pygments_lexer": "ipython3",
      "version": "3.9.12"
    },
    "colab": {
      "provenance": []
    }
  },
  "nbformat": 4,
  "nbformat_minor": 0
}